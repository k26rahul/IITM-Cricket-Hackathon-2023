{
  "cells": [
    {
      "attachments": {},
      "cell_type": "markdown",
      "id": "2edfab7b",
      "metadata": {
        "ExecuteTime": {
          "end_time": "2023-04-25T06:53:18.853213Z",
          "start_time": "2023-04-25T06:53:18.849494Z"
        }
      },
      "source": [
        "# ⭐ Cricket Hackathon 2023\n"
      ]
    },
    {
      "cell_type": "code",
      "execution_count": 74,
      "id": "1a59856a",
      "metadata": {
        "ExecuteTime": {
          "end_time": "2023-04-25T09:41:57.952676Z",
          "start_time": "2023-04-25T09:41:57.946809Z"
        }
      },
      "outputs": [],
      "source": [
        "from IPython.core.interactiveshell import InteractiveShell\n",
        "InteractiveShell.ast_node_interactivity = \"all\""
      ]
    },
    {
      "cell_type": "code",
      "execution_count": 75,
      "id": "6de9b179",
      "metadata": {
        "ExecuteTime": {
          "end_time": "2023-04-25T09:41:58.977727Z",
          "start_time": "2023-04-25T09:41:57.953685Z"
        }
      },
      "outputs": [],
      "source": [
        "import numpy as np\n",
        "import pandas as pd\n",
        "import matplotlib.pyplot as plt\n",
        "\n",
        "from sklearn.metrics import mean_absolute_error, mean_squared_error, r2_score\n",
        "from sklearn.model_selection import train_test_split, GridSearchCV\n",
        "from sklearn.preprocessing import StandardScaler, OneHotEncoder\n",
        "\n",
        "from sklearn.pipeline import Pipeline\n",
        "from sklearn.compose import ColumnTransformer\n",
        "\n",
        "from sklearn.feature_selection import SelectKBest, f_classif, VarianceThreshold\n",
        "from sklearn.decomposition import PCA\n",
        "\n",
        "from sklearn.linear_model import LinearRegression, Ridge, Lasso, ElasticNet\n",
        "from sklearn.svm import SVR\n",
        "from sklearn.tree import DecisionTreeRegressor\n",
        "from sklearn.ensemble import RandomForestRegressor, GradientBoostingRegressor, AdaBoostRegressor\n",
        "from sklearn.neural_network import MLPRegressor"
      ]
    },
    {
      "cell_type": "code",
      "execution_count": 76,
      "id": "a6e5b2fc",
      "metadata": {
        "ExecuteTime": {
          "end_time": "2023-04-25T09:41:59.229805Z",
          "start_time": "2023-04-25T09:41:59.227310Z"
        }
      },
      "outputs": [],
      "source": [
        "def log(*args):\n",
        "    print('👉', *args)"
      ]
    },
    {
      "cell_type": "code",
      "execution_count": 77,
      "id": "c380454d",
      "metadata": {
        "ExecuteTime": {
          "end_time": "2023-04-25T09:41:59.239968Z",
          "start_time": "2023-04-25T09:41:59.230811Z"
        }
      },
      "outputs": [],
      "source": [
        "def to_kebab_case(string):\n",
        "    return '-'.join(\n",
        "        string.replace(\",\", \"\").replace(\".\", \"\").split()\n",
        "    ).lower()"
      ]
    },
    {
      "cell_type": "code",
      "execution_count": 78,
      "id": "b688ac99",
      "metadata": {
        "ExecuteTime": {
          "end_time": "2023-04-25T09:41:59.225702Z",
          "start_time": "2023-04-25T09:41:58.984133Z"
        }
      },
      "outputs": [],
      "source": [
        "ball_by_ball_orig = pd.read_csv('./Data/IPL_Ball_by_Ball_2008_2022.csv')\n",
        "\n",
        "matches_result_orig = pd.read_csv('./Data/IPL_Matches_Result_2008_2022.csv')\n",
        "\n",
        "ipl_2023_venues_data = pd.read_csv('./Data/Ipl_2023 _cricketers - Venue.csv').rename(columns={\n",
        "    'Venue': 'venue'\n",
        "})\n",
        "ipl_2023_teams_data = pd.read_csv('./Data/Ipl_2023 _cricketers - Team name.csv').rename(columns={\n",
        "    'Teams': 'team'\n",
        "})\n",
        "ipl_2023_players_data = pd.read_csv('./Data/Ipl_2023 _cricketers - Players.csv').rename(columns={\n",
        "    'Team ': 'team'\n",
        "})"
      ]
    },
    {
      "attachments": {},
      "cell_type": "markdown",
      "id": "6c4aac11",
      "metadata": {},
      "source": [
        "# ⭐ Prepare `ball_by_ball`, `matches_result`\n"
      ]
    },
    {
      "attachments": {},
      "cell_type": "markdown",
      "id": "a051b045",
      "metadata": {},
      "source": [
        "## Rename columns, drop unnecessary columns\n"
      ]
    },
    {
      "cell_type": "code",
      "execution_count": 79,
      "id": "c922c120",
      "metadata": {
        "ExecuteTime": {
          "end_time": "2023-04-25T09:41:59.270326Z",
          "start_time": "2023-04-25T09:41:59.266405Z"
        }
      },
      "outputs": [],
      "source": [
        "ball_by_ball = ball_by_ball_orig.rename(columns={\n",
        "    'ID': 'match_id',\n",
        "    'ballnumber': 'ball_number',\n",
        "    'non-striker': 'non_striker',\n",
        "    'BattingTeam': 'batting_team',\n",
        "}).loc[:, [\n",
        "    'match_id',\n",
        "    'innings',\n",
        "    'batting_team',\n",
        "    'overs',\n",
        "    'ball_number',\n",
        "    'batter',\n",
        "    'bowler',\n",
        "    'total_run',\n",
        "]]\n",
        "\n",
        "matches_result = matches_result_orig.rename(columns={\n",
        "    'ID': 'match_id',\n",
        "    'Team1': 'team_1',\n",
        "    'Team2': 'team_2',\n",
        "    'Venue': 'venue',\n",
        "}).loc[:, [\n",
        "    'match_id',\n",
        "    'team_1',\n",
        "    'team_2',\n",
        "    'venue',\n",
        "]]"
      ]
    },
    {
      "attachments": {},
      "cell_type": "markdown",
      "id": "bfec8f69",
      "metadata": {},
      "source": [
        "## Venue mapping"
      ]
    },
    {
      "cell_type": "code",
      "execution_count": 80,
      "id": "72deb040",
      "metadata": {
        "ExecuteTime": {
          "end_time": "2023-04-25T09:41:59.426019Z",
          "start_time": "2023-04-25T09:41:59.381716Z"
        },
        "scrolled": false
      },
      "outputs": [],
      "source": [
        "# matches_result_orig.groupby(['City', 'Venue'], dropna=False)['Venue'].describe()"
      ]
    },
    {
      "cell_type": "code",
      "execution_count": 81,
      "id": "6b4b2141",
      "metadata": {
        "ExecuteTime": {
          "end_time": "2023-04-25T09:41:59.432042Z",
          "start_time": "2023-04-25T09:41:59.426019Z"
        }
      },
      "outputs": [],
      "source": [
        "# https://www.iplt20.com/matches/schedule/men\n",
        "\n",
        "venue_mapping_normal = {\n",
        "    \"Arun Jaitley Stadium\": \"Arun Jaitley Stadium\",\n",
        "    \"Arun Jaitley Stadium, Delhi\": \"Arun Jaitley Stadium\",\n",
        "    \"Feroz Shah Kotla\": \"Arun Jaitley Stadium\",\n",
        "    \"Barsapara Cricket Stadium\": \"Barsapara Cricket Stadium\",\n",
        "    \"Barsapara Cricket Stadium, Guwahati\": \"Barsapara Cricket Stadium\",\n",
        "    \"Bharat Ratna Shri Atal Bihari Vajpayee Ekana Cricket Stadium\": \"Bharat Ratna Shri Atal Bihari Vajpayee Ekana Cricket Stadium\",\n",
        "    \"Bharat Ratna Shri Atal Bihari Vajpayee Ekana Cricket Stadium, Lucknow\": \"Bharat Ratna Shri Atal Bihari Vajpayee Ekana Cricket Stadium\",\n",
        "    \"Eden Gardens\": \"Eden Gardens\",\n",
        "    \"Eden Gardens, Kolkata\": \"Eden Gardens\",\n",
        "    \"Himachal Pradesh Cricket Association Stadium\": \"Himachal Pradesh Cricket Association Stadium\",\n",
        "    \"Himachal Pradesh Cricket Association Stadium, Dharamsala\": \"Himachal Pradesh Cricket Association Stadium\",\n",
        "    \"M Chinnaswamy Stadium\": \"M Chinnaswamy Stadium\",\n",
        "    \"M Chinnaswamy Stadium, Bengaluru\": \"M Chinnaswamy Stadium\",\n",
        "    \"M Chinnaswamy Stadium, Bangalore\": \"M Chinnaswamy Stadium\",\n",
        "    \"M.Chinnaswamy Stadium\": \"M Chinnaswamy Stadium\",\n",
        "    \"M.Chinnaswamy Stadium, Bengaluru\": \"M Chinnaswamy Stadium\",\n",
        "    \"M.Chinnaswamy Stadium, Bangalore\": \"M Chinnaswamy Stadium\",\n",
        "    \"MA Chidambaram Stadium\": \"MA Chidambaram Stadium\",\n",
        "    \"MA Chidambaram Stadium, Chennai\": \"MA Chidambaram Stadium\",\n",
        "    \"MA Chidambaram Stadium, Chepauk\": \"MA Chidambaram Stadium\",\n",
        "    \"MA Chidambaram Stadium, Chepauk, Chennai\": \"MA Chidambaram Stadium\",\n",
        "    \"Narendra Modi Stadium\": \"Narendra Modi Stadium\",\n",
        "    \"Narendra Modi Stadium, Ahmedabad\": \"Narendra Modi Stadium\",\n",
        "    \"Punjab Cricket Association IS Bindra Stadium\": \"Punjab Cricket Association IS Bindra Stadium\",\n",
        "    \"Punjab Cricket Association IS Bindra Stadium, Mohali\": \"Punjab Cricket Association IS Bindra Stadium\",\n",
        "    \"Punjab Cricket Association Stadium, Mohali\": \"Punjab Cricket Association IS Bindra Stadium\",\n",
        "    \"Rajiv Gandhi International Stadium\": \"Rajiv Gandhi International Stadium\",\n",
        "    \"Rajiv Gandhi International Stadium, Hyderabad\": \"Rajiv Gandhi International Stadium\",\n",
        "    \"Rajiv Gandhi International Stadium, Uppal\": \"Rajiv Gandhi International Stadium\",\n",
        "    \"Sawai Mansingh Stadium\": \"Sawai Mansingh Stadium\",\n",
        "    \"Sawai Mansingh Stadium, Jaipur\": \"Sawai Mansingh Stadium\",\n",
        "    \"Wankhede Stadium\": \"Wankhede Stadium\",\n",
        "    \"Wankhede Stadium, Mumbai\": \"Wankhede Stadium\"\n",
        "}"
      ]
    },
    {
      "cell_type": "code",
      "execution_count": 82,
      "id": "de03038a",
      "metadata": {
        "ExecuteTime": {
          "end_time": "2023-04-25T09:41:59.442463Z",
          "start_time": "2023-04-25T09:41:59.433064Z"
        }
      },
      "outputs": [],
      "source": [
        "venue_mapping_kebab = {\n",
        "    \"arun-jaitley-stadium\": \"Arun Jaitley Stadium\",\n",
        "    \"arun-jaitley-stadium-delhi\": \"Arun Jaitley Stadium\",\n",
        "    \"feroz-shah-kotla\": \"Arun Jaitley Stadium\",\n",
        "    \"barsapara-cricket-stadium\": \"Barsapara Cricket Stadium\",\n",
        "    \"barsapara-cricket-stadium-guwahati\": \"Barsapara Cricket Stadium\",\n",
        "    \"bharat-ratna-shri-atal-bihari-vajpayee-ekana-cricket-stadium\": \"Bharat Ratna Shri Atal Bihari Vajpayee Ekana Cricket Stadium\",\n",
        "    \"bharat-ratna-shri-atal-bihari-vajpayee-ekana-cricket-stadium-lucknow\": \"Bharat Ratna Shri Atal Bihari Vajpayee Ekana Cricket Stadium\",\n",
        "    \"eden-gardens\": \"Eden Gardens\",\n",
        "    \"eden-gardens-kolkata\": \"Eden Gardens\",\n",
        "    \"himachal-pradesh-cricket-association-stadium\": \"Himachal Pradesh Cricket Association Stadium\",\n",
        "    \"himachal-pradesh-cricket-association-stadium-dharamsala\": \"Himachal Pradesh Cricket Association Stadium\",\n",
        "    \"m-chinnaswamy-stadium\": \"M Chinnaswamy Stadium\",\n",
        "    \"m-chinnaswamy-stadium-bengaluru\": \"M Chinnaswamy Stadium\",\n",
        "    \"m-chinnaswamy-stadium-bangalore\": \"M Chinnaswamy Stadium\",\n",
        "    \"mchinnaswamy-stadium\": \"M Chinnaswamy Stadium\",\n",
        "    \"mchinnaswamy-stadium-bengaluru\": \"M Chinnaswamy Stadium\",\n",
        "    \"mchinnaswamy-stadium-bangalore\": \"M Chinnaswamy Stadium\",\n",
        "    \"ma-chidambaram-stadium\": \"MA Chidambaram Stadium\",\n",
        "    \"ma-chidambaram-stadium-chennai\": \"MA Chidambaram Stadium\",\n",
        "    \"ma-chidambaram-stadium-chepauk\": \"MA Chidambaram Stadium\",\n",
        "    \"ma-chidambaram-stadium-chepauk-chennai\": \"MA Chidambaram Stadium\",\n",
        "    \"narendra-modi-stadium\": \"Narendra Modi Stadium\",\n",
        "    \"narendra-modi-stadium-ahmedabad\": \"Narendra Modi Stadium\",\n",
        "    \"punjab-cricket-association-is-bindra-stadium\": \"Punjab Cricket Association IS Bindra Stadium\",\n",
        "    \"punjab-cricket-association-is-bindra-stadium-mohali\": \"Punjab Cricket Association IS Bindra Stadium\",\n",
        "    \"punjab-cricket-association-stadium-mohali\": \"Punjab Cricket Association IS Bindra Stadium\",\n",
        "    \"rajiv-gandhi-international-stadium\": \"Rajiv Gandhi International Stadium\",\n",
        "    \"rajiv-gandhi-international-stadium-hyderabad\": \"Rajiv Gandhi International Stadium\",\n",
        "    \"rajiv-gandhi-international-stadium-uppal\": \"Rajiv Gandhi International Stadium\",\n",
        "    \"sawai-mansingh-stadium\": \"Sawai Mansingh Stadium\",\n",
        "    \"sawai-mansingh-stadium-jaipur\": \"Sawai Mansingh Stadium\",\n",
        "    \"wankhede-stadium\": \"Wankhede Stadium\",\n",
        "    \"wankhede-stadium-mumbai\": \"Wankhede Stadium\"\n",
        "}"
      ]
    },
    {
      "cell_type": "code",
      "execution_count": 83,
      "id": "bfb59cf9",
      "metadata": {
        "ExecuteTime": {
          "end_time": "2023-04-25T09:41:59.450702Z",
          "start_time": "2023-04-25T09:41:59.443835Z"
        }
      },
      "outputs": [],
      "source": [
        "venue_mapping_tags = {\n",
        "    \"delhi\": \"Arun Jaitley Stadium\",\n",
        "    \"arun jaitley\": \"Arun Jaitley Stadium\",\n",
        "    \"guwahati\": \"Barsapara Cricket Stadium\",\n",
        "    \"barsapara\": \"Barsapara Cricket Stadium\",\n",
        "    \"bhupen hazarika\": \"Barsapara Cricket Stadium\",\n",
        "    \"assam cricket association stadium\": \"Barsapara Cricket Stadium\",\n",
        "    \"lucknow\": \"Bharat Ratna Shri Atal Bihari Vajpayee Ekana Cricket Stadium\",\n",
        "    \"ekana\": \"Bharat Ratna Shri Atal Bihari Vajpayee Ekana Cricket Stadium\",\n",
        "    \"atal bihari\": \"Bharat Ratna Shri Atal Bihari Vajpayee Ekana Cricket Stadium\",\n",
        "    \"kolkata\": \"Eden Gardens\",\n",
        "    \"eden gardens\": \"Eden Gardens\",\n",
        "    \"dharamsala\": \"Himachal Pradesh Cricket Association Stadium\",\n",
        "    \"himachal pradesh\": \"Himachal Pradesh Cricket Association Stadium\",\n",
        "    \"bengaluru\": \"M Chinnaswamy Stadium\",\n",
        "    \"bengalore\": \"M Chinnaswamy Stadium\",\n",
        "    \"chinnaswamy\": \"M Chinnaswamy Stadium\",\n",
        "    \"chennai\": \"MA Chidambaram Stadium\",\n",
        "    \"chepauk\": \"MA Chidambaram Stadium\",\n",
        "    \"chidambaram\": \"MA Chidambaram Stadium\",\n",
        "    \"ahmedabad\": \"Narendra Modi Stadium\",\n",
        "    \"narendra modi\": \"Narendra Modi Stadium\",\n",
        "    \"mohali\": \"Punjab Cricket Association IS Bindra Stadium\",\n",
        "    \"punjab cricket association\": \"Punjab Cricket Association IS Bindra Stadium\",\n",
        "    \"is bindra\": \"Punjab Cricket Association IS Bindra Stadium\",\n",
        "    \"hyderabad\": \"Rajiv Gandhi International Stadium\",\n",
        "    \"rajiv gandhi\": \"Rajiv Gandhi International Stadium\",\n",
        "    \"jaipur\": \"Sawai Mansingh Stadium\",\n",
        "    \"sawai mansingh\": \"Sawai Mansingh Stadium\",\n",
        "    \"mumbai\": \"Wankhede Stadium\",\n",
        "    \"wankhede\": \"Wankhede Stadium\"\n",
        "}"
      ]
    },
    {
      "cell_type": "code",
      "execution_count": 84,
      "id": "6c63a15d",
      "metadata": {
        "ExecuteTime": {
          "end_time": "2023-04-25T09:41:59.461244Z",
          "start_time": "2023-04-25T09:41:59.451710Z"
        }
      },
      "outputs": [
        {
          "data": {
            "text/plain": [
              "array(['Barabati Stadium', 'Brabourne Stadium',\n",
              "       'Brabourne Stadium, Mumbai', 'Buffalo Park',\n",
              "       'De Beers Diamond Oval', 'Dr DY Patil Sports Academy',\n",
              "       'Dr DY Patil Sports Academy, Mumbai',\n",
              "       'Dr. Y.S. Rajasekhara Reddy ACA-VDCA Cricket Stadium',\n",
              "       'Dubai International Cricket Stadium', 'Green Park',\n",
              "       'Holkar Cricket Stadium', 'JSCA International Stadium Complex',\n",
              "       'Kingsmead', 'Maharashtra Cricket Association Stadium',\n",
              "       'Maharashtra Cricket Association Stadium, Pune', 'Nehru Stadium',\n",
              "       'New Wanderers Stadium', 'Newlands', 'OUTsurance Oval',\n",
              "       'Sardar Patel Stadium, Motera',\n",
              "       'Saurashtra Cricket Association Stadium',\n",
              "       'Shaheed Veer Narayan Singh International Stadium',\n",
              "       'Sharjah Cricket Stadium', 'Sheikh Zayed Stadium',\n",
              "       \"St George's Park\", 'Subrata Roy Sahara Stadium',\n",
              "       'SuperSport Park', 'Vidarbha Cricket Association Stadium, Jamtha',\n",
              "       'Zayed Cricket Stadium, Abu Dhabi'], dtype=object)"
            ]
          },
          "execution_count": 84,
          "metadata": {},
          "output_type": "execute_result"
        }
      ],
      "source": [
        "# venues in `matches_result` which aren't present in `venue_mapping_normal.keys`,\n",
        "# collectively considered as `Other` venue after mapping\n",
        "np.setdiff1d(matches_result.venue.unique(), list(venue_mapping_normal.keys()))"
      ]
    },
    {
      "attachments": {},
      "cell_type": "markdown",
      "id": "0d9da923",
      "metadata": {},
      "source": [
        "## Team mapping\n"
      ]
    },
    {
      "cell_type": "code",
      "execution_count": 85,
      "id": "df6a40c4",
      "metadata": {
        "ExecuteTime": {
          "end_time": "2023-04-25T09:41:59.482279Z",
          "start_time": "2023-04-25T09:41:59.462726Z"
        },
        "scrolled": true
      },
      "outputs": [],
      "source": [
        "# set(matches_result['team_1'].unique()) == set(matches_result['team_2'].unique()) == set(ball_by_ball['batting_team'].unique())"
      ]
    },
    {
      "cell_type": "code",
      "execution_count": 86,
      "id": "13d923f9",
      "metadata": {
        "ExecuteTime": {
          "end_time": "2023-04-25T09:41:59.486332Z",
          "start_time": "2023-04-25T09:41:59.483285Z"
        }
      },
      "outputs": [],
      "source": [
        "team_mapping = {\n",
        "    'Rajasthan Royals': 'Rajasthan Royals',\n",
        "    'Gujarat Titans': 'Gujarat Titans',\n",
        "    'Royal Challengers Bangalore': 'Royal Challengers Bangalore',\n",
        "    'Lucknow Super Giants': 'Lucknow Super Giants',\n",
        "    'Sunrisers Hyderabad': 'Sunrisers Hyderabad',\n",
        "    'Mumbai Indians': 'Mumbai Indians',\n",
        "    'Chennai Super Kings': 'Chennai Super Kings',\n",
        "    'Kolkata Knight Riders': 'Kolkata Knight Riders',\n",
        "    'Kings XI Punjab': 'Punjab Kings',\n",
        "    'Punjab Kings': 'Punjab Kings',\n",
        "    'Delhi Daredevils': 'Delhi Capitals',\n",
        "    'Delhi Capitals': 'Delhi Capitals',\n",
        "}"
      ]
    },
    {
      "cell_type": "code",
      "execution_count": 87,
      "id": "8477ac19",
      "metadata": {
        "ExecuteTime": {
          "end_time": "2023-04-25T09:41:59.497221Z",
          "start_time": "2023-04-25T09:41:59.487759Z"
        }
      },
      "outputs": [
        {
          "data": {
            "text/plain": [
              "array([], dtype='<U27')"
            ]
          },
          "execution_count": 87,
          "metadata": {},
          "output_type": "execute_result"
        }
      ],
      "source": [
        "# teams in `team_mapping.keys` which aren't present in `matches_result`\n",
        "# before mapping: [], after mapping: ['Delhi Daredevils', 'Kings XI Punjab']\n",
        "np.setdiff1d(\n",
        "    list(team_mapping.keys()), matches_result['team_1'].unique()\n",
        ")"
      ]
    },
    {
      "cell_type": "code",
      "execution_count": 88,
      "id": "8cdc7ed4",
      "metadata": {
        "ExecuteTime": {
          "end_time": "2023-04-25T09:41:59.506017Z",
          "start_time": "2023-04-25T09:41:59.498418Z"
        }
      },
      "outputs": [
        {
          "data": {
            "text/plain": [
              "array(['Deccan Chargers', 'Gujarat Lions', 'Kochi Tuskers Kerala',\n",
              "       'Pune Warriors', 'Rising Pune Supergiant',\n",
              "       'Rising Pune Supergiants'], dtype=object)"
            ]
          },
          "execution_count": 88,
          "metadata": {},
          "output_type": "execute_result"
        }
      ],
      "source": [
        "# teams in `matches_result` which aren't present in `team_mapping.keys`,\n",
        "# collectively considered as `Other` team after mapping\n",
        "np.setdiff1d(\n",
        "    matches_result['team_1'].unique(), list(team_mapping.keys())\n",
        ")"
      ]
    },
    {
      "attachments": {},
      "cell_type": "markdown",
      "id": "77371da3",
      "metadata": {},
      "source": [
        "## Apply venue/team mapping\n"
      ]
    },
    {
      "cell_type": "code",
      "execution_count": 89,
      "id": "ae56d016",
      "metadata": {
        "ExecuteTime": {
          "end_time": "2023-04-25T09:41:59.533710Z",
          "start_time": "2023-04-25T09:41:59.507393Z"
        }
      },
      "outputs": [],
      "source": [
        "matches_result.venue = matches_result.venue.map(\n",
        "    venue_mapping_normal).fillna('Other')\n",
        "\n",
        "matches_result.team_1 = matches_result.team_1.map(team_mapping).fillna('Other')\n",
        "matches_result.team_2 = matches_result.team_2.map(team_mapping).fillna('Other')\n",
        "\n",
        "ball_by_ball.batting_team = ball_by_ball.batting_team.map(\n",
        "    team_mapping).fillna('Other')"
      ]
    },
    {
      "attachments": {},
      "cell_type": "markdown",
      "id": "756c1020",
      "metadata": {},
      "source": [
        "## list_of_ipl23_[venues, teams, players]\n"
      ]
    },
    {
      "cell_type": "code",
      "execution_count": 90,
      "id": "065c5b5f",
      "metadata": {},
      "outputs": [],
      "source": [
        "# new venues in ipl23: ['Barsapara Cricket Stadium', 'Bharat Ratna Shri Atal Bihari Vajpayee Ekana Cricket Stadium']\n",
        "\n",
        "list_of_ipl23_venues = ['Arun Jaitley Stadium', 'Barsapara Cricket Stadium',\n",
        "                        'Bharat Ratna Shri Atal Bihari Vajpayee Ekana Cricket Stadium',\n",
        "                        'Eden Gardens', 'Himachal Pradesh Cricket Association Stadium',\n",
        "                        'M Chinnaswamy Stadium', 'MA Chidambaram Stadium',\n",
        "                        'Narendra Modi Stadium',\n",
        "                        'Punjab Cricket Association IS Bindra Stadium',\n",
        "                        'Rajiv Gandhi International Stadium', 'Sawai Mansingh Stadium',\n",
        "                        'Wankhede Stadium']\n",
        "\n",
        "list_of_ipl23_teams = ['Chennai Super Kings', 'Delhi Capitals', 'Gujarat Titans',\n",
        "                       'Kolkata Knight Riders', 'Lucknow Super Giants', 'Mumbai Indians',\n",
        "                       'Punjab Kings', 'Rajasthan Royals', 'Royal Challengers Bangalore',\n",
        "                       'Sunrisers Hyderabad']\n",
        "\n",
        "list_of_ipl23_players = ipl_2023_players_data[ipl_2023_players_data.team.notnull(\n",
        ")].player.values"
      ]
    },
    {
      "cell_type": "code",
      "execution_count": 91,
      "id": "9f6ee6a6",
      "metadata": {
        "ExecuteTime": {
          "end_time": "2023-04-25T09:41:59.604070Z",
          "start_time": "2023-04-25T09:41:59.593751Z"
        },
        "scrolled": true
      },
      "outputs": [
        {
          "data": {
            "text/plain": [
              "True"
            ]
          },
          "execution_count": 91,
          "metadata": {},
          "output_type": "execute_result"
        },
        {
          "data": {
            "text/plain": [
              "True"
            ]
          },
          "execution_count": 91,
          "metadata": {},
          "output_type": "execute_result"
        }
      ],
      "source": [
        "# list_of_ipl23_venues == venue_mapping_normal\n",
        "np.array_equal(np.unique(\n",
        "    list(venue_mapping_normal.values())\n",
        "), list_of_ipl23_venues)\n",
        "\n",
        "# list_of_ipl23_teams == team_mapping\n",
        "np.array_equal(np.unique(\n",
        "    list(team_mapping.values())\n",
        "), list_of_ipl23_teams)"
      ]
    },
    {
      "attachments": {},
      "cell_type": "markdown",
      "id": "5047ea6d",
      "metadata": {},
      "source": [
        "## Select first 6 overs, Select innings 1 & 2, Map innings (1,2) to (0,1) [in `ball_by_ball`]\n"
      ]
    },
    {
      "cell_type": "code",
      "execution_count": 92,
      "id": "12446a98",
      "metadata": {
        "ExecuteTime": {
          "end_time": "2023-04-25T09:41:59.651014Z",
          "start_time": "2023-04-25T09:41:59.631749Z"
        }
      },
      "outputs": [],
      "source": [
        "ball_by_ball = ball_by_ball.loc[(\n",
        "    ball_by_ball.overs <= 5) & (ball_by_ball.innings <= 2)]\n",
        "ball_by_ball.loc[ball_by_ball.innings == 1, 'innings'] = 0\n",
        "ball_by_ball.loc[ball_by_ball.innings == 2, 'innings'] = 1"
      ]
    },
    {
      "attachments": {},
      "cell_type": "markdown",
      "id": "a1685adc",
      "metadata": {},
      "source": [
        "# ⭐ Integration of `ball_by_ball` and `matches_result`"
      ]
    },
    {
      "cell_type": "code",
      "execution_count": 93,
      "id": "61f5a302",
      "metadata": {},
      "outputs": [],
      "source": [
        "data = ball_by_ball.groupby(['match_id', 'innings', 'batting_team']).agg({\n",
        "    'total_run': 'sum',\n",
        "    'batter': 'unique',\n",
        "    'bowler': 'unique',\n",
        "}).reset_index().rename(columns={\n",
        "    'batter': 'batsmen', 'bowler': 'bowlers', 'total_run': 'total_runs'\n",
        "}).merge(matches_result, on=['match_id'])"
      ]
    },
    {
      "cell_type": "code",
      "execution_count": 94,
      "id": "81911e92",
      "metadata": {
        "ExecuteTime": {
          "end_time": "2023-04-25T09:41:59.855265Z",
          "start_time": "2023-04-25T09:41:59.849702Z"
        },
        "scrolled": true
      },
      "outputs": [],
      "source": [
        "mask = data['batting_team'] == data['team_1']\n",
        "data.loc[mask, 'bowling_team'] = data['team_2']\n",
        "data.loc[~mask, 'bowling_team'] = data['team_1']"
      ]
    },
    {
      "cell_type": "code",
      "execution_count": 95,
      "id": "b28ff077",
      "metadata": {
        "ExecuteTime": {
          "end_time": "2023-04-25T09:41:59.884438Z",
          "start_time": "2023-04-25T09:41:59.880833Z"
        }
      },
      "outputs": [],
      "source": [
        "# match_id == 829763, data for one innings is missing\n",
        "# data.query('match_id == 829763')\n",
        "\n",
        "# match_id == 829813, total_runs for one innings is 2 (probably a mistake in data entry)\n",
        "# data.query('match_id == 829813')\n",
        "\n",
        "data = data.drop(data[\n",
        "    (data['match_id'] == 829763) | (data['match_id'] == 829813)\n",
        "].index)"
      ]
    },
    {
      "cell_type": "code",
      "execution_count": 96,
      "id": "1eb7e229",
      "metadata": {},
      "outputs": [],
      "source": [
        "# get count of batsmen & bowlers for each innings\n",
        "data['count_batsmen'] = [len(x) for x in data['batsmen']]\n",
        "data['count_bowlers'] = [len(x) for x in data['bowlers']]"
      ]
    },
    {
      "cell_type": "code",
      "execution_count": 97,
      "id": "c2ea9bb4",
      "metadata": {},
      "outputs": [],
      "source": [
        "data = data[\n",
        "    ['venue', 'innings', 'batting_team', 'bowling_team',\n",
        "        'batsmen', 'bowlers', 'count_batsmen', 'count_bowlers', 'total_runs']\n",
        "].reset_index(drop=True)"
      ]
    },
    {
      "cell_type": "code",
      "execution_count": 98,
      "id": "4ea3165a",
      "metadata": {},
      "outputs": [
        {
          "data": {
            "text/html": [
              "<div>\n",
              "<style scoped>\n",
              "    .dataframe tbody tr th:only-of-type {\n",
              "        vertical-align: middle;\n",
              "    }\n",
              "\n",
              "    .dataframe tbody tr th {\n",
              "        vertical-align: top;\n",
              "    }\n",
              "\n",
              "    .dataframe thead th {\n",
              "        text-align: right;\n",
              "    }\n",
              "</style>\n",
              "<table border=\"1\" class=\"dataframe\">\n",
              "  <thead>\n",
              "    <tr style=\"text-align: right;\">\n",
              "      <th></th>\n",
              "      <th>venue</th>\n",
              "      <th>innings</th>\n",
              "      <th>batting_team</th>\n",
              "      <th>bowling_team</th>\n",
              "      <th>batsmen</th>\n",
              "      <th>bowlers</th>\n",
              "      <th>count_batsmen</th>\n",
              "      <th>count_bowlers</th>\n",
              "      <th>total_runs</th>\n",
              "    </tr>\n",
              "  </thead>\n",
              "  <tbody>\n",
              "    <tr>\n",
              "      <th>0</th>\n",
              "      <td>M Chinnaswamy Stadium</td>\n",
              "      <td>0</td>\n",
              "      <td>Kolkata Knight Riders</td>\n",
              "      <td>Royal Challengers Bangalore</td>\n",
              "      <td>[SC Ganguly, BB McCullum, RT Ponting]</td>\n",
              "      <td>[P Kumar, Z Khan, AA Noffke]</td>\n",
              "      <td>3</td>\n",
              "      <td>3</td>\n",
              "      <td>61</td>\n",
              "    </tr>\n",
              "    <tr>\n",
              "      <th>1</th>\n",
              "      <td>M Chinnaswamy Stadium</td>\n",
              "      <td>1</td>\n",
              "      <td>Royal Challengers Bangalore</td>\n",
              "      <td>Kolkata Knight Riders</td>\n",
              "      <td>[R Dravid, W Jaffer, V Kohli, JH Kallis, CL Wh...</td>\n",
              "      <td>[AB Dinda, I Sharma, AB Agarkar]</td>\n",
              "      <td>6</td>\n",
              "      <td>3</td>\n",
              "      <td>26</td>\n",
              "    </tr>\n",
              "    <tr>\n",
              "      <th>2</th>\n",
              "      <td>Punjab Cricket Association IS Bindra Stadium</td>\n",
              "      <td>0</td>\n",
              "      <td>Chennai Super Kings</td>\n",
              "      <td>Punjab Kings</td>\n",
              "      <td>[PA Patel, ML Hayden, MEK Hussey]</td>\n",
              "      <td>[B Lee, S Sreesanth, JR Hopes]</td>\n",
              "      <td>3</td>\n",
              "      <td>3</td>\n",
              "      <td>53</td>\n",
              "    </tr>\n",
              "    <tr>\n",
              "      <th>3</th>\n",
              "      <td>Punjab Cricket Association IS Bindra Stadium</td>\n",
              "      <td>1</td>\n",
              "      <td>Punjab Kings</td>\n",
              "      <td>Chennai Super Kings</td>\n",
              "      <td>[K Goel, JR Hopes]</td>\n",
              "      <td>[JDP Oram, MS Gony]</td>\n",
              "      <td>2</td>\n",
              "      <td>2</td>\n",
              "      <td>63</td>\n",
              "    </tr>\n",
              "    <tr>\n",
              "      <th>4</th>\n",
              "      <td>Arun Jaitley Stadium</td>\n",
              "      <td>0</td>\n",
              "      <td>Rajasthan Royals</td>\n",
              "      <td>Delhi Capitals</td>\n",
              "      <td>[T Kohli, YK Pathan, SR Watson, M Kaif]</td>\n",
              "      <td>[GD McGrath, B Geeves, MF Maharoof]</td>\n",
              "      <td>4</td>\n",
              "      <td>3</td>\n",
              "      <td>40</td>\n",
              "    </tr>\n",
              "    <tr>\n",
              "      <th>...</th>\n",
              "      <td>...</td>\n",
              "      <td>...</td>\n",
              "      <td>...</td>\n",
              "      <td>...</td>\n",
              "      <td>...</td>\n",
              "      <td>...</td>\n",
              "      <td>...</td>\n",
              "      <td>...</td>\n",
              "      <td>...</td>\n",
              "    </tr>\n",
              "    <tr>\n",
              "      <th>1890</th>\n",
              "      <td>Eden Gardens</td>\n",
              "      <td>1</td>\n",
              "      <td>Lucknow Super Giants</td>\n",
              "      <td>Royal Challengers Bangalore</td>\n",
              "      <td>[Q de Kock, KL Rahul, M Vohra, DJ Hooda]</td>\n",
              "      <td>[Mohammed Siraj, JR Hazlewood, Shahbaz Ahmed]</td>\n",
              "      <td>4</td>\n",
              "      <td>3</td>\n",
              "      <td>62</td>\n",
              "    </tr>\n",
              "    <tr>\n",
              "      <th>1891</th>\n",
              "      <td>Narendra Modi Stadium</td>\n",
              "      <td>0</td>\n",
              "      <td>Royal Challengers Bangalore</td>\n",
              "      <td>Rajasthan Royals</td>\n",
              "      <td>[V Kohli, F du Plessis, RM Patidar]</td>\n",
              "      <td>[TA Boult, M Prasidh Krishna]</td>\n",
              "      <td>3</td>\n",
              "      <td>2</td>\n",
              "      <td>46</td>\n",
              "    </tr>\n",
              "    <tr>\n",
              "      <th>1892</th>\n",
              "      <td>Narendra Modi Stadium</td>\n",
              "      <td>1</td>\n",
              "      <td>Rajasthan Royals</td>\n",
              "      <td>Royal Challengers Bangalore</td>\n",
              "      <td>[YBK Jaiswal, JC Buttler, SV Samson]</td>\n",
              "      <td>[Mohammed Siraj, JR Hazlewood, GJ Maxwell, Sha...</td>\n",
              "      <td>3</td>\n",
              "      <td>4</td>\n",
              "      <td>67</td>\n",
              "    </tr>\n",
              "    <tr>\n",
              "      <th>1893</th>\n",
              "      <td>Narendra Modi Stadium</td>\n",
              "      <td>0</td>\n",
              "      <td>Rajasthan Royals</td>\n",
              "      <td>Gujarat Titans</td>\n",
              "      <td>[YBK Jaiswal, JC Buttler, SV Samson]</td>\n",
              "      <td>[Mohammed Shami, Yash Dayal, LH Ferguson, Rash...</td>\n",
              "      <td>3</td>\n",
              "      <td>4</td>\n",
              "      <td>44</td>\n",
              "    </tr>\n",
              "    <tr>\n",
              "      <th>1894</th>\n",
              "      <td>Narendra Modi Stadium</td>\n",
              "      <td>1</td>\n",
              "      <td>Gujarat Titans</td>\n",
              "      <td>Rajasthan Royals</td>\n",
              "      <td>[WP Saha, Shubman Gill, MS Wade, HH Pandya]</td>\n",
              "      <td>[TA Boult, M Prasidh Krishna, YS Chahal]</td>\n",
              "      <td>4</td>\n",
              "      <td>3</td>\n",
              "      <td>31</td>\n",
              "    </tr>\n",
              "  </tbody>\n",
              "</table>\n",
              "<p>1895 rows × 9 columns</p>\n",
              "</div>"
            ],
            "text/plain": [
              "                                             venue  innings  \\\n",
              "0                            M Chinnaswamy Stadium        0   \n",
              "1                            M Chinnaswamy Stadium        1   \n",
              "2     Punjab Cricket Association IS Bindra Stadium        0   \n",
              "3     Punjab Cricket Association IS Bindra Stadium        1   \n",
              "4                             Arun Jaitley Stadium        0   \n",
              "...                                            ...      ...   \n",
              "1890                                  Eden Gardens        1   \n",
              "1891                         Narendra Modi Stadium        0   \n",
              "1892                         Narendra Modi Stadium        1   \n",
              "1893                         Narendra Modi Stadium        0   \n",
              "1894                         Narendra Modi Stadium        1   \n",
              "\n",
              "                     batting_team                 bowling_team  \\\n",
              "0           Kolkata Knight Riders  Royal Challengers Bangalore   \n",
              "1     Royal Challengers Bangalore        Kolkata Knight Riders   \n",
              "2             Chennai Super Kings                 Punjab Kings   \n",
              "3                    Punjab Kings          Chennai Super Kings   \n",
              "4                Rajasthan Royals               Delhi Capitals   \n",
              "...                           ...                          ...   \n",
              "1890         Lucknow Super Giants  Royal Challengers Bangalore   \n",
              "1891  Royal Challengers Bangalore             Rajasthan Royals   \n",
              "1892             Rajasthan Royals  Royal Challengers Bangalore   \n",
              "1893             Rajasthan Royals               Gujarat Titans   \n",
              "1894               Gujarat Titans             Rajasthan Royals   \n",
              "\n",
              "                                                batsmen  \\\n",
              "0                 [SC Ganguly, BB McCullum, RT Ponting]   \n",
              "1     [R Dravid, W Jaffer, V Kohli, JH Kallis, CL Wh...   \n",
              "2                     [PA Patel, ML Hayden, MEK Hussey]   \n",
              "3                                    [K Goel, JR Hopes]   \n",
              "4               [T Kohli, YK Pathan, SR Watson, M Kaif]   \n",
              "...                                                 ...   \n",
              "1890           [Q de Kock, KL Rahul, M Vohra, DJ Hooda]   \n",
              "1891                [V Kohli, F du Plessis, RM Patidar]   \n",
              "1892               [YBK Jaiswal, JC Buttler, SV Samson]   \n",
              "1893               [YBK Jaiswal, JC Buttler, SV Samson]   \n",
              "1894        [WP Saha, Shubman Gill, MS Wade, HH Pandya]   \n",
              "\n",
              "                                                bowlers  count_batsmen  \\\n",
              "0                          [P Kumar, Z Khan, AA Noffke]              3   \n",
              "1                      [AB Dinda, I Sharma, AB Agarkar]              6   \n",
              "2                        [B Lee, S Sreesanth, JR Hopes]              3   \n",
              "3                                   [JDP Oram, MS Gony]              2   \n",
              "4                   [GD McGrath, B Geeves, MF Maharoof]              4   \n",
              "...                                                 ...            ...   \n",
              "1890      [Mohammed Siraj, JR Hazlewood, Shahbaz Ahmed]              4   \n",
              "1891                      [TA Boult, M Prasidh Krishna]              3   \n",
              "1892  [Mohammed Siraj, JR Hazlewood, GJ Maxwell, Sha...              3   \n",
              "1893  [Mohammed Shami, Yash Dayal, LH Ferguson, Rash...              3   \n",
              "1894           [TA Boult, M Prasidh Krishna, YS Chahal]              4   \n",
              "\n",
              "      count_bowlers  total_runs  \n",
              "0                 3          61  \n",
              "1                 3          26  \n",
              "2                 3          53  \n",
              "3                 2          63  \n",
              "4                 3          40  \n",
              "...             ...         ...  \n",
              "1890              3          62  \n",
              "1891              2          46  \n",
              "1892              4          67  \n",
              "1893              4          44  \n",
              "1894              3          31  \n",
              "\n",
              "[1895 rows x 9 columns]"
            ]
          },
          "execution_count": 98,
          "metadata": {},
          "output_type": "execute_result"
        }
      ],
      "source": [
        "data\n",
        "\n",
        "# data.groupby(['count_batsmen']).total_runs.describe()[['count', 'mean', '75%']].sort_values(by='75%')\n",
        "# data.groupby(['count_bowlers']).total_runs.describe()[['count', 'mean', '75%']].sort_values(by='75%')"
      ]
    },
    {
      "attachments": {},
      "cell_type": "markdown",
      "id": "b30fc349",
      "metadata": {},
      "source": [
        "# ⭐ `batted__<player>`, `bowled__<player>`, `batsman1__<player>`, `batsman2__<player>`"
      ]
    },
    {
      "cell_type": "code",
      "execution_count": 99,
      "id": "754ccd97",
      "metadata": {},
      "outputs": [
        {
          "data": {
            "text/plain": [
              "(90, 109, 45, 63)"
            ]
          },
          "execution_count": 99,
          "metadata": {},
          "output_type": "execute_result"
        }
      ],
      "source": [
        "# <player> should be in top 4 batsmen/bowlers of respective innings\n",
        "# <player> must present in `list_of_ipl23_players`\n",
        "\n",
        "batted__ = []\n",
        "batsman1__ = []\n",
        "batsman2__ = []\n",
        "for player_list in data.batsmen:\n",
        "    batted__.append(player_list[0:4])\n",
        "    batsman1__.append(player_list[0])\n",
        "    batsman2__.append(player_list[1])\n",
        "\n",
        "bowled__ = []\n",
        "for player_list in data.bowlers:\n",
        "    bowled__.append(player_list[0:4])\n",
        "\n",
        "batted__ = np.unique(np.concatenate(batted__))\n",
        "bowled__ = np.unique(np.concatenate(bowled__))\n",
        "batsman1__ = np.unique(batsman1__)\n",
        "batsman2__ = np.unique(batsman2__)\n",
        "\n",
        "batted__ = [\n",
        "    f'batted__{player}' for player in batted__ if player in list_of_ipl23_players]\n",
        "bowled__ = [\n",
        "    f'bowled__{player}' for player in bowled__ if player in list_of_ipl23_players]\n",
        "batsman1__ = [\n",
        "    f'batsman1__{player}' for player in batsman1__ if player in list_of_ipl23_players]\n",
        "batsman2__ = [\n",
        "    f'batsman2__{player}' for player in batsman2__ if player in list_of_ipl23_players]\n",
        "\n",
        "(len(batted__), len(bowled__), len(batsman1__), len(batsman2__))"
      ]
    },
    {
      "cell_type": "code",
      "execution_count": 100,
      "id": "d7e1a5b3",
      "metadata": {},
      "outputs": [],
      "source": [
        "def get_batting_data(data):\n",
        "    col_dict = {}\n",
        "    for col in [*batted__, *bowled__, *batsman1__, *batsman2__]:\n",
        "        col_dict[col] = np.zeros(data.shape[0], dtype=np.int8)\n",
        "\n",
        "    for i in range(data.shape[0]):\n",
        "        batsmen = data.iloc[i].batsmen\n",
        "        bowlers = data.iloc[i].bowlers\n",
        "\n",
        "        player = f'batsman1__{batsmen[0]}'\n",
        "        if player in list_of_ipl23_players: col_dict[player][i] = 1\n",
        "\n",
        "        player = f'batsman2__{batsmen[1]}'\n",
        "        if player in list_of_ipl23_players: col_dict[player][i] = 1\n",
        "\n",
        "        for player in batsmen[0:4]:\n",
        "            if player in list_of_ipl23_players: col_dict[f'batted__{player}'][i] = 1\n",
        "        for player in bowlers[0:4]:\n",
        "            if player in list_of_ipl23_players: col_dict[f'bowled__{player}'][i] = 1\n",
        "\n",
        "    return pd.DataFrame(col_dict)"
      ]
    },
    {
      "attachments": {},
      "cell_type": "markdown",
      "id": "3cde1cee",
      "metadata": {},
      "source": [
        "# ⭐ X, X2, y"
      ]
    },
    {
      "cell_type": "code",
      "execution_count": 101,
      "id": "cb2699ea",
      "metadata": {},
      "outputs": [],
      "source": [
        "X = data.drop(columns=['total_runs'])\n",
        "y = data[\"total_runs\"]\n",
        "\n",
        "X2 = pd.concat([X, get_batting_data(X)], axis=1).drop(columns=['batsmen', 'bowlers'])\n",
        "X = X.drop(columns=['batsmen', 'bowlers'])"
      ]
    },
    {
      "cell_type": "code",
      "execution_count": 102,
      "id": "d55036c3",
      "metadata": {},
      "outputs": [
        {
          "data": {
            "text/plain": [
              "(1895, 6)"
            ]
          },
          "execution_count": 102,
          "metadata": {},
          "output_type": "execute_result"
        },
        {
          "data": {
            "text/plain": [
              "(1895, 313)"
            ]
          },
          "execution_count": 102,
          "metadata": {},
          "output_type": "execute_result"
        }
      ],
      "source": [
        "X.shape\n",
        "X2.shape\n",
        "\n",
        "# X.head()\n",
        "# X2.head()"
      ]
    },
    {
      "attachments": {},
      "cell_type": "markdown",
      "id": "4ec0a861",
      "metadata": {
        "ExecuteTime": {
          "end_time": "2023-04-18T05:43:43.388448Z",
          "start_time": "2023-04-18T05:43:43.382203Z"
        }
      },
      "source": [
        "# ⭐ Encoding of categorical inputs and feature scaling\n"
      ]
    },
    {
      "cell_type": "code",
      "execution_count": 103,
      "id": "c3102869",
      "metadata": {
        "ExecuteTime": {
          "end_time": "2023-04-25T09:42:00.428803Z",
          "start_time": "2023-04-25T09:42:00.421445Z"
        }
      },
      "outputs": [],
      "source": [
        "venue_categories = list_of_ipl23_venues + ['Other']\n",
        "team_categories = list_of_ipl23_teams + ['Other']\n",
        "\n",
        "onehot = (\"onehot\", OneHotEncoder(sparse_output=False, drop='first', categories=[\n",
        "        venue_categories, team_categories, team_categories\n",
        "    ]), [\"venue\", \"batting_team\", \"bowling_team\"])\n",
        "\n",
        "scaler = (\"scaler\", StandardScaler(), [\"count_batsmen\", \"count_bowlers\"])\n",
        "\n",
        "onehot_scaler = ColumnTransformer([onehot, scaler], remainder='passthrough')\n",
        "onehot_scaler2 = ColumnTransformer([onehot, scaler], remainder='passthrough')\n",
        "\n",
        "X = onehot_scaler.fit_transform(X)\n",
        "X2 = onehot_scaler2.fit_transform(X2)"
      ]
    },
    {
      "cell_type": "code",
      "execution_count": 104,
      "id": "d09e8065",
      "metadata": {
        "ExecuteTime": {
          "end_time": "2023-04-25T09:42:00.456249Z",
          "start_time": "2023-04-25T09:42:00.448839Z"
        },
        "scrolled": true
      },
      "outputs": [
        {
          "data": {
            "text/plain": [
              "(1895, 35)"
            ]
          },
          "execution_count": 104,
          "metadata": {},
          "output_type": "execute_result"
        },
        {
          "data": {
            "text/plain": [
              "(1895, 342)"
            ]
          },
          "execution_count": 104,
          "metadata": {},
          "output_type": "execute_result"
        }
      ],
      "source": [
        "# 6 + (-3 + 13 + 11 + 11 -3) = 35\n",
        "X.shape\n",
        "\n",
        "# 35 + (90 + 109 + 45 + 63 = 307) = 342\n",
        "X2.shape"
      ]
    },
    {
      "attachments": {},
      "cell_type": "markdown",
      "id": "2575d6b3",
      "metadata": {},
      "source": [
        "# ⭐ SelectKBest & PCA"
      ]
    },
    {
      "attachments": {},
      "cell_type": "markdown",
      "id": "1462b665",
      "metadata": {},
      "source": [
        "## Plot the`cumulative explained variance ratio` as a function of the `number of principal components`"
      ]
    },
    {
      "cell_type": "code",
      "execution_count": 105,
      "id": "db7b3404",
      "metadata": {},
      "outputs": [
        {
          "data": {
            "image/png": "[encoded data removed]",
            "text/plain": [
              "<Figure size 640x480 with 1 Axes>"
            ]
          },
          "metadata": {},
          "output_type": "display_data"
        },
        {
          "data": {
            "image/png": "[encoded data removed]",
            "text/plain": [
              "<Figure size 640x480 with 1 Axes>"
            ]
          },
          "metadata": {},
          "output_type": "display_data"
        }
      ],
      "source": [
        "# PCA is an unsupervised learning algorithm that does not use any information about the target variable.\n",
        "\n",
        "def plot(df):\n",
        "    # Apply PCA to reduce the dimensions\n",
        "    pca = PCA(n_components=df.shape[1])\n",
        "    df_pca = pca.fit_transform(df)\n",
        "\n",
        "    # Plot the explained variance ratio\n",
        "    fig, ax = plt.subplots()\n",
        "    ax.plot(np.cumsum(pca.explained_variance_ratio_))\n",
        "    ax.set_xlabel('Number of components')\n",
        "    ax.set_ylabel('Cumulative explained variance')\n",
        "    plt.show();\n",
        "\n",
        "plot(X)\n",
        "plot(X2)"
      ]
    },
    {
      "attachments": {},
      "cell_type": "markdown",
      "id": "80faecf1",
      "metadata": {},
      "source": [
        "## get_[kbest, pca]_pipeline"
      ]
    },
    {
      "cell_type": "code",
      "execution_count": 106,
      "id": "68c205b7",
      "metadata": {},
      "outputs": [],
      "source": [
        "def get_kbest_pipeline(k):\n",
        "    return Pipeline([\n",
        "        ('variance_threshold', VarianceThreshold()),\n",
        "        ('kbest', SelectKBest(score_func=f_classif, k=k)),\n",
        "    ])\n",
        "\n",
        "def get_pca_pipeline(n_components):\n",
        "    return Pipeline([\n",
        "        ('variance_threshold', VarianceThreshold()),\n",
        "        ('pca', PCA(n_components=n_components)),\n",
        "    ])\n",
        "\n",
        "def get_kbest_pca_pipeline(k, n_components):\n",
        "    return Pipeline([\n",
        "        ('variance_threshold', VarianceThreshold()),\n",
        "        ('kbest', SelectKBest(score_func=f_classif, k=k)),\n",
        "        ('pca', PCA(n_components=n_components)),\n",
        "    ])"
      ]
    },
    {
      "cell_type": "code",
      "execution_count": 107,
      "id": "0095974e",
      "metadata": {},
      "outputs": [],
      "source": [
        "random_state = 5\n",
        "\n",
        "X_train, X_test, y_train, y_test = train_test_split(X, y, test_size=0.2, random_state=random_state)\n",
        "\n",
        "X_train_kbest25_pipeline = get_kbest_pipeline(25)\n",
        "X_train_kbest25 = X_train_kbest25_pipeline.fit_transform(X_train, y_train)\n",
        "X_test_kbest25 = X_train_kbest25_pipeline.transform(X_test)\n",
        "\n",
        "X_train_pca25_pipeline = get_pca_pipeline(25)\n",
        "X_train_pca25 = X_train_pca25_pipeline.fit_transform(X_train, y_train)\n",
        "X_test_pca25 = X_train_pca25_pipeline.transform(X_test)\n",
        "\n",
        "X_train_kbest25_pca10_pipeline = get_kbest_pca_pipeline(25, 10)\n",
        "X_train_kbest25_pca10 = X_train_kbest25_pca10_pipeline.fit_transform(X_train, y_train)\n",
        "X_test_kbest25_pca10 = X_train_kbest25_pca10_pipeline.transform(X_test)\n",
        "\n",
        "\n",
        "X2_train, X2_test, y2_train, y2_test = train_test_split(X2, y, test_size=0.2, random_state=random_state)\n",
        "\n",
        "X2_train_kbest100_pipeline = get_kbest_pipeline(100)\n",
        "X2_train_kbest100 = X2_train_kbest100_pipeline.fit_transform(X2_train, y2_train)\n",
        "X2_test_kbest100 = X2_train_kbest100_pipeline.transform(X2_test)\n",
        "\n",
        "X2_train_pca150_pipeline = get_pca_pipeline(150)\n",
        "X2_train_pca150 = X2_train_pca150_pipeline.fit_transform(X2_train, y2_train)\n",
        "X2_test_pca150 = X2_train_pca150_pipeline.transform(X2_test)\n",
        "\n",
        "X2_train_kbest100_pca50_pipeline = get_kbest_pca_pipeline(100, 50)\n",
        "X2_train_kbest100_pca50 = X2_train_kbest100_pca50_pipeline.fit_transform(X2_train, y2_train)\n",
        "X2_test_kbest100_pca50 = X2_train_kbest100_pca50_pipeline.transform(X2_test)"
      ]
    },
    {
      "cell_type": "code",
      "execution_count": 108,
      "id": "b9bfa9e5",
      "metadata": {},
      "outputs": [],
      "source": [
        "def bench(X_matrices):\n",
        "    best_mae = float('inf')\n",
        "    best_algo = None\n",
        "    best_X = None\n",
        "\n",
        "    # Loop over the feature matrices and regression algorithms\n",
        "    for X_train, X_test in X_matrices:\n",
        "        for regressor in regressors:\n",
        "            # Train the regression algorithm on the feature matrix\n",
        "            regressor.fit(X_train, y2_train)\n",
        "            \n",
        "            # Evaluate the performance of the regression algorithm on the test set\n",
        "            y_pred = regressor.predict(X_test)\n",
        "            mae = mean_absolute_error(y_test, y_pred)\n",
        "            \n",
        "            # Check if this is the best algorithm and feature matrix so far\n",
        "            if mae < best_mae:\n",
        "                best_mae = mae\n",
        "                best_algo = regressor.__class__.__name__\n",
        "                best_X = X_train\n",
        "            \n",
        "            # Print the name of the regression algorithm and its performance score\n",
        "            print(regressor.__class__.__name__, \"MAE:\", mae)\n",
        "\n",
        "    print(\"Best algorithm:\", best_algo)\n",
        "    print(\"Best feature matrix:\", best_X)\n",
        "    print(\"Best MAE:\", best_mae)"
      ]
    },
    {
      "cell_type": "code",
      "execution_count": 109,
      "id": "18e9722f",
      "metadata": {},
      "outputs": [],
      "source": [
        "class ConstantRegressor:\n",
        "    def __init__(self, n):\n",
        "        self.n = n\n",
        "\n",
        "    def predict(self, X):\n",
        "        return np.repeat(self.n, X.shape[0])\n",
        "\n",
        "regressors = {\n",
        "    'LinearRegression': LinearRegression(),\n",
        "    'Ridge': Ridge(),\n",
        "    'Lasso': Lasso(),\n",
        "    'ElasticNet': ElasticNet(),\n",
        "    'DecisionTreeRegressor': DecisionTreeRegressor(),\n",
        "    'RandomForestRegressor': RandomForestRegressor(),\n",
        "    'GradientBoostingRegressor': GradientBoostingRegressor(),\n",
        "    'AdaBoostRegressor': AdaBoostRegressor(),\n",
        "    'SVR': SVR(),\n",
        "    'MLPRegressor': MLPRegressor(),\n",
        "}\n",
        "\n",
        "# bench([\n",
        "#     (X2_train_kbest100, X2_test_kbest100), (X2_train_pca150, X2_test_pca150), (X2_train_kbest100_pca50, X2_test_kbest100_pca50)\n",
        "# ])\n",
        "\n",
        "# bench([\n",
        "#     (X_train_kbest25, X_test_kbest25), (X_train_pca25, X_test_pca25), (X_train_kbest25_pca10, X_test_kbest25_pca10)\n",
        "# ])"
      ]
    },
    {
      "cell_type": "code",
      "execution_count": 110,
      "id": "1d1a5f01",
      "metadata": {},
      "outputs": [],
      "source": [
        "best_regressor = regressors[6]"
      ]
    },
    {
      "attachments": {},
      "cell_type": "markdown",
      "id": "db77f01e",
      "metadata": {
        "ExecuteTime": {
          "end_time": "2023-04-25T08:04:06.707223Z",
          "start_time": "2023-04-25T08:04:06.700623Z"
        }
      },
      "source": [
        "# ⭐ Evaluation [using IPL-2023 dataset]"
      ]
    },
    {
      "cell_type": "code",
      "execution_count": 111,
      "id": "e06625ba",
      "metadata": {},
      "outputs": [],
      "source": [
        "def get_test_results(y_test, y_pred):\n",
        "    y_pred = np.round(y_pred).astype(int)\n",
        "\n",
        "    mae = mean_absolute_error(y_test, y_pred)\n",
        "    rmse = np.sqrt(mean_squared_error(y_test, y_pred))\n",
        "    r2 = r2_score(y_test, y_pred)\n",
        "    total_absolute_error = np.abs(y_test - y_pred).sum()\n",
        "\n",
        "    return {\n",
        "        'MAE': mae,\n",
        "        'RMSE': rmse,\n",
        "        'R2': r2,\n",
        "        'Total Absolute Error': total_absolute_error\n",
        "    }"
      ]
    },
    {
      "cell_type": "code",
      "execution_count": 122,
      "id": "895679d0",
      "metadata": {
        "ExecuteTime": {
          "end_time": "2023-04-25T09:42:10.558885Z",
          "start_time": "2023-04-25T09:42:10.510353Z"
        }
      },
      "outputs": [],
      "source": [
        "import os\n",
        "files = os.listdir('./FilesUsed')\n",
        "all_X = []\n",
        "all_y = []\n",
        "for file in files:\n",
        "    if 'test_file_matchid' in file:\n",
        "        match_no = file[-6:-4]\n",
        "\n",
        "        X_file_name = './FilesUsed/' + file\n",
        "        y_file_name = './FilesUsed/' + 'test_file_labels_matchid_' + match_no + '.csv'\n",
        "\n",
        "        X = pd.read_csv(X_file_name).drop(columns=['Unnamed: 0'])\n",
        "        y = pd.read_csv(y_file_name)['actual_runs']\n",
        "\n",
        "        all_X += [X]\n",
        "        all_y += [y]\n",
        "\n",
        "X_IPL23 = pd.concat(all_X, axis=0, ignore_index=True)\n",
        "y_IPL23 = pd.concat(all_y, axis=0, ignore_index=True)"
      ]
    },
    {
      "cell_type": "code",
      "execution_count": 116,
      "id": "99d4e8f2",
      "metadata": {
        "ExecuteTime": {
          "end_time": "2023-04-25T09:42:10.579259Z",
          "start_time": "2023-04-25T09:42:10.566540Z"
        }
      },
      "outputs": [],
      "source": [
        "X_IPL23.innings = X_IPL23.innings.replace({1: 0, 2: 1})\n",
        "\n",
        "X_IPL23['batsmen'] = [x.split(\",\") for x in X_IPL23['batsmen']]\n",
        "X_IPL23['bowlers'] = [x.split(\",\") for x in X_IPL23['bowlers']]\n",
        "\n",
        "X_IPL23['count_batsmen'] = [len(x) for x in X_IPL23['batsmen']]\n",
        "X_IPL23['count_bowlers'] = [len(x) for x in X_IPL23['bowlers']]\n",
        "\n",
        "X_IPL23 = X_IPL23[\n",
        "    ['venue', 'innings', 'batting_team', 'bowling_team',\n",
        "         'batsmen', 'bowlers', 'count_batsmen', 'count_bowlers']\n",
        "]"
      ]
    },
    {
      "cell_type": "code",
      "execution_count": 118,
      "id": "7e1f42af",
      "metadata": {
        "ExecuteTime": {
          "end_time": "2023-04-25T09:42:10.596463Z",
          "start_time": "2023-04-25T09:42:10.588263Z"
        },
        "scrolled": false
      },
      "outputs": [
        {
          "data": {
            "text/plain": [
              "array([], dtype=object)"
            ]
          },
          "execution_count": 118,
          "metadata": {},
          "output_type": "execute_result"
        }
      ],
      "source": [
        "ambiguous_venues = np.setdiff1d(\n",
        "    X_IPL23.venue.unique(), list(venue_mapping_normal.keys()))\n",
        "ambiguous_venues_mapping = {}\n",
        "for venue in ambiguous_venues:\n",
        "    venue_kebab_case = to_kebab_case(venue)\n",
        "    if venue_kebab_case in venue_mapping_kebab:\n",
        "        ambiguous_venues_mapping[venue] = venue_mapping_kebab[venue_kebab_case]\n",
        "    else:\n",
        "        venue_lower = venue.lower()\n",
        "        for tag in venue_mapping_tags:\n",
        "            if tag in venue_lower:\n",
        "                ambiguous_venues_mapping[venue] = venue_mapping_tags[tag]\n",
        "\n",
        "venue_mapping_final = {**venue_mapping_normal, **ambiguous_venues_mapping}\n",
        "np.setdiff1d(X_IPL23.venue.unique(), list(venue_mapping_final.keys()))"
      ]
    },
    {
      "cell_type": "code",
      "execution_count": 119,
      "id": "ce7539fb",
      "metadata": {
        "ExecuteTime": {
          "end_time": "2023-04-25T09:42:10.608199Z",
          "start_time": "2023-04-25T09:42:10.598282Z"
        }
      },
      "outputs": [],
      "source": [
        "X_IPL23.venue = X_IPL23.venue.map(venue_mapping_final).fillna('Other').replace({\n",
        "    'Barsapara Cricket Stadium': 'Other',\n",
        "    'Bharat Ratna Shri Atal Bihari Vajpayee Ekana Cricket Stadium': 'Other'\n",
        "})"
      ]
    },
    {
      "cell_type": "code",
      "execution_count": 120,
      "id": "d80cbf4e",
      "metadata": {
        "ExecuteTime": {
          "end_time": "2023-04-25T09:42:10.625387Z",
          "start_time": "2023-04-25T09:42:10.608199Z"
        },
        "scrolled": false
      },
      "outputs": [
        {
          "data": {
            "text/html": [
              "<div>\n",
              "<style scoped>\n",
              "    .dataframe tbody tr th:only-of-type {\n",
              "        vertical-align: middle;\n",
              "    }\n",
              "\n",
              "    .dataframe tbody tr th {\n",
              "        vertical-align: top;\n",
              "    }\n",
              "\n",
              "    .dataframe thead th {\n",
              "        text-align: right;\n",
              "    }\n",
              "</style>\n",
              "<table border=\"1\" class=\"dataframe\">\n",
              "  <thead>\n",
              "    <tr style=\"text-align: right;\">\n",
              "      <th></th>\n",
              "      <th>venue</th>\n",
              "      <th>innings</th>\n",
              "      <th>batting_team</th>\n",
              "      <th>bowling_team</th>\n",
              "      <th>batsmen</th>\n",
              "      <th>bowlers</th>\n",
              "      <th>count_batsmen</th>\n",
              "      <th>count_bowlers</th>\n",
              "    </tr>\n",
              "  </thead>\n",
              "  <tbody>\n",
              "    <tr>\n",
              "      <th>0</th>\n",
              "      <td>M Chinnaswamy Stadium</td>\n",
              "      <td>0</td>\n",
              "      <td>Royal Challengers Bangalore</td>\n",
              "      <td>Delhi Capitals</td>\n",
              "      <td>[F du Plessis,  V Kohli,  MK Lomror]</td>\n",
              "      <td>[A Nortje,  AR Patel,  Mustafizur Rahman,  MR ...</td>\n",
              "      <td>3</td>\n",
              "      <td>5</td>\n",
              "    </tr>\n",
              "    <tr>\n",
              "      <th>1</th>\n",
              "      <td>M Chinnaswamy Stadium</td>\n",
              "      <td>1</td>\n",
              "      <td>Delhi Capitals</td>\n",
              "      <td>Royal Challengers Bangalore</td>\n",
              "      <td>[PP Shaw,  DA Warner,  MR Marsh]</td>\n",
              "      <td>[Mohammed Siraj,   WD Parnell]</td>\n",
              "      <td>3</td>\n",
              "      <td>2</td>\n",
              "    </tr>\n",
              "    <tr>\n",
              "      <th>2</th>\n",
              "      <td>Other</td>\n",
              "      <td>0</td>\n",
              "      <td>Lucknow Super Giants</td>\n",
              "      <td>Punjab Kings</td>\n",
              "      <td>[Kyle Mayers,  KL Rahul]</td>\n",
              "      <td>[SM Curran,  Arshdeep Singh,  Harpreet Brar,  ...</td>\n",
              "      <td>2</td>\n",
              "      <td>4</td>\n",
              "    </tr>\n",
              "    <tr>\n",
              "      <th>3</th>\n",
              "      <td>Other</td>\n",
              "      <td>1</td>\n",
              "      <td>Punjab Kings</td>\n",
              "      <td>Lucknow Super Giants</td>\n",
              "      <td>[Atharva Taide,  DJM Short,  P Simran Singh,  ...</td>\n",
              "      <td>[Yudhvir Singh,  MA Wood,  Avesh Khan,  K Gowt...</td>\n",
              "      <td>4</td>\n",
              "      <td>4</td>\n",
              "    </tr>\n",
              "    <tr>\n",
              "      <th>4</th>\n",
              "      <td>Wankhede Stadium</td>\n",
              "      <td>0</td>\n",
              "      <td>Kolkata Knight Riders</td>\n",
              "      <td>Mumbai Indians</td>\n",
              "      <td>[Rahmanullah Gurbaz,  N Jagadeesan,  Venkatesh...</td>\n",
              "      <td>[Arjun Tendulkar,  Cameron Green,  Duan jansen...</td>\n",
              "      <td>4</td>\n",
              "      <td>4</td>\n",
              "    </tr>\n",
              "    <tr>\n",
              "      <th>5</th>\n",
              "      <td>Wankhede Stadium</td>\n",
              "      <td>1</td>\n",
              "      <td>Mumbai Indians</td>\n",
              "      <td>Kolkata Knight Riders</td>\n",
              "      <td>[RG Sharma,  Ishan Kishan,  SA Yadav]</td>\n",
              "      <td>[Arjun Tendulkar,  Cameron Green,  Duan jansen...</td>\n",
              "      <td>3</td>\n",
              "      <td>4</td>\n",
              "    </tr>\n",
              "    <tr>\n",
              "      <th>6</th>\n",
              "      <td>Narendra Modi Stadium</td>\n",
              "      <td>0</td>\n",
              "      <td>Gujarat Titans</td>\n",
              "      <td>Rajasthan Royals</td>\n",
              "      <td>[Shubman Gill,  WP Saha,  B Sai Sudarshan,  HH...</td>\n",
              "      <td>[TA Boult,  Sandeep Sharma,  A Zampa,  R Ashwin]</td>\n",
              "      <td>4</td>\n",
              "      <td>4</td>\n",
              "    </tr>\n",
              "    <tr>\n",
              "      <th>7</th>\n",
              "      <td>Narendra Modi Stadium</td>\n",
              "      <td>1</td>\n",
              "      <td>Rajasthan Royals</td>\n",
              "      <td>Gujarat Titans</td>\n",
              "      <td>[YBK Jaiswal,  JC Buttler,  D Padikkal,  SV Sa...</td>\n",
              "      <td>[Mohammed Shami,  HH Pandya]</td>\n",
              "      <td>4</td>\n",
              "      <td>2</td>\n",
              "    </tr>\n",
              "    <tr>\n",
              "      <th>8</th>\n",
              "      <td>M Chinnaswamy Stadium</td>\n",
              "      <td>0</td>\n",
              "      <td>Chennai Super Kings</td>\n",
              "      <td>Royal Challengers Bangalore</td>\n",
              "      <td>[DP Conway,  RD Gaikwad,  AM Rahane]</td>\n",
              "      <td>[Mohammed Siraj,  WD Parnell,  Vyshak Vijay Ku...</td>\n",
              "      <td>3</td>\n",
              "      <td>3</td>\n",
              "    </tr>\n",
              "    <tr>\n",
              "      <th>9</th>\n",
              "      <td>M Chinnaswamy Stadium</td>\n",
              "      <td>1</td>\n",
              "      <td>Royal Challengers Bangalore</td>\n",
              "      <td>Chennai Super Kings</td>\n",
              "      <td>[V Kohli,  MK Lomror,  F du Plessis,  GJ Maxwell]</td>\n",
              "      <td>[Akash Singh,  TU Deshpande,  M Theekshana]</td>\n",
              "      <td>4</td>\n",
              "      <td>3</td>\n",
              "    </tr>\n",
              "    <tr>\n",
              "      <th>10</th>\n",
              "      <td>Rajiv Gandhi International Stadium</td>\n",
              "      <td>0</td>\n",
              "      <td>Mumbai Indians</td>\n",
              "      <td>Sunrisers Hyderabad</td>\n",
              "      <td>[RG Sharma,  Ishan Kishan,  Cameron Green]</td>\n",
              "      <td>[B Kumar,  M Jansen,  Washington Sundar,  T Na...</td>\n",
              "      <td>3</td>\n",
              "      <td>4</td>\n",
              "    </tr>\n",
              "    <tr>\n",
              "      <th>11</th>\n",
              "      <td>Rajiv Gandhi International Stadium</td>\n",
              "      <td>1</td>\n",
              "      <td>Sunrisers Hyderabad</td>\n",
              "      <td>Mumbai Indians</td>\n",
              "      <td>[Harry Brook,  MA Agarwal,  RA Tripathi,  AK M...</td>\n",
              "      <td>[Arjun Tendulkar,  JP Behrendorff,  RP Meredith]</td>\n",
              "      <td>4</td>\n",
              "      <td>3</td>\n",
              "    </tr>\n",
              "    <tr>\n",
              "      <th>12</th>\n",
              "      <td>Sawai Mansingh Stadium</td>\n",
              "      <td>0</td>\n",
              "      <td>Lucknow Super Giants</td>\n",
              "      <td>Rajasthan Royals</td>\n",
              "      <td>[KL Rahul,  Kyle Mayers]</td>\n",
              "      <td>[TA Boult,  Sandeep Sharma,  R Ashwin]</td>\n",
              "      <td>2</td>\n",
              "      <td>3</td>\n",
              "    </tr>\n",
              "    <tr>\n",
              "      <th>13</th>\n",
              "      <td>Sawai Mansingh Stadium</td>\n",
              "      <td>1</td>\n",
              "      <td>Rajasthan Royals</td>\n",
              "      <td>Lucknow Super Giants</td>\n",
              "      <td>[YBK Jaiswal,  JC Buttler]</td>\n",
              "      <td>[Naveen Ul Haq, Yudhvir Singh,   Avesh Khan]</td>\n",
              "      <td>2</td>\n",
              "      <td>3</td>\n",
              "    </tr>\n",
              "    <tr>\n",
              "      <th>14</th>\n",
              "      <td>Punjab Cricket Association IS Bindra Stadium</td>\n",
              "      <td>0</td>\n",
              "      <td>Royal Challengers Bangalore</td>\n",
              "      <td>Punjab Kings</td>\n",
              "      <td>[F du Plessis,  V Kohli]</td>\n",
              "      <td>[Arshdeep Singh,  Harpreet Brar,  Nathan Ellis...</td>\n",
              "      <td>2</td>\n",
              "      <td>4</td>\n",
              "    </tr>\n",
              "    <tr>\n",
              "      <th>15</th>\n",
              "      <td>Punjab Cricket Association IS Bindra Stadium</td>\n",
              "      <td>1</td>\n",
              "      <td>Punjab Kings</td>\n",
              "      <td>Royal Challengers Bangalore</td>\n",
              "      <td>[Atharva Taide,  DJM Short,  P Simran Singh,  ...</td>\n",
              "      <td>[Mohammed Siraj,  WD Parnell,  PWH de Silva,  ...</td>\n",
              "      <td>6</td>\n",
              "      <td>4</td>\n",
              "    </tr>\n",
              "    <tr>\n",
              "      <th>16</th>\n",
              "      <td>Arun Jaitley Stadium</td>\n",
              "      <td>0</td>\n",
              "      <td>Kolkata Knight Riders</td>\n",
              "      <td>Delhi Capitals</td>\n",
              "      <td>[Litton Das,  JJ Roy,  Venkatesh Iyer,  N Rana...</td>\n",
              "      <td>[I Sharma,  Mukesh Kumar,  A Nortje]</td>\n",
              "      <td>5</td>\n",
              "      <td>3</td>\n",
              "    </tr>\n",
              "    <tr>\n",
              "      <th>17</th>\n",
              "      <td>Arun Jaitley Stadium</td>\n",
              "      <td>1</td>\n",
              "      <td>Delhi Capitals</td>\n",
              "      <td>Kolkata Knight Riders</td>\n",
              "      <td>[PP Shaw,  DA Warner,  MR Marsh]</td>\n",
              "      <td>[UT Yadav,  SP Narine,  AD Russell,  CV Varun,...</td>\n",
              "      <td>3</td>\n",
              "      <td>5</td>\n",
              "    </tr>\n",
              "    <tr>\n",
              "      <th>18</th>\n",
              "      <td>MA Chidambaram Stadium</td>\n",
              "      <td>0</td>\n",
              "      <td>Sunrisers Hyderabad</td>\n",
              "      <td>Chennai Super Kings</td>\n",
              "      <td>[Harry Brook,  Abhishek Sharma,  RA Tripathi]</td>\n",
              "      <td>[Akash Singh,  TU Deshpande,  M Theekshana]</td>\n",
              "      <td>3</td>\n",
              "      <td>3</td>\n",
              "    </tr>\n",
              "    <tr>\n",
              "      <th>19</th>\n",
              "      <td>MA Chidambaram Stadium</td>\n",
              "      <td>1</td>\n",
              "      <td>Chennai Super Kings</td>\n",
              "      <td>Sunrisers Hyderabad</td>\n",
              "      <td>[DP Conway,  RD Gaikwad]</td>\n",
              "      <td>[B Kumar,  M Jansen,  AK Markram]</td>\n",
              "      <td>2</td>\n",
              "      <td>3</td>\n",
              "    </tr>\n",
              "    <tr>\n",
              "      <th>20</th>\n",
              "      <td>Other</td>\n",
              "      <td>0</td>\n",
              "      <td>Gujarat Titans</td>\n",
              "      <td>Lucknow Super Giants</td>\n",
              "      <td>[Shubman Gill,  WP Saha,  HH  Pandya]</td>\n",
              "      <td>[Naveen Ul Haq,  KH Pandya,  Avesh Khan,  Ravi...</td>\n",
              "      <td>3</td>\n",
              "      <td>4</td>\n",
              "    </tr>\n",
              "    <tr>\n",
              "      <th>21</th>\n",
              "      <td>Other</td>\n",
              "      <td>1</td>\n",
              "      <td>Lucknow Super Giants</td>\n",
              "      <td>Gujarat Titans</td>\n",
              "      <td>[KL Rahul,  Kyle Mayers]</td>\n",
              "      <td>[Mohammed Shami,  J Yadav,  Rashid Khan,  MM S...</td>\n",
              "      <td>2</td>\n",
              "      <td>4</td>\n",
              "    </tr>\n",
              "    <tr>\n",
              "      <th>22</th>\n",
              "      <td>Wankhede Stadium</td>\n",
              "      <td>0</td>\n",
              "      <td>Punjab Kings</td>\n",
              "      <td>Mumbai Indians</td>\n",
              "      <td>[Atharva Taide,  DJM Short,  P Simran Singh]</td>\n",
              "      <td>[Arjun Tendulkar,  JP Behrendorff,  Cameron Gr...</td>\n",
              "      <td>3</td>\n",
              "      <td>5</td>\n",
              "    </tr>\n",
              "    <tr>\n",
              "      <th>23</th>\n",
              "      <td>Wankhede Stadium</td>\n",
              "      <td>1</td>\n",
              "      <td>Mumbai Indians</td>\n",
              "      <td>Punjab Kings</td>\n",
              "      <td>[RG Sharma,  Ishan Kishan,  Cameron Green]</td>\n",
              "      <td>[DJM Short,  Arshdeep Singh,  NT Ellis,  SM Cu...</td>\n",
              "      <td>3</td>\n",
              "      <td>5</td>\n",
              "    </tr>\n",
              "    <tr>\n",
              "      <th>24</th>\n",
              "      <td>M Chinnaswamy Stadium</td>\n",
              "      <td>0</td>\n",
              "      <td>Royal Challengers Bangalore</td>\n",
              "      <td>Rajasthan Royals</td>\n",
              "      <td>[F du Plessis,  V Kohli,  Shahbaz Ahmed,  GJ M...</td>\n",
              "      <td>[TA Boult,  Sandeep Sharma,  R Ashwin]</td>\n",
              "      <td>4</td>\n",
              "      <td>3</td>\n",
              "    </tr>\n",
              "    <tr>\n",
              "      <th>25</th>\n",
              "      <td>M Chinnaswamy Stadium</td>\n",
              "      <td>1</td>\n",
              "      <td>Rajasthan Royals</td>\n",
              "      <td>Royal Challengers Bangalore</td>\n",
              "      <td>[JC Buttler,  D Padikkal,  YBK Jaiswal]</td>\n",
              "      <td>[Mohammed Siraj,  DJ Willey,  Vyshak Vijay Kum...</td>\n",
              "      <td>3</td>\n",
              "      <td>4</td>\n",
              "    </tr>\n",
              "    <tr>\n",
              "      <th>26</th>\n",
              "      <td>Eden Gardens</td>\n",
              "      <td>0</td>\n",
              "      <td>Chennai Super Kings</td>\n",
              "      <td>Kolkata Knight Riders</td>\n",
              "      <td>[DP Conway,  RD Gaikwad]</td>\n",
              "      <td>[UT Yadav,  D Wiese,  CV Varun,  K Khejroliya]</td>\n",
              "      <td>2</td>\n",
              "      <td>4</td>\n",
              "    </tr>\n",
              "    <tr>\n",
              "      <th>27</th>\n",
              "      <td>Eden Gardens</td>\n",
              "      <td>1</td>\n",
              "      <td>Kolkata Knight Riders</td>\n",
              "      <td>Chennai Super Kings</td>\n",
              "      <td>[N Jagadeesan,  SP Narine,  Venkatesh Iyer,  N...</td>\n",
              "      <td>[Akash Singh,  TU Deshpande,  M Theekshana]</td>\n",
              "      <td>4</td>\n",
              "      <td>3</td>\n",
              "    </tr>\n",
              "  </tbody>\n",
              "</table>\n",
              "</div>"
            ],
            "text/plain": [
              "                                           venue  innings  \\\n",
              "0                          M Chinnaswamy Stadium        0   \n",
              "1                          M Chinnaswamy Stadium        1   \n",
              "2                                          Other        0   \n",
              "3                                          Other        1   \n",
              "4                               Wankhede Stadium        0   \n",
              "5                               Wankhede Stadium        1   \n",
              "6                          Narendra Modi Stadium        0   \n",
              "7                          Narendra Modi Stadium        1   \n",
              "8                          M Chinnaswamy Stadium        0   \n",
              "9                          M Chinnaswamy Stadium        1   \n",
              "10            Rajiv Gandhi International Stadium        0   \n",
              "11            Rajiv Gandhi International Stadium        1   \n",
              "12                        Sawai Mansingh Stadium        0   \n",
              "13                        Sawai Mansingh Stadium        1   \n",
              "14  Punjab Cricket Association IS Bindra Stadium        0   \n",
              "15  Punjab Cricket Association IS Bindra Stadium        1   \n",
              "16                          Arun Jaitley Stadium        0   \n",
              "17                          Arun Jaitley Stadium        1   \n",
              "18                        MA Chidambaram Stadium        0   \n",
              "19                        MA Chidambaram Stadium        1   \n",
              "20                                         Other        0   \n",
              "21                                         Other        1   \n",
              "22                              Wankhede Stadium        0   \n",
              "23                              Wankhede Stadium        1   \n",
              "24                         M Chinnaswamy Stadium        0   \n",
              "25                         M Chinnaswamy Stadium        1   \n",
              "26                                  Eden Gardens        0   \n",
              "27                                  Eden Gardens        1   \n",
              "\n",
              "                   batting_team                 bowling_team  \\\n",
              "0   Royal Challengers Bangalore               Delhi Capitals   \n",
              "1                Delhi Capitals  Royal Challengers Bangalore   \n",
              "2          Lucknow Super Giants                 Punjab Kings   \n",
              "3                  Punjab Kings         Lucknow Super Giants   \n",
              "4         Kolkata Knight Riders               Mumbai Indians   \n",
              "5                Mumbai Indians        Kolkata Knight Riders   \n",
              "6                Gujarat Titans             Rajasthan Royals   \n",
              "7              Rajasthan Royals               Gujarat Titans   \n",
              "8           Chennai Super Kings  Royal Challengers Bangalore   \n",
              "9   Royal Challengers Bangalore          Chennai Super Kings   \n",
              "10               Mumbai Indians          Sunrisers Hyderabad   \n",
              "11          Sunrisers Hyderabad               Mumbai Indians   \n",
              "12         Lucknow Super Giants             Rajasthan Royals   \n",
              "13             Rajasthan Royals         Lucknow Super Giants   \n",
              "14  Royal Challengers Bangalore                 Punjab Kings   \n",
              "15                 Punjab Kings  Royal Challengers Bangalore   \n",
              "16        Kolkata Knight Riders               Delhi Capitals   \n",
              "17               Delhi Capitals        Kolkata Knight Riders   \n",
              "18          Sunrisers Hyderabad          Chennai Super Kings   \n",
              "19          Chennai Super Kings          Sunrisers Hyderabad   \n",
              "20               Gujarat Titans         Lucknow Super Giants   \n",
              "21         Lucknow Super Giants               Gujarat Titans   \n",
              "22                 Punjab Kings               Mumbai Indians   \n",
              "23               Mumbai Indians                 Punjab Kings   \n",
              "24  Royal Challengers Bangalore             Rajasthan Royals   \n",
              "25             Rajasthan Royals  Royal Challengers Bangalore   \n",
              "26          Chennai Super Kings        Kolkata Knight Riders   \n",
              "27        Kolkata Knight Riders          Chennai Super Kings   \n",
              "\n",
              "                                              batsmen  \\\n",
              "0                [F du Plessis,  V Kohli,  MK Lomror]   \n",
              "1                    [PP Shaw,  DA Warner,  MR Marsh]   \n",
              "2                            [Kyle Mayers,  KL Rahul]   \n",
              "3   [Atharva Taide,  DJM Short,  P Simran Singh,  ...   \n",
              "4   [Rahmanullah Gurbaz,  N Jagadeesan,  Venkatesh...   \n",
              "5               [RG Sharma,  Ishan Kishan,  SA Yadav]   \n",
              "6   [Shubman Gill,  WP Saha,  B Sai Sudarshan,  HH...   \n",
              "7   [YBK Jaiswal,  JC Buttler,  D Padikkal,  SV Sa...   \n",
              "8                [DP Conway,  RD Gaikwad,  AM Rahane]   \n",
              "9   [V Kohli,  MK Lomror,  F du Plessis,  GJ Maxwell]   \n",
              "10         [RG Sharma,  Ishan Kishan,  Cameron Green]   \n",
              "11  [Harry Brook,  MA Agarwal,  RA Tripathi,  AK M...   \n",
              "12                           [KL Rahul,  Kyle Mayers]   \n",
              "13                         [YBK Jaiswal,  JC Buttler]   \n",
              "14                           [F du Plessis,  V Kohli]   \n",
              "15  [Atharva Taide,  DJM Short,  P Simran Singh,  ...   \n",
              "16  [Litton Das,  JJ Roy,  Venkatesh Iyer,  N Rana...   \n",
              "17                   [PP Shaw,  DA Warner,  MR Marsh]   \n",
              "18      [Harry Brook,  Abhishek Sharma,  RA Tripathi]   \n",
              "19                           [DP Conway,  RD Gaikwad]   \n",
              "20              [Shubman Gill,  WP Saha,  HH  Pandya]   \n",
              "21                           [KL Rahul,  Kyle Mayers]   \n",
              "22       [Atharva Taide,  DJM Short,  P Simran Singh]   \n",
              "23         [RG Sharma,  Ishan Kishan,  Cameron Green]   \n",
              "24  [F du Plessis,  V Kohli,  Shahbaz Ahmed,  GJ M...   \n",
              "25            [JC Buttler,  D Padikkal,  YBK Jaiswal]   \n",
              "26                           [DP Conway,  RD Gaikwad]   \n",
              "27  [N Jagadeesan,  SP Narine,  Venkatesh Iyer,  N...   \n",
              "\n",
              "                                              bowlers  count_batsmen  \\\n",
              "0   [A Nortje,  AR Patel,  Mustafizur Rahman,  MR ...              3   \n",
              "1                      [Mohammed Siraj,   WD Parnell]              3   \n",
              "2   [SM Curran,  Arshdeep Singh,  Harpreet Brar,  ...              2   \n",
              "3   [Yudhvir Singh,  MA Wood,  Avesh Khan,  K Gowt...              4   \n",
              "4   [Arjun Tendulkar,  Cameron Green,  Duan jansen...              4   \n",
              "5   [Arjun Tendulkar,  Cameron Green,  Duan jansen...              3   \n",
              "6    [TA Boult,  Sandeep Sharma,  A Zampa,  R Ashwin]              4   \n",
              "7                        [Mohammed Shami,  HH Pandya]              4   \n",
              "8   [Mohammed Siraj,  WD Parnell,  Vyshak Vijay Ku...              3   \n",
              "9         [Akash Singh,  TU Deshpande,  M Theekshana]              4   \n",
              "10  [B Kumar,  M Jansen,  Washington Sundar,  T Na...              3   \n",
              "11   [Arjun Tendulkar,  JP Behrendorff,  RP Meredith]              4   \n",
              "12             [TA Boult,  Sandeep Sharma,  R Ashwin]              2   \n",
              "13       [Naveen Ul Haq, Yudhvir Singh,   Avesh Khan]              2   \n",
              "14  [Arshdeep Singh,  Harpreet Brar,  Nathan Ellis...              2   \n",
              "15  [Mohammed Siraj,  WD Parnell,  PWH de Silva,  ...              6   \n",
              "16               [I Sharma,  Mukesh Kumar,  A Nortje]              5   \n",
              "17  [UT Yadav,  SP Narine,  AD Russell,  CV Varun,...              3   \n",
              "18        [Akash Singh,  TU Deshpande,  M Theekshana]              3   \n",
              "19                  [B Kumar,  M Jansen,  AK Markram]              2   \n",
              "20  [Naveen Ul Haq,  KH Pandya,  Avesh Khan,  Ravi...              3   \n",
              "21  [Mohammed Shami,  J Yadav,  Rashid Khan,  MM S...              2   \n",
              "22  [Arjun Tendulkar,  JP Behrendorff,  Cameron Gr...              3   \n",
              "23  [DJM Short,  Arshdeep Singh,  NT Ellis,  SM Cu...              3   \n",
              "24             [TA Boult,  Sandeep Sharma,  R Ashwin]              4   \n",
              "25  [Mohammed Siraj,  DJ Willey,  Vyshak Vijay Kum...              3   \n",
              "26     [UT Yadav,  D Wiese,  CV Varun,  K Khejroliya]              2   \n",
              "27        [Akash Singh,  TU Deshpande,  M Theekshana]              4   \n",
              "\n",
              "    count_bowlers  \n",
              "0               5  \n",
              "1               2  \n",
              "2               4  \n",
              "3               4  \n",
              "4               4  \n",
              "5               4  \n",
              "6               4  \n",
              "7               2  \n",
              "8               3  \n",
              "9               3  \n",
              "10              4  \n",
              "11              3  \n",
              "12              3  \n",
              "13              3  \n",
              "14              4  \n",
              "15              4  \n",
              "16              3  \n",
              "17              5  \n",
              "18              3  \n",
              "19              3  \n",
              "20              4  \n",
              "21              4  \n",
              "22              5  \n",
              "23              5  \n",
              "24              3  \n",
              "25              4  \n",
              "26              4  \n",
              "27              3  "
            ]
          },
          "execution_count": 120,
          "metadata": {},
          "output_type": "execute_result"
        }
      ],
      "source": [
        "X_IPL23"
      ]
    }
  ],
  "metadata": {
    "kernelspec": {
      "display_name": "Python 3 (ipykernel)",
      "language": "python",
      "name": "python3"
    },
    "language_info": {
      "codemirror_mode": {
        "name": "ipython",
        "version": 3
      },
      "file_extension": ".py",
      "mimetype": "text/x-python",
      "name": "python",
      "nbconvert_exporter": "python",
      "pygments_lexer": "ipython3",
      "version": "3.11.2"
    }
  },
  "nbformat": 4,
  "nbformat_minor": 5
}
