{
 "cells": [
  {
   "cell_type": "markdown",
   "id": "e54f8034",
   "metadata": {},
   "source": [
    "## Importing useful packages and the dataset"
   ]
  },
  {
   "cell_type": "code",
   "execution_count": 170,
   "id": "8871ce76",
   "metadata": {},
   "outputs": [
    {
     "name": "stderr",
     "output_type": "stream",
     "text": [
      "C:\\Users\\Han\\AppData\\Local\\Programs\\Python\\Python39\\lib\\site-packages\\IPython\\core\\interactiveshell.py:3457: DtypeWarning: Columns (1) have mixed types.Specify dtype option on import or set low_memory=False.\n",
      "  exec(code_obj, self.user_global_ns, self.user_ns)\n"
     ]
    }
   ],
   "source": [
    "import pandas as pd\n",
    "import numpy as np\n",
    "from sklearn.compose import ColumnTransformer\n",
    "from sklearn.preprocessing import OneHotEncoder\n",
    "from sklearn.preprocessing import StandardScaler\n",
    "import joblib\n",
    "X_raw=pd.read_csv('all_matches.csv')"
   ]
  },
  {
   "cell_type": "markdown",
   "id": "201602d6",
   "metadata": {},
   "source": [
    "## Data Preprocessing"
   ]
  },
  {
   "cell_type": "code",
   "execution_count": 171,
   "id": "e46af0fd",
   "metadata": {},
   "outputs": [
    {
     "data": {
      "text/html": [
       "<div>\n",
       "<style scoped>\n",
       "    .dataframe tbody tr th:only-of-type {\n",
       "        vertical-align: middle;\n",
       "    }\n",
       "\n",
       "    .dataframe tbody tr th {\n",
       "        vertical-align: top;\n",
       "    }\n",
       "\n",
       "    .dataframe thead th {\n",
       "        text-align: right;\n",
       "    }\n",
       "</style>\n",
       "<table border=\"1\" class=\"dataframe\">\n",
       "  <thead>\n",
       "    <tr style=\"text-align: right;\">\n",
       "      <th></th>\n",
       "      <th>venue</th>\n",
       "      <th>innings</th>\n",
       "      <th>batting_team</th>\n",
       "      <th>bowling_team</th>\n",
       "      <th>NumBatsmen</th>\n",
       "      <th>NumBowlers</th>\n",
       "      <th>Totalruns</th>\n",
       "    </tr>\n",
       "  </thead>\n",
       "  <tbody>\n",
       "    <tr>\n",
       "      <th>0</th>\n",
       "      <td>M.Chinnaswamy Stadium</td>\n",
       "      <td>1</td>\n",
       "      <td>Kolkata Knight Riders</td>\n",
       "      <td>Royal Challengers Bangalore</td>\n",
       "      <td>3</td>\n",
       "      <td>3</td>\n",
       "      <td>61</td>\n",
       "    </tr>\n",
       "    <tr>\n",
       "      <th>1</th>\n",
       "      <td>M.Chinnaswamy Stadium</td>\n",
       "      <td>2</td>\n",
       "      <td>Royal Challengers Bangalore</td>\n",
       "      <td>Kolkata Knight Riders</td>\n",
       "      <td>6</td>\n",
       "      <td>3</td>\n",
       "      <td>26</td>\n",
       "    </tr>\n",
       "    <tr>\n",
       "      <th>2</th>\n",
       "      <td>Arun Jaitley Stadium</td>\n",
       "      <td>1</td>\n",
       "      <td>Rajasthan Royals</td>\n",
       "      <td>Delhi Capitals</td>\n",
       "      <td>4</td>\n",
       "      <td>3</td>\n",
       "      <td>40</td>\n",
       "    </tr>\n",
       "    <tr>\n",
       "      <th>3</th>\n",
       "      <td>Arun Jaitley Stadium</td>\n",
       "      <td>2</td>\n",
       "      <td>Delhi Capitals</td>\n",
       "      <td>Rajasthan Royals</td>\n",
       "      <td>3</td>\n",
       "      <td>3</td>\n",
       "      <td>55</td>\n",
       "    </tr>\n",
       "    <tr>\n",
       "      <th>4</th>\n",
       "      <td>Wankhede Stadium</td>\n",
       "      <td>1</td>\n",
       "      <td>Mumbai Indians</td>\n",
       "      <td>Royal Challengers Bangalore</td>\n",
       "      <td>5</td>\n",
       "      <td>3</td>\n",
       "      <td>47</td>\n",
       "    </tr>\n",
       "    <tr>\n",
       "      <th>...</th>\n",
       "      <td>...</td>\n",
       "      <td>...</td>\n",
       "      <td>...</td>\n",
       "      <td>...</td>\n",
       "      <td>...</td>\n",
       "      <td>...</td>\n",
       "      <td>...</td>\n",
       "    </tr>\n",
       "    <tr>\n",
       "      <th>663</th>\n",
       "      <td>Wankhede Stadium</td>\n",
       "      <td>2</td>\n",
       "      <td>Rajasthan Royals</td>\n",
       "      <td>Kolkata Knight Riders</td>\n",
       "      <td>4</td>\n",
       "      <td>4</td>\n",
       "      <td>50</td>\n",
       "    </tr>\n",
       "    <tr>\n",
       "      <th>664</th>\n",
       "      <td>Wankhede Stadium</td>\n",
       "      <td>1</td>\n",
       "      <td>Chennai Super Kings</td>\n",
       "      <td>Royal Challengers Bangalore</td>\n",
       "      <td>2</td>\n",
       "      <td>4</td>\n",
       "      <td>51</td>\n",
       "    </tr>\n",
       "    <tr>\n",
       "      <th>665</th>\n",
       "      <td>Wankhede Stadium</td>\n",
       "      <td>2</td>\n",
       "      <td>Royal Challengers Bangalore</td>\n",
       "      <td>Chennai Super Kings</td>\n",
       "      <td>4</td>\n",
       "      <td>3</td>\n",
       "      <td>65</td>\n",
       "    </tr>\n",
       "    <tr>\n",
       "      <th>666</th>\n",
       "      <td>MA Chidambaram Stadium</td>\n",
       "      <td>1</td>\n",
       "      <td>Delhi Capitals</td>\n",
       "      <td>Sunrisers Hyderabad</td>\n",
       "      <td>2</td>\n",
       "      <td>4</td>\n",
       "      <td>51</td>\n",
       "    </tr>\n",
       "    <tr>\n",
       "      <th>667</th>\n",
       "      <td>MA Chidambaram Stadium</td>\n",
       "      <td>2</td>\n",
       "      <td>Sunrisers Hyderabad</td>\n",
       "      <td>Delhi Capitals</td>\n",
       "      <td>4</td>\n",
       "      <td>5</td>\n",
       "      <td>56</td>\n",
       "    </tr>\n",
       "  </tbody>\n",
       "</table>\n",
       "<p>668 rows × 7 columns</p>\n",
       "</div>"
      ],
      "text/plain": [
       "                      venue  innings                 batting_team  \\\n",
       "0     M.Chinnaswamy Stadium        1        Kolkata Knight Riders   \n",
       "1     M.Chinnaswamy Stadium        2  Royal Challengers Bangalore   \n",
       "2      Arun Jaitley Stadium        1             Rajasthan Royals   \n",
       "3      Arun Jaitley Stadium        2               Delhi Capitals   \n",
       "4          Wankhede Stadium        1               Mumbai Indians   \n",
       "..                      ...      ...                          ...   \n",
       "663        Wankhede Stadium        2             Rajasthan Royals   \n",
       "664        Wankhede Stadium        1          Chennai Super Kings   \n",
       "665        Wankhede Stadium        2  Royal Challengers Bangalore   \n",
       "666  MA Chidambaram Stadium        1               Delhi Capitals   \n",
       "667  MA Chidambaram Stadium        2          Sunrisers Hyderabad   \n",
       "\n",
       "                    bowling_team  NumBatsmen  NumBowlers  Totalruns  \n",
       "0    Royal Challengers Bangalore           3           3         61  \n",
       "1          Kolkata Knight Riders           6           3         26  \n",
       "2                 Delhi Capitals           4           3         40  \n",
       "3               Rajasthan Royals           3           3         55  \n",
       "4    Royal Challengers Bangalore           5           3         47  \n",
       "..                           ...         ...         ...        ...  \n",
       "663        Kolkata Knight Riders           4           4         50  \n",
       "664  Royal Challengers Bangalore           2           4         51  \n",
       "665          Chennai Super Kings           4           3         65  \n",
       "666          Sunrisers Hyderabad           2           4         51  \n",
       "667               Delhi Capitals           4           5         56  \n",
       "\n",
       "[668 rows x 7 columns]"
      ]
     },
     "execution_count": 171,
     "metadata": {},
     "output_type": "execute_result"
    }
   ],
   "source": [
    "# Selecting useful features\n",
    "X_train=pd.DataFrame()\n",
    "X_train=X_raw.loc[:,['match_id','venue','innings','batting_team','bowling_team','ball','runs_off_bat','extras','striker','non_striker','bowler']]\n",
    "X_train\n",
    "\n",
    "# Kings XI Punjab to Punjab Kings and Delhi Daredevils to Delhi Capitals\n",
    "mapping = {\n",
    "    'Kings XI Punjab' : 'Punjab Kings',\n",
    "    'Delhi Daredevils' : 'Delhi Capitals',\n",
    "    'Kolkata Knight Riders' : 'Kolkata Knight Riders',\n",
    "    \"Delhi Capitals\" : \"Delhi Capitals\",\n",
    "    \"Mumbai Indians\" : \"Mumbai Indians\",\n",
    "    \"Chennai Super Kings\":\"Chennai Super Kings\",\n",
    "    \"Rajasthan Royals\":\"Rajasthan Royals\",\n",
    "    \"Royal Challengers Bangalore\":\"Royal Challengers Bangalore\",\n",
    "    \"Sunrisers Hyderabad\":\"Sunrisers Hyderabad\"\n",
    "}\n",
    "X_train.batting_team=X_train.batting_team.map(mapping)\n",
    "X_train.bowling_team=X_train.bowling_team.map(mapping)\n",
    "\n",
    "# Mapping venues\n",
    "mapping2 = {\n",
    "    \"Wankhede Stadium\":\"Wankhede Stadium\",\n",
    "    \"Wankhede Stadium, Mumbai\":\"Wankhede Stadium\",\n",
    "    \"MA Chidambaram Stadium, Chepauk\":\"MA Chidambaram Stadium\",\n",
    "    \"MA Chidambaram Stadium\":\"MA Chidambaram Stadium\",\n",
    "    \"MA Chidambaram Stadium, Chepauk, Chennai\":\"MA Chidambaram Stadium\",\n",
    "    \"M Chinnaswamy Stadium\":\"M.Chinnaswamy Stadium\",\n",
    "    \"M.Chinnaswamy Stadium\":\"M.Chinnaswamy Stadium\",\n",
    "    \"Eden Gardens\":\"Eden Gardens\",\n",
    "    \"Feroz Shah Kotla\":\"Arun Jaitley Stadium\",\n",
    "    \"Arun Jaitley Stadium\":\"Arun Jaitley Stadium\",\n",
    "    \"Sardar Patel Stadium, Motera\":\"Narendra Modi Stadium\"\n",
    "}\n",
    "X_train.venue=X_train.venue.map(mapping2)\n",
    "\n",
    "# Adding new feature: Totalruns\n",
    "X_train['Totalruns'] = X_train['runs_off_bat'] + X_train['extras']\n",
    "\n",
    "# Selecting first six overs and removing superover innings\n",
    "X_train1=X_train.loc[(X_train.ball < 6.1) & (X_train.innings.isin([1,2]))]\n",
    "\n",
    "# Removing old teams and unwanted venues\n",
    "teams=[\"Delhi Capitals\",\"Kolkata Knight Riders\",\"Mumbai Indians\",\"Chennai Super Kings\",\"Sunrisers Hyderabad\",\"Rajasthan Royals\",\"Punjab Kings\",\"Royal Challengers Bangalore\"]\n",
    "venues=[\"Wankhede Stadium\",\"MA Chidambaram Stadium\",\"M.Chinnaswamy Stadium\",\"Eden Gardens\",\"Arun Jaitley Stadium\",\"Narendra Modi Stadium\"]\n",
    "X_train1=X_train1.loc[(X_train1.batting_team.isin(teams))]\n",
    "X_train1=X_train1.loc[(X_train1.bowling_team.isin(teams))]\n",
    "X_train1=X_train1.loc[(X_train1.venue.isin(venues))]\n",
    "\n",
    "# Grouping by matches,innings,etc and creating dataframe for storing totalruns, batsmen list and bowler list\n",
    "df = X_train1.groupby(['match_id','innings','venue','batting_team','bowling_team'])\n",
    "\n",
    "c1=df.Totalruns.sum()\n",
    "c2=df[\"striker\"].unique()\n",
    "c3=df[\"bowler\"].unique()\n",
    "\n",
    "df1=c1.to_frame(name = 'Totalruns').reset_index()\n",
    "df2=c2.to_frame(name = 'batsmen').reset_index()\n",
    "df3=c3.to_frame(name = 'bowlers').reset_index()\n",
    "\n",
    "dff=df1.merge(df2, how='right', on=['match_id','venue','innings','batting_team','bowling_team'])\n",
    "data=dff.merge(df3, how='right', on=['match_id','venue','innings','batting_team','bowling_team'])\n",
    "\n",
    "#Removing this row as its a mistake\n",
    "index_names = data[ data['Totalruns'] == 2 ].index\n",
    "data.drop(index_names, inplace = True)\n",
    "\n",
    "# Removing match_id as it is just an index\n",
    "del data[\"match_id\"]\n",
    "data.reset_index(drop=True,inplace=True)\n",
    "\n",
    "# Shifting Totalruns to rightmost column and interchanging pos of innings and venue: required output as per convention\n",
    "data = data[[\"venue\", \"innings\", \"batting_team\",\"bowling_team\",\"batsmen\",\"bowlers\",\"Totalruns\"]]\n",
    "\n",
    "\n",
    "\n",
    "\n",
    "\n",
    "\n",
    "#Additional Processing for this level\n",
    "# Taking number of batsmen and no of bowlers as new columns\n",
    "data[\"NumBatsmen\"]=data[\"batsmen\"].apply(lambda x: len(x))\n",
    "data[\"NumBowlers\"]=data[\"bowlers\"].apply(lambda x: len(x))\n",
    "\n",
    "del data[\"batsmen\"]\n",
    "del data[\"bowlers\"]\n",
    "data.reset_index(drop=True,inplace=True)\n",
    "\n",
    "# Shifting Totalruns to rightmost column and interchanging pos of innings and venue: required output as per convention\n",
    "data = data[[\"venue\", \"innings\", \"batting_team\",\"bowling_team\",\"NumBatsmen\",\"NumBowlers\",\"Totalruns\"]]\n",
    "\n",
    "# FINAL DATAFRAME\n",
    "data"
   ]
  },
  {
   "cell_type": "markdown",
   "id": "eea2ed45",
   "metadata": {},
   "source": [
    "## Encoding of categorical inputs and feature scaling"
   ]
  },
  {
   "cell_type": "code",
   "execution_count": 172,
   "id": "53fe455f",
   "metadata": {},
   "outputs": [],
   "source": [
    "X=data.iloc[:,:-1]\n",
    "y=data[\"Totalruns\"]"
   ]
  },
  {
   "cell_type": "code",
   "execution_count": 173,
   "id": "6108da67",
   "metadata": {},
   "outputs": [],
   "source": [
    "ct = ColumnTransformer(transformers=[('encoder', OneHotEncoder(categories=\"auto\"), [0,1,2,3])], remainder='passthrough')\n",
    "Xenc = pd.DataFrame(ct.fit_transform(X).toarray())\n",
    "sc = StandardScaler()\n",
    "Xenc = sc.fit_transform(Xenc)"
   ]
  },
  {
   "cell_type": "code",
   "execution_count": 174,
   "id": "70d9eec0",
   "metadata": {},
   "outputs": [
    {
     "data": {
      "text/plain": [
       "(668, 26)"
      ]
     },
     "execution_count": 174,
     "metadata": {},
     "output_type": "execute_result"
    }
   ],
   "source": [
    "Xenc.shape"
   ]
  },
  {
   "cell_type": "markdown",
   "id": "1776135d",
   "metadata": {},
   "source": [
    "## Train-test split"
   ]
  },
  {
   "cell_type": "code",
   "execution_count": 175,
   "id": "45819393",
   "metadata": {},
   "outputs": [],
   "source": [
    "X = Xenc\n",
    "y = y\n",
    "\n",
    "from sklearn.model_selection import train_test_split\n",
    "X_train, X_test, y_train, y_test = train_test_split(X, y, test_size = 0.2)"
   ]
  },
  {
   "cell_type": "markdown",
   "id": "e6face62",
   "metadata": {},
   "source": [
    "## Helper function"
   ]
  },
  {
   "cell_type": "code",
   "execution_count": 176,
   "id": "b9d47aee",
   "metadata": {},
   "outputs": [],
   "source": [
    "def evaluate(X,y):\n",
    "    y_pred = np.round(regressor.predict(X))\n",
    "    np.set_printoptions(precision=2)\n",
    "    rmse = np.sqrt(np.mean((y-y_pred)**2))\n",
    "    print(\"RMSE: \",rmse)"
   ]
  },
  {
   "cell_type": "markdown",
   "id": "b7f4e92d",
   "metadata": {},
   "source": [
    "## Linear Regression"
   ]
  },
  {
   "cell_type": "code",
   "execution_count": 177,
   "id": "8960c975",
   "metadata": {},
   "outputs": [
    {
     "name": "stdout",
     "output_type": "stream",
     "text": [
      "Train:  RMSE:  10.570877243298396\n",
      "Test:  RMSE:  10.220698927527618\n"
     ]
    }
   ],
   "source": [
    "from sklearn.linear_model import LinearRegression\n",
    "regressor = LinearRegression()\n",
    "regressor.fit(X_train, y_train)\n",
    "print(\"Train: \",end=\" \")\n",
    "evaluate(X_train,y_train)\n",
    "print(\"Test: \",end=\" \")\n",
    "evaluate(X_test,y_test)"
   ]
  },
  {
   "cell_type": "code",
   "execution_count": 178,
   "id": "fedbed25",
   "metadata": {},
   "outputs": [
    {
     "data": {
      "text/plain": [
       "['model1.pkl']"
      ]
     },
     "execution_count": 178,
     "metadata": {},
     "output_type": "execute_result"
    }
   ],
   "source": [
    "model_enc=[regressor,ct,sc]\n",
    "joblib.dump(model_enc, 'model1.pkl')"
   ]
  },
  {
   "cell_type": "markdown",
   "id": "399377a3",
   "metadata": {},
   "source": [
    "## Decision Tree"
   ]
  },
  {
   "cell_type": "code",
   "execution_count": 179,
   "id": "5ca5b758",
   "metadata": {},
   "outputs": [
    {
     "name": "stdout",
     "output_type": "stream",
     "text": [
      "Train:  RMSE:  3.5439984612909976\n",
      "Test:  RMSE:  13.726812198552452\n"
     ]
    }
   ],
   "source": [
    "from sklearn.tree import DecisionTreeRegressor\n",
    "regressor = DecisionTreeRegressor()\n",
    "regressor.fit(X_train, y_train)\n",
    "print(\"Train: \",end=\" \")\n",
    "evaluate(X_train,y_train)\n",
    "print(\"Test: \",end=\" \")\n",
    "evaluate(X_test,y_test)"
   ]
  },
  {
   "cell_type": "code",
   "execution_count": 180,
   "id": "4e61c4b5",
   "metadata": {},
   "outputs": [
    {
     "data": {
      "text/plain": [
       "['model2.pkl']"
      ]
     },
     "execution_count": 180,
     "metadata": {},
     "output_type": "execute_result"
    }
   ],
   "source": [
    "model_enc=[regressor,ct,sc]\n",
    "joblib.dump(model_enc, 'model2.pkl')"
   ]
  },
  {
   "cell_type": "markdown",
   "id": "4ea1359d",
   "metadata": {},
   "source": [
    "## Random Forest Regression"
   ]
  },
  {
   "cell_type": "code",
   "execution_count": 181,
   "id": "13d184e2",
   "metadata": {},
   "outputs": [
    {
     "name": "stdout",
     "output_type": "stream",
     "text": [
      "Train:  RMSE:  5.362513804841542\n",
      "Test:  RMSE:  11.517993710038118\n"
     ]
    }
   ],
   "source": [
    "from sklearn.ensemble import RandomForestRegressor\n",
    "regressor = RandomForestRegressor()\n",
    "regressor.fit(X_train, y_train)\n",
    "print(\"Train: \",end=\" \")\n",
    "evaluate(X_train,y_train)\n",
    "print(\"Test: \",end=\" \")\n",
    "evaluate(X_test,y_test)"
   ]
  },
  {
   "cell_type": "code",
   "execution_count": 182,
   "id": "10b844ca",
   "metadata": {},
   "outputs": [
    {
     "data": {
      "text/plain": [
       "['model3.pkl']"
      ]
     },
     "execution_count": 182,
     "metadata": {},
     "output_type": "execute_result"
    }
   ],
   "source": [
    "model_enc=[regressor,ct,sc]\n",
    "joblib.dump(model_enc, 'model3.pkl')"
   ]
  },
  {
   "cell_type": "markdown",
   "id": "376c609e",
   "metadata": {},
   "source": [
    "## KNN"
   ]
  },
  {
   "cell_type": "code",
   "execution_count": 183,
   "id": "b843915e",
   "metadata": {},
   "outputs": [
    {
     "name": "stdout",
     "output_type": "stream",
     "text": [
      "Train:  RMSE:  10.096352291199777\n",
      "Test:  RMSE:  11.855472947376251\n"
     ]
    }
   ],
   "source": [
    "from sklearn.neighbors import KNeighborsRegressor\n",
    "regressor = KNeighborsRegressor()\n",
    "regressor.fit(X_train, y_train)\n",
    "print(\"Train: \",end=\" \")\n",
    "evaluate(X_train,y_train)\n",
    "print(\"Test: \",end=\" \")\n",
    "evaluate(X_test,y_test)"
   ]
  },
  {
   "cell_type": "code",
   "execution_count": 184,
   "id": "f6bbbe4c",
   "metadata": {},
   "outputs": [
    {
     "data": {
      "text/plain": [
       "['model4.pkl']"
      ]
     },
     "execution_count": 184,
     "metadata": {},
     "output_type": "execute_result"
    }
   ],
   "source": [
    "model_enc=[regressor,ct,sc]\n",
    "joblib.dump(model_enc, 'model4.pkl')"
   ]
  },
  {
   "cell_type": "markdown",
   "id": "07fc21e3",
   "metadata": {},
   "source": [
    "## SVR"
   ]
  },
  {
   "cell_type": "code",
   "execution_count": 189,
   "id": "afc48ebb",
   "metadata": {},
   "outputs": [
    {
     "name": "stdout",
     "output_type": "stream",
     "text": [
      "Train:  RMSE:  10.910943549417565\n",
      "Test:  RMSE:  10.73041429977315\n"
     ]
    }
   ],
   "source": [
    "from sklearn.svm import SVR\n",
    "regressor = SVR()\n",
    "regressor.fit(X_train, y_train)\n",
    "print(\"Train: \",end=\" \")\n",
    "evaluate(X_train,y_train)\n",
    "print(\"Test: \",end=\" \")\n",
    "evaluate(X_test,y_test)"
   ]
  },
  {
   "cell_type": "code",
   "execution_count": 190,
   "id": "8c857d5e",
   "metadata": {},
   "outputs": [
    {
     "data": {
      "text/plain": [
       "['model5.pkl']"
      ]
     },
     "execution_count": 190,
     "metadata": {},
     "output_type": "execute_result"
    }
   ],
   "source": [
    "model_enc=[regressor,ct,sc]\n",
    "joblib.dump(model_enc, 'model5.pkl')"
   ]
  },
  {
   "cell_type": "markdown",
   "id": "f495276e",
   "metadata": {},
   "source": [
    "## XGBoost"
   ]
  },
  {
   "cell_type": "code",
   "execution_count": 191,
   "id": "a7efc8be",
   "metadata": {},
   "outputs": [
    {
     "name": "stdout",
     "output_type": "stream",
     "text": [
      "Requirement already satisfied: xgboost in c:\\users\\han\\appdata\\local\\programs\\python\\python39\\lib\\site-packages (1.6.1)\n",
      "Requirement already satisfied: numpy in c:\\users\\han\\appdata\\local\\programs\\python\\python39\\lib\\site-packages (from xgboost) (1.21.4)\n",
      "Requirement already satisfied: scipy in c:\\users\\han\\appdata\\local\\programs\\python\\python39\\lib\\site-packages (from xgboost) (1.7.3)\n",
      "Note: you may need to restart the kernel to use updated packages.\n"
     ]
    },
    {
     "name": "stderr",
     "output_type": "stream",
     "text": [
      "WARNING: You are using pip version 21.3.1; however, version 22.1.2 is available.\n",
      "You should consider upgrading via the 'C:\\Users\\Han\\AppData\\Local\\Programs\\Python\\Python39\\pythonw.exe -m pip install --upgrade pip' command.\n"
     ]
    }
   ],
   "source": [
    "pip install xgboost"
   ]
  },
  {
   "cell_type": "code",
   "execution_count": 192,
   "id": "fa379e2d",
   "metadata": {},
   "outputs": [
    {
     "name": "stdout",
     "output_type": "stream",
     "text": [
      "Train:  RMSE:  3.89684401258595\n",
      "Test:  RMSE:  13.073557681356716\n"
     ]
    }
   ],
   "source": [
    "import xgboost as xgb\n",
    "regressor = xgb.XGBRegressor()\n",
    "regressor.fit(X_train, y_train)\n",
    "print(\"Train: \",end=\" \")\n",
    "evaluate(X_train,y_train)\n",
    "print(\"Test: \",end=\" \")\n",
    "evaluate(X_test,y_test)"
   ]
  },
  {
   "cell_type": "code",
   "execution_count": 193,
   "id": "4e11acb0",
   "metadata": {},
   "outputs": [
    {
     "data": {
      "text/plain": [
       "['model6.pkl']"
      ]
     },
     "execution_count": 193,
     "metadata": {},
     "output_type": "execute_result"
    }
   ],
   "source": [
    "model_enc=[regressor,ct,sc]\n",
    "joblib.dump(model_enc, 'model6.pkl')"
   ]
  },
  {
   "cell_type": "code",
   "execution_count": null,
   "id": "e0140fac",
   "metadata": {},
   "outputs": [],
   "source": []
  }
 ],
 "metadata": {
  "kernelspec": {
   "display_name": "Python 3 (ipykernel)",
   "language": "python",
   "name": "python3"
  },
  "language_info": {
   "codemirror_mode": {
    "name": "ipython",
    "version": 3
   },
   "file_extension": ".py",
   "mimetype": "text/x-python",
   "name": "python",
   "nbconvert_exporter": "python",
   "pygments_lexer": "ipython3",
   "version": "3.9.9"
  }
 },
 "nbformat": 4,
 "nbformat_minor": 5
}
