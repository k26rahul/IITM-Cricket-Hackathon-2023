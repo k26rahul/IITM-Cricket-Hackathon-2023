{
 "cells": [
  {
   "cell_type": "code",
   "execution_count": 92,
   "id": "6de9b179",
   "metadata": {
    "ExecuteTime": {
     "end_time": "2023-04-21T13:45:10.943291Z",
     "start_time": "2023-04-21T13:45:10.936735Z"
    }
   },
   "outputs": [],
   "source": [
    "import numpy as np\n",
    "import pandas as pd\n",
    "import matplotlib.pyplot as plt\n",
    "from sklearn.model_selection import train_test_split\n",
    "from sklearn.preprocessing import StandardScaler\n",
    "from sklearn.preprocessing import OneHotEncoder\n",
    "from sklearn.compose import ColumnTransformer"
   ]
  },
  {
   "cell_type": "code",
   "execution_count": 93,
   "id": "b688ac99",
   "metadata": {
    "ExecuteTime": {
     "end_time": "2023-04-21T13:45:11.653242Z",
     "start_time": "2023-04-21T13:45:10.948478Z"
    }
   },
   "outputs": [],
   "source": [
    "ball_by_ball = pd.read_csv('./Data/IPL_Ball_by_Ball_2008_2022.csv')\n",
    "matches_result = pd.read_csv('./Data/IPL_Matches_Result_2008_2022.csv')\n",
    "ipl_2023_teams = pd.read_csv('./Data/Ipl_2023 _cricketers - Team name.csv').rename(columns={\n",
    "    'Teams': 'team'\n",
    "})\n",
    "ipl_2023_venues = pd.read_csv('./Data/Ipl_2023 _cricketers - Venue.csv').rename(columns={\n",
    "    'Venue': 'venue'\n",
    "})"
   ]
  },
  {
   "cell_type": "code",
   "execution_count": 94,
   "id": "a6e5b2fc",
   "metadata": {
    "ExecuteTime": {
     "end_time": "2023-04-21T13:45:11.663885Z",
     "start_time": "2023-04-21T13:45:11.655652Z"
    }
   },
   "outputs": [],
   "source": [
    "def log(*args):\n",
    "    print('👉', *args)\n",
    "    "
   ]
  },
  {
   "cell_type": "code",
   "execution_count": 95,
   "id": "c380454d",
   "metadata": {
    "ExecuteTime": {
     "end_time": "2023-04-21T13:45:11.714356Z",
     "start_time": "2023-04-21T13:45:11.670364Z"
    }
   },
   "outputs": [],
   "source": [
    "def to_kebab_case(string):\n",
    "    return '-'.join(\n",
    "        string.replace(\",\", \"\").replace(\".\", \"\").split()\n",
    "    ).lower()"
   ]
  },
  {
   "cell_type": "markdown",
   "id": "6c4aac11",
   "metadata": {},
   "source": [
    "# Preprocessing "
   ]
  },
  {
   "cell_type": "markdown",
   "id": "a051b045",
   "metadata": {},
   "source": [
    "- ## Change column names, drop unnecessary columns [in ball_by_ball, matches_result]"
   ]
  },
  {
   "cell_type": "code",
   "execution_count": 96,
   "id": "70061bc9",
   "metadata": {
    "ExecuteTime": {
     "end_time": "2023-04-21T13:45:11.769273Z",
     "start_time": "2023-04-21T13:45:11.719523Z"
    }
   },
   "outputs": [],
   "source": [
    "ball_by_ball_orig = ball_by_ball\n",
    "\n",
    "ball_by_ball = ball_by_ball.rename(columns={\n",
    "    'ID': 'match_id',\n",
    "    'ballnumber': 'ball_number',\n",
    "    'non-striker': 'non_striker',\n",
    "    'BattingTeam': 'batting_team',\n",
    "}).loc[:, [\n",
    "    'match_id',\n",
    "    'innings',\n",
    "    'batting_team',\n",
    "    'overs',\n",
    "    'ball_number',\n",
    "    'batter',\n",
    "    'bowler',\n",
    "    'total_run',\n",
    "]]"
   ]
  },
  {
   "cell_type": "code",
   "execution_count": 97,
   "id": "c922c120",
   "metadata": {
    "ExecuteTime": {
     "end_time": "2023-04-21T13:45:11.782639Z",
     "start_time": "2023-04-21T13:45:11.773866Z"
    }
   },
   "outputs": [],
   "source": [
    "matches_result_orig = matches_result\n",
    "\n",
    "matches_result = matches_result.rename(columns={\n",
    "    'ID': 'match_id',\n",
    "    'Team1': 'team_1',\n",
    "    'Team2': 'team_2',\n",
    "    'Venue': 'venue',\n",
    "}).loc[:, [\n",
    "    'match_id',\n",
    "    'team_1',\n",
    "    'team_2',\n",
    "    'venue',\n",
    "]]"
   ]
  },
  {
   "cell_type": "code",
   "execution_count": 98,
   "id": "a989f21a",
   "metadata": {
    "ExecuteTime": {
     "end_time": "2023-04-21T13:45:11.813772Z",
     "start_time": "2023-04-21T13:45:11.785182Z"
    },
    "scrolled": false
   },
   "outputs": [
    {
     "name": "stdout",
     "output_type": "stream",
     "text": [
      "(225954, 17)\n"
     ]
    },
    {
     "data": {
      "text/html": [
       "<div>\n",
       "<style scoped>\n",
       "    .dataframe tbody tr th:only-of-type {\n",
       "        vertical-align: middle;\n",
       "    }\n",
       "\n",
       "    .dataframe tbody tr th {\n",
       "        vertical-align: top;\n",
       "    }\n",
       "\n",
       "    .dataframe thead th {\n",
       "        text-align: right;\n",
       "    }\n",
       "</style>\n",
       "<table border=\"1\" class=\"dataframe\">\n",
       "  <thead>\n",
       "    <tr style=\"text-align: right;\">\n",
       "      <th></th>\n",
       "      <th>ID</th>\n",
       "      <th>innings</th>\n",
       "      <th>overs</th>\n",
       "      <th>ballnumber</th>\n",
       "      <th>batter</th>\n",
       "      <th>bowler</th>\n",
       "      <th>non-striker</th>\n",
       "      <th>extra_type</th>\n",
       "      <th>batsman_run</th>\n",
       "      <th>extras_run</th>\n",
       "      <th>total_run</th>\n",
       "      <th>non_boundary</th>\n",
       "      <th>isWicketDelivery</th>\n",
       "      <th>player_out</th>\n",
       "      <th>kind</th>\n",
       "      <th>fielders_involved</th>\n",
       "      <th>BattingTeam</th>\n",
       "    </tr>\n",
       "  </thead>\n",
       "  <tbody>\n",
       "    <tr>\n",
       "      <th>0</th>\n",
       "      <td>1312200</td>\n",
       "      <td>1</td>\n",
       "      <td>0</td>\n",
       "      <td>1</td>\n",
       "      <td>YBK Jaiswal</td>\n",
       "      <td>Mohammed Shami</td>\n",
       "      <td>JC Buttler</td>\n",
       "      <td>NaN</td>\n",
       "      <td>0</td>\n",
       "      <td>0</td>\n",
       "      <td>0</td>\n",
       "      <td>0</td>\n",
       "      <td>0</td>\n",
       "      <td>NaN</td>\n",
       "      <td>NaN</td>\n",
       "      <td>NaN</td>\n",
       "      <td>Rajasthan Royals</td>\n",
       "    </tr>\n",
       "    <tr>\n",
       "      <th>1</th>\n",
       "      <td>1312200</td>\n",
       "      <td>1</td>\n",
       "      <td>0</td>\n",
       "      <td>2</td>\n",
       "      <td>YBK Jaiswal</td>\n",
       "      <td>Mohammed Shami</td>\n",
       "      <td>JC Buttler</td>\n",
       "      <td>legbyes</td>\n",
       "      <td>0</td>\n",
       "      <td>1</td>\n",
       "      <td>1</td>\n",
       "      <td>0</td>\n",
       "      <td>0</td>\n",
       "      <td>NaN</td>\n",
       "      <td>NaN</td>\n",
       "      <td>NaN</td>\n",
       "      <td>Rajasthan Royals</td>\n",
       "    </tr>\n",
       "    <tr>\n",
       "      <th>2</th>\n",
       "      <td>1312200</td>\n",
       "      <td>1</td>\n",
       "      <td>0</td>\n",
       "      <td>3</td>\n",
       "      <td>JC Buttler</td>\n",
       "      <td>Mohammed Shami</td>\n",
       "      <td>YBK Jaiswal</td>\n",
       "      <td>NaN</td>\n",
       "      <td>1</td>\n",
       "      <td>0</td>\n",
       "      <td>1</td>\n",
       "      <td>0</td>\n",
       "      <td>0</td>\n",
       "      <td>NaN</td>\n",
       "      <td>NaN</td>\n",
       "      <td>NaN</td>\n",
       "      <td>Rajasthan Royals</td>\n",
       "    </tr>\n",
       "    <tr>\n",
       "      <th>3</th>\n",
       "      <td>1312200</td>\n",
       "      <td>1</td>\n",
       "      <td>0</td>\n",
       "      <td>4</td>\n",
       "      <td>YBK Jaiswal</td>\n",
       "      <td>Mohammed Shami</td>\n",
       "      <td>JC Buttler</td>\n",
       "      <td>NaN</td>\n",
       "      <td>0</td>\n",
       "      <td>0</td>\n",
       "      <td>0</td>\n",
       "      <td>0</td>\n",
       "      <td>0</td>\n",
       "      <td>NaN</td>\n",
       "      <td>NaN</td>\n",
       "      <td>NaN</td>\n",
       "      <td>Rajasthan Royals</td>\n",
       "    </tr>\n",
       "    <tr>\n",
       "      <th>4</th>\n",
       "      <td>1312200</td>\n",
       "      <td>1</td>\n",
       "      <td>0</td>\n",
       "      <td>5</td>\n",
       "      <td>YBK Jaiswal</td>\n",
       "      <td>Mohammed Shami</td>\n",
       "      <td>JC Buttler</td>\n",
       "      <td>NaN</td>\n",
       "      <td>0</td>\n",
       "      <td>0</td>\n",
       "      <td>0</td>\n",
       "      <td>0</td>\n",
       "      <td>0</td>\n",
       "      <td>NaN</td>\n",
       "      <td>NaN</td>\n",
       "      <td>NaN</td>\n",
       "      <td>Rajasthan Royals</td>\n",
       "    </tr>\n",
       "  </tbody>\n",
       "</table>\n",
       "</div>"
      ],
      "text/plain": [
       "        ID  innings  overs  ballnumber       batter          bowler  \\\n",
       "0  1312200        1      0           1  YBK Jaiswal  Mohammed Shami   \n",
       "1  1312200        1      0           2  YBK Jaiswal  Mohammed Shami   \n",
       "2  1312200        1      0           3   JC Buttler  Mohammed Shami   \n",
       "3  1312200        1      0           4  YBK Jaiswal  Mohammed Shami   \n",
       "4  1312200        1      0           5  YBK Jaiswal  Mohammed Shami   \n",
       "\n",
       "   non-striker extra_type  batsman_run  extras_run  total_run  non_boundary  \\\n",
       "0   JC Buttler        NaN            0           0          0             0   \n",
       "1   JC Buttler    legbyes            0           1          1             0   \n",
       "2  YBK Jaiswal        NaN            1           0          1             0   \n",
       "3   JC Buttler        NaN            0           0          0             0   \n",
       "4   JC Buttler        NaN            0           0          0             0   \n",
       "\n",
       "   isWicketDelivery player_out kind fielders_involved       BattingTeam  \n",
       "0                 0        NaN  NaN               NaN  Rajasthan Royals  \n",
       "1                 0        NaN  NaN               NaN  Rajasthan Royals  \n",
       "2                 0        NaN  NaN               NaN  Rajasthan Royals  \n",
       "3                 0        NaN  NaN               NaN  Rajasthan Royals  \n",
       "4                 0        NaN  NaN               NaN  Rajasthan Royals  "
      ]
     },
     "execution_count": 98,
     "metadata": {},
     "output_type": "execute_result"
    }
   ],
   "source": [
    "print(ball_by_ball_orig.shape)\n",
    "ball_by_ball_orig.head()"
   ]
  },
  {
   "cell_type": "code",
   "execution_count": 99,
   "id": "7a7fefad",
   "metadata": {
    "ExecuteTime": {
     "end_time": "2023-04-21T13:45:11.850566Z",
     "start_time": "2023-04-21T13:45:11.819303Z"
    },
    "scrolled": false
   },
   "outputs": [
    {
     "name": "stdout",
     "output_type": "stream",
     "text": [
      "(950, 20)\n"
     ]
    },
    {
     "data": {
      "text/html": [
       "<div>\n",
       "<style scoped>\n",
       "    .dataframe tbody tr th:only-of-type {\n",
       "        vertical-align: middle;\n",
       "    }\n",
       "\n",
       "    .dataframe tbody tr th {\n",
       "        vertical-align: top;\n",
       "    }\n",
       "\n",
       "    .dataframe thead th {\n",
       "        text-align: right;\n",
       "    }\n",
       "</style>\n",
       "<table border=\"1\" class=\"dataframe\">\n",
       "  <thead>\n",
       "    <tr style=\"text-align: right;\">\n",
       "      <th></th>\n",
       "      <th>ID</th>\n",
       "      <th>City</th>\n",
       "      <th>Date</th>\n",
       "      <th>Season</th>\n",
       "      <th>MatchNumber</th>\n",
       "      <th>Team1</th>\n",
       "      <th>Team2</th>\n",
       "      <th>Venue</th>\n",
       "      <th>TossWinner</th>\n",
       "      <th>TossDecision</th>\n",
       "      <th>SuperOver</th>\n",
       "      <th>WinningTeam</th>\n",
       "      <th>WonBy</th>\n",
       "      <th>Margin</th>\n",
       "      <th>method</th>\n",
       "      <th>Player_of_Match</th>\n",
       "      <th>Team1Players</th>\n",
       "      <th>Team2Players</th>\n",
       "      <th>Umpire1</th>\n",
       "      <th>Umpire2</th>\n",
       "    </tr>\n",
       "  </thead>\n",
       "  <tbody>\n",
       "    <tr>\n",
       "      <th>0</th>\n",
       "      <td>1312200</td>\n",
       "      <td>Ahmedabad</td>\n",
       "      <td>2022-05-29</td>\n",
       "      <td>2022</td>\n",
       "      <td>Final</td>\n",
       "      <td>Rajasthan Royals</td>\n",
       "      <td>Gujarat Titans</td>\n",
       "      <td>Narendra Modi Stadium, Ahmedabad</td>\n",
       "      <td>Rajasthan Royals</td>\n",
       "      <td>bat</td>\n",
       "      <td>N</td>\n",
       "      <td>Gujarat Titans</td>\n",
       "      <td>Wickets</td>\n",
       "      <td>7.0</td>\n",
       "      <td>NaN</td>\n",
       "      <td>HH Pandya</td>\n",
       "      <td>['YBK Jaiswal', 'JC Buttler', 'SV Samson', 'D ...</td>\n",
       "      <td>['WP Saha', 'Shubman Gill', 'MS Wade', 'HH Pan...</td>\n",
       "      <td>CB Gaffaney</td>\n",
       "      <td>Nitin Menon</td>\n",
       "    </tr>\n",
       "    <tr>\n",
       "      <th>1</th>\n",
       "      <td>1312199</td>\n",
       "      <td>Ahmedabad</td>\n",
       "      <td>2022-05-27</td>\n",
       "      <td>2022</td>\n",
       "      <td>Qualifier 2</td>\n",
       "      <td>Royal Challengers Bangalore</td>\n",
       "      <td>Rajasthan Royals</td>\n",
       "      <td>Narendra Modi Stadium, Ahmedabad</td>\n",
       "      <td>Rajasthan Royals</td>\n",
       "      <td>field</td>\n",
       "      <td>N</td>\n",
       "      <td>Rajasthan Royals</td>\n",
       "      <td>Wickets</td>\n",
       "      <td>7.0</td>\n",
       "      <td>NaN</td>\n",
       "      <td>JC Buttler</td>\n",
       "      <td>['V Kohli', 'F du Plessis', 'RM Patidar', 'GJ ...</td>\n",
       "      <td>['YBK Jaiswal', 'JC Buttler', 'SV Samson', 'D ...</td>\n",
       "      <td>CB Gaffaney</td>\n",
       "      <td>Nitin Menon</td>\n",
       "    </tr>\n",
       "    <tr>\n",
       "      <th>2</th>\n",
       "      <td>1312198</td>\n",
       "      <td>Kolkata</td>\n",
       "      <td>2022-05-25</td>\n",
       "      <td>2022</td>\n",
       "      <td>Eliminator</td>\n",
       "      <td>Royal Challengers Bangalore</td>\n",
       "      <td>Lucknow Super Giants</td>\n",
       "      <td>Eden Gardens, Kolkata</td>\n",
       "      <td>Lucknow Super Giants</td>\n",
       "      <td>field</td>\n",
       "      <td>N</td>\n",
       "      <td>Royal Challengers Bangalore</td>\n",
       "      <td>Runs</td>\n",
       "      <td>14.0</td>\n",
       "      <td>NaN</td>\n",
       "      <td>RM Patidar</td>\n",
       "      <td>['V Kohli', 'F du Plessis', 'RM Patidar', 'GJ ...</td>\n",
       "      <td>['Q de Kock', 'KL Rahul', 'M Vohra', 'DJ Hooda...</td>\n",
       "      <td>J Madanagopal</td>\n",
       "      <td>MA Gough</td>\n",
       "    </tr>\n",
       "    <tr>\n",
       "      <th>3</th>\n",
       "      <td>1312197</td>\n",
       "      <td>Kolkata</td>\n",
       "      <td>2022-05-24</td>\n",
       "      <td>2022</td>\n",
       "      <td>Qualifier 1</td>\n",
       "      <td>Rajasthan Royals</td>\n",
       "      <td>Gujarat Titans</td>\n",
       "      <td>Eden Gardens, Kolkata</td>\n",
       "      <td>Gujarat Titans</td>\n",
       "      <td>field</td>\n",
       "      <td>N</td>\n",
       "      <td>Gujarat Titans</td>\n",
       "      <td>Wickets</td>\n",
       "      <td>7.0</td>\n",
       "      <td>NaN</td>\n",
       "      <td>DA Miller</td>\n",
       "      <td>['YBK Jaiswal', 'JC Buttler', 'SV Samson', 'D ...</td>\n",
       "      <td>['WP Saha', 'Shubman Gill', 'MS Wade', 'HH Pan...</td>\n",
       "      <td>BNJ Oxenford</td>\n",
       "      <td>VK Sharma</td>\n",
       "    </tr>\n",
       "    <tr>\n",
       "      <th>4</th>\n",
       "      <td>1304116</td>\n",
       "      <td>Mumbai</td>\n",
       "      <td>2022-05-22</td>\n",
       "      <td>2022</td>\n",
       "      <td>70</td>\n",
       "      <td>Sunrisers Hyderabad</td>\n",
       "      <td>Punjab Kings</td>\n",
       "      <td>Wankhede Stadium, Mumbai</td>\n",
       "      <td>Sunrisers Hyderabad</td>\n",
       "      <td>bat</td>\n",
       "      <td>N</td>\n",
       "      <td>Punjab Kings</td>\n",
       "      <td>Wickets</td>\n",
       "      <td>5.0</td>\n",
       "      <td>NaN</td>\n",
       "      <td>Harpreet Brar</td>\n",
       "      <td>['PK Garg', 'Abhishek Sharma', 'RA Tripathi', ...</td>\n",
       "      <td>['JM Bairstow', 'S Dhawan', 'M Shahrukh Khan',...</td>\n",
       "      <td>AK Chaudhary</td>\n",
       "      <td>NA Patwardhan</td>\n",
       "    </tr>\n",
       "  </tbody>\n",
       "</table>\n",
       "</div>"
      ],
      "text/plain": [
       "        ID       City        Date Season  MatchNumber  \\\n",
       "0  1312200  Ahmedabad  2022-05-29   2022        Final   \n",
       "1  1312199  Ahmedabad  2022-05-27   2022  Qualifier 2   \n",
       "2  1312198    Kolkata  2022-05-25   2022   Eliminator   \n",
       "3  1312197    Kolkata  2022-05-24   2022  Qualifier 1   \n",
       "4  1304116     Mumbai  2022-05-22   2022           70   \n",
       "\n",
       "                         Team1                 Team2  \\\n",
       "0             Rajasthan Royals        Gujarat Titans   \n",
       "1  Royal Challengers Bangalore      Rajasthan Royals   \n",
       "2  Royal Challengers Bangalore  Lucknow Super Giants   \n",
       "3             Rajasthan Royals        Gujarat Titans   \n",
       "4          Sunrisers Hyderabad          Punjab Kings   \n",
       "\n",
       "                              Venue            TossWinner TossDecision  \\\n",
       "0  Narendra Modi Stadium, Ahmedabad      Rajasthan Royals          bat   \n",
       "1  Narendra Modi Stadium, Ahmedabad      Rajasthan Royals        field   \n",
       "2             Eden Gardens, Kolkata  Lucknow Super Giants        field   \n",
       "3             Eden Gardens, Kolkata        Gujarat Titans        field   \n",
       "4          Wankhede Stadium, Mumbai   Sunrisers Hyderabad          bat   \n",
       "\n",
       "  SuperOver                  WinningTeam    WonBy  Margin method  \\\n",
       "0         N               Gujarat Titans  Wickets     7.0    NaN   \n",
       "1         N             Rajasthan Royals  Wickets     7.0    NaN   \n",
       "2         N  Royal Challengers Bangalore     Runs    14.0    NaN   \n",
       "3         N               Gujarat Titans  Wickets     7.0    NaN   \n",
       "4         N                 Punjab Kings  Wickets     5.0    NaN   \n",
       "\n",
       "  Player_of_Match                                       Team1Players  \\\n",
       "0       HH Pandya  ['YBK Jaiswal', 'JC Buttler', 'SV Samson', 'D ...   \n",
       "1      JC Buttler  ['V Kohli', 'F du Plessis', 'RM Patidar', 'GJ ...   \n",
       "2      RM Patidar  ['V Kohli', 'F du Plessis', 'RM Patidar', 'GJ ...   \n",
       "3       DA Miller  ['YBK Jaiswal', 'JC Buttler', 'SV Samson', 'D ...   \n",
       "4   Harpreet Brar  ['PK Garg', 'Abhishek Sharma', 'RA Tripathi', ...   \n",
       "\n",
       "                                        Team2Players        Umpire1  \\\n",
       "0  ['WP Saha', 'Shubman Gill', 'MS Wade', 'HH Pan...    CB Gaffaney   \n",
       "1  ['YBK Jaiswal', 'JC Buttler', 'SV Samson', 'D ...    CB Gaffaney   \n",
       "2  ['Q de Kock', 'KL Rahul', 'M Vohra', 'DJ Hooda...  J Madanagopal   \n",
       "3  ['WP Saha', 'Shubman Gill', 'MS Wade', 'HH Pan...   BNJ Oxenford   \n",
       "4  ['JM Bairstow', 'S Dhawan', 'M Shahrukh Khan',...   AK Chaudhary   \n",
       "\n",
       "         Umpire2  \n",
       "0    Nitin Menon  \n",
       "1    Nitin Menon  \n",
       "2       MA Gough  \n",
       "3      VK Sharma  \n",
       "4  NA Patwardhan  "
      ]
     },
     "execution_count": 99,
     "metadata": {},
     "output_type": "execute_result"
    }
   ],
   "source": [
    "print(matches_result_orig.shape)\n",
    "matches_result_orig.head()"
   ]
  },
  {
   "cell_type": "code",
   "execution_count": 100,
   "id": "19508bc4",
   "metadata": {
    "ExecuteTime": {
     "end_time": "2023-04-21T13:45:11.872960Z",
     "start_time": "2023-04-21T13:45:11.853574Z"
    },
    "scrolled": true
   },
   "outputs": [
    {
     "name": "stdout",
     "output_type": "stream",
     "text": [
      "(225954, 8)\n"
     ]
    },
    {
     "data": {
      "text/html": [
       "<div>\n",
       "<style scoped>\n",
       "    .dataframe tbody tr th:only-of-type {\n",
       "        vertical-align: middle;\n",
       "    }\n",
       "\n",
       "    .dataframe tbody tr th {\n",
       "        vertical-align: top;\n",
       "    }\n",
       "\n",
       "    .dataframe thead th {\n",
       "        text-align: right;\n",
       "    }\n",
       "</style>\n",
       "<table border=\"1\" class=\"dataframe\">\n",
       "  <thead>\n",
       "    <tr style=\"text-align: right;\">\n",
       "      <th></th>\n",
       "      <th>match_id</th>\n",
       "      <th>innings</th>\n",
       "      <th>batting_team</th>\n",
       "      <th>overs</th>\n",
       "      <th>ball_number</th>\n",
       "      <th>batter</th>\n",
       "      <th>bowler</th>\n",
       "      <th>total_run</th>\n",
       "    </tr>\n",
       "  </thead>\n",
       "  <tbody>\n",
       "    <tr>\n",
       "      <th>0</th>\n",
       "      <td>1312200</td>\n",
       "      <td>1</td>\n",
       "      <td>Rajasthan Royals</td>\n",
       "      <td>0</td>\n",
       "      <td>1</td>\n",
       "      <td>YBK Jaiswal</td>\n",
       "      <td>Mohammed Shami</td>\n",
       "      <td>0</td>\n",
       "    </tr>\n",
       "    <tr>\n",
       "      <th>1</th>\n",
       "      <td>1312200</td>\n",
       "      <td>1</td>\n",
       "      <td>Rajasthan Royals</td>\n",
       "      <td>0</td>\n",
       "      <td>2</td>\n",
       "      <td>YBK Jaiswal</td>\n",
       "      <td>Mohammed Shami</td>\n",
       "      <td>1</td>\n",
       "    </tr>\n",
       "    <tr>\n",
       "      <th>2</th>\n",
       "      <td>1312200</td>\n",
       "      <td>1</td>\n",
       "      <td>Rajasthan Royals</td>\n",
       "      <td>0</td>\n",
       "      <td>3</td>\n",
       "      <td>JC Buttler</td>\n",
       "      <td>Mohammed Shami</td>\n",
       "      <td>1</td>\n",
       "    </tr>\n",
       "    <tr>\n",
       "      <th>3</th>\n",
       "      <td>1312200</td>\n",
       "      <td>1</td>\n",
       "      <td>Rajasthan Royals</td>\n",
       "      <td>0</td>\n",
       "      <td>4</td>\n",
       "      <td>YBK Jaiswal</td>\n",
       "      <td>Mohammed Shami</td>\n",
       "      <td>0</td>\n",
       "    </tr>\n",
       "    <tr>\n",
       "      <th>4</th>\n",
       "      <td>1312200</td>\n",
       "      <td>1</td>\n",
       "      <td>Rajasthan Royals</td>\n",
       "      <td>0</td>\n",
       "      <td>5</td>\n",
       "      <td>YBK Jaiswal</td>\n",
       "      <td>Mohammed Shami</td>\n",
       "      <td>0</td>\n",
       "    </tr>\n",
       "  </tbody>\n",
       "</table>\n",
       "</div>"
      ],
      "text/plain": [
       "   match_id  innings      batting_team  overs  ball_number       batter  \\\n",
       "0   1312200        1  Rajasthan Royals      0            1  YBK Jaiswal   \n",
       "1   1312200        1  Rajasthan Royals      0            2  YBK Jaiswal   \n",
       "2   1312200        1  Rajasthan Royals      0            3   JC Buttler   \n",
       "3   1312200        1  Rajasthan Royals      0            4  YBK Jaiswal   \n",
       "4   1312200        1  Rajasthan Royals      0            5  YBK Jaiswal   \n",
       "\n",
       "           bowler  total_run  \n",
       "0  Mohammed Shami          0  \n",
       "1  Mohammed Shami          1  \n",
       "2  Mohammed Shami          1  \n",
       "3  Mohammed Shami          0  \n",
       "4  Mohammed Shami          0  "
      ]
     },
     "execution_count": 100,
     "metadata": {},
     "output_type": "execute_result"
    }
   ],
   "source": [
    "print(ball_by_ball.shape)\n",
    "ball_by_ball.head()"
   ]
  },
  {
   "cell_type": "code",
   "execution_count": 101,
   "id": "fd763dd2",
   "metadata": {
    "ExecuteTime": {
     "end_time": "2023-04-21T13:45:11.895807Z",
     "start_time": "2023-04-21T13:45:11.880757Z"
    },
    "scrolled": true
   },
   "outputs": [
    {
     "name": "stdout",
     "output_type": "stream",
     "text": [
      "(950, 4)\n"
     ]
    },
    {
     "data": {
      "text/html": [
       "<div>\n",
       "<style scoped>\n",
       "    .dataframe tbody tr th:only-of-type {\n",
       "        vertical-align: middle;\n",
       "    }\n",
       "\n",
       "    .dataframe tbody tr th {\n",
       "        vertical-align: top;\n",
       "    }\n",
       "\n",
       "    .dataframe thead th {\n",
       "        text-align: right;\n",
       "    }\n",
       "</style>\n",
       "<table border=\"1\" class=\"dataframe\">\n",
       "  <thead>\n",
       "    <tr style=\"text-align: right;\">\n",
       "      <th></th>\n",
       "      <th>match_id</th>\n",
       "      <th>team_1</th>\n",
       "      <th>team_2</th>\n",
       "      <th>venue</th>\n",
       "    </tr>\n",
       "  </thead>\n",
       "  <tbody>\n",
       "    <tr>\n",
       "      <th>0</th>\n",
       "      <td>1312200</td>\n",
       "      <td>Rajasthan Royals</td>\n",
       "      <td>Gujarat Titans</td>\n",
       "      <td>Narendra Modi Stadium, Ahmedabad</td>\n",
       "    </tr>\n",
       "    <tr>\n",
       "      <th>1</th>\n",
       "      <td>1312199</td>\n",
       "      <td>Royal Challengers Bangalore</td>\n",
       "      <td>Rajasthan Royals</td>\n",
       "      <td>Narendra Modi Stadium, Ahmedabad</td>\n",
       "    </tr>\n",
       "    <tr>\n",
       "      <th>2</th>\n",
       "      <td>1312198</td>\n",
       "      <td>Royal Challengers Bangalore</td>\n",
       "      <td>Lucknow Super Giants</td>\n",
       "      <td>Eden Gardens, Kolkata</td>\n",
       "    </tr>\n",
       "    <tr>\n",
       "      <th>3</th>\n",
       "      <td>1312197</td>\n",
       "      <td>Rajasthan Royals</td>\n",
       "      <td>Gujarat Titans</td>\n",
       "      <td>Eden Gardens, Kolkata</td>\n",
       "    </tr>\n",
       "    <tr>\n",
       "      <th>4</th>\n",
       "      <td>1304116</td>\n",
       "      <td>Sunrisers Hyderabad</td>\n",
       "      <td>Punjab Kings</td>\n",
       "      <td>Wankhede Stadium, Mumbai</td>\n",
       "    </tr>\n",
       "  </tbody>\n",
       "</table>\n",
       "</div>"
      ],
      "text/plain": [
       "   match_id                       team_1                team_2  \\\n",
       "0   1312200             Rajasthan Royals        Gujarat Titans   \n",
       "1   1312199  Royal Challengers Bangalore      Rajasthan Royals   \n",
       "2   1312198  Royal Challengers Bangalore  Lucknow Super Giants   \n",
       "3   1312197             Rajasthan Royals        Gujarat Titans   \n",
       "4   1304116          Sunrisers Hyderabad          Punjab Kings   \n",
       "\n",
       "                              venue  \n",
       "0  Narendra Modi Stadium, Ahmedabad  \n",
       "1  Narendra Modi Stadium, Ahmedabad  \n",
       "2             Eden Gardens, Kolkata  \n",
       "3             Eden Gardens, Kolkata  \n",
       "4          Wankhede Stadium, Mumbai  "
      ]
     },
     "execution_count": 101,
     "metadata": {},
     "output_type": "execute_result"
    }
   ],
   "source": [
    "print(matches_result.shape)\n",
    "matches_result.head()"
   ]
  },
  {
   "cell_type": "code",
   "execution_count": 102,
   "id": "46ff2c0e",
   "metadata": {
    "ExecuteTime": {
     "end_time": "2023-04-21T13:45:12.003189Z",
     "start_time": "2023-04-21T13:45:11.896362Z"
    },
    "scrolled": true
   },
   "outputs": [
    {
     "name": "stdout",
     "output_type": "stream",
     "text": [
      "👉 match_id.nunique: 950\n",
      "👉 batting_team.nunique: 18\n",
      "👉 union1d(batter, bowler).shape: (652,)\n",
      "👉 innings.unique: [1 2 3 4 5 6]\n",
      "👉 overs.unique: [ 0  1  2  3  4  5  6  7  8  9 10 11 12 13 14 15 16 17 18 19]\n"
     ]
    }
   ],
   "source": [
    "log('match_id.nunique:', ball_by_ball.match_id.nunique())\n",
    "log('batting_team.nunique:', ball_by_ball.batting_team.nunique())\n",
    "log('union1d(batter, bowler).shape:', np.union1d(\n",
    "    ball_by_ball.batter.unique(), ball_by_ball.bowler.unique()\n",
    ").shape)\n",
    "log('innings.unique:', ball_by_ball.innings.unique())\n",
    "log('overs.unique:', ball_by_ball.overs.unique())"
   ]
  },
  {
   "cell_type": "code",
   "execution_count": 103,
   "id": "c15191ba",
   "metadata": {
    "ExecuteTime": {
     "end_time": "2023-04-21T13:45:12.016762Z",
     "start_time": "2023-04-21T13:45:12.006728Z"
    }
   },
   "outputs": [
    {
     "name": "stdout",
     "output_type": "stream",
     "text": [
      "👉 match_id.nunique: 950\n",
      "👉 venue.nunique: 49\n",
      "👉 union1d(team_1, team_2).shape: (18,)\n"
     ]
    }
   ],
   "source": [
    "log('match_id.nunique:', matches_result.match_id.nunique())\n",
    "log('venue.nunique:', matches_result.venue.nunique())\n",
    "log('union1d(team_1, team_2).shape:', np.union1d(\n",
    "    matches_result.team_1.unique(), matches_result.team_2.unique()\n",
    ").shape)"
   ]
  },
  {
   "cell_type": "markdown",
   "id": "bfec8f69",
   "metadata": {},
   "source": [
    "- ## Get Venues Mapping"
   ]
  },
  {
   "cell_type": "code",
   "execution_count": 104,
   "id": "72deb040",
   "metadata": {
    "ExecuteTime": {
     "end_time": "2023-04-21T13:45:12.113208Z",
     "start_time": "2023-04-21T13:45:12.016762Z"
    },
    "scrolled": false
   },
   "outputs": [
    {
     "data": {
      "text/html": [
       "<div>\n",
       "<style scoped>\n",
       "    .dataframe tbody tr th:only-of-type {\n",
       "        vertical-align: middle;\n",
       "    }\n",
       "\n",
       "    .dataframe tbody tr th {\n",
       "        vertical-align: top;\n",
       "    }\n",
       "\n",
       "    .dataframe thead th {\n",
       "        text-align: right;\n",
       "    }\n",
       "</style>\n",
       "<table border=\"1\" class=\"dataframe\">\n",
       "  <thead>\n",
       "    <tr style=\"text-align: right;\">\n",
       "      <th></th>\n",
       "      <th></th>\n",
       "      <th>count</th>\n",
       "      <th>unique</th>\n",
       "      <th>top</th>\n",
       "      <th>freq</th>\n",
       "    </tr>\n",
       "    <tr>\n",
       "      <th>City</th>\n",
       "      <th>Venue</th>\n",
       "      <th></th>\n",
       "      <th></th>\n",
       "      <th></th>\n",
       "      <th></th>\n",
       "    </tr>\n",
       "  </thead>\n",
       "  <tbody>\n",
       "    <tr>\n",
       "      <th rowspan=\"2\" valign=\"top\">Abu Dhabi</th>\n",
       "      <th>Sheikh Zayed Stadium</th>\n",
       "      <td>29</td>\n",
       "      <td>1</td>\n",
       "      <td>Sheikh Zayed Stadium</td>\n",
       "      <td>29</td>\n",
       "    </tr>\n",
       "    <tr>\n",
       "      <th>Zayed Cricket Stadium, Abu Dhabi</th>\n",
       "      <td>8</td>\n",
       "      <td>1</td>\n",
       "      <td>Zayed Cricket Stadium, Abu Dhabi</td>\n",
       "      <td>8</td>\n",
       "    </tr>\n",
       "    <tr>\n",
       "      <th rowspan=\"2\" valign=\"top\">Ahmedabad</th>\n",
       "      <th>Narendra Modi Stadium, Ahmedabad</th>\n",
       "      <td>7</td>\n",
       "      <td>1</td>\n",
       "      <td>Narendra Modi Stadium, Ahmedabad</td>\n",
       "      <td>7</td>\n",
       "    </tr>\n",
       "    <tr>\n",
       "      <th>Sardar Patel Stadium, Motera</th>\n",
       "      <td>12</td>\n",
       "      <td>1</td>\n",
       "      <td>Sardar Patel Stadium, Motera</td>\n",
       "      <td>12</td>\n",
       "    </tr>\n",
       "    <tr>\n",
       "      <th>Bangalore</th>\n",
       "      <th>M Chinnaswamy Stadium</th>\n",
       "      <td>65</td>\n",
       "      <td>1</td>\n",
       "      <td>M Chinnaswamy Stadium</td>\n",
       "      <td>65</td>\n",
       "    </tr>\n",
       "    <tr>\n",
       "      <th>Bengaluru</th>\n",
       "      <th>M.Chinnaswamy Stadium</th>\n",
       "      <td>15</td>\n",
       "      <td>1</td>\n",
       "      <td>M.Chinnaswamy Stadium</td>\n",
       "      <td>15</td>\n",
       "    </tr>\n",
       "    <tr>\n",
       "      <th>Bloemfontein</th>\n",
       "      <th>OUTsurance Oval</th>\n",
       "      <td>2</td>\n",
       "      <td>1</td>\n",
       "      <td>OUTsurance Oval</td>\n",
       "      <td>2</td>\n",
       "    </tr>\n",
       "    <tr>\n",
       "      <th>Cape Town</th>\n",
       "      <th>Newlands</th>\n",
       "      <td>7</td>\n",
       "      <td>1</td>\n",
       "      <td>Newlands</td>\n",
       "      <td>7</td>\n",
       "    </tr>\n",
       "    <tr>\n",
       "      <th>Centurion</th>\n",
       "      <th>SuperSport Park</th>\n",
       "      <td>12</td>\n",
       "      <td>1</td>\n",
       "      <td>SuperSport Park</td>\n",
       "      <td>12</td>\n",
       "    </tr>\n",
       "    <tr>\n",
       "      <th rowspan=\"3\" valign=\"top\">Chandigarh</th>\n",
       "      <th>Punjab Cricket Association IS Bindra Stadium</th>\n",
       "      <td>10</td>\n",
       "      <td>1</td>\n",
       "      <td>Punjab Cricket Association IS Bindra Stadium</td>\n",
       "      <td>10</td>\n",
       "    </tr>\n",
       "    <tr>\n",
       "      <th>Punjab Cricket Association IS Bindra Stadium, Mohali</th>\n",
       "      <td>11</td>\n",
       "      <td>1</td>\n",
       "      <td>Punjab Cricket Association IS Bindra Stadium, ...</td>\n",
       "      <td>11</td>\n",
       "    </tr>\n",
       "    <tr>\n",
       "      <th>Punjab Cricket Association Stadium, Mohali</th>\n",
       "      <td>35</td>\n",
       "      <td>1</td>\n",
       "      <td>Punjab Cricket Association Stadium, Mohali</td>\n",
       "      <td>35</td>\n",
       "    </tr>\n",
       "    <tr>\n",
       "      <th rowspan=\"3\" valign=\"top\">Chennai</th>\n",
       "      <th>MA Chidambaram Stadium</th>\n",
       "      <td>9</td>\n",
       "      <td>1</td>\n",
       "      <td>MA Chidambaram Stadium</td>\n",
       "      <td>9</td>\n",
       "    </tr>\n",
       "    <tr>\n",
       "      <th>MA Chidambaram Stadium, Chepauk</th>\n",
       "      <td>48</td>\n",
       "      <td>1</td>\n",
       "      <td>MA Chidambaram Stadium, Chepauk</td>\n",
       "      <td>48</td>\n",
       "    </tr>\n",
       "    <tr>\n",
       "      <th>MA Chidambaram Stadium, Chepauk, Chennai</th>\n",
       "      <td>10</td>\n",
       "      <td>1</td>\n",
       "      <td>MA Chidambaram Stadium, Chepauk, Chennai</td>\n",
       "      <td>10</td>\n",
       "    </tr>\n",
       "    <tr>\n",
       "      <th>Cuttack</th>\n",
       "      <th>Barabati Stadium</th>\n",
       "      <td>7</td>\n",
       "      <td>1</td>\n",
       "      <td>Barabati Stadium</td>\n",
       "      <td>7</td>\n",
       "    </tr>\n",
       "    <tr>\n",
       "      <th rowspan=\"3\" valign=\"top\">Delhi</th>\n",
       "      <th>Arun Jaitley Stadium</th>\n",
       "      <td>14</td>\n",
       "      <td>1</td>\n",
       "      <td>Arun Jaitley Stadium</td>\n",
       "      <td>14</td>\n",
       "    </tr>\n",
       "    <tr>\n",
       "      <th>Arun Jaitley Stadium, Delhi</th>\n",
       "      <td>4</td>\n",
       "      <td>1</td>\n",
       "      <td>Arun Jaitley Stadium, Delhi</td>\n",
       "      <td>4</td>\n",
       "    </tr>\n",
       "    <tr>\n",
       "      <th>Feroz Shah Kotla</th>\n",
       "      <td>60</td>\n",
       "      <td>1</td>\n",
       "      <td>Feroz Shah Kotla</td>\n",
       "      <td>60</td>\n",
       "    </tr>\n",
       "    <tr>\n",
       "      <th>Dharamsala</th>\n",
       "      <th>Himachal Pradesh Cricket Association Stadium</th>\n",
       "      <td>9</td>\n",
       "      <td>1</td>\n",
       "      <td>Himachal Pradesh Cricket Association Stadium</td>\n",
       "      <td>9</td>\n",
       "    </tr>\n",
       "    <tr>\n",
       "      <th>Dubai</th>\n",
       "      <th>Dubai International Cricket Stadium</th>\n",
       "      <td>13</td>\n",
       "      <td>1</td>\n",
       "      <td>Dubai International Cricket Stadium</td>\n",
       "      <td>13</td>\n",
       "    </tr>\n",
       "    <tr>\n",
       "      <th>Durban</th>\n",
       "      <th>Kingsmead</th>\n",
       "      <td>15</td>\n",
       "      <td>1</td>\n",
       "      <td>Kingsmead</td>\n",
       "      <td>15</td>\n",
       "    </tr>\n",
       "    <tr>\n",
       "      <th>East London</th>\n",
       "      <th>Buffalo Park</th>\n",
       "      <td>3</td>\n",
       "      <td>1</td>\n",
       "      <td>Buffalo Park</td>\n",
       "      <td>3</td>\n",
       "    </tr>\n",
       "    <tr>\n",
       "      <th rowspan=\"2\" valign=\"top\">Hyderabad</th>\n",
       "      <th>Rajiv Gandhi International Stadium</th>\n",
       "      <td>15</td>\n",
       "      <td>1</td>\n",
       "      <td>Rajiv Gandhi International Stadium</td>\n",
       "      <td>15</td>\n",
       "    </tr>\n",
       "    <tr>\n",
       "      <th>Rajiv Gandhi International Stadium, Uppal</th>\n",
       "      <td>49</td>\n",
       "      <td>1</td>\n",
       "      <td>Rajiv Gandhi International Stadium, Uppal</td>\n",
       "      <td>49</td>\n",
       "    </tr>\n",
       "    <tr>\n",
       "      <th>Indore</th>\n",
       "      <th>Holkar Cricket Stadium</th>\n",
       "      <td>9</td>\n",
       "      <td>1</td>\n",
       "      <td>Holkar Cricket Stadium</td>\n",
       "      <td>9</td>\n",
       "    </tr>\n",
       "    <tr>\n",
       "      <th>Jaipur</th>\n",
       "      <th>Sawai Mansingh Stadium</th>\n",
       "      <td>47</td>\n",
       "      <td>1</td>\n",
       "      <td>Sawai Mansingh Stadium</td>\n",
       "      <td>47</td>\n",
       "    </tr>\n",
       "    <tr>\n",
       "      <th>Johannesburg</th>\n",
       "      <th>New Wanderers Stadium</th>\n",
       "      <td>8</td>\n",
       "      <td>1</td>\n",
       "      <td>New Wanderers Stadium</td>\n",
       "      <td>8</td>\n",
       "    </tr>\n",
       "    <tr>\n",
       "      <th>Kanpur</th>\n",
       "      <th>Green Park</th>\n",
       "      <td>4</td>\n",
       "      <td>1</td>\n",
       "      <td>Green Park</td>\n",
       "      <td>4</td>\n",
       "    </tr>\n",
       "    <tr>\n",
       "      <th>Kimberley</th>\n",
       "      <th>De Beers Diamond Oval</th>\n",
       "      <td>3</td>\n",
       "      <td>1</td>\n",
       "      <td>De Beers Diamond Oval</td>\n",
       "      <td>3</td>\n",
       "    </tr>\n",
       "    <tr>\n",
       "      <th>Kochi</th>\n",
       "      <th>Nehru Stadium</th>\n",
       "      <td>5</td>\n",
       "      <td>1</td>\n",
       "      <td>Nehru Stadium</td>\n",
       "      <td>5</td>\n",
       "    </tr>\n",
       "    <tr>\n",
       "      <th rowspan=\"2\" valign=\"top\">Kolkata</th>\n",
       "      <th>Eden Gardens</th>\n",
       "      <td>77</td>\n",
       "      <td>1</td>\n",
       "      <td>Eden Gardens</td>\n",
       "      <td>77</td>\n",
       "    </tr>\n",
       "    <tr>\n",
       "      <th>Eden Gardens, Kolkata</th>\n",
       "      <td>2</td>\n",
       "      <td>1</td>\n",
       "      <td>Eden Gardens, Kolkata</td>\n",
       "      <td>2</td>\n",
       "    </tr>\n",
       "    <tr>\n",
       "      <th rowspan=\"6\" valign=\"top\">Mumbai</th>\n",
       "      <th>Brabourne Stadium</th>\n",
       "      <td>10</td>\n",
       "      <td>1</td>\n",
       "      <td>Brabourne Stadium</td>\n",
       "      <td>10</td>\n",
       "    </tr>\n",
       "    <tr>\n",
       "      <th>Brabourne Stadium, Mumbai</th>\n",
       "      <td>17</td>\n",
       "      <td>1</td>\n",
       "      <td>Brabourne Stadium, Mumbai</td>\n",
       "      <td>17</td>\n",
       "    </tr>\n",
       "    <tr>\n",
       "      <th>Dr DY Patil Sports Academy</th>\n",
       "      <td>17</td>\n",
       "      <td>1</td>\n",
       "      <td>Dr DY Patil Sports Academy</td>\n",
       "      <td>17</td>\n",
       "    </tr>\n",
       "    <tr>\n",
       "      <th>Dr DY Patil Sports Academy, Mumbai</th>\n",
       "      <td>11</td>\n",
       "      <td>1</td>\n",
       "      <td>Dr DY Patil Sports Academy, Mumbai</td>\n",
       "      <td>11</td>\n",
       "    </tr>\n",
       "    <tr>\n",
       "      <th>Wankhede Stadium</th>\n",
       "      <td>73</td>\n",
       "      <td>1</td>\n",
       "      <td>Wankhede Stadium</td>\n",
       "      <td>73</td>\n",
       "    </tr>\n",
       "    <tr>\n",
       "      <th>Wankhede Stadium, Mumbai</th>\n",
       "      <td>31</td>\n",
       "      <td>1</td>\n",
       "      <td>Wankhede Stadium, Mumbai</td>\n",
       "      <td>31</td>\n",
       "    </tr>\n",
       "    <tr>\n",
       "      <th>Nagpur</th>\n",
       "      <th>Vidarbha Cricket Association Stadium, Jamtha</th>\n",
       "      <td>3</td>\n",
       "      <td>1</td>\n",
       "      <td>Vidarbha Cricket Association Stadium, Jamtha</td>\n",
       "      <td>3</td>\n",
       "    </tr>\n",
       "    <tr>\n",
       "      <th>Navi Mumbai</th>\n",
       "      <th>Dr DY Patil Sports Academy, Mumbai</th>\n",
       "      <td>9</td>\n",
       "      <td>1</td>\n",
       "      <td>Dr DY Patil Sports Academy, Mumbai</td>\n",
       "      <td>9</td>\n",
       "    </tr>\n",
       "    <tr>\n",
       "      <th>Port Elizabeth</th>\n",
       "      <th>St George's Park</th>\n",
       "      <td>7</td>\n",
       "      <td>1</td>\n",
       "      <td>St George's Park</td>\n",
       "      <td>7</td>\n",
       "    </tr>\n",
       "    <tr>\n",
       "      <th rowspan=\"3\" valign=\"top\">Pune</th>\n",
       "      <th>Maharashtra Cricket Association Stadium</th>\n",
       "      <td>22</td>\n",
       "      <td>1</td>\n",
       "      <td>Maharashtra Cricket Association Stadium</td>\n",
       "      <td>22</td>\n",
       "    </tr>\n",
       "    <tr>\n",
       "      <th>Maharashtra Cricket Association Stadium, Pune</th>\n",
       "      <td>13</td>\n",
       "      <td>1</td>\n",
       "      <td>Maharashtra Cricket Association Stadium, Pune</td>\n",
       "      <td>13</td>\n",
       "    </tr>\n",
       "    <tr>\n",
       "      <th>Subrata Roy Sahara Stadium</th>\n",
       "      <td>16</td>\n",
       "      <td>1</td>\n",
       "      <td>Subrata Roy Sahara Stadium</td>\n",
       "      <td>16</td>\n",
       "    </tr>\n",
       "    <tr>\n",
       "      <th>Raipur</th>\n",
       "      <th>Shaheed Veer Narayan Singh International Stadium</th>\n",
       "      <td>6</td>\n",
       "      <td>1</td>\n",
       "      <td>Shaheed Veer Narayan Singh International Stadium</td>\n",
       "      <td>6</td>\n",
       "    </tr>\n",
       "    <tr>\n",
       "      <th>Rajkot</th>\n",
       "      <th>Saurashtra Cricket Association Stadium</th>\n",
       "      <td>10</td>\n",
       "      <td>1</td>\n",
       "      <td>Saurashtra Cricket Association Stadium</td>\n",
       "      <td>10</td>\n",
       "    </tr>\n",
       "    <tr>\n",
       "      <th>Ranchi</th>\n",
       "      <th>JSCA International Stadium Complex</th>\n",
       "      <td>7</td>\n",
       "      <td>1</td>\n",
       "      <td>JSCA International Stadium Complex</td>\n",
       "      <td>7</td>\n",
       "    </tr>\n",
       "    <tr>\n",
       "      <th>Sharjah</th>\n",
       "      <th>Sharjah Cricket Stadium</th>\n",
       "      <td>10</td>\n",
       "      <td>1</td>\n",
       "      <td>Sharjah Cricket Stadium</td>\n",
       "      <td>10</td>\n",
       "    </tr>\n",
       "    <tr>\n",
       "      <th>Visakhapatnam</th>\n",
       "      <th>Dr. Y.S. Rajasekhara Reddy ACA-VDCA Cricket Stadium</th>\n",
       "      <td>13</td>\n",
       "      <td>1</td>\n",
       "      <td>Dr. Y.S. Rajasekhara Reddy ACA-VDCA Cricket St...</td>\n",
       "      <td>13</td>\n",
       "    </tr>\n",
       "    <tr>\n",
       "      <th rowspan=\"2\" valign=\"top\">NaN</th>\n",
       "      <th>Dubai International Cricket Stadium</th>\n",
       "      <td>33</td>\n",
       "      <td>1</td>\n",
       "      <td>Dubai International Cricket Stadium</td>\n",
       "      <td>33</td>\n",
       "    </tr>\n",
       "    <tr>\n",
       "      <th>Sharjah Cricket Stadium</th>\n",
       "      <td>18</td>\n",
       "      <td>1</td>\n",
       "      <td>Sharjah Cricket Stadium</td>\n",
       "      <td>18</td>\n",
       "    </tr>\n",
       "  </tbody>\n",
       "</table>\n",
       "</div>"
      ],
      "text/plain": [
       "                                                                  count  \\\n",
       "City           Venue                                                      \n",
       "Abu Dhabi      Sheikh Zayed Stadium                                  29   \n",
       "               Zayed Cricket Stadium, Abu Dhabi                       8   \n",
       "Ahmedabad      Narendra Modi Stadium, Ahmedabad                       7   \n",
       "               Sardar Patel Stadium, Motera                          12   \n",
       "Bangalore      M Chinnaswamy Stadium                                 65   \n",
       "Bengaluru      M.Chinnaswamy Stadium                                 15   \n",
       "Bloemfontein   OUTsurance Oval                                        2   \n",
       "Cape Town      Newlands                                               7   \n",
       "Centurion      SuperSport Park                                       12   \n",
       "Chandigarh     Punjab Cricket Association IS Bindra Stadium          10   \n",
       "               Punjab Cricket Association IS Bindra Stadium, M...    11   \n",
       "               Punjab Cricket Association Stadium, Mohali            35   \n",
       "Chennai        MA Chidambaram Stadium                                 9   \n",
       "               MA Chidambaram Stadium, Chepauk                       48   \n",
       "               MA Chidambaram Stadium, Chepauk, Chennai              10   \n",
       "Cuttack        Barabati Stadium                                       7   \n",
       "Delhi          Arun Jaitley Stadium                                  14   \n",
       "               Arun Jaitley Stadium, Delhi                            4   \n",
       "               Feroz Shah Kotla                                      60   \n",
       "Dharamsala     Himachal Pradesh Cricket Association Stadium           9   \n",
       "Dubai          Dubai International Cricket Stadium                   13   \n",
       "Durban         Kingsmead                                             15   \n",
       "East London    Buffalo Park                                           3   \n",
       "Hyderabad      Rajiv Gandhi International Stadium                    15   \n",
       "               Rajiv Gandhi International Stadium, Uppal             49   \n",
       "Indore         Holkar Cricket Stadium                                 9   \n",
       "Jaipur         Sawai Mansingh Stadium                                47   \n",
       "Johannesburg   New Wanderers Stadium                                  8   \n",
       "Kanpur         Green Park                                             4   \n",
       "Kimberley      De Beers Diamond Oval                                  3   \n",
       "Kochi          Nehru Stadium                                          5   \n",
       "Kolkata        Eden Gardens                                          77   \n",
       "               Eden Gardens, Kolkata                                  2   \n",
       "Mumbai         Brabourne Stadium                                     10   \n",
       "               Brabourne Stadium, Mumbai                             17   \n",
       "               Dr DY Patil Sports Academy                            17   \n",
       "               Dr DY Patil Sports Academy, Mumbai                    11   \n",
       "               Wankhede Stadium                                      73   \n",
       "               Wankhede Stadium, Mumbai                              31   \n",
       "Nagpur         Vidarbha Cricket Association Stadium, Jamtha           3   \n",
       "Navi Mumbai    Dr DY Patil Sports Academy, Mumbai                     9   \n",
       "Port Elizabeth St George's Park                                       7   \n",
       "Pune           Maharashtra Cricket Association Stadium               22   \n",
       "               Maharashtra Cricket Association Stadium, Pune         13   \n",
       "               Subrata Roy Sahara Stadium                            16   \n",
       "Raipur         Shaheed Veer Narayan Singh International Stadium       6   \n",
       "Rajkot         Saurashtra Cricket Association Stadium                10   \n",
       "Ranchi         JSCA International Stadium Complex                     7   \n",
       "Sharjah        Sharjah Cricket Stadium                               10   \n",
       "Visakhapatnam  Dr. Y.S. Rajasekhara Reddy ACA-VDCA Cricket Sta...    13   \n",
       "NaN            Dubai International Cricket Stadium                   33   \n",
       "               Sharjah Cricket Stadium                               18   \n",
       "\n",
       "                                                                  unique  \\\n",
       "City           Venue                                                       \n",
       "Abu Dhabi      Sheikh Zayed Stadium                                    1   \n",
       "               Zayed Cricket Stadium, Abu Dhabi                        1   \n",
       "Ahmedabad      Narendra Modi Stadium, Ahmedabad                        1   \n",
       "               Sardar Patel Stadium, Motera                            1   \n",
       "Bangalore      M Chinnaswamy Stadium                                   1   \n",
       "Bengaluru      M.Chinnaswamy Stadium                                   1   \n",
       "Bloemfontein   OUTsurance Oval                                         1   \n",
       "Cape Town      Newlands                                                1   \n",
       "Centurion      SuperSport Park                                         1   \n",
       "Chandigarh     Punjab Cricket Association IS Bindra Stadium            1   \n",
       "               Punjab Cricket Association IS Bindra Stadium, M...      1   \n",
       "               Punjab Cricket Association Stadium, Mohali              1   \n",
       "Chennai        MA Chidambaram Stadium                                  1   \n",
       "               MA Chidambaram Stadium, Chepauk                         1   \n",
       "               MA Chidambaram Stadium, Chepauk, Chennai                1   \n",
       "Cuttack        Barabati Stadium                                        1   \n",
       "Delhi          Arun Jaitley Stadium                                    1   \n",
       "               Arun Jaitley Stadium, Delhi                             1   \n",
       "               Feroz Shah Kotla                                        1   \n",
       "Dharamsala     Himachal Pradesh Cricket Association Stadium            1   \n",
       "Dubai          Dubai International Cricket Stadium                     1   \n",
       "Durban         Kingsmead                                               1   \n",
       "East London    Buffalo Park                                            1   \n",
       "Hyderabad      Rajiv Gandhi International Stadium                      1   \n",
       "               Rajiv Gandhi International Stadium, Uppal               1   \n",
       "Indore         Holkar Cricket Stadium                                  1   \n",
       "Jaipur         Sawai Mansingh Stadium                                  1   \n",
       "Johannesburg   New Wanderers Stadium                                   1   \n",
       "Kanpur         Green Park                                              1   \n",
       "Kimberley      De Beers Diamond Oval                                   1   \n",
       "Kochi          Nehru Stadium                                           1   \n",
       "Kolkata        Eden Gardens                                            1   \n",
       "               Eden Gardens, Kolkata                                   1   \n",
       "Mumbai         Brabourne Stadium                                       1   \n",
       "               Brabourne Stadium, Mumbai                               1   \n",
       "               Dr DY Patil Sports Academy                              1   \n",
       "               Dr DY Patil Sports Academy, Mumbai                      1   \n",
       "               Wankhede Stadium                                        1   \n",
       "               Wankhede Stadium, Mumbai                                1   \n",
       "Nagpur         Vidarbha Cricket Association Stadium, Jamtha            1   \n",
       "Navi Mumbai    Dr DY Patil Sports Academy, Mumbai                      1   \n",
       "Port Elizabeth St George's Park                                        1   \n",
       "Pune           Maharashtra Cricket Association Stadium                 1   \n",
       "               Maharashtra Cricket Association Stadium, Pune           1   \n",
       "               Subrata Roy Sahara Stadium                              1   \n",
       "Raipur         Shaheed Veer Narayan Singh International Stadium        1   \n",
       "Rajkot         Saurashtra Cricket Association Stadium                  1   \n",
       "Ranchi         JSCA International Stadium Complex                      1   \n",
       "Sharjah        Sharjah Cricket Stadium                                 1   \n",
       "Visakhapatnam  Dr. Y.S. Rajasekhara Reddy ACA-VDCA Cricket Sta...      1   \n",
       "NaN            Dubai International Cricket Stadium                     1   \n",
       "               Sharjah Cricket Stadium                                 1   \n",
       "\n",
       "                                                                                                                 top  \\\n",
       "City           Venue                                                                                                   \n",
       "Abu Dhabi      Sheikh Zayed Stadium                                                             Sheikh Zayed Stadium   \n",
       "               Zayed Cricket Stadium, Abu Dhabi                                     Zayed Cricket Stadium, Abu Dhabi   \n",
       "Ahmedabad      Narendra Modi Stadium, Ahmedabad                                     Narendra Modi Stadium, Ahmedabad   \n",
       "               Sardar Patel Stadium, Motera                                             Sardar Patel Stadium, Motera   \n",
       "Bangalore      M Chinnaswamy Stadium                                                           M Chinnaswamy Stadium   \n",
       "Bengaluru      M.Chinnaswamy Stadium                                                           M.Chinnaswamy Stadium   \n",
       "Bloemfontein   OUTsurance Oval                                                                       OUTsurance Oval   \n",
       "Cape Town      Newlands                                                                                     Newlands   \n",
       "Centurion      SuperSport Park                                                                       SuperSport Park   \n",
       "Chandigarh     Punjab Cricket Association IS Bindra Stadium             Punjab Cricket Association IS Bindra Stadium   \n",
       "               Punjab Cricket Association IS Bindra Stadium, M...  Punjab Cricket Association IS Bindra Stadium, ...   \n",
       "               Punjab Cricket Association Stadium, Mohali                 Punjab Cricket Association Stadium, Mohali   \n",
       "Chennai        MA Chidambaram Stadium                                                         MA Chidambaram Stadium   \n",
       "               MA Chidambaram Stadium, Chepauk                                       MA Chidambaram Stadium, Chepauk   \n",
       "               MA Chidambaram Stadium, Chepauk, Chennai                     MA Chidambaram Stadium, Chepauk, Chennai   \n",
       "Cuttack        Barabati Stadium                                                                     Barabati Stadium   \n",
       "Delhi          Arun Jaitley Stadium                                                             Arun Jaitley Stadium   \n",
       "               Arun Jaitley Stadium, Delhi                                               Arun Jaitley Stadium, Delhi   \n",
       "               Feroz Shah Kotla                                                                     Feroz Shah Kotla   \n",
       "Dharamsala     Himachal Pradesh Cricket Association Stadium             Himachal Pradesh Cricket Association Stadium   \n",
       "Dubai          Dubai International Cricket Stadium                               Dubai International Cricket Stadium   \n",
       "Durban         Kingsmead                                                                                   Kingsmead   \n",
       "East London    Buffalo Park                                                                             Buffalo Park   \n",
       "Hyderabad      Rajiv Gandhi International Stadium                                 Rajiv Gandhi International Stadium   \n",
       "               Rajiv Gandhi International Stadium, Uppal                   Rajiv Gandhi International Stadium, Uppal   \n",
       "Indore         Holkar Cricket Stadium                                                         Holkar Cricket Stadium   \n",
       "Jaipur         Sawai Mansingh Stadium                                                         Sawai Mansingh Stadium   \n",
       "Johannesburg   New Wanderers Stadium                                                           New Wanderers Stadium   \n",
       "Kanpur         Green Park                                                                                 Green Park   \n",
       "Kimberley      De Beers Diamond Oval                                                           De Beers Diamond Oval   \n",
       "Kochi          Nehru Stadium                                                                           Nehru Stadium   \n",
       "Kolkata        Eden Gardens                                                                             Eden Gardens   \n",
       "               Eden Gardens, Kolkata                                                           Eden Gardens, Kolkata   \n",
       "Mumbai         Brabourne Stadium                                                                   Brabourne Stadium   \n",
       "               Brabourne Stadium, Mumbai                                                   Brabourne Stadium, Mumbai   \n",
       "               Dr DY Patil Sports Academy                                                 Dr DY Patil Sports Academy   \n",
       "               Dr DY Patil Sports Academy, Mumbai                                 Dr DY Patil Sports Academy, Mumbai   \n",
       "               Wankhede Stadium                                                                     Wankhede Stadium   \n",
       "               Wankhede Stadium, Mumbai                                                     Wankhede Stadium, Mumbai   \n",
       "Nagpur         Vidarbha Cricket Association Stadium, Jamtha             Vidarbha Cricket Association Stadium, Jamtha   \n",
       "Navi Mumbai    Dr DY Patil Sports Academy, Mumbai                                 Dr DY Patil Sports Academy, Mumbai   \n",
       "Port Elizabeth St George's Park                                                                     St George's Park   \n",
       "Pune           Maharashtra Cricket Association Stadium                       Maharashtra Cricket Association Stadium   \n",
       "               Maharashtra Cricket Association Stadium, Pune           Maharashtra Cricket Association Stadium, Pune   \n",
       "               Subrata Roy Sahara Stadium                                                 Subrata Roy Sahara Stadium   \n",
       "Raipur         Shaheed Veer Narayan Singh International Stadium     Shaheed Veer Narayan Singh International Stadium   \n",
       "Rajkot         Saurashtra Cricket Association Stadium                         Saurashtra Cricket Association Stadium   \n",
       "Ranchi         JSCA International Stadium Complex                                 JSCA International Stadium Complex   \n",
       "Sharjah        Sharjah Cricket Stadium                                                       Sharjah Cricket Stadium   \n",
       "Visakhapatnam  Dr. Y.S. Rajasekhara Reddy ACA-VDCA Cricket Sta...  Dr. Y.S. Rajasekhara Reddy ACA-VDCA Cricket St...   \n",
       "NaN            Dubai International Cricket Stadium                               Dubai International Cricket Stadium   \n",
       "               Sharjah Cricket Stadium                                                       Sharjah Cricket Stadium   \n",
       "\n",
       "                                                                  freq  \n",
       "City           Venue                                                    \n",
       "Abu Dhabi      Sheikh Zayed Stadium                                 29  \n",
       "               Zayed Cricket Stadium, Abu Dhabi                      8  \n",
       "Ahmedabad      Narendra Modi Stadium, Ahmedabad                      7  \n",
       "               Sardar Patel Stadium, Motera                         12  \n",
       "Bangalore      M Chinnaswamy Stadium                                65  \n",
       "Bengaluru      M.Chinnaswamy Stadium                                15  \n",
       "Bloemfontein   OUTsurance Oval                                       2  \n",
       "Cape Town      Newlands                                              7  \n",
       "Centurion      SuperSport Park                                      12  \n",
       "Chandigarh     Punjab Cricket Association IS Bindra Stadium         10  \n",
       "               Punjab Cricket Association IS Bindra Stadium, M...   11  \n",
       "               Punjab Cricket Association Stadium, Mohali           35  \n",
       "Chennai        MA Chidambaram Stadium                                9  \n",
       "               MA Chidambaram Stadium, Chepauk                      48  \n",
       "               MA Chidambaram Stadium, Chepauk, Chennai             10  \n",
       "Cuttack        Barabati Stadium                                      7  \n",
       "Delhi          Arun Jaitley Stadium                                 14  \n",
       "               Arun Jaitley Stadium, Delhi                           4  \n",
       "               Feroz Shah Kotla                                     60  \n",
       "Dharamsala     Himachal Pradesh Cricket Association Stadium          9  \n",
       "Dubai          Dubai International Cricket Stadium                  13  \n",
       "Durban         Kingsmead                                            15  \n",
       "East London    Buffalo Park                                          3  \n",
       "Hyderabad      Rajiv Gandhi International Stadium                   15  \n",
       "               Rajiv Gandhi International Stadium, Uppal            49  \n",
       "Indore         Holkar Cricket Stadium                                9  \n",
       "Jaipur         Sawai Mansingh Stadium                               47  \n",
       "Johannesburg   New Wanderers Stadium                                 8  \n",
       "Kanpur         Green Park                                            4  \n",
       "Kimberley      De Beers Diamond Oval                                 3  \n",
       "Kochi          Nehru Stadium                                         5  \n",
       "Kolkata        Eden Gardens                                         77  \n",
       "               Eden Gardens, Kolkata                                 2  \n",
       "Mumbai         Brabourne Stadium                                    10  \n",
       "               Brabourne Stadium, Mumbai                            17  \n",
       "               Dr DY Patil Sports Academy                           17  \n",
       "               Dr DY Patil Sports Academy, Mumbai                   11  \n",
       "               Wankhede Stadium                                     73  \n",
       "               Wankhede Stadium, Mumbai                             31  \n",
       "Nagpur         Vidarbha Cricket Association Stadium, Jamtha          3  \n",
       "Navi Mumbai    Dr DY Patil Sports Academy, Mumbai                    9  \n",
       "Port Elizabeth St George's Park                                      7  \n",
       "Pune           Maharashtra Cricket Association Stadium              22  \n",
       "               Maharashtra Cricket Association Stadium, Pune        13  \n",
       "               Subrata Roy Sahara Stadium                           16  \n",
       "Raipur         Shaheed Veer Narayan Singh International Stadium      6  \n",
       "Rajkot         Saurashtra Cricket Association Stadium               10  \n",
       "Ranchi         JSCA International Stadium Complex                    7  \n",
       "Sharjah        Sharjah Cricket Stadium                              10  \n",
       "Visakhapatnam  Dr. Y.S. Rajasekhara Reddy ACA-VDCA Cricket Sta...   13  \n",
       "NaN            Dubai International Cricket Stadium                  33  \n",
       "               Sharjah Cricket Stadium                              18  "
      ]
     },
     "execution_count": 104,
     "metadata": {},
     "output_type": "execute_result"
    }
   ],
   "source": [
    "matches_result_orig.groupby(['City', 'Venue'], dropna=False)['Venue'].describe()"
   ]
  },
  {
   "cell_type": "markdown",
   "id": "7fcb09e0",
   "metadata": {},
   "source": [
    "👇: https://www.iplt20.com/matches/schedule/men"
   ]
  },
  {
   "cell_type": "code",
   "execution_count": 105,
   "id": "6b4b2141",
   "metadata": {
    "ExecuteTime": {
     "end_time": "2023-04-21T13:45:12.125903Z",
     "start_time": "2023-04-21T13:45:12.116778Z"
    }
   },
   "outputs": [],
   "source": [
    "venue_mapping_normal = {\n",
    "  \"Arun Jaitley Stadium\": \"Arun Jaitley Stadium\",\n",
    "  \"Arun Jaitley Stadium, Delhi\": \"Arun Jaitley Stadium\",\n",
    "  \"Feroz Shah Kotla\": \"Arun Jaitley Stadium\",\n",
    "  \"Barsapara Cricket Stadium\": \"Barsapara Cricket Stadium\",\n",
    "  \"Barsapara Cricket Stadium, Guwahati\": \"Barsapara Cricket Stadium\",\n",
    "  \"Bharat Ratna Shri Atal Bihari Vajpayee Ekana Cricket Stadium\": \"Bharat Ratna Shri Atal Bihari Vajpayee Ekana Cricket Stadium\",\n",
    "  \"Bharat Ratna Shri Atal Bihari Vajpayee Ekana Cricket Stadium, Lucknow\": \"Bharat Ratna Shri Atal Bihari Vajpayee Ekana Cricket Stadium\",\n",
    "  \"Eden Gardens\": \"Eden Gardens\",\n",
    "  \"Eden Gardens, Kolkata\": \"Eden Gardens\",\n",
    "  \"Himachal Pradesh Cricket Association Stadium\": \"Himachal Pradesh Cricket Association Stadium\",\n",
    "  \"Himachal Pradesh Cricket Association Stadium, Dharamsala\": \"Himachal Pradesh Cricket Association Stadium\",\n",
    "  \"M Chinnaswamy Stadium\": \"M Chinnaswamy Stadium\",\n",
    "  \"M Chinnaswamy Stadium, Bengaluru\": \"M Chinnaswamy Stadium\",\n",
    "  \"M Chinnaswamy Stadium, Bangalore\": \"M Chinnaswamy Stadium\",\n",
    "  \"M.Chinnaswamy Stadium\": \"M Chinnaswamy Stadium\",\n",
    "  \"M.Chinnaswamy Stadium, Bengaluru\": \"M Chinnaswamy Stadium\",\n",
    "  \"M.Chinnaswamy Stadium, Bangalore\": \"M Chinnaswamy Stadium\",\n",
    "  \"MA Chidambaram Stadium\": \"MA Chidambaram Stadium\",\n",
    "  \"MA Chidambaram Stadium, Chennai\": \"MA Chidambaram Stadium\",\n",
    "  \"MA Chidambaram Stadium, Chepauk\": \"MA Chidambaram Stadium\",\n",
    "  \"MA Chidambaram Stadium, Chepauk, Chennai\": \"MA Chidambaram Stadium\",\n",
    "  \"Narendra Modi Stadium\": \"Narendra Modi Stadium\",\n",
    "  \"Narendra Modi Stadium, Ahmedabad\": \"Narendra Modi Stadium\",\n",
    "  \"Punjab Cricket Association IS Bindra Stadium\": \"Punjab Cricket Association IS Bindra Stadium\",\n",
    "  \"Punjab Cricket Association IS Bindra Stadium, Mohali\": \"Punjab Cricket Association IS Bindra Stadium\",\n",
    "  \"Punjab Cricket Association Stadium, Mohali\": \"Punjab Cricket Association IS Bindra Stadium\",\n",
    "  \"Rajiv Gandhi International Stadium\": \"Rajiv Gandhi International Stadium\",\n",
    "  \"Rajiv Gandhi International Stadium, Hyderabad\": \"Rajiv Gandhi International Stadium\",\n",
    "  \"Rajiv Gandhi International Stadium, Uppal\": \"Rajiv Gandhi International Stadium\",\n",
    "  \"Sawai Mansingh Stadium\": \"Sawai Mansingh Stadium\",\n",
    "  \"Sawai Mansingh Stadium, Jaipur\": \"Sawai Mansingh Stadium\",\n",
    "  \"Wankhede Stadium\": \"Wankhede Stadium\",\n",
    "  \"Wankhede Stadium, Mumbai\": \"Wankhede Stadium\"\n",
    "}"
   ]
  },
  {
   "cell_type": "code",
   "execution_count": 106,
   "id": "de03038a",
   "metadata": {
    "ExecuteTime": {
     "end_time": "2023-04-21T13:45:12.140701Z",
     "start_time": "2023-04-21T13:45:12.129089Z"
    }
   },
   "outputs": [],
   "source": [
    "venue_mapping_kebab = {\n",
    "  \"arun-jaitley-stadium\": \"Arun Jaitley Stadium\",\n",
    "  \"arun-jaitley-stadium-delhi\": \"Arun Jaitley Stadium\",\n",
    "  \"feroz-shah-kotla\": \"Arun Jaitley Stadium\",\n",
    "  \"barsapara-cricket-stadium\": \"Barsapara Cricket Stadium\",\n",
    "  \"barsapara-cricket-stadium-guwahati\": \"Barsapara Cricket Stadium\",\n",
    "  \"bharat-ratna-shri-atal-bihari-vajpayee-ekana-cricket-stadium\": \"Bharat Ratna Shri Atal Bihari Vajpayee Ekana Cricket Stadium\",\n",
    "  \"bharat-ratna-shri-atal-bihari-vajpayee-ekana-cricket-stadium-lucknow\": \"Bharat Ratna Shri Atal Bihari Vajpayee Ekana Cricket Stadium\",\n",
    "  \"eden-gardens\": \"Eden Gardens\",\n",
    "  \"eden-gardens-kolkata\": \"Eden Gardens\",\n",
    "  \"himachal-pradesh-cricket-association-stadium\": \"Himachal Pradesh Cricket Association Stadium\",\n",
    "  \"himachal-pradesh-cricket-association-stadium-dharamsala\": \"Himachal Pradesh Cricket Association Stadium\",\n",
    "  \"m-chinnaswamy-stadium\": \"M Chinnaswamy Stadium\",\n",
    "  \"m-chinnaswamy-stadium-bengaluru\": \"M Chinnaswamy Stadium\",\n",
    "  \"m-chinnaswamy-stadium-bangalore\": \"M Chinnaswamy Stadium\",\n",
    "  \"mchinnaswamy-stadium\": \"M Chinnaswamy Stadium\",\n",
    "  \"mchinnaswamy-stadium-bengaluru\": \"M Chinnaswamy Stadium\",\n",
    "  \"mchinnaswamy-stadium-bangalore\": \"M Chinnaswamy Stadium\",\n",
    "  \"ma-chidambaram-stadium\": \"MA Chidambaram Stadium\",\n",
    "  \"ma-chidambaram-stadium-chennai\": \"MA Chidambaram Stadium\",\n",
    "  \"ma-chidambaram-stadium-chepauk\": \"MA Chidambaram Stadium\",\n",
    "  \"ma-chidambaram-stadium-chepauk-chennai\": \"MA Chidambaram Stadium\",\n",
    "  \"narendra-modi-stadium\": \"Narendra Modi Stadium\",\n",
    "  \"narendra-modi-stadium-ahmedabad\": \"Narendra Modi Stadium\",\n",
    "  \"punjab-cricket-association-is-bindra-stadium\": \"Punjab Cricket Association IS Bindra Stadium\",\n",
    "  \"punjab-cricket-association-is-bindra-stadium-mohali\": \"Punjab Cricket Association IS Bindra Stadium\",\n",
    "  \"punjab-cricket-association-stadium-mohali\": \"Punjab Cricket Association IS Bindra Stadium\",\n",
    "  \"rajiv-gandhi-international-stadium\": \"Rajiv Gandhi International Stadium\",\n",
    "  \"rajiv-gandhi-international-stadium-hyderabad\": \"Rajiv Gandhi International Stadium\",\n",
    "  \"rajiv-gandhi-international-stadium-uppal\": \"Rajiv Gandhi International Stadium\",\n",
    "  \"sawai-mansingh-stadium\": \"Sawai Mansingh Stadium\",\n",
    "  \"sawai-mansingh-stadium-jaipur\": \"Sawai Mansingh Stadium\",\n",
    "  \"wankhede-stadium\": \"Wankhede Stadium\",\n",
    "  \"wankhede-stadium-mumbai\": \"Wankhede Stadium\"\n",
    "}"
   ]
  },
  {
   "cell_type": "code",
   "execution_count": 107,
   "id": "6c63a15d",
   "metadata": {
    "ExecuteTime": {
     "end_time": "2023-04-21T13:45:12.158324Z",
     "start_time": "2023-04-21T13:45:12.144154Z"
    }
   },
   "outputs": [
    {
     "data": {
      "text/plain": [
       "array(['Barabati Stadium', 'Brabourne Stadium',\n",
       "       'Brabourne Stadium, Mumbai', 'Buffalo Park',\n",
       "       'De Beers Diamond Oval', 'Dr DY Patil Sports Academy',\n",
       "       'Dr DY Patil Sports Academy, Mumbai',\n",
       "       'Dr. Y.S. Rajasekhara Reddy ACA-VDCA Cricket Stadium',\n",
       "       'Dubai International Cricket Stadium', 'Green Park',\n",
       "       'Holkar Cricket Stadium', 'JSCA International Stadium Complex',\n",
       "       'Kingsmead', 'Maharashtra Cricket Association Stadium',\n",
       "       'Maharashtra Cricket Association Stadium, Pune', 'Nehru Stadium',\n",
       "       'New Wanderers Stadium', 'Newlands', 'OUTsurance Oval',\n",
       "       'Sardar Patel Stadium, Motera',\n",
       "       'Saurashtra Cricket Association Stadium',\n",
       "       'Shaheed Veer Narayan Singh International Stadium',\n",
       "       'Sharjah Cricket Stadium', 'Sheikh Zayed Stadium',\n",
       "       \"St George's Park\", 'Subrata Roy Sahara Stadium',\n",
       "       'SuperSport Park', 'Vidarbha Cricket Association Stadium, Jamtha',\n",
       "       'Zayed Cricket Stadium, Abu Dhabi'], dtype=object)"
      ]
     },
     "execution_count": 107,
     "metadata": {},
     "output_type": "execute_result"
    }
   ],
   "source": [
    "np.setdiff1d(matches_result.venue.unique(), list(venue_mapping_normal.keys()))"
   ]
  },
  {
   "cell_type": "markdown",
   "id": "0d9da923",
   "metadata": {},
   "source": [
    "- ## Get Teams Mapping"
   ]
  },
  {
   "cell_type": "code",
   "execution_count": 108,
   "id": "df6a40c4",
   "metadata": {
    "ExecuteTime": {
     "end_time": "2023-04-21T13:45:12.201789Z",
     "start_time": "2023-04-21T13:45:12.161794Z"
    },
    "scrolled": false
   },
   "outputs": [
    {
     "data": {
      "text/plain": [
       "True"
      ]
     },
     "execution_count": 108,
     "metadata": {},
     "output_type": "execute_result"
    }
   ],
   "source": [
    "set(matches_result['team_1'].unique()) == set(matches_result['team_2'].unique()) == set(ball_by_ball['batting_team'].unique())"
   ]
  },
  {
   "cell_type": "code",
   "execution_count": 109,
   "id": "13d923f9",
   "metadata": {
    "ExecuteTime": {
     "end_time": "2023-04-21T13:45:12.215389Z",
     "start_time": "2023-04-21T13:45:12.207036Z"
    }
   },
   "outputs": [],
   "source": [
    "# Rajasthan Royals\n",
    "# Gujarat Titans\n",
    "# Royal Challengers Bangalore\n",
    "# Lucknow Super Giants\n",
    "# Sunrisers Hyderabad\n",
    "# Punjab Kings [Kings XI Punjab]\n",
    "# Delhi Capitals [Delhi Daredevils]\n",
    "# Mumbai Indians\n",
    "# Chennai Super Kings\n",
    "# Kolkata Knight Riders\n",
    "\n",
    "team_mapping = { # 10 teams\n",
    " 'Rajasthan Royals': 'Rajasthan Royals',\n",
    " 'Gujarat Titans': 'Gujarat Titans',\n",
    " 'Royal Challengers Bangalore': 'Royal Challengers Bangalore',\n",
    " 'Lucknow Super Giants': 'Lucknow Super Giants',\n",
    " 'Sunrisers Hyderabad': 'Sunrisers Hyderabad',\n",
    " 'Mumbai Indians': 'Mumbai Indians',\n",
    " 'Chennai Super Kings': 'Chennai Super Kings',\n",
    " 'Kolkata Knight Riders': 'Kolkata Knight Riders',\n",
    "    \n",
    " 'Kings XI Punjab': 'Punjab Kings',\n",
    " 'Punjab Kings': 'Punjab Kings',\n",
    "    \n",
    " 'Delhi Daredevils': 'Delhi Capitals',\n",
    " 'Delhi Capitals': 'Delhi Capitals',\n",
    "}"
   ]
  },
  {
   "cell_type": "code",
   "execution_count": 110,
   "id": "d8659663",
   "metadata": {
    "ExecuteTime": {
     "end_time": "2023-04-21T13:45:12.231022Z",
     "start_time": "2023-04-21T13:45:12.219025Z"
    },
    "scrolled": true
   },
   "outputs": [
    {
     "name": "stdout",
     "output_type": "stream",
     "text": [
      "[]\n",
      "['Deccan Chargers' 'Gujarat Lions' 'Kochi Tuskers Kerala' 'Pune Warriors'\n",
      " 'Rising Pune Supergiant' 'Rising Pune Supergiants']\n"
     ]
    }
   ],
   "source": [
    "print(np.setdiff1d(\n",
    "   list(team_mapping.keys()), matches_result['team_1'].unique()\n",
    "))\n",
    "\n",
    "print(np.setdiff1d(\n",
    "    matches_result['team_1'].unique(), list(team_mapping.keys())\n",
    "))"
   ]
  },
  {
   "cell_type": "markdown",
   "id": "77371da3",
   "metadata": {},
   "source": [
    "- ## Apply Venues/Teams Mapping [in matches_result, ball_by_ball]"
   ]
  },
  {
   "cell_type": "code",
   "execution_count": 111,
   "id": "ae56d016",
   "metadata": {
    "ExecuteTime": {
     "end_time": "2023-04-21T13:45:15.737641Z",
     "start_time": "2023-04-21T13:45:15.695201Z"
    }
   },
   "outputs": [],
   "source": [
    "matches_result.venue = matches_result.venue.map(venue_mapping_normal)\n",
    "\n",
    "matches_result.team_1 = matches_result.team_1.map(team_mapping)\n",
    "matches_result.team_2 = matches_result.team_2.map(team_mapping)\n",
    "\n",
    "ball_by_ball.batting_team = ball_by_ball.batting_team.map(team_mapping)"
   ]
  },
  {
   "cell_type": "code",
   "execution_count": 116,
   "id": "e93778b2",
   "metadata": {
    "ExecuteTime": {
     "end_time": "2023-04-21T13:46:20.008748Z",
     "start_time": "2023-04-21T13:46:20.001110Z"
    }
   },
   "outputs": [
    {
     "name": "stdout",
     "output_type": "stream",
     "text": [
      "(359, 4)\n"
     ]
    }
   ],
   "source": [
    "print(matches_result.loc[matches_result.venue.isnull()].shape)"
   ]
  },
  {
   "cell_type": "code",
   "execution_count": 117,
   "id": "7b2e0e46",
   "metadata": {
    "ExecuteTime": {
     "end_time": "2023-04-21T13:46:20.989530Z",
     "start_time": "2023-04-21T13:46:20.979794Z"
    }
   },
   "outputs": [
    {
     "name": "stdout",
     "output_type": "stream",
     "text": [
      "(99, 4)\n",
      "(96, 4)\n"
     ]
    }
   ],
   "source": [
    "print(matches_result.loc[matches_result.team_1.isnull()].shape)\n",
    "print(matches_result.loc[matches_result.team_2.isnull()].shape)"
   ]
  },
  {
   "cell_type": "code",
   "execution_count": 118,
   "id": "d39f46e9",
   "metadata": {
    "ExecuteTime": {
     "end_time": "2023-04-21T13:46:21.897987Z",
     "start_time": "2023-04-21T13:46:21.889110Z"
    },
    "scrolled": false
   },
   "outputs": [
    {
     "name": "stdout",
     "output_type": "stream",
     "text": [
      "(950, 4)\n",
      "(499, 4)\n"
     ]
    }
   ],
   "source": [
    "print(matches_result.shape)\n",
    "print(matches_result.dropna().shape)"
   ]
  },
  {
   "cell_type": "code",
   "execution_count": 120,
   "id": "6358c71a",
   "metadata": {
    "ExecuteTime": {
     "end_time": "2023-04-21T13:47:07.894191Z",
     "start_time": "2023-04-21T13:47:07.759466Z"
    }
   },
   "outputs": [
    {
     "name": "stdout",
     "output_type": "stream",
     "text": [
      "(225954, 8)\n",
      "(202849, 8)\n"
     ]
    }
   ],
   "source": [
    "print(ball_by_ball.shape)\n",
    "print(ball_by_ball.dropna().shape)"
   ]
  },
  {
   "cell_type": "code",
   "execution_count": 27,
   "id": "2ba9ac3e",
   "metadata": {
    "ExecuteTime": {
     "end_time": "2023-04-20T04:10:43.286542Z",
     "start_time": "2023-04-20T04:10:43.245994Z"
    }
   },
   "outputs": [
    {
     "data": {
      "text/plain": [
       "(23105, 8)"
      ]
     },
     "execution_count": 27,
     "metadata": {},
     "output_type": "execute_result"
    }
   ],
   "source": [
    "\n",
    "ball_by_ball.loc[ball_by_ball.batting_team.isnull()].shape"
   ]
  },
  {
   "cell_type": "markdown",
   "id": "ae07b3eb",
   "metadata": {},
   "source": [
    "- ## Remove unnecessary Teams [in ball_by_ball] and Venues [in matches_result]"
   ]
  },
  {
   "cell_type": "code",
   "execution_count": 28,
   "id": "ef4ea0c2",
   "metadata": {
    "ExecuteTime": {
     "end_time": "2023-04-20T04:10:43.297725Z",
     "start_time": "2023-04-20T04:10:43.288999Z"
    }
   },
   "outputs": [
    {
     "name": "stdout",
     "output_type": "stream",
     "text": [
      "(950, 20)\n",
      "(279, 4)\n"
     ]
    }
   ],
   "source": [
    "matches_result = matches_result.dropna(subset=['team_1', 'team_2', 'venue'])\n",
    "# matches_result = matches_result.dropna(subset=['venue'])\n",
    "\n",
    "print(matches_result_orig.shape)\n",
    "print(matches_result.shape)"
   ]
  },
  {
   "cell_type": "code",
   "execution_count": 29,
   "id": "a8d9cab7",
   "metadata": {
    "ExecuteTime": {
     "end_time": "2023-04-20T04:10:43.348497Z",
     "start_time": "2023-04-20T04:10:43.297725Z"
    },
    "scrolled": true
   },
   "outputs": [
    {
     "name": "stdout",
     "output_type": "stream",
     "text": [
      "(225954, 17)\n",
      "(202849, 8)\n"
     ]
    }
   ],
   "source": [
    "ball_by_ball = ball_by_ball.dropna(subset=['batting_team'])\n",
    "\n",
    "print(ball_by_ball_orig.shape)\n",
    "print(ball_by_ball.shape)"
   ]
  },
  {
   "cell_type": "markdown",
   "id": "5047ea6d",
   "metadata": {},
   "source": [
    "- ## Select first 6 overs, Select innings 1 & 2, Map innings (1,2) to (0,1) [in ball_by_ball]"
   ]
  },
  {
   "cell_type": "code",
   "execution_count": 30,
   "id": "ef2d29cf",
   "metadata": {
    "ExecuteTime": {
     "end_time": "2023-04-20T04:10:43.359681Z",
     "start_time": "2023-04-20T04:10:43.350838Z"
    },
    "scrolled": true
   },
   "outputs": [
    {
     "data": {
      "text/plain": [
       "array([1, 2, 3, 4, 5, 6], dtype=int64)"
      ]
     },
     "execution_count": 30,
     "metadata": {},
     "output_type": "execute_result"
    }
   ],
   "source": [
    "ball_by_ball.innings.unique()"
   ]
  },
  {
   "cell_type": "code",
   "execution_count": 31,
   "id": "f57947b8",
   "metadata": {
    "ExecuteTime": {
     "end_time": "2023-04-20T04:10:43.372124Z",
     "start_time": "2023-04-20T04:10:43.359681Z"
    },
    "scrolled": false
   },
   "outputs": [
    {
     "data": {
      "text/plain": [
       "array([ 0,  1,  2,  3,  4,  5,  6,  7,  8,  9, 10, 11, 12, 13, 14, 15, 16,\n",
       "       17, 18, 19], dtype=int64)"
      ]
     },
     "execution_count": 31,
     "metadata": {},
     "output_type": "execute_result"
    }
   ],
   "source": [
    "ball_by_ball.overs.unique()"
   ]
  },
  {
   "cell_type": "code",
   "execution_count": 32,
   "id": "12446a98",
   "metadata": {
    "ExecuteTime": {
     "end_time": "2023-04-20T04:10:43.395344Z",
     "start_time": "2023-04-20T04:10:43.374331Z"
    }
   },
   "outputs": [
    {
     "data": {
      "text/plain": [
       "(63652, 8)"
      ]
     },
     "execution_count": 32,
     "metadata": {},
     "output_type": "execute_result"
    }
   ],
   "source": [
    "ball_by_ball = ball_by_ball.loc[(ball_by_ball.overs <= 5) & (ball_by_ball.innings <= 2)]\n",
    "ball_by_ball.innings = ball_by_ball.innings.replace({1: 0, 2: 1})\n",
    "ball_by_ball.shape"
   ]
  },
  {
   "cell_type": "code",
   "execution_count": 33,
   "id": "127feea6",
   "metadata": {
    "ExecuteTime": {
     "end_time": "2023-04-20T04:10:43.404044Z",
     "start_time": "2023-04-20T04:10:43.395344Z"
    },
    "scrolled": false
   },
   "outputs": [
    {
     "data": {
      "text/plain": [
       "array([0, 1], dtype=int64)"
      ]
     },
     "execution_count": 33,
     "metadata": {},
     "output_type": "execute_result"
    }
   ],
   "source": [
    "ball_by_ball.innings.unique()"
   ]
  },
  {
   "cell_type": "code",
   "execution_count": 34,
   "id": "b1125063",
   "metadata": {
    "ExecuteTime": {
     "end_time": "2023-04-20T04:10:43.416310Z",
     "start_time": "2023-04-20T04:10:43.406374Z"
    },
    "scrolled": false
   },
   "outputs": [
    {
     "data": {
      "text/plain": [
       "array([0, 1, 2, 3, 4, 5], dtype=int64)"
      ]
     },
     "execution_count": 34,
     "metadata": {},
     "output_type": "execute_result"
    }
   ],
   "source": [
    "ball_by_ball.overs.unique()"
   ]
  },
  {
   "cell_type": "markdown",
   "id": "a1685adc",
   "metadata": {},
   "source": [
    "- ## Grouping "
   ]
  },
  {
   "cell_type": "code",
   "execution_count": 35,
   "id": "c0ea57c3",
   "metadata": {
    "ExecuteTime": {
     "end_time": "2023-04-20T04:10:43.594079Z",
     "start_time": "2023-04-20T04:10:43.417824Z"
    }
   },
   "outputs": [],
   "source": [
    "ball_by_ball_gb = ball_by_ball.groupby(['match_id', 'innings', 'batting_team'])\n",
    "total_runs = ball_by_ball_gb['total_run'].sum()\n",
    "batsmen = ball_by_ball_gb['batter'].unique()\n",
    "bowlers = ball_by_ball_gb['bowler'].unique()"
   ]
  },
  {
   "cell_type": "code",
   "execution_count": 36,
   "id": "7502f12e",
   "metadata": {
    "ExecuteTime": {
     "end_time": "2023-04-20T04:10:43.602057Z",
     "start_time": "2023-04-20T04:10:43.595083Z"
    }
   },
   "outputs": [],
   "source": [
    "total_runs = total_runs.to_frame(name = 'total_runs').reset_index()\n",
    "batsmen = batsmen.to_frame(name = 'batsmen').reset_index()\n",
    "bowlers = bowlers.to_frame(name = 'bowlers').reset_index()"
   ]
  },
  {
   "cell_type": "code",
   "execution_count": 37,
   "id": "f526186a",
   "metadata": {
    "ExecuteTime": {
     "end_time": "2023-04-20T04:10:43.619270Z",
     "start_time": "2023-04-20T04:10:43.603571Z"
    }
   },
   "outputs": [],
   "source": [
    "data = total_runs.merge(\n",
    "    batsmen.merge(bowlers, how='right', on=['match_id','innings','batting_team']),\n",
    "    how='right', on=['match_id','innings','batting_team']\n",
    ")"
   ]
  },
  {
   "cell_type": "code",
   "execution_count": 38,
   "id": "be778710",
   "metadata": {
    "ExecuteTime": {
     "end_time": "2023-04-20T04:10:43.626063Z",
     "start_time": "2023-04-20T04:10:43.619775Z"
    },
    "scrolled": false
   },
   "outputs": [],
   "source": [
    "data = data.merge(matches_result, on=['match_id'])"
   ]
  },
  {
   "cell_type": "code",
   "execution_count": 39,
   "id": "81911e92",
   "metadata": {
    "ExecuteTime": {
     "end_time": "2023-04-20T04:10:43.637259Z",
     "start_time": "2023-04-20T04:10:43.627157Z"
    },
    "scrolled": true
   },
   "outputs": [],
   "source": [
    "mask = data['batting_team'] == data['team_1']\n",
    "data.loc[mask, 'bowling_team'] = data['team_2']\n",
    "data.loc[~mask, 'bowling_team'] = data['team_1']"
   ]
  },
  {
   "cell_type": "code",
   "execution_count": 40,
   "id": "b28ff077",
   "metadata": {
    "ExecuteTime": {
     "end_time": "2023-04-20T04:10:43.646105Z",
     "start_time": "2023-04-20T04:10:43.638264Z"
    }
   },
   "outputs": [],
   "source": [
    "# match_id == 829763, data for one innings is missing\n",
    "# match_id == 829813, total_runs for one innings is 2 (probably a mistake in data entry)\n",
    "data = data.drop(data[(data['match_id'] == 829763) | (data['match_id'] == 829813)].index)"
   ]
  },
  {
   "cell_type": "code",
   "execution_count": 41,
   "id": "35adcac8",
   "metadata": {
    "ExecuteTime": {
     "end_time": "2023-04-20T04:10:43.658952Z",
     "start_time": "2023-04-20T04:10:43.647537Z"
    }
   },
   "outputs": [],
   "source": [
    "data['count_batsmen'] = [len(x) for x in data['batsmen']]\n",
    "data['count_bowlers'] = [len(x) for x in data['bowlers']]"
   ]
  },
  {
   "cell_type": "code",
   "execution_count": 42,
   "id": "b83a3e94",
   "metadata": {
    "ExecuteTime": {
     "end_time": "2023-04-20T04:10:43.672653Z",
     "start_time": "2023-04-20T04:10:43.660297Z"
    }
   },
   "outputs": [],
   "source": [
    "data = data.drop(columns=['match_id', 'batsmen', 'bowlers', 'team_1', 'team_2'])\n",
    "data = data[['venue', 'innings', 'batting_team', 'bowling_team', 'count_batsmen', 'count_bowlers', 'total_runs']]"
   ]
  },
  {
   "cell_type": "code",
   "execution_count": 43,
   "id": "41f95dd6",
   "metadata": {
    "ExecuteTime": {
     "end_time": "2023-04-20T04:10:43.694745Z",
     "start_time": "2023-04-20T04:10:43.673231Z"
    }
   },
   "outputs": [
    {
     "data": {
      "text/html": [
       "<div>\n",
       "<style scoped>\n",
       "    .dataframe tbody tr th:only-of-type {\n",
       "        vertical-align: middle;\n",
       "    }\n",
       "\n",
       "    .dataframe tbody tr th {\n",
       "        vertical-align: top;\n",
       "    }\n",
       "\n",
       "    .dataframe thead th {\n",
       "        text-align: right;\n",
       "    }\n",
       "</style>\n",
       "<table border=\"1\" class=\"dataframe\">\n",
       "  <thead>\n",
       "    <tr style=\"text-align: right;\">\n",
       "      <th></th>\n",
       "      <th>venue</th>\n",
       "      <th>innings</th>\n",
       "      <th>batting_team</th>\n",
       "      <th>bowling_team</th>\n",
       "      <th>count_batsmen</th>\n",
       "      <th>count_bowlers</th>\n",
       "      <th>total_runs</th>\n",
       "    </tr>\n",
       "  </thead>\n",
       "  <tbody>\n",
       "    <tr>\n",
       "      <th>0</th>\n",
       "      <td>{'aliases': ['M Chinnaswamy Stadium, Bengaluru...</td>\n",
       "      <td>0</td>\n",
       "      <td>Kolkata Knight Riders</td>\n",
       "      <td>Royal Challengers Bangalore</td>\n",
       "      <td>3</td>\n",
       "      <td>3</td>\n",
       "      <td>61</td>\n",
       "    </tr>\n",
       "    <tr>\n",
       "      <th>1</th>\n",
       "      <td>{'aliases': ['M Chinnaswamy Stadium, Bengaluru...</td>\n",
       "      <td>1</td>\n",
       "      <td>Royal Challengers Bangalore</td>\n",
       "      <td>Kolkata Knight Riders</td>\n",
       "      <td>6</td>\n",
       "      <td>3</td>\n",
       "      <td>26</td>\n",
       "    </tr>\n",
       "    <tr>\n",
       "      <th>2</th>\n",
       "      <td>{'aliases': ['Wankhede Stadium, Mumbai'], 'tag...</td>\n",
       "      <td>0</td>\n",
       "      <td>Mumbai Indians</td>\n",
       "      <td>Royal Challengers Bangalore</td>\n",
       "      <td>5</td>\n",
       "      <td>3</td>\n",
       "      <td>47</td>\n",
       "    </tr>\n",
       "    <tr>\n",
       "      <th>3</th>\n",
       "      <td>{'aliases': ['Wankhede Stadium, Mumbai'], 'tag...</td>\n",
       "      <td>1</td>\n",
       "      <td>Royal Challengers Bangalore</td>\n",
       "      <td>Mumbai Indians</td>\n",
       "      <td>3</td>\n",
       "      <td>3</td>\n",
       "      <td>40</td>\n",
       "    </tr>\n",
       "    <tr>\n",
       "      <th>4</th>\n",
       "      <td>{'aliases': ['Sawai Mansingh Stadium, Jaipur']...</td>\n",
       "      <td>0</td>\n",
       "      <td>Punjab Kings</td>\n",
       "      <td>Rajasthan Royals</td>\n",
       "      <td>3</td>\n",
       "      <td>3</td>\n",
       "      <td>54</td>\n",
       "    </tr>\n",
       "    <tr>\n",
       "      <th>...</th>\n",
       "      <td>...</td>\n",
       "      <td>...</td>\n",
       "      <td>...</td>\n",
       "      <td>...</td>\n",
       "      <td>...</td>\n",
       "      <td>...</td>\n",
       "      <td>...</td>\n",
       "    </tr>\n",
       "    <tr>\n",
       "      <th>552</th>\n",
       "      <td>{'aliases': ['Wankhede Stadium, Mumbai'], 'tag...</td>\n",
       "      <td>1</td>\n",
       "      <td>Mumbai Indians</td>\n",
       "      <td>Kolkata Knight Riders</td>\n",
       "      <td>2</td>\n",
       "      <td>4</td>\n",
       "      <td>46</td>\n",
       "    </tr>\n",
       "    <tr>\n",
       "      <th>553</th>\n",
       "      <td>{'aliases': ['MA Chidambaram Stadium, Chennai'...</td>\n",
       "      <td>0</td>\n",
       "      <td>Chennai Super Kings</td>\n",
       "      <td>Mumbai Indians</td>\n",
       "      <td>4</td>\n",
       "      <td>5</td>\n",
       "      <td>32</td>\n",
       "    </tr>\n",
       "    <tr>\n",
       "      <th>554</th>\n",
       "      <td>{'aliases': ['MA Chidambaram Stadium, Chennai'...</td>\n",
       "      <td>1</td>\n",
       "      <td>Mumbai Indians</td>\n",
       "      <td>Chennai Super Kings</td>\n",
       "      <td>4</td>\n",
       "      <td>2</td>\n",
       "      <td>44</td>\n",
       "    </tr>\n",
       "    <tr>\n",
       "      <th>555</th>\n",
       "      <td>{'aliases': ['Rajiv Gandhi International Stadi...</td>\n",
       "      <td>0</td>\n",
       "      <td>Mumbai Indians</td>\n",
       "      <td>Chennai Super Kings</td>\n",
       "      <td>4</td>\n",
       "      <td>3</td>\n",
       "      <td>45</td>\n",
       "    </tr>\n",
       "    <tr>\n",
       "      <th>556</th>\n",
       "      <td>{'aliases': ['Rajiv Gandhi International Stadi...</td>\n",
       "      <td>1</td>\n",
       "      <td>Chennai Super Kings</td>\n",
       "      <td>Mumbai Indians</td>\n",
       "      <td>3</td>\n",
       "      <td>4</td>\n",
       "      <td>53</td>\n",
       "    </tr>\n",
       "  </tbody>\n",
       "</table>\n",
       "<p>554 rows × 7 columns</p>\n",
       "</div>"
      ],
      "text/plain": [
       "                                                 venue  innings  \\\n",
       "0    {'aliases': ['M Chinnaswamy Stadium, Bengaluru...        0   \n",
       "1    {'aliases': ['M Chinnaswamy Stadium, Bengaluru...        1   \n",
       "2    {'aliases': ['Wankhede Stadium, Mumbai'], 'tag...        0   \n",
       "3    {'aliases': ['Wankhede Stadium, Mumbai'], 'tag...        1   \n",
       "4    {'aliases': ['Sawai Mansingh Stadium, Jaipur']...        0   \n",
       "..                                                 ...      ...   \n",
       "552  {'aliases': ['Wankhede Stadium, Mumbai'], 'tag...        1   \n",
       "553  {'aliases': ['MA Chidambaram Stadium, Chennai'...        0   \n",
       "554  {'aliases': ['MA Chidambaram Stadium, Chennai'...        1   \n",
       "555  {'aliases': ['Rajiv Gandhi International Stadi...        0   \n",
       "556  {'aliases': ['Rajiv Gandhi International Stadi...        1   \n",
       "\n",
       "                    batting_team                 bowling_team  count_batsmen  \\\n",
       "0          Kolkata Knight Riders  Royal Challengers Bangalore              3   \n",
       "1    Royal Challengers Bangalore        Kolkata Knight Riders              6   \n",
       "2                 Mumbai Indians  Royal Challengers Bangalore              5   \n",
       "3    Royal Challengers Bangalore               Mumbai Indians              3   \n",
       "4                   Punjab Kings             Rajasthan Royals              3   \n",
       "..                           ...                          ...            ...   \n",
       "552               Mumbai Indians        Kolkata Knight Riders              2   \n",
       "553          Chennai Super Kings               Mumbai Indians              4   \n",
       "554               Mumbai Indians          Chennai Super Kings              4   \n",
       "555               Mumbai Indians          Chennai Super Kings              4   \n",
       "556          Chennai Super Kings               Mumbai Indians              3   \n",
       "\n",
       "     count_bowlers  total_runs  \n",
       "0                3          61  \n",
       "1                3          26  \n",
       "2                3          47  \n",
       "3                3          40  \n",
       "4                3          54  \n",
       "..             ...         ...  \n",
       "552              4          46  \n",
       "553              5          32  \n",
       "554              2          44  \n",
       "555              3          45  \n",
       "556              4          53  \n",
       "\n",
       "[554 rows x 7 columns]"
      ]
     },
     "execution_count": 43,
     "metadata": {},
     "output_type": "execute_result"
    }
   ],
   "source": [
    "data"
   ]
  },
  {
   "cell_type": "markdown",
   "id": "4ec0a861",
   "metadata": {
    "ExecuteTime": {
     "end_time": "2023-04-18T05:43:43.388448Z",
     "start_time": "2023-04-18T05:43:43.382203Z"
    }
   },
   "source": [
    "- ## Encoding of categorical inputs and feature scaling"
   ]
  },
  {
   "cell_type": "code",
   "execution_count": 44,
   "id": "650e4e98",
   "metadata": {
    "ExecuteTime": {
     "end_time": "2023-04-20T04:10:43.706341Z",
     "start_time": "2023-04-20T04:10:43.696181Z"
    }
   },
   "outputs": [],
   "source": [
    "X = data.iloc[:, :-1]\n",
    "y = data[\"total_runs\"]"
   ]
  },
  {
   "cell_type": "code",
   "execution_count": 45,
   "id": "6091e5b7",
   "metadata": {
    "ExecuteTime": {
     "end_time": "2023-04-20T04:10:44.515209Z",
     "start_time": "2023-04-20T04:10:43.707782Z"
    }
   },
   "outputs": [
    {
     "ename": "TypeError",
     "evalue": "Encoders require their input to be uniformly strings or numbers. Got ['dict']",
     "output_type": "error",
     "traceback": [
      "\u001b[1;31m---------------------------------------------------------------------------\u001b[0m",
      "\u001b[1;31mTypeError\u001b[0m                                 Traceback (most recent call last)",
      "File \u001b[1;32m~\\AppData\\Local\\Programs\\Python\\Python311\\Lib\\site-packages\\sklearn\\utils\\_encode.py:170\u001b[0m, in \u001b[0;36m_unique_python\u001b[1;34m(values, return_inverse, return_counts)\u001b[0m\n\u001b[0;32m    169\u001b[0m \u001b[38;5;28;01mtry\u001b[39;00m:\n\u001b[1;32m--> 170\u001b[0m     uniques_set \u001b[38;5;241m=\u001b[39m \u001b[38;5;28;43mset\u001b[39;49m\u001b[43m(\u001b[49m\u001b[43mvalues\u001b[49m\u001b[43m)\u001b[49m\n\u001b[0;32m    171\u001b[0m     uniques_set, missing_values \u001b[38;5;241m=\u001b[39m _extract_missing(uniques_set)\n",
      "\u001b[1;31mTypeError\u001b[0m: unhashable type: 'dict'",
      "\nDuring handling of the above exception, another exception occurred:\n",
      "\u001b[1;31mTypeError\u001b[0m                                 Traceback (most recent call last)",
      "Cell \u001b[1;32mIn[45], line 7\u001b[0m\n\u001b[0;32m      1\u001b[0m ct \u001b[38;5;241m=\u001b[39m ColumnTransformer(transformers \u001b[38;5;241m=\u001b[39m [\n\u001b[0;32m      2\u001b[0m     (\u001b[38;5;124m'\u001b[39m\u001b[38;5;124mohe\u001b[39m\u001b[38;5;124m'\u001b[39m, OneHotEncoder(categories \u001b[38;5;241m=\u001b[39m \u001b[38;5;124m\"\u001b[39m\u001b[38;5;124mauto\u001b[39m\u001b[38;5;124m\"\u001b[39m, drop\u001b[38;5;241m=\u001b[39m\u001b[38;5;124m'\u001b[39m\u001b[38;5;124mfirst\u001b[39m\u001b[38;5;124m'\u001b[39m, sparse_output\u001b[38;5;241m=\u001b[39m\u001b[38;5;28;01mFalse\u001b[39;00m), [\u001b[38;5;124m'\u001b[39m\u001b[38;5;124mvenue\u001b[39m\u001b[38;5;124m'\u001b[39m, \u001b[38;5;124m'\u001b[39m\u001b[38;5;124mbatting_team\u001b[39m\u001b[38;5;124m'\u001b[39m, \u001b[38;5;124m'\u001b[39m\u001b[38;5;124mbowling_team\u001b[39m\u001b[38;5;124m'\u001b[39m])\n\u001b[0;32m      3\u001b[0m ], remainder \u001b[38;5;241m=\u001b[39m \u001b[38;5;124m'\u001b[39m\u001b[38;5;124mpassthrough\u001b[39m\u001b[38;5;124m'\u001b[39m)\n\u001b[0;32m      5\u001b[0m scaler \u001b[38;5;241m=\u001b[39m StandardScaler()\n\u001b[1;32m----> 7\u001b[0m X_ohe \u001b[38;5;241m=\u001b[39m pd\u001b[38;5;241m.\u001b[39mDataFrame(\u001b[43mct\u001b[49m\u001b[38;5;241;43m.\u001b[39;49m\u001b[43mfit_transform\u001b[49m\u001b[43m(\u001b[49m\u001b[43mX\u001b[49m\u001b[43m)\u001b[49m)\n\u001b[0;32m      8\u001b[0m X_std \u001b[38;5;241m=\u001b[39m scaler\u001b[38;5;241m.\u001b[39mfit_transform(X_ohe)\n",
      "File \u001b[1;32m~\\AppData\\Local\\Programs\\Python\\Python311\\Lib\\site-packages\\sklearn\\utils\\_set_output.py:140\u001b[0m, in \u001b[0;36m_wrap_method_output.<locals>.wrapped\u001b[1;34m(self, X, *args, **kwargs)\u001b[0m\n\u001b[0;32m    138\u001b[0m \u001b[38;5;129m@wraps\u001b[39m(f)\n\u001b[0;32m    139\u001b[0m \u001b[38;5;28;01mdef\u001b[39;00m \u001b[38;5;21mwrapped\u001b[39m(\u001b[38;5;28mself\u001b[39m, X, \u001b[38;5;241m*\u001b[39margs, \u001b[38;5;241m*\u001b[39m\u001b[38;5;241m*\u001b[39mkwargs):\n\u001b[1;32m--> 140\u001b[0m     data_to_wrap \u001b[38;5;241m=\u001b[39m \u001b[43mf\u001b[49m\u001b[43m(\u001b[49m\u001b[38;5;28;43mself\u001b[39;49m\u001b[43m,\u001b[49m\u001b[43m \u001b[49m\u001b[43mX\u001b[49m\u001b[43m,\u001b[49m\u001b[43m \u001b[49m\u001b[38;5;241;43m*\u001b[39;49m\u001b[43margs\u001b[49m\u001b[43m,\u001b[49m\u001b[43m \u001b[49m\u001b[38;5;241;43m*\u001b[39;49m\u001b[38;5;241;43m*\u001b[39;49m\u001b[43mkwargs\u001b[49m\u001b[43m)\u001b[49m\n\u001b[0;32m    141\u001b[0m     \u001b[38;5;28;01mif\u001b[39;00m \u001b[38;5;28misinstance\u001b[39m(data_to_wrap, \u001b[38;5;28mtuple\u001b[39m):\n\u001b[0;32m    142\u001b[0m         \u001b[38;5;66;03m# only wrap the first output for cross decomposition\u001b[39;00m\n\u001b[0;32m    143\u001b[0m         \u001b[38;5;28;01mreturn\u001b[39;00m (\n\u001b[0;32m    144\u001b[0m             _wrap_data_with_container(method, data_to_wrap[\u001b[38;5;241m0\u001b[39m], X, \u001b[38;5;28mself\u001b[39m),\n\u001b[0;32m    145\u001b[0m             \u001b[38;5;241m*\u001b[39mdata_to_wrap[\u001b[38;5;241m1\u001b[39m:],\n\u001b[0;32m    146\u001b[0m         )\n",
      "File \u001b[1;32m~\\AppData\\Local\\Programs\\Python\\Python311\\Lib\\site-packages\\sklearn\\compose\\_column_transformer.py:727\u001b[0m, in \u001b[0;36mColumnTransformer.fit_transform\u001b[1;34m(self, X, y)\u001b[0m\n\u001b[0;32m    724\u001b[0m \u001b[38;5;28mself\u001b[39m\u001b[38;5;241m.\u001b[39m_validate_column_callables(X)\n\u001b[0;32m    725\u001b[0m \u001b[38;5;28mself\u001b[39m\u001b[38;5;241m.\u001b[39m_validate_remainder(X)\n\u001b[1;32m--> 727\u001b[0m result \u001b[38;5;241m=\u001b[39m \u001b[38;5;28;43mself\u001b[39;49m\u001b[38;5;241;43m.\u001b[39;49m\u001b[43m_fit_transform\u001b[49m\u001b[43m(\u001b[49m\u001b[43mX\u001b[49m\u001b[43m,\u001b[49m\u001b[43m \u001b[49m\u001b[43my\u001b[49m\u001b[43m,\u001b[49m\u001b[43m \u001b[49m\u001b[43m_fit_transform_one\u001b[49m\u001b[43m)\u001b[49m\n\u001b[0;32m    729\u001b[0m \u001b[38;5;28;01mif\u001b[39;00m \u001b[38;5;129;01mnot\u001b[39;00m result:\n\u001b[0;32m    730\u001b[0m     \u001b[38;5;28mself\u001b[39m\u001b[38;5;241m.\u001b[39m_update_fitted_transformers([])\n",
      "File \u001b[1;32m~\\AppData\\Local\\Programs\\Python\\Python311\\Lib\\site-packages\\sklearn\\compose\\_column_transformer.py:658\u001b[0m, in \u001b[0;36mColumnTransformer._fit_transform\u001b[1;34m(self, X, y, func, fitted, column_as_strings)\u001b[0m\n\u001b[0;32m    652\u001b[0m transformers \u001b[38;5;241m=\u001b[39m \u001b[38;5;28mlist\u001b[39m(\n\u001b[0;32m    653\u001b[0m     \u001b[38;5;28mself\u001b[39m\u001b[38;5;241m.\u001b[39m_iter(\n\u001b[0;32m    654\u001b[0m         fitted\u001b[38;5;241m=\u001b[39mfitted, replace_strings\u001b[38;5;241m=\u001b[39m\u001b[38;5;28;01mTrue\u001b[39;00m, column_as_strings\u001b[38;5;241m=\u001b[39mcolumn_as_strings\n\u001b[0;32m    655\u001b[0m     )\n\u001b[0;32m    656\u001b[0m )\n\u001b[0;32m    657\u001b[0m \u001b[38;5;28;01mtry\u001b[39;00m:\n\u001b[1;32m--> 658\u001b[0m     \u001b[38;5;28;01mreturn\u001b[39;00m \u001b[43mParallel\u001b[49m\u001b[43m(\u001b[49m\u001b[43mn_jobs\u001b[49m\u001b[38;5;241;43m=\u001b[39;49m\u001b[38;5;28;43mself\u001b[39;49m\u001b[38;5;241;43m.\u001b[39;49m\u001b[43mn_jobs\u001b[49m\u001b[43m)\u001b[49m\u001b[43m(\u001b[49m\n\u001b[0;32m    659\u001b[0m \u001b[43m        \u001b[49m\u001b[43mdelayed\u001b[49m\u001b[43m(\u001b[49m\u001b[43mfunc\u001b[49m\u001b[43m)\u001b[49m\u001b[43m(\u001b[49m\n\u001b[0;32m    660\u001b[0m \u001b[43m            \u001b[49m\u001b[43mtransformer\u001b[49m\u001b[38;5;241;43m=\u001b[39;49m\u001b[43mclone\u001b[49m\u001b[43m(\u001b[49m\u001b[43mtrans\u001b[49m\u001b[43m)\u001b[49m\u001b[43m \u001b[49m\u001b[38;5;28;43;01mif\u001b[39;49;00m\u001b[43m \u001b[49m\u001b[38;5;129;43;01mnot\u001b[39;49;00m\u001b[43m \u001b[49m\u001b[43mfitted\u001b[49m\u001b[43m \u001b[49m\u001b[38;5;28;43;01melse\u001b[39;49;00m\u001b[43m \u001b[49m\u001b[43mtrans\u001b[49m\u001b[43m,\u001b[49m\n\u001b[0;32m    661\u001b[0m \u001b[43m            \u001b[49m\u001b[43mX\u001b[49m\u001b[38;5;241;43m=\u001b[39;49m\u001b[43m_safe_indexing\u001b[49m\u001b[43m(\u001b[49m\u001b[43mX\u001b[49m\u001b[43m,\u001b[49m\u001b[43m \u001b[49m\u001b[43mcolumn\u001b[49m\u001b[43m,\u001b[49m\u001b[43m \u001b[49m\u001b[43maxis\u001b[49m\u001b[38;5;241;43m=\u001b[39;49m\u001b[38;5;241;43m1\u001b[39;49m\u001b[43m)\u001b[49m\u001b[43m,\u001b[49m\n\u001b[0;32m    662\u001b[0m \u001b[43m            \u001b[49m\u001b[43my\u001b[49m\u001b[38;5;241;43m=\u001b[39;49m\u001b[43my\u001b[49m\u001b[43m,\u001b[49m\n\u001b[0;32m    663\u001b[0m \u001b[43m            \u001b[49m\u001b[43mweight\u001b[49m\u001b[38;5;241;43m=\u001b[39;49m\u001b[43mweight\u001b[49m\u001b[43m,\u001b[49m\n\u001b[0;32m    664\u001b[0m \u001b[43m            \u001b[49m\u001b[43mmessage_clsname\u001b[49m\u001b[38;5;241;43m=\u001b[39;49m\u001b[38;5;124;43m\"\u001b[39;49m\u001b[38;5;124;43mColumnTransformer\u001b[39;49m\u001b[38;5;124;43m\"\u001b[39;49m\u001b[43m,\u001b[49m\n\u001b[0;32m    665\u001b[0m \u001b[43m            \u001b[49m\u001b[43mmessage\u001b[49m\u001b[38;5;241;43m=\u001b[39;49m\u001b[38;5;28;43mself\u001b[39;49m\u001b[38;5;241;43m.\u001b[39;49m\u001b[43m_log_message\u001b[49m\u001b[43m(\u001b[49m\u001b[43mname\u001b[49m\u001b[43m,\u001b[49m\u001b[43m \u001b[49m\u001b[43midx\u001b[49m\u001b[43m,\u001b[49m\u001b[43m \u001b[49m\u001b[38;5;28;43mlen\u001b[39;49m\u001b[43m(\u001b[49m\u001b[43mtransformers\u001b[49m\u001b[43m)\u001b[49m\u001b[43m)\u001b[49m\u001b[43m,\u001b[49m\n\u001b[0;32m    666\u001b[0m \u001b[43m        \u001b[49m\u001b[43m)\u001b[49m\n\u001b[0;32m    667\u001b[0m \u001b[43m        \u001b[49m\u001b[38;5;28;43;01mfor\u001b[39;49;00m\u001b[43m \u001b[49m\u001b[43midx\u001b[49m\u001b[43m,\u001b[49m\u001b[43m \u001b[49m\u001b[43m(\u001b[49m\u001b[43mname\u001b[49m\u001b[43m,\u001b[49m\u001b[43m \u001b[49m\u001b[43mtrans\u001b[49m\u001b[43m,\u001b[49m\u001b[43m \u001b[49m\u001b[43mcolumn\u001b[49m\u001b[43m,\u001b[49m\u001b[43m \u001b[49m\u001b[43mweight\u001b[49m\u001b[43m)\u001b[49m\u001b[43m \u001b[49m\u001b[38;5;129;43;01min\u001b[39;49;00m\u001b[43m \u001b[49m\u001b[38;5;28;43menumerate\u001b[39;49m\u001b[43m(\u001b[49m\u001b[43mtransformers\u001b[49m\u001b[43m,\u001b[49m\u001b[43m \u001b[49m\u001b[38;5;241;43m1\u001b[39;49m\u001b[43m)\u001b[49m\n\u001b[0;32m    668\u001b[0m \u001b[43m    \u001b[49m\u001b[43m)\u001b[49m\n\u001b[0;32m    669\u001b[0m \u001b[38;5;28;01mexcept\u001b[39;00m \u001b[38;5;167;01mValueError\u001b[39;00m \u001b[38;5;28;01mas\u001b[39;00m e:\n\u001b[0;32m    670\u001b[0m     \u001b[38;5;28;01mif\u001b[39;00m \u001b[38;5;124m\"\u001b[39m\u001b[38;5;124mExpected 2D array, got 1D array instead\u001b[39m\u001b[38;5;124m\"\u001b[39m \u001b[38;5;129;01min\u001b[39;00m \u001b[38;5;28mstr\u001b[39m(e):\n",
      "File \u001b[1;32m~\\AppData\\Local\\Programs\\Python\\Python311\\Lib\\site-packages\\sklearn\\utils\\parallel.py:63\u001b[0m, in \u001b[0;36mParallel.__call__\u001b[1;34m(self, iterable)\u001b[0m\n\u001b[0;32m     58\u001b[0m config \u001b[38;5;241m=\u001b[39m get_config()\n\u001b[0;32m     59\u001b[0m iterable_with_config \u001b[38;5;241m=\u001b[39m (\n\u001b[0;32m     60\u001b[0m     (_with_config(delayed_func, config), args, kwargs)\n\u001b[0;32m     61\u001b[0m     \u001b[38;5;28;01mfor\u001b[39;00m delayed_func, args, kwargs \u001b[38;5;129;01min\u001b[39;00m iterable\n\u001b[0;32m     62\u001b[0m )\n\u001b[1;32m---> 63\u001b[0m \u001b[38;5;28;01mreturn\u001b[39;00m \u001b[38;5;28;43msuper\u001b[39;49m\u001b[43m(\u001b[49m\u001b[43m)\u001b[49m\u001b[38;5;241;43m.\u001b[39;49m\u001b[38;5;21;43m__call__\u001b[39;49m\u001b[43m(\u001b[49m\u001b[43miterable_with_config\u001b[49m\u001b[43m)\u001b[49m\n",
      "File \u001b[1;32m~\\AppData\\Local\\Programs\\Python\\Python311\\Lib\\site-packages\\joblib\\parallel.py:1048\u001b[0m, in \u001b[0;36mParallel.__call__\u001b[1;34m(self, iterable)\u001b[0m\n\u001b[0;32m   1039\u001b[0m \u001b[38;5;28;01mtry\u001b[39;00m:\n\u001b[0;32m   1040\u001b[0m     \u001b[38;5;66;03m# Only set self._iterating to True if at least a batch\u001b[39;00m\n\u001b[0;32m   1041\u001b[0m     \u001b[38;5;66;03m# was dispatched. In particular this covers the edge\u001b[39;00m\n\u001b[1;32m   (...)\u001b[0m\n\u001b[0;32m   1045\u001b[0m     \u001b[38;5;66;03m# was very quick and its callback already dispatched all the\u001b[39;00m\n\u001b[0;32m   1046\u001b[0m     \u001b[38;5;66;03m# remaining jobs.\u001b[39;00m\n\u001b[0;32m   1047\u001b[0m     \u001b[38;5;28mself\u001b[39m\u001b[38;5;241m.\u001b[39m_iterating \u001b[38;5;241m=\u001b[39m \u001b[38;5;28;01mFalse\u001b[39;00m\n\u001b[1;32m-> 1048\u001b[0m     \u001b[38;5;28;01mif\u001b[39;00m \u001b[38;5;28;43mself\u001b[39;49m\u001b[38;5;241;43m.\u001b[39;49m\u001b[43mdispatch_one_batch\u001b[49m\u001b[43m(\u001b[49m\u001b[43miterator\u001b[49m\u001b[43m)\u001b[49m:\n\u001b[0;32m   1049\u001b[0m         \u001b[38;5;28mself\u001b[39m\u001b[38;5;241m.\u001b[39m_iterating \u001b[38;5;241m=\u001b[39m \u001b[38;5;28mself\u001b[39m\u001b[38;5;241m.\u001b[39m_original_iterator \u001b[38;5;129;01mis\u001b[39;00m \u001b[38;5;129;01mnot\u001b[39;00m \u001b[38;5;28;01mNone\u001b[39;00m\n\u001b[0;32m   1051\u001b[0m     \u001b[38;5;28;01mwhile\u001b[39;00m \u001b[38;5;28mself\u001b[39m\u001b[38;5;241m.\u001b[39mdispatch_one_batch(iterator):\n",
      "File \u001b[1;32m~\\AppData\\Local\\Programs\\Python\\Python311\\Lib\\site-packages\\joblib\\parallel.py:864\u001b[0m, in \u001b[0;36mParallel.dispatch_one_batch\u001b[1;34m(self, iterator)\u001b[0m\n\u001b[0;32m    862\u001b[0m     \u001b[38;5;28;01mreturn\u001b[39;00m \u001b[38;5;28;01mFalse\u001b[39;00m\n\u001b[0;32m    863\u001b[0m \u001b[38;5;28;01melse\u001b[39;00m:\n\u001b[1;32m--> 864\u001b[0m     \u001b[38;5;28;43mself\u001b[39;49m\u001b[38;5;241;43m.\u001b[39;49m\u001b[43m_dispatch\u001b[49m\u001b[43m(\u001b[49m\u001b[43mtasks\u001b[49m\u001b[43m)\u001b[49m\n\u001b[0;32m    865\u001b[0m     \u001b[38;5;28;01mreturn\u001b[39;00m \u001b[38;5;28;01mTrue\u001b[39;00m\n",
      "File \u001b[1;32m~\\AppData\\Local\\Programs\\Python\\Python311\\Lib\\site-packages\\joblib\\parallel.py:782\u001b[0m, in \u001b[0;36mParallel._dispatch\u001b[1;34m(self, batch)\u001b[0m\n\u001b[0;32m    780\u001b[0m \u001b[38;5;28;01mwith\u001b[39;00m \u001b[38;5;28mself\u001b[39m\u001b[38;5;241m.\u001b[39m_lock:\n\u001b[0;32m    781\u001b[0m     job_idx \u001b[38;5;241m=\u001b[39m \u001b[38;5;28mlen\u001b[39m(\u001b[38;5;28mself\u001b[39m\u001b[38;5;241m.\u001b[39m_jobs)\n\u001b[1;32m--> 782\u001b[0m     job \u001b[38;5;241m=\u001b[39m \u001b[38;5;28;43mself\u001b[39;49m\u001b[38;5;241;43m.\u001b[39;49m\u001b[43m_backend\u001b[49m\u001b[38;5;241;43m.\u001b[39;49m\u001b[43mapply_async\u001b[49m\u001b[43m(\u001b[49m\u001b[43mbatch\u001b[49m\u001b[43m,\u001b[49m\u001b[43m \u001b[49m\u001b[43mcallback\u001b[49m\u001b[38;5;241;43m=\u001b[39;49m\u001b[43mcb\u001b[49m\u001b[43m)\u001b[49m\n\u001b[0;32m    783\u001b[0m     \u001b[38;5;66;03m# A job can complete so quickly than its callback is\u001b[39;00m\n\u001b[0;32m    784\u001b[0m     \u001b[38;5;66;03m# called before we get here, causing self._jobs to\u001b[39;00m\n\u001b[0;32m    785\u001b[0m     \u001b[38;5;66;03m# grow. To ensure correct results ordering, .insert is\u001b[39;00m\n\u001b[0;32m    786\u001b[0m     \u001b[38;5;66;03m# used (rather than .append) in the following line\u001b[39;00m\n\u001b[0;32m    787\u001b[0m     \u001b[38;5;28mself\u001b[39m\u001b[38;5;241m.\u001b[39m_jobs\u001b[38;5;241m.\u001b[39minsert(job_idx, job)\n",
      "File \u001b[1;32m~\\AppData\\Local\\Programs\\Python\\Python311\\Lib\\site-packages\\joblib\\_parallel_backends.py:208\u001b[0m, in \u001b[0;36mSequentialBackend.apply_async\u001b[1;34m(self, func, callback)\u001b[0m\n\u001b[0;32m    206\u001b[0m \u001b[38;5;28;01mdef\u001b[39;00m \u001b[38;5;21mapply_async\u001b[39m(\u001b[38;5;28mself\u001b[39m, func, callback\u001b[38;5;241m=\u001b[39m\u001b[38;5;28;01mNone\u001b[39;00m):\n\u001b[0;32m    207\u001b[0m \u001b[38;5;250m    \u001b[39m\u001b[38;5;124;03m\"\"\"Schedule a func to be run\"\"\"\u001b[39;00m\n\u001b[1;32m--> 208\u001b[0m     result \u001b[38;5;241m=\u001b[39m \u001b[43mImmediateResult\u001b[49m\u001b[43m(\u001b[49m\u001b[43mfunc\u001b[49m\u001b[43m)\u001b[49m\n\u001b[0;32m    209\u001b[0m     \u001b[38;5;28;01mif\u001b[39;00m callback:\n\u001b[0;32m    210\u001b[0m         callback(result)\n",
      "File \u001b[1;32m~\\AppData\\Local\\Programs\\Python\\Python311\\Lib\\site-packages\\joblib\\_parallel_backends.py:572\u001b[0m, in \u001b[0;36mImmediateResult.__init__\u001b[1;34m(self, batch)\u001b[0m\n\u001b[0;32m    569\u001b[0m \u001b[38;5;28;01mdef\u001b[39;00m \u001b[38;5;21m__init__\u001b[39m(\u001b[38;5;28mself\u001b[39m, batch):\n\u001b[0;32m    570\u001b[0m     \u001b[38;5;66;03m# Don't delay the application, to avoid keeping the input\u001b[39;00m\n\u001b[0;32m    571\u001b[0m     \u001b[38;5;66;03m# arguments in memory\u001b[39;00m\n\u001b[1;32m--> 572\u001b[0m     \u001b[38;5;28mself\u001b[39m\u001b[38;5;241m.\u001b[39mresults \u001b[38;5;241m=\u001b[39m \u001b[43mbatch\u001b[49m\u001b[43m(\u001b[49m\u001b[43m)\u001b[49m\n",
      "File \u001b[1;32m~\\AppData\\Local\\Programs\\Python\\Python311\\Lib\\site-packages\\joblib\\parallel.py:263\u001b[0m, in \u001b[0;36mBatchedCalls.__call__\u001b[1;34m(self)\u001b[0m\n\u001b[0;32m    259\u001b[0m \u001b[38;5;28;01mdef\u001b[39;00m \u001b[38;5;21m__call__\u001b[39m(\u001b[38;5;28mself\u001b[39m):\n\u001b[0;32m    260\u001b[0m     \u001b[38;5;66;03m# Set the default nested backend to self._backend but do not set the\u001b[39;00m\n\u001b[0;32m    261\u001b[0m     \u001b[38;5;66;03m# change the default number of processes to -1\u001b[39;00m\n\u001b[0;32m    262\u001b[0m     \u001b[38;5;28;01mwith\u001b[39;00m parallel_backend(\u001b[38;5;28mself\u001b[39m\u001b[38;5;241m.\u001b[39m_backend, n_jobs\u001b[38;5;241m=\u001b[39m\u001b[38;5;28mself\u001b[39m\u001b[38;5;241m.\u001b[39m_n_jobs):\n\u001b[1;32m--> 263\u001b[0m         \u001b[38;5;28;01mreturn\u001b[39;00m \u001b[43m[\u001b[49m\u001b[43mfunc\u001b[49m\u001b[43m(\u001b[49m\u001b[38;5;241;43m*\u001b[39;49m\u001b[43margs\u001b[49m\u001b[43m,\u001b[49m\u001b[43m \u001b[49m\u001b[38;5;241;43m*\u001b[39;49m\u001b[38;5;241;43m*\u001b[39;49m\u001b[43mkwargs\u001b[49m\u001b[43m)\u001b[49m\n\u001b[0;32m    264\u001b[0m \u001b[43m                \u001b[49m\u001b[38;5;28;43;01mfor\u001b[39;49;00m\u001b[43m \u001b[49m\u001b[43mfunc\u001b[49m\u001b[43m,\u001b[49m\u001b[43m \u001b[49m\u001b[43margs\u001b[49m\u001b[43m,\u001b[49m\u001b[43m \u001b[49m\u001b[43mkwargs\u001b[49m\u001b[43m \u001b[49m\u001b[38;5;129;43;01min\u001b[39;49;00m\u001b[43m \u001b[49m\u001b[38;5;28;43mself\u001b[39;49m\u001b[38;5;241;43m.\u001b[39;49m\u001b[43mitems\u001b[49m\u001b[43m]\u001b[49m\n",
      "File \u001b[1;32m~\\AppData\\Local\\Programs\\Python\\Python311\\Lib\\site-packages\\joblib\\parallel.py:263\u001b[0m, in \u001b[0;36m<listcomp>\u001b[1;34m(.0)\u001b[0m\n\u001b[0;32m    259\u001b[0m \u001b[38;5;28;01mdef\u001b[39;00m \u001b[38;5;21m__call__\u001b[39m(\u001b[38;5;28mself\u001b[39m):\n\u001b[0;32m    260\u001b[0m     \u001b[38;5;66;03m# Set the default nested backend to self._backend but do not set the\u001b[39;00m\n\u001b[0;32m    261\u001b[0m     \u001b[38;5;66;03m# change the default number of processes to -1\u001b[39;00m\n\u001b[0;32m    262\u001b[0m     \u001b[38;5;28;01mwith\u001b[39;00m parallel_backend(\u001b[38;5;28mself\u001b[39m\u001b[38;5;241m.\u001b[39m_backend, n_jobs\u001b[38;5;241m=\u001b[39m\u001b[38;5;28mself\u001b[39m\u001b[38;5;241m.\u001b[39m_n_jobs):\n\u001b[1;32m--> 263\u001b[0m         \u001b[38;5;28;01mreturn\u001b[39;00m [\u001b[43mfunc\u001b[49m\u001b[43m(\u001b[49m\u001b[38;5;241;43m*\u001b[39;49m\u001b[43margs\u001b[49m\u001b[43m,\u001b[49m\u001b[43m \u001b[49m\u001b[38;5;241;43m*\u001b[39;49m\u001b[38;5;241;43m*\u001b[39;49m\u001b[43mkwargs\u001b[49m\u001b[43m)\u001b[49m\n\u001b[0;32m    264\u001b[0m                 \u001b[38;5;28;01mfor\u001b[39;00m func, args, kwargs \u001b[38;5;129;01min\u001b[39;00m \u001b[38;5;28mself\u001b[39m\u001b[38;5;241m.\u001b[39mitems]\n",
      "File \u001b[1;32m~\\AppData\\Local\\Programs\\Python\\Python311\\Lib\\site-packages\\sklearn\\utils\\parallel.py:123\u001b[0m, in \u001b[0;36m_FuncWrapper.__call__\u001b[1;34m(self, *args, **kwargs)\u001b[0m\n\u001b[0;32m    121\u001b[0m     config \u001b[38;5;241m=\u001b[39m {}\n\u001b[0;32m    122\u001b[0m \u001b[38;5;28;01mwith\u001b[39;00m config_context(\u001b[38;5;241m*\u001b[39m\u001b[38;5;241m*\u001b[39mconfig):\n\u001b[1;32m--> 123\u001b[0m     \u001b[38;5;28;01mreturn\u001b[39;00m \u001b[38;5;28;43mself\u001b[39;49m\u001b[38;5;241;43m.\u001b[39;49m\u001b[43mfunction\u001b[49m\u001b[43m(\u001b[49m\u001b[38;5;241;43m*\u001b[39;49m\u001b[43margs\u001b[49m\u001b[43m,\u001b[49m\u001b[43m \u001b[49m\u001b[38;5;241;43m*\u001b[39;49m\u001b[38;5;241;43m*\u001b[39;49m\u001b[43mkwargs\u001b[49m\u001b[43m)\u001b[49m\n",
      "File \u001b[1;32m~\\AppData\\Local\\Programs\\Python\\Python311\\Lib\\site-packages\\sklearn\\pipeline.py:893\u001b[0m, in \u001b[0;36m_fit_transform_one\u001b[1;34m(transformer, X, y, weight, message_clsname, message, **fit_params)\u001b[0m\n\u001b[0;32m    891\u001b[0m \u001b[38;5;28;01mwith\u001b[39;00m _print_elapsed_time(message_clsname, message):\n\u001b[0;32m    892\u001b[0m     \u001b[38;5;28;01mif\u001b[39;00m \u001b[38;5;28mhasattr\u001b[39m(transformer, \u001b[38;5;124m\"\u001b[39m\u001b[38;5;124mfit_transform\u001b[39m\u001b[38;5;124m\"\u001b[39m):\n\u001b[1;32m--> 893\u001b[0m         res \u001b[38;5;241m=\u001b[39m \u001b[43mtransformer\u001b[49m\u001b[38;5;241;43m.\u001b[39;49m\u001b[43mfit_transform\u001b[49m\u001b[43m(\u001b[49m\u001b[43mX\u001b[49m\u001b[43m,\u001b[49m\u001b[43m \u001b[49m\u001b[43my\u001b[49m\u001b[43m,\u001b[49m\u001b[43m \u001b[49m\u001b[38;5;241;43m*\u001b[39;49m\u001b[38;5;241;43m*\u001b[39;49m\u001b[43mfit_params\u001b[49m\u001b[43m)\u001b[49m\n\u001b[0;32m    894\u001b[0m     \u001b[38;5;28;01melse\u001b[39;00m:\n\u001b[0;32m    895\u001b[0m         res \u001b[38;5;241m=\u001b[39m transformer\u001b[38;5;241m.\u001b[39mfit(X, y, \u001b[38;5;241m*\u001b[39m\u001b[38;5;241m*\u001b[39mfit_params)\u001b[38;5;241m.\u001b[39mtransform(X)\n",
      "File \u001b[1;32m~\\AppData\\Local\\Programs\\Python\\Python311\\Lib\\site-packages\\sklearn\\utils\\_set_output.py:140\u001b[0m, in \u001b[0;36m_wrap_method_output.<locals>.wrapped\u001b[1;34m(self, X, *args, **kwargs)\u001b[0m\n\u001b[0;32m    138\u001b[0m \u001b[38;5;129m@wraps\u001b[39m(f)\n\u001b[0;32m    139\u001b[0m \u001b[38;5;28;01mdef\u001b[39;00m \u001b[38;5;21mwrapped\u001b[39m(\u001b[38;5;28mself\u001b[39m, X, \u001b[38;5;241m*\u001b[39margs, \u001b[38;5;241m*\u001b[39m\u001b[38;5;241m*\u001b[39mkwargs):\n\u001b[1;32m--> 140\u001b[0m     data_to_wrap \u001b[38;5;241m=\u001b[39m \u001b[43mf\u001b[49m\u001b[43m(\u001b[49m\u001b[38;5;28;43mself\u001b[39;49m\u001b[43m,\u001b[49m\u001b[43m \u001b[49m\u001b[43mX\u001b[49m\u001b[43m,\u001b[49m\u001b[43m \u001b[49m\u001b[38;5;241;43m*\u001b[39;49m\u001b[43margs\u001b[49m\u001b[43m,\u001b[49m\u001b[43m \u001b[49m\u001b[38;5;241;43m*\u001b[39;49m\u001b[38;5;241;43m*\u001b[39;49m\u001b[43mkwargs\u001b[49m\u001b[43m)\u001b[49m\n\u001b[0;32m    141\u001b[0m     \u001b[38;5;28;01mif\u001b[39;00m \u001b[38;5;28misinstance\u001b[39m(data_to_wrap, \u001b[38;5;28mtuple\u001b[39m):\n\u001b[0;32m    142\u001b[0m         \u001b[38;5;66;03m# only wrap the first output for cross decomposition\u001b[39;00m\n\u001b[0;32m    143\u001b[0m         \u001b[38;5;28;01mreturn\u001b[39;00m (\n\u001b[0;32m    144\u001b[0m             _wrap_data_with_container(method, data_to_wrap[\u001b[38;5;241m0\u001b[39m], X, \u001b[38;5;28mself\u001b[39m),\n\u001b[0;32m    145\u001b[0m             \u001b[38;5;241m*\u001b[39mdata_to_wrap[\u001b[38;5;241m1\u001b[39m:],\n\u001b[0;32m    146\u001b[0m         )\n",
      "File \u001b[1;32m~\\AppData\\Local\\Programs\\Python\\Python311\\Lib\\site-packages\\sklearn\\base.py:878\u001b[0m, in \u001b[0;36mTransformerMixin.fit_transform\u001b[1;34m(self, X, y, **fit_params)\u001b[0m\n\u001b[0;32m    874\u001b[0m \u001b[38;5;66;03m# non-optimized default implementation; override when a better\u001b[39;00m\n\u001b[0;32m    875\u001b[0m \u001b[38;5;66;03m# method is possible for a given clustering algorithm\u001b[39;00m\n\u001b[0;32m    876\u001b[0m \u001b[38;5;28;01mif\u001b[39;00m y \u001b[38;5;129;01mis\u001b[39;00m \u001b[38;5;28;01mNone\u001b[39;00m:\n\u001b[0;32m    877\u001b[0m     \u001b[38;5;66;03m# fit method of arity 1 (unsupervised transformation)\u001b[39;00m\n\u001b[1;32m--> 878\u001b[0m     \u001b[38;5;28;01mreturn\u001b[39;00m \u001b[38;5;28;43mself\u001b[39;49m\u001b[38;5;241;43m.\u001b[39;49m\u001b[43mfit\u001b[49m\u001b[43m(\u001b[49m\u001b[43mX\u001b[49m\u001b[43m,\u001b[49m\u001b[43m \u001b[49m\u001b[38;5;241;43m*\u001b[39;49m\u001b[38;5;241;43m*\u001b[39;49m\u001b[43mfit_params\u001b[49m\u001b[43m)\u001b[49m\u001b[38;5;241m.\u001b[39mtransform(X)\n\u001b[0;32m    879\u001b[0m \u001b[38;5;28;01melse\u001b[39;00m:\n\u001b[0;32m    880\u001b[0m     \u001b[38;5;66;03m# fit method of arity 2 (supervised transformation)\u001b[39;00m\n\u001b[0;32m    881\u001b[0m     \u001b[38;5;28;01mreturn\u001b[39;00m \u001b[38;5;28mself\u001b[39m\u001b[38;5;241m.\u001b[39mfit(X, y, \u001b[38;5;241m*\u001b[39m\u001b[38;5;241m*\u001b[39mfit_params)\u001b[38;5;241m.\u001b[39mtransform(X)\n",
      "File \u001b[1;32m~\\AppData\\Local\\Programs\\Python\\Python311\\Lib\\site-packages\\sklearn\\preprocessing\\_encoders.py:878\u001b[0m, in \u001b[0;36mOneHotEncoder.fit\u001b[1;34m(self, X, y)\u001b[0m\n\u001b[0;32m    874\u001b[0m     \u001b[38;5;28mself\u001b[39m\u001b[38;5;241m.\u001b[39msparse_output \u001b[38;5;241m=\u001b[39m \u001b[38;5;28mself\u001b[39m\u001b[38;5;241m.\u001b[39msparse\n\u001b[0;32m    876\u001b[0m \u001b[38;5;28mself\u001b[39m\u001b[38;5;241m.\u001b[39m_check_infrequent_enabled()\n\u001b[1;32m--> 878\u001b[0m fit_results \u001b[38;5;241m=\u001b[39m \u001b[38;5;28;43mself\u001b[39;49m\u001b[38;5;241;43m.\u001b[39;49m\u001b[43m_fit\u001b[49m\u001b[43m(\u001b[49m\n\u001b[0;32m    879\u001b[0m \u001b[43m    \u001b[49m\u001b[43mX\u001b[49m\u001b[43m,\u001b[49m\n\u001b[0;32m    880\u001b[0m \u001b[43m    \u001b[49m\u001b[43mhandle_unknown\u001b[49m\u001b[38;5;241;43m=\u001b[39;49m\u001b[38;5;28;43mself\u001b[39;49m\u001b[38;5;241;43m.\u001b[39;49m\u001b[43mhandle_unknown\u001b[49m\u001b[43m,\u001b[49m\n\u001b[0;32m    881\u001b[0m \u001b[43m    \u001b[49m\u001b[43mforce_all_finite\u001b[49m\u001b[38;5;241;43m=\u001b[39;49m\u001b[38;5;124;43m\"\u001b[39;49m\u001b[38;5;124;43mallow-nan\u001b[39;49m\u001b[38;5;124;43m\"\u001b[39;49m\u001b[43m,\u001b[49m\n\u001b[0;32m    882\u001b[0m \u001b[43m    \u001b[49m\u001b[43mreturn_counts\u001b[49m\u001b[38;5;241;43m=\u001b[39;49m\u001b[38;5;28;43mself\u001b[39;49m\u001b[38;5;241;43m.\u001b[39;49m\u001b[43m_infrequent_enabled\u001b[49m\u001b[43m,\u001b[49m\n\u001b[0;32m    883\u001b[0m \u001b[43m\u001b[49m\u001b[43m)\u001b[49m\n\u001b[0;32m    884\u001b[0m \u001b[38;5;28;01mif\u001b[39;00m \u001b[38;5;28mself\u001b[39m\u001b[38;5;241m.\u001b[39m_infrequent_enabled:\n\u001b[0;32m    885\u001b[0m     \u001b[38;5;28mself\u001b[39m\u001b[38;5;241m.\u001b[39m_fit_infrequent_category_mapping(\n\u001b[0;32m    886\u001b[0m         fit_results[\u001b[38;5;124m\"\u001b[39m\u001b[38;5;124mn_samples\u001b[39m\u001b[38;5;124m\"\u001b[39m], fit_results[\u001b[38;5;124m\"\u001b[39m\u001b[38;5;124mcategory_counts\u001b[39m\u001b[38;5;124m\"\u001b[39m]\n\u001b[0;32m    887\u001b[0m     )\n",
      "File \u001b[1;32m~\\AppData\\Local\\Programs\\Python\\Python311\\Lib\\site-packages\\sklearn\\preprocessing\\_encoders.py:93\u001b[0m, in \u001b[0;36m_BaseEncoder._fit\u001b[1;34m(self, X, handle_unknown, force_all_finite, return_counts)\u001b[0m\n\u001b[0;32m     90\u001b[0m Xi \u001b[38;5;241m=\u001b[39m X_list[i]\n\u001b[0;32m     92\u001b[0m \u001b[38;5;28;01mif\u001b[39;00m \u001b[38;5;28mself\u001b[39m\u001b[38;5;241m.\u001b[39mcategories \u001b[38;5;241m==\u001b[39m \u001b[38;5;124m\"\u001b[39m\u001b[38;5;124mauto\u001b[39m\u001b[38;5;124m\"\u001b[39m:\n\u001b[1;32m---> 93\u001b[0m     result \u001b[38;5;241m=\u001b[39m \u001b[43m_unique\u001b[49m\u001b[43m(\u001b[49m\u001b[43mXi\u001b[49m\u001b[43m,\u001b[49m\u001b[43m \u001b[49m\u001b[43mreturn_counts\u001b[49m\u001b[38;5;241;43m=\u001b[39;49m\u001b[43mreturn_counts\u001b[49m\u001b[43m)\u001b[49m\n\u001b[0;32m     94\u001b[0m     \u001b[38;5;28;01mif\u001b[39;00m return_counts:\n\u001b[0;32m     95\u001b[0m         cats, counts \u001b[38;5;241m=\u001b[39m result\n",
      "File \u001b[1;32m~\\AppData\\Local\\Programs\\Python\\Python311\\Lib\\site-packages\\sklearn\\utils\\_encode.py:41\u001b[0m, in \u001b[0;36m_unique\u001b[1;34m(values, return_inverse, return_counts)\u001b[0m\n\u001b[0;32m     10\u001b[0m \u001b[38;5;250m\u001b[39m\u001b[38;5;124;03m\"\"\"Helper function to find unique values with support for python objects.\u001b[39;00m\n\u001b[0;32m     11\u001b[0m \n\u001b[0;32m     12\u001b[0m \u001b[38;5;124;03mUses pure python method for object dtype, and numpy method for\u001b[39;00m\n\u001b[1;32m   (...)\u001b[0m\n\u001b[0;32m     38\u001b[0m \u001b[38;5;124;03m    array. Only provided if `return_counts` is True.\u001b[39;00m\n\u001b[0;32m     39\u001b[0m \u001b[38;5;124;03m\"\"\"\u001b[39;00m\n\u001b[0;32m     40\u001b[0m \u001b[38;5;28;01mif\u001b[39;00m values\u001b[38;5;241m.\u001b[39mdtype \u001b[38;5;241m==\u001b[39m \u001b[38;5;28mobject\u001b[39m:\n\u001b[1;32m---> 41\u001b[0m     \u001b[38;5;28;01mreturn\u001b[39;00m \u001b[43m_unique_python\u001b[49m\u001b[43m(\u001b[49m\n\u001b[0;32m     42\u001b[0m \u001b[43m        \u001b[49m\u001b[43mvalues\u001b[49m\u001b[43m,\u001b[49m\u001b[43m \u001b[49m\u001b[43mreturn_inverse\u001b[49m\u001b[38;5;241;43m=\u001b[39;49m\u001b[43mreturn_inverse\u001b[49m\u001b[43m,\u001b[49m\u001b[43m \u001b[49m\u001b[43mreturn_counts\u001b[49m\u001b[38;5;241;43m=\u001b[39;49m\u001b[43mreturn_counts\u001b[49m\n\u001b[0;32m     43\u001b[0m \u001b[43m    \u001b[49m\u001b[43m)\u001b[49m\n\u001b[0;32m     44\u001b[0m \u001b[38;5;66;03m# numerical\u001b[39;00m\n\u001b[0;32m     45\u001b[0m \u001b[38;5;28;01mreturn\u001b[39;00m _unique_np(\n\u001b[0;32m     46\u001b[0m     values, return_inverse\u001b[38;5;241m=\u001b[39mreturn_inverse, return_counts\u001b[38;5;241m=\u001b[39mreturn_counts\n\u001b[0;32m     47\u001b[0m )\n",
      "File \u001b[1;32m~\\AppData\\Local\\Programs\\Python\\Python311\\Lib\\site-packages\\sklearn\\utils\\_encode.py:178\u001b[0m, in \u001b[0;36m_unique_python\u001b[1;34m(values, return_inverse, return_counts)\u001b[0m\n\u001b[0;32m    176\u001b[0m \u001b[38;5;28;01mexcept\u001b[39;00m \u001b[38;5;167;01mTypeError\u001b[39;00m:\n\u001b[0;32m    177\u001b[0m     types \u001b[38;5;241m=\u001b[39m \u001b[38;5;28msorted\u001b[39m(t\u001b[38;5;241m.\u001b[39m\u001b[38;5;18m__qualname__\u001b[39m \u001b[38;5;28;01mfor\u001b[39;00m t \u001b[38;5;129;01min\u001b[39;00m \u001b[38;5;28mset\u001b[39m(\u001b[38;5;28mtype\u001b[39m(v) \u001b[38;5;28;01mfor\u001b[39;00m v \u001b[38;5;129;01min\u001b[39;00m values))\n\u001b[1;32m--> 178\u001b[0m     \u001b[38;5;28;01mraise\u001b[39;00m \u001b[38;5;167;01mTypeError\u001b[39;00m(\n\u001b[0;32m    179\u001b[0m         \u001b[38;5;124m\"\u001b[39m\u001b[38;5;124mEncoders require their input to be uniformly \u001b[39m\u001b[38;5;124m\"\u001b[39m\n\u001b[0;32m    180\u001b[0m         \u001b[38;5;124mf\u001b[39m\u001b[38;5;124m\"\u001b[39m\u001b[38;5;124mstrings or numbers. Got \u001b[39m\u001b[38;5;132;01m{\u001b[39;00mtypes\u001b[38;5;132;01m}\u001b[39;00m\u001b[38;5;124m\"\u001b[39m\n\u001b[0;32m    181\u001b[0m     )\n\u001b[0;32m    182\u001b[0m ret \u001b[38;5;241m=\u001b[39m (uniques,)\n\u001b[0;32m    184\u001b[0m \u001b[38;5;28;01mif\u001b[39;00m return_inverse:\n",
      "\u001b[1;31mTypeError\u001b[0m: Encoders require their input to be uniformly strings or numbers. Got ['dict']"
     ]
    }
   ],
   "source": [
    "ct = ColumnTransformer(transformers = [\n",
    "    ('ohe', OneHotEncoder(categories = \"auto\", drop='first', sparse_output=False), ['venue', 'batting_team', 'bowling_team'])\n",
    "], remainder = 'passthrough')\n",
    "\n",
    "scaler = StandardScaler()\n",
    "\n",
    "X_ohe = pd.DataFrame(ct.fit_transform(X))\n",
    "X_std = scaler.fit_transform(X_ohe)"
   ]
  },
  {
   "cell_type": "markdown",
   "id": "a9bfad3b",
   "metadata": {
    "ExecuteTime": {
     "end_time": "2023-04-18T06:14:56.143299Z",
     "start_time": "2023-04-18T06:14:56.138808Z"
    }
   },
   "source": [
    "- ## Train-test split"
   ]
  },
  {
   "cell_type": "code",
   "execution_count": null,
   "id": "5dc5c2a7",
   "metadata": {
    "ExecuteTime": {
     "end_time": "2023-04-20T04:10:44.516980Z",
     "start_time": "2023-04-20T04:10:44.516980Z"
    }
   },
   "outputs": [],
   "source": [
    "from sklearn.model_selection import train_test_split\n",
    "X_train, X_test, y_train, y_test = train_test_split(X_std, y, test_size = 0.2)"
   ]
  },
  {
   "cell_type": "code",
   "execution_count": null,
   "id": "6f8c73c6",
   "metadata": {
    "ExecuteTime": {
     "end_time": "2023-04-20T04:10:44.517994Z",
     "start_time": "2023-04-20T04:10:44.517994Z"
    }
   },
   "outputs": [],
   "source": [
    "def evaluate(regressor):\n",
    "    regressor.fit(X_train, y_train)\n",
    "    y_pred = np.round(regressor.predict(X_test), 2) # Round predictions to 2 decimal places\n",
    "    rmse = np.sqrt(((y_test - y_pred) ** 2).mean()) # RMSE calculation\n",
    "    mae = np.abs((y_test - y_pred)).mean() # MAE calculation\n",
    "    print(f\"RMSE: {rmse:.2f}\") # Use f-string to format output\n",
    "    print(f\"MAE: {mae:.2f}\") # Use f-string to format output    "
   ]
  },
  {
   "cell_type": "markdown",
   "id": "6f27373c",
   "metadata": {
    "ExecuteTime": {
     "end_time": "2023-04-18T06:17:54.556862Z",
     "start_time": "2023-04-18T06:17:54.552591Z"
    }
   },
   "source": [
    "- ## Models"
   ]
  },
  {
   "cell_type": "code",
   "execution_count": null,
   "id": "9cb460ac",
   "metadata": {
    "ExecuteTime": {
     "end_time": "2023-04-20T04:10:44.519000Z",
     "start_time": "2023-04-20T04:10:44.519000Z"
    }
   },
   "outputs": [],
   "source": [
    "# from sklearn.metrics import r2_score\n",
    "# AdaBoostRegressor(learning_rate=0.15, loss='exponential', n_estimators=20,\n",
    "#                   random_state=2154)"
   ]
  },
  {
   "cell_type": "code",
   "execution_count": null,
   "id": "8a4dbea3",
   "metadata": {
    "ExecuteTime": {
     "end_time": "2023-04-20T04:10:44.520000Z",
     "start_time": "2023-04-20T04:10:44.520000Z"
    },
    "scrolled": false
   },
   "outputs": [],
   "source": [
    "from sklearn.linear_model import LinearRegression\n",
    "regressor = LinearRegression()\n",
    "evaluate(regressor)"
   ]
  },
  {
   "cell_type": "code",
   "execution_count": null,
   "id": "9a0ea281",
   "metadata": {
    "ExecuteTime": {
     "end_time": "2023-04-20T04:10:44.520999Z",
     "start_time": "2023-04-20T04:10:44.520999Z"
    }
   },
   "outputs": [],
   "source": [
    "from sklearn.tree import DecisionTreeRegressor\n",
    "regressor = DecisionTreeRegressor()\n",
    "evaluate(regressor)"
   ]
  },
  {
   "cell_type": "code",
   "execution_count": null,
   "id": "b60d5c36",
   "metadata": {
    "ExecuteTime": {
     "end_time": "2023-04-20T04:10:44.522006Z",
     "start_time": "2023-04-20T04:10:44.522006Z"
    },
    "scrolled": true
   },
   "outputs": [],
   "source": [
    "from sklearn.ensemble import RandomForestRegressor\n",
    "regressor = RandomForestRegressor()\n",
    "evaluate(regressor)"
   ]
  },
  {
   "cell_type": "code",
   "execution_count": null,
   "id": "9ece4fd2",
   "metadata": {
    "ExecuteTime": {
     "end_time": "2023-04-20T04:10:44.523011Z",
     "start_time": "2023-04-20T04:10:44.523011Z"
    }
   },
   "outputs": [],
   "source": [
    "from sklearn.neighbors import KNeighborsRegressor\n",
    "regressor = KNeighborsRegressor()\n",
    "evaluate(regressor)"
   ]
  },
  {
   "cell_type": "code",
   "execution_count": null,
   "id": "62b221dc",
   "metadata": {
    "ExecuteTime": {
     "end_time": "2023-04-20T04:10:44.524016Z",
     "start_time": "2023-04-20T04:10:44.524016Z"
    }
   },
   "outputs": [],
   "source": [
    "from sklearn.svm import SVR\n",
    "regressor = SVR()\n",
    "evaluate(regressor)"
   ]
  },
  {
   "cell_type": "code",
   "execution_count": null,
   "id": "9f4a8d08",
   "metadata": {
    "ExecuteTime": {
     "end_time": "2023-04-20T04:10:44.525196Z",
     "start_time": "2023-04-20T04:10:44.525196Z"
    },
    "scrolled": true
   },
   "outputs": [],
   "source": [
    "import xgboost as xgb\n",
    "regressor = xgb.XGBRegressor()\n",
    "evaluate(regressor)"
   ]
  },
  {
   "cell_type": "code",
   "execution_count": null,
   "id": "c47e56cb",
   "metadata": {
    "ExecuteTime": {
     "end_time": "2023-04-20T04:10:44.526206Z",
     "start_time": "2023-04-20T04:10:44.526206Z"
    }
   },
   "outputs": [],
   "source": [
    "# import tensorflow as tf\n",
    "# from tensorflow.keras import layers, models\n",
    "\n",
    "# # Define the model architecture\n",
    "# model = models.Sequential([\n",
    "#     layers.Dense(256, activation='relu', input_shape=(X_train.shape[1],)),\n",
    "#     layers.Dense(128, activation='relu'),\n",
    "#     layers.Dense(1)\n",
    "# ])\n",
    "\n",
    "# # Compile the model\n",
    "# model.compile(optimizer='adam', loss='mean_absolute_error', metrics=['mae'])\n",
    "\n",
    "# # Fit the model to the training data\n",
    "# history = model.fit(X_train, y_train, epochs=200, batch_size=128, verbose=False)\n",
    "\n",
    "# # Evaluate the model on the test set\n",
    "# test_loss = model.evaluate(X_test, y_test)\n",
    "\n",
    "# # Print the test loss\n",
    "# print('Test loss:', test_loss)"
   ]
  },
  {
   "cell_type": "code",
   "execution_count": null,
   "id": "3cba5ba7",
   "metadata": {
    "ExecuteTime": {
     "end_time": "2023-04-20T04:10:44.527606Z",
     "start_time": "2023-04-20T04:10:44.527606Z"
    }
   },
   "outputs": [],
   "source": [
    "# import tensorflow as tf\n",
    "# from tensorflow.keras import layers, models\n",
    "\n",
    "# # Define a matrix of hyperparameters to test\n",
    "# params = {\n",
    "#     'batch_size': [16, 32],\n",
    "#     'epochs': [50, 100],\n",
    "#     'learning_rate': [0.001, 0.01]\n",
    "# }\n",
    "\n",
    "# # Define the model architecture\n",
    "# def build_model(learning_rate=0.001):\n",
    "#     model = models.Sequential([\n",
    "#         layers.Dense(64, activation='relu', input_shape=(X_train.shape[1],)),\n",
    "#         layers.Dense(32, activation='relu'),\n",
    "#         layers.Dense(1)\n",
    "#     ])\n",
    "#     optimizer = tf.keras.optimizers.Adam(learning_rate=learning_rate)\n",
    "#     model.compile(optimizer=optimizer, loss='mse', metrics=['mae'])\n",
    "#     return model\n",
    "\n",
    "# # Loop through the hyperparameter matrix and fit the model for each combination\n",
    "# for batch_size in params['batch_size']:\n",
    "#     for epochs in params['epochs']:\n",
    "#         for learning_rate in params['learning_rate']:\n",
    "#             print(f\"Fitting model with batch_size={batch_size}, epochs={epochs}, learning_rate={learning_rate}\")\n",
    "#             model = build_model(learning_rate=learning_rate)\n",
    "#             history = model.fit(X_train, y_train, epochs=epochs, batch_size=batch_size, validation_data=(X_test, y_test), verbose=0)\n",
    "#             test_loss, test_mae = model.evaluate(X_test, y_test)\n",
    "#             print(f\"Test loss: {test_loss}, Test MAE: {test_mae}\")\n"
   ]
  }
 ],
 "metadata": {
  "kernelspec": {
   "display_name": "Python 3 (ipykernel)",
   "language": "python",
   "name": "python3"
  },
  "language_info": {
   "codemirror_mode": {
    "name": "ipython",
    "version": 3
   },
   "file_extension": ".py",
   "mimetype": "text/x-python",
   "name": "python",
   "nbconvert_exporter": "python",
   "pygments_lexer": "ipython3",
   "version": "3.11.2"
  }
 },
 "nbformat": 4,
 "nbformat_minor": 5
}
