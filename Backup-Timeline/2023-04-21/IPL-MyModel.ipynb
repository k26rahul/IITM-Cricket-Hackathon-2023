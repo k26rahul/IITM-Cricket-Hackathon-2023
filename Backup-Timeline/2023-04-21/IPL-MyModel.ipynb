{
 "cells": [
  {
   "cell_type": "markdown",
   "id": "f68c29a3",
   "metadata": {
    "ExecuteTime": {
     "end_time": "2023-04-19T04:30:55.371001Z",
     "start_time": "2023-04-19T04:30:55.367538Z"
    }
   },
   "source": [
    "# MyModel"
   ]
  },
  {
   "cell_type": "code",
   "execution_count": 1,
   "id": "1b452e6d",
   "metadata": {
    "ExecuteTime": {
     "end_time": "2023-04-19T07:46:06.844883Z",
     "start_time": "2023-04-19T07:46:06.144602Z"
    }
   },
   "outputs": [],
   "source": [
    "import numpy as np\n",
    "import pandas as pd\n",
    "from sklearn.model_selection import train_test_split\n",
    "from sklearn.preprocessing import StandardScaler\n",
    "from sklearn.preprocessing import OneHotEncoder\n",
    "from sklearn.compose import ColumnTransformer"
   ]
  },
  {
   "cell_type": "code",
   "execution_count": 2,
   "id": "825a7122",
   "metadata": {
    "ExecuteTime": {
     "end_time": "2023-04-19T07:46:06.849995Z",
     "start_time": "2023-04-19T07:46:06.846175Z"
    }
   },
   "outputs": [],
   "source": [
    "def get_initial_training_dataframes(training_data):\n",
    "    ball_by_ball, matches_result = training_data\n",
    "    \n",
    "    ball_by_ball = ball_by_ball.rename(columns={\n",
    "        'ID': 'match_id',\n",
    "        'ballnumber': 'ball_number',\n",
    "        'non-striker': 'non_striker',\n",
    "        'BattingTeam': 'batting_team',\n",
    "    }).loc[:, [\n",
    "        'match_id',\n",
    "        'innings',\n",
    "        'batting_team',\n",
    "        'overs',\n",
    "        'ball_number',\n",
    "        'batter',\n",
    "        'bowler',\n",
    "        'total_run',\n",
    "    ]]\n",
    "    \n",
    "    matches_result = matches_result.rename(columns={\n",
    "        'ID': 'match_id',\n",
    "        'Team1': 'team_1',\n",
    "        'Team2': 'team_2',\n",
    "        'Venue': 'venue',\n",
    "    }).loc[:, [\n",
    "        'match_id',\n",
    "        'team_1',\n",
    "        'team_2',\n",
    "        'venue',\n",
    "    ]]\n",
    "\n",
    "    return ball_by_ball, matches_result"
   ]
  },
  {
   "cell_type": "code",
   "execution_count": 3,
   "id": "0299c2e2",
   "metadata": {
    "ExecuteTime": {
     "end_time": "2023-04-19T07:46:06.863385Z",
     "start_time": "2023-04-19T07:46:06.851024Z"
    }
   },
   "outputs": [],
   "source": [
    "venue_mapping = {\n",
    " 'Arun Jaitley Stadium, Delhi': 'Arun Jaitley Stadium',\n",
    " 'Arun Jaitley Stadium': 'Arun Jaitley Stadium',\n",
    " 'Brabourne Stadium, Mumbai': 'Brabourne Stadium',\n",
    " 'Brabourne Stadium': 'Brabourne Stadium',\n",
    " 'Dr DY Patil Sports Academy, Mumbai': 'Dr DY Patil Sports Academy',\n",
    " 'Dr DY Patil Sports Academy': 'Dr DY Patil Sports Academy',\n",
    " 'Eden Gardens, Kolkata': 'Eden Gardens',\n",
    " 'Eden Gardens': 'Eden Gardens',\n",
    " 'M Chinnaswamy Stadium': 'M.Chinnaswamy Stadium',\n",
    " 'M.Chinnaswamy Stadium': 'M.Chinnaswamy Stadium',\n",
    " 'Maharashtra Cricket Association Stadium, Pune': 'Maharashtra Cricket Association Stadium',\n",
    " 'Maharashtra Cricket Association Stadium': 'Maharashtra Cricket Association Stadium',\n",
    " 'Narendra Modi Stadium, Ahmedabad': 'Narendra Modi Stadium',\n",
    " 'Narendra Modi Stadium': 'Narendra Modi Stadium',\n",
    " 'Rajiv Gandhi International Stadium, Uppal': 'Rajiv Gandhi International Stadium',\n",
    " 'Rajiv Gandhi International Stadium': 'Rajiv Gandhi International Stadium',\n",
    " 'Wankhede Stadium, Mumbai': 'Wankhede Stadium',\n",
    " 'Wankhede Stadium': 'Wankhede Stadium',\n",
    " 'Himachal Pradesh Cricket Association Stadium': 'Himachal Pradesh Cricket Association Stadium',\n",
    " 'Sawai Mansingh Stadium': 'Sawai Mansingh Stadium',\n",
    " 'MA Chidambaram Stadium, Chepauk': 'MA Chidambaram Stadium',\n",
    " 'MA Chidambaram Stadium, Chepauk, Chennai': 'MA Chidambaram Stadium',\n",
    " 'MA Chidambaram Stadium': 'MA Chidambaram Stadium',\n",
    " 'Punjab Cricket Association IS Bindra Stadium, Mohali': 'Punjab Cricket Association IS Bindra Stadium',\n",
    " 'Punjab Cricket Association Stadium, Mohali': 'Punjab Cricket Association IS Bindra Stadium',\n",
    " 'Punjab Cricket Association IS Bindra Stadium': 'Punjab Cricket Association IS Bindra Stadium'\n",
    "}\n",
    "\n",
    "venue_mapping.update({\n",
    "    'Wankhede Stadium , Mumbai': 'Wankhede Stadium',\n",
    "    'Rajiv Gandhi International Stadium, Hyderabad': 'Rajiv Gandhi International Stadium',\n",
    "    'Sawai Mansingh Stadium, Jaipur': 'Sawai Mansingh Stadium',\n",
    "    'Punjab Cricket Association IS Bindra Stadium,Chandigarh': 'Punjab Cricket Association IS Bindra Stadium',\n",
    "    'M Chinnaswamy Stadium, Bangalore': 'M.Chinnaswamy Stadium',\n",
    "    'M.Chinnaswamy Stadium, Bangalore': 'M.Chinnaswamy Stadium',\n",
    "    'M Chinnaswamy Stadium, Bengaluru': 'M.Chinnaswamy Stadium',\n",
    "    'MA Chidambaram Stadium, Chennai': 'MA Chidambaram Stadium',\n",
    "    ' Bharat Ratna Shri Atal Bihari Vajpayee Ekana Cricket Stadium, Lucknow': \n",
    "})"
   ]
  },
  {
   "cell_type": "code",
   "execution_count": 4,
   "id": "8ce5cc20",
   "metadata": {
    "ExecuteTime": {
     "end_time": "2023-04-19T07:46:06.871763Z",
     "start_time": "2023-04-19T07:46:06.864691Z"
    }
   },
   "outputs": [],
   "source": [
    "team_mapping = {\n",
    " 'Rajasthan Royals': 'Rajasthan Royals',\n",
    " 'Gujarat Titans': 'Gujarat Titans',\n",
    " 'Royal Challengers Bangalore': 'Royal Challengers Bangalore',\n",
    " 'Lucknow Super Giants': 'Lucknow Super Giants',\n",
    " 'Sunrisers Hyderabad': 'Sunrisers Hyderabad',\n",
    " 'Mumbai Indians': 'Mumbai Indians',\n",
    " 'Chennai Super Kings': 'Chennai Super Kings',\n",
    " 'Kolkata Knight Riders': 'Kolkata Knight Riders',\n",
    " 'Kings XI Punjab': 'Punjab Kings',\n",
    " 'Punjab Kings': 'Punjab Kings',\n",
    " 'Delhi Daredevils': 'Delhi Capitals',\n",
    " 'Delhi Capitals': 'Delhi Capitals'\n",
    "}"
   ]
  },
  {
   "cell_type": "code",
   "execution_count": 5,
   "id": "c9091be2",
   "metadata": {
    "ExecuteTime": {
     "end_time": "2023-04-19T07:46:06.880423Z",
     "start_time": "2023-04-19T07:46:06.873012Z"
    }
   },
   "outputs": [],
   "source": [
    "def do_venue_mapping(df):\n",
    "    df.venue = df.venue.map(venue_mapping)\n",
    "    return df"
   ]
  },
  {
   "cell_type": "code",
   "execution_count": 6,
   "id": "50403478",
   "metadata": {
    "ExecuteTime": {
     "end_time": "2023-04-19T07:46:06.888835Z",
     "start_time": "2023-04-19T07:46:06.881432Z"
    }
   },
   "outputs": [],
   "source": [
    "def do_team_mapping(ball_by_ball, matches_result):\n",
    "    matches_result.team_1 = matches_result.team_1.map(team_mapping)\n",
    "    matches_result.team_2 = matches_result.team_2.map(team_mapping)\n",
    "    ball_by_ball.batting_team = ball_by_ball.batting_team.map(team_mapping)\n",
    "    return ball_by_ball, matches_result"
   ]
  },
  {
   "cell_type": "code",
   "execution_count": 7,
   "id": "4238125e",
   "metadata": {
    "ExecuteTime": {
     "end_time": "2023-04-19T07:46:06.897146Z",
     "start_time": "2023-04-19T07:46:06.889010Z"
    }
   },
   "outputs": [],
   "source": [
    "def remove_unnecessary_rows(ball_by_ball, matches_result):\n",
    "    ball_by_ball = ball_by_ball.dropna(subset=['batting_team'])\n",
    "    matches_result = matches_result.dropna(subset=['team_1', 'team_2', 'venue'])\n",
    "    return ball_by_ball, matches_result"
   ]
  },
  {
   "cell_type": "code",
   "execution_count": 8,
   "id": "36fab1c6",
   "metadata": {
    "ExecuteTime": {
     "end_time": "2023-04-19T07:46:06.905928Z",
     "start_time": "2023-04-19T07:46:06.898480Z"
    }
   },
   "outputs": [],
   "source": [
    "def select_innings_and_overs(ball_by_ball):\n",
    "    ball_by_ball = ball_by_ball.loc[(ball_by_ball.overs <= 5) & (ball_by_ball.innings <= 2)]\n",
    "    ball_by_ball.innings = ball_by_ball.innings.replace({1: 0, 2: 1})\n",
    "    return ball_by_ball"
   ]
  },
  {
   "cell_type": "code",
   "execution_count": 9,
   "id": "ab6e3ab9",
   "metadata": {
    "ExecuteTime": {
     "end_time": "2023-04-19T07:46:06.915106Z",
     "start_time": "2023-04-19T07:46:06.907726Z"
    }
   },
   "outputs": [],
   "source": [
    "def get_final_training_dataframe(ball_by_ball, matches_result):\n",
    "    gb = ball_by_ball.groupby(['match_id', 'innings', 'batting_team'])\n",
    "    \n",
    "    total_runs = gb['total_run'].sum()\n",
    "    batsmen = gb['batter'].unique()\n",
    "    bowlers = gb['bowler'].unique()\n",
    "    \n",
    "    total_runs = total_runs.to_frame(name = 'total_runs').reset_index()\n",
    "    batsmen = batsmen.to_frame(name = 'batsmen').reset_index()\n",
    "    bowlers = bowlers.to_frame(name = 'bowlers').reset_index()\n",
    "    \n",
    "    data = total_runs.merge(batsmen, how='right', on=['match_id','innings','batting_team'])\n",
    "    data = data.merge(bowlers, how='right', on=['match_id','innings','batting_team'])\n",
    "    data = data.merge(matches_result, on=['match_id'])\n",
    "    \n",
    "    mask = data['batting_team'] == data['team_1']\n",
    "    data.loc[mask, 'bowling_team'] = data['team_2']\n",
    "    data.loc[~mask, 'bowling_team'] = data['team_1']\n",
    "    \n",
    "    # match_id == 829763, data for one innings is missing\n",
    "    # match_id == 829813, total_runs for one innings is 2 (probably a mistake in data entry)\n",
    "    data = data.drop(data[(data['match_id'] == 829763) | (data['match_id'] == 829813)].index)\n",
    "\n",
    "    data['count_batsmen'] = [len(x) for x in data['batsmen']]\n",
    "    data['count_bowlers'] = [len(x) for x in data['bowlers']]\n",
    "\n",
    "    data = data.drop(columns=['match_id', 'batsmen', 'bowlers', 'team_1', 'team_2'])\n",
    "    data = data[['venue', 'innings', 'batting_team', 'bowling_team', 'count_batsmen', 'count_bowlers', 'total_runs']]\n",
    "    \n",
    "    return data"
   ]
  },
  {
   "cell_type": "code",
   "execution_count": 10,
   "id": "0b2d1b8c",
   "metadata": {
    "ExecuteTime": {
     "end_time": "2023-04-19T07:46:06.922648Z",
     "start_time": "2023-04-19T07:46:06.917612Z"
    }
   },
   "outputs": [],
   "source": [
    "def preprocess(training_data):\n",
    "    ball_by_ball, matches_result = get_initial_training_dataframes(training_data)\n",
    "    matches_result = do_venue_mapping(matches_result)\n",
    "    ball_by_ball, matches_result = do_team_mapping(ball_by_ball, matches_result)\n",
    "    ball_by_ball, matches_result = remove_unnecessary_rows(ball_by_ball, matches_result)\n",
    "    ball_by_ball = select_innings_and_overs(ball_by_ball)\n",
    "    data = get_final_training_dataframe(ball_by_ball, matches_result)\n",
    "    return data"
   ]
  },
  {
   "cell_type": "code",
   "execution_count": 11,
   "id": "ee133648",
   "metadata": {
    "ExecuteTime": {
     "end_time": "2023-04-19T07:46:06.931548Z",
     "start_time": "2023-04-19T07:46:06.923656Z"
    }
   },
   "outputs": [],
   "source": [
    "class MyModel:\n",
    "    def __init__(self):\n",
    "        pass"
   ]
  },
  {
   "cell_type": "code",
   "execution_count": 12,
   "id": "fcb55dfd",
   "metadata": {
    "ExecuteTime": {
     "end_time": "2023-04-19T07:46:06.939796Z",
     "start_time": "2023-04-19T07:46:06.932067Z"
    }
   },
   "outputs": [],
   "source": [
    "def get_trained_model(X_train, y_train):\n",
    "    from sklearn.linear_model import LinearRegression\n",
    "    return LinearRegression().fit(X_train, y_train)"
   ]
  },
  {
   "cell_type": "code",
   "execution_count": 13,
   "id": "e5d34052",
   "metadata": {
    "ExecuteTime": {
     "end_time": "2023-04-19T07:46:06.948025Z",
     "start_time": "2023-04-19T07:46:06.939796Z"
    }
   },
   "outputs": [],
   "source": [
    "def MyModel_fit(self, training_data):\n",
    "    data = preprocess(training_data)\n",
    "    \n",
    "    X = data.iloc[:, :-1]\n",
    "    y = data[\"total_runs\"]\n",
    "\n",
    "    self.ct = ColumnTransformer(transformers = [\n",
    "        ('ohe', OneHotEncoder(categories = \"auto\", drop='first', sparse_output=False), ['venue', 'batting_team', 'bowling_team'])\n",
    "    ], remainder = 'passthrough')\n",
    "\n",
    "    self.scaler = StandardScaler()\n",
    "\n",
    "    X_ohe = pd.DataFrame(self.ct.fit_transform(X))\n",
    "    X_std = self.scaler.fit_transform(X_ohe)\n",
    "    \n",
    "    X_train, X_test, y_train, y_test = train_test_split(X_std, y, test_size = 0.2)\n",
    "    self.model = get_trained_model(X_train, y_train)\n",
    "    \n",
    "    self.debug = {\n",
    "        \"data\": data, \n",
    "        \"X_ohe\": X_ohe, \n",
    "        \"X_std\": X_std, \n",
    "        \"X_train\": X_train, \n",
    "        \"X_test\": X_test, \n",
    "        \"y_train\": y_train, \n",
    "        \"y_test\": y_test\n",
    "    }"
   ]
  },
  {
   "cell_type": "code",
   "execution_count": 14,
   "id": "37cf6766",
   "metadata": {
    "ExecuteTime": {
     "end_time": "2023-04-19T07:46:06.956740Z",
     "start_time": "2023-04-19T07:46:06.949299Z"
    }
   },
   "outputs": [],
   "source": [
    "def MyModel_predict(self, test_data, dev=False):\n",
    "    if (dev == False):\n",
    "        test_data = test_data.iloc[:, 1:]\n",
    "        test_data['count_batsmen'] = [len(x) for x in test_data['batsmen']]\n",
    "        test_data['count_bowlers'] = [len(x) for x in test_data['bowlers']]\n",
    "        test_data = do_venue_mapping(test_data)\n",
    "\n",
    "    test_data_ohe = self.ct.transform(test_data)\n",
    "    test_data_std = self.scaler.transform(test_data_ohe)\n",
    "    return self.model.predict(test_data_std)"
   ]
  },
  {
   "cell_type": "code",
   "execution_count": 15,
   "id": "5092a6d2",
   "metadata": {
    "ExecuteTime": {
     "end_time": "2023-04-19T07:46:06.965207Z",
     "start_time": "2023-04-19T07:46:06.957749Z"
    }
   },
   "outputs": [],
   "source": [
    "MyModel.fit = MyModel_fit\n",
    "MyModel.predict = MyModel_predict"
   ]
  },
  {
   "cell_type": "markdown",
   "id": "fbcb72f8",
   "metadata": {
    "ExecuteTime": {
     "end_time": "2023-04-19T04:30:38.842976Z",
     "start_time": "2023-04-19T04:30:38.837542Z"
    }
   },
   "source": [
    "# Main.py"
   ]
  },
  {
   "cell_type": "code",
   "execution_count": 16,
   "id": "64ed6197",
   "metadata": {
    "ExecuteTime": {
     "end_time": "2023-04-19T07:46:07.197920Z",
     "start_time": "2023-04-19T07:46:06.966178Z"
    }
   },
   "outputs": [],
   "source": [
    "ball_by_ball = pd.read_csv('./Data/IPL_Ball_by_Ball_2008_2022.csv')\n",
    "matches_result = pd.read_csv('./Data/IPL_Matches_Result_2008_2022.csv')"
   ]
  },
  {
   "cell_type": "code",
   "execution_count": 17,
   "id": "e407056b",
   "metadata": {
    "ExecuteTime": {
     "end_time": "2023-04-19T07:46:07.201675Z",
     "start_time": "2023-04-19T07:46:07.198928Z"
    }
   },
   "outputs": [],
   "source": [
    "a_model = MyModel()"
   ]
  },
  {
   "cell_type": "code",
   "execution_count": 18,
   "id": "d51df97e",
   "metadata": {
    "ExecuteTime": {
     "end_time": "2023-04-19T07:46:07.450832Z",
     "start_time": "2023-04-19T07:46:07.202682Z"
    },
    "scrolled": true
   },
   "outputs": [
    {
     "name": "stderr",
     "output_type": "stream",
     "text": [
      "C:\\Users\\k26ra\\AppData\\Local\\Temp\\ipykernel_18360\\671351269.py:3: SettingWithCopyWarning: \n",
      "A value is trying to be set on a copy of a slice from a DataFrame.\n",
      "Try using .loc[row_indexer,col_indexer] = value instead\n",
      "\n",
      "See the caveats in the documentation: https://pandas.pydata.org/pandas-docs/stable/user_guide/indexing.html#returning-a-view-versus-a-copy\n",
      "  ball_by_ball.innings = ball_by_ball.innings.replace({1: 0, 2: 1})\n"
     ]
    }
   ],
   "source": [
    "a_model.fit([ball_by_ball, matches_result])"
   ]
  },
  {
   "cell_type": "code",
   "execution_count": 19,
   "id": "95d0d066",
   "metadata": {
    "ExecuteTime": {
     "end_time": "2023-04-19T07:46:07.462208Z",
     "start_time": "2023-04-19T07:46:07.451841Z"
    }
   },
   "outputs": [
    {
     "data": {
      "text/plain": [
       "8.280540344552167"
      ]
     },
     "execution_count": 19,
     "metadata": {},
     "output_type": "execute_result"
    }
   ],
   "source": [
    "from sklearn.metrics import mean_absolute_error\n",
    "sample = a_model.debug['data'].sample(frac=.5)\n",
    "X = sample.iloc[:, 0:-1]\n",
    "y = sample.iloc[:, -1]\n",
    "y_pred = a_model.predict(X, dev=True)\n",
    "mean_absolute_error(y, y_pred)"
   ]
  },
  {
   "cell_type": "markdown",
   "id": "db3cda41",
   "metadata": {
    "ExecuteTime": {
     "end_time": "2023-04-19T06:04:02.294440Z",
     "start_time": "2023-04-19T06:04:02.291568Z"
    }
   },
   "source": [
    "# FilesUsed"
   ]
  },
  {
   "cell_type": "code",
   "execution_count": 20,
   "id": "b9357e47",
   "metadata": {
    "ExecuteTime": {
     "end_time": "2023-04-19T07:46:07.466442Z",
     "start_time": "2023-04-19T07:46:07.463771Z"
    }
   },
   "outputs": [],
   "source": [
    "import os"
   ]
  },
  {
   "cell_type": "code",
   "execution_count": 21,
   "id": "e25821d2",
   "metadata": {
    "ExecuteTime": {
     "end_time": "2023-04-19T07:46:07.475643Z",
     "start_time": "2023-04-19T07:46:07.467576Z"
    }
   },
   "outputs": [],
   "source": [
    "files = os.listdir('./FilesUsed')"
   ]
  },
  {
   "cell_type": "code",
   "execution_count": 31,
   "id": "c6cb357d",
   "metadata": {
    "ExecuteTime": {
     "end_time": "2023-04-19T07:51:48.850868Z",
     "start_time": "2023-04-19T07:51:48.702657Z"
    }
   },
   "outputs": [
    {
     "name": "stdout",
     "output_type": "stream",
     "text": [
      "X_file_name: ./FilesUsed/test_file_matchid_12.csv\n",
      "'Wankhede Stadium , Mumbai'\n",
      "True\n",
      "61.0 68.0\n",
      "155.7364196858824 202.8119920394721\n",
      "114.77420586267725 \n",
      "\n",
      "X_file_name: ./FilesUsed/test_file_matchid_13.csv\n",
      "'Narendra Modi Stadium, Ahmedabad'\n",
      "True\n",
      "54.0 43.0\n",
      "165.50119569745095 36.92874466147033\n",
      "58.78622551799031 \n",
      "\n",
      "X_file_name: ./FilesUsed/test_file_matchid_14.csv\n",
      "'Rajiv Gandhi International Stadium, Hyderabad'\n",
      "True\n",
      "41.0 34.0\n",
      "-28.67676118408346 180.74676569517428\n",
      "108.21176343962887 \n",
      "\n",
      "X_file_name: ./FilesUsed/test_file_matchid_15.csv\n",
      "'M.Chinnaswamy Stadium, Bangalore'\n",
      "True\n",
      "56.0 37.0\n",
      "170.30055647582594 24.884633908191685\n",
      "63.20796128381713 \n",
      "\n",
      "X_file_name: ./FilesUsed/test_file_matchid_16.csv\n",
      "'Arun Jaitley Stadium, Delhi'\n",
      "True\n",
      "51.0 68.0\n",
      "257.72018484872314 272.5678169811059\n",
      "205.64400091491453 \n",
      "\n",
      "X_file_name: ./FilesUsed/test_file_matchid_17.csv\n",
      "'MA Chidambaram Stadium, Chennai'\n",
      "True\n",
      "57.0 45.0\n",
      "107.88245080625184 180.36576003389644\n",
      "93.12410542007413 \n",
      "\n",
      "X_file_name: ./FilesUsed/test_file_matchid_18.csv\n",
      "'Punjab Cricket Association IS Bindra Stadium,Chandigarh'\n",
      "True\n",
      "52.0 56.0\n",
      "188.86539124311835 150.41775272059283\n",
      "115.64157198185559 \n",
      "\n",
      "X_file_name: ./FilesUsed/test_file_matchid_19.csv\n",
      "'Eden Gardens, Kolkata'\n",
      "True\n",
      "65.0 62.0\n",
      "127.19836383473871 5.766806407263374\n",
      "59.21577871373767 \n",
      "\n",
      "X_file_name: ./FilesUsed/test_file_matchid_20.csv\n",
      "'M Chinnaswamy Stadium, Bengaluru'\n",
      "True\n",
      "47.0 32.0\n",
      "217.49619873892232 75.29579700745931\n",
      "106.89599787319082 \n",
      "\n",
      "X_file_name: ./FilesUsed/test_file_matchid_21.csv\n",
      "' Bharat Ratna Shri Atal Bihari Vajpayee Ekana Cricket Stadium, Lucknow'\n",
      "False\n"
     ]
    },
    {
     "ename": "ValueError",
     "evalue": "Found unknown categories [nan] in column 0 during transform",
     "output_type": "error",
     "traceback": [
      "\u001b[1;31m---------------------------------------------------------------------------\u001b[0m",
      "\u001b[1;31mValueError\u001b[0m                                Traceback (most recent call last)",
      "Cell \u001b[1;32mIn[31], line 14\u001b[0m\n\u001b[0;32m     11\u001b[0m \u001b[38;5;28mprint\u001b[39m(\u001b[38;5;124mf\u001b[39m\u001b[38;5;124m\"\u001b[39m\u001b[38;5;124m'\u001b[39m\u001b[38;5;132;01m{\u001b[39;00mX[\u001b[38;5;124m'\u001b[39m\u001b[38;5;124mvenue\u001b[39m\u001b[38;5;124m'\u001b[39m][\u001b[38;5;241m0\u001b[39m]\u001b[38;5;132;01m}\u001b[39;00m\u001b[38;5;124m'\u001b[39m\u001b[38;5;124m\"\u001b[39m)\n\u001b[0;32m     12\u001b[0m \u001b[38;5;28mprint\u001b[39m(\u001b[38;5;124mf\u001b[39m\u001b[38;5;124m\"\u001b[39m\u001b[38;5;132;01m{\u001b[39;00mX[\u001b[38;5;124m'\u001b[39m\u001b[38;5;124mvenue\u001b[39m\u001b[38;5;124m'\u001b[39m][\u001b[38;5;241m0\u001b[39m]\u001b[38;5;250m \u001b[39m\u001b[38;5;129;01min\u001b[39;00m\u001b[38;5;250m \u001b[39mvenue_mapping\u001b[38;5;132;01m}\u001b[39;00m\u001b[38;5;124m\"\u001b[39m)\n\u001b[1;32m---> 14\u001b[0m y_pred \u001b[38;5;241m=\u001b[39m \u001b[43ma_model\u001b[49m\u001b[38;5;241;43m.\u001b[39;49m\u001b[43mpredict\u001b[49m\u001b[43m(\u001b[49m\u001b[43mX\u001b[49m\u001b[43m)\u001b[49m\n\u001b[0;32m     15\u001b[0m \u001b[38;5;28mprint\u001b[39m(\u001b[38;5;241m*\u001b[39my)\n\u001b[0;32m     16\u001b[0m \u001b[38;5;28mprint\u001b[39m(\u001b[38;5;241m*\u001b[39my_pred)\n",
      "Cell \u001b[1;32mIn[14], line 8\u001b[0m, in \u001b[0;36mMyModel_predict\u001b[1;34m(self, test_data, dev)\u001b[0m\n\u001b[0;32m      5\u001b[0m     test_data[\u001b[38;5;124m'\u001b[39m\u001b[38;5;124mcount_bowlers\u001b[39m\u001b[38;5;124m'\u001b[39m] \u001b[38;5;241m=\u001b[39m [\u001b[38;5;28mlen\u001b[39m(x) \u001b[38;5;28;01mfor\u001b[39;00m x \u001b[38;5;129;01min\u001b[39;00m test_data[\u001b[38;5;124m'\u001b[39m\u001b[38;5;124mbowlers\u001b[39m\u001b[38;5;124m'\u001b[39m]]\n\u001b[0;32m      6\u001b[0m     test_data \u001b[38;5;241m=\u001b[39m do_venue_mapping(test_data)\n\u001b[1;32m----> 8\u001b[0m test_data_ohe \u001b[38;5;241m=\u001b[39m \u001b[38;5;28;43mself\u001b[39;49m\u001b[38;5;241;43m.\u001b[39;49m\u001b[43mct\u001b[49m\u001b[38;5;241;43m.\u001b[39;49m\u001b[43mtransform\u001b[49m\u001b[43m(\u001b[49m\u001b[43mtest_data\u001b[49m\u001b[43m)\u001b[49m\n\u001b[0;32m      9\u001b[0m test_data_std \u001b[38;5;241m=\u001b[39m \u001b[38;5;28mself\u001b[39m\u001b[38;5;241m.\u001b[39mscaler\u001b[38;5;241m.\u001b[39mtransform(test_data_ohe)\n\u001b[0;32m     10\u001b[0m \u001b[38;5;28;01mreturn\u001b[39;00m \u001b[38;5;28mself\u001b[39m\u001b[38;5;241m.\u001b[39mmodel\u001b[38;5;241m.\u001b[39mpredict(test_data_std)\n",
      "File \u001b[1;32m~\\AppData\\Local\\Programs\\Python\\Python311\\Lib\\site-packages\\sklearn\\utils\\_set_output.py:140\u001b[0m, in \u001b[0;36m_wrap_method_output.<locals>.wrapped\u001b[1;34m(self, X, *args, **kwargs)\u001b[0m\n\u001b[0;32m    138\u001b[0m \u001b[38;5;129m@wraps\u001b[39m(f)\n\u001b[0;32m    139\u001b[0m \u001b[38;5;28;01mdef\u001b[39;00m \u001b[38;5;21mwrapped\u001b[39m(\u001b[38;5;28mself\u001b[39m, X, \u001b[38;5;241m*\u001b[39margs, \u001b[38;5;241m*\u001b[39m\u001b[38;5;241m*\u001b[39mkwargs):\n\u001b[1;32m--> 140\u001b[0m     data_to_wrap \u001b[38;5;241m=\u001b[39m \u001b[43mf\u001b[49m\u001b[43m(\u001b[49m\u001b[38;5;28;43mself\u001b[39;49m\u001b[43m,\u001b[49m\u001b[43m \u001b[49m\u001b[43mX\u001b[49m\u001b[43m,\u001b[49m\u001b[43m \u001b[49m\u001b[38;5;241;43m*\u001b[39;49m\u001b[43margs\u001b[49m\u001b[43m,\u001b[49m\u001b[43m \u001b[49m\u001b[38;5;241;43m*\u001b[39;49m\u001b[38;5;241;43m*\u001b[39;49m\u001b[43mkwargs\u001b[49m\u001b[43m)\u001b[49m\n\u001b[0;32m    141\u001b[0m     \u001b[38;5;28;01mif\u001b[39;00m \u001b[38;5;28misinstance\u001b[39m(data_to_wrap, \u001b[38;5;28mtuple\u001b[39m):\n\u001b[0;32m    142\u001b[0m         \u001b[38;5;66;03m# only wrap the first output for cross decomposition\u001b[39;00m\n\u001b[0;32m    143\u001b[0m         \u001b[38;5;28;01mreturn\u001b[39;00m (\n\u001b[0;32m    144\u001b[0m             _wrap_data_with_container(method, data_to_wrap[\u001b[38;5;241m0\u001b[39m], X, \u001b[38;5;28mself\u001b[39m),\n\u001b[0;32m    145\u001b[0m             \u001b[38;5;241m*\u001b[39mdata_to_wrap[\u001b[38;5;241m1\u001b[39m:],\n\u001b[0;32m    146\u001b[0m         )\n",
      "File \u001b[1;32m~\\AppData\\Local\\Programs\\Python\\Python311\\Lib\\site-packages\\sklearn\\compose\\_column_transformer.py:800\u001b[0m, in \u001b[0;36mColumnTransformer.transform\u001b[1;34m(self, X)\u001b[0m\n\u001b[0;32m    795\u001b[0m \u001b[38;5;28;01melse\u001b[39;00m:\n\u001b[0;32m    796\u001b[0m     \u001b[38;5;66;03m# ndarray was used for fitting or transforming, thus we only\u001b[39;00m\n\u001b[0;32m    797\u001b[0m     \u001b[38;5;66;03m# check that n_features_in_ is consistent\u001b[39;00m\n\u001b[0;32m    798\u001b[0m     \u001b[38;5;28mself\u001b[39m\u001b[38;5;241m.\u001b[39m_check_n_features(X, reset\u001b[38;5;241m=\u001b[39m\u001b[38;5;28;01mFalse\u001b[39;00m)\n\u001b[1;32m--> 800\u001b[0m Xs \u001b[38;5;241m=\u001b[39m \u001b[38;5;28;43mself\u001b[39;49m\u001b[38;5;241;43m.\u001b[39;49m\u001b[43m_fit_transform\u001b[49m\u001b[43m(\u001b[49m\n\u001b[0;32m    801\u001b[0m \u001b[43m    \u001b[49m\u001b[43mX\u001b[49m\u001b[43m,\u001b[49m\n\u001b[0;32m    802\u001b[0m \u001b[43m    \u001b[49m\u001b[38;5;28;43;01mNone\u001b[39;49;00m\u001b[43m,\u001b[49m\n\u001b[0;32m    803\u001b[0m \u001b[43m    \u001b[49m\u001b[43m_transform_one\u001b[49m\u001b[43m,\u001b[49m\n\u001b[0;32m    804\u001b[0m \u001b[43m    \u001b[49m\u001b[43mfitted\u001b[49m\u001b[38;5;241;43m=\u001b[39;49m\u001b[38;5;28;43;01mTrue\u001b[39;49;00m\u001b[43m,\u001b[49m\n\u001b[0;32m    805\u001b[0m \u001b[43m    \u001b[49m\u001b[43mcolumn_as_strings\u001b[49m\u001b[38;5;241;43m=\u001b[39;49m\u001b[43mfit_dataframe_and_transform_dataframe\u001b[49m\u001b[43m,\u001b[49m\n\u001b[0;32m    806\u001b[0m \u001b[43m\u001b[49m\u001b[43m)\u001b[49m\n\u001b[0;32m    807\u001b[0m \u001b[38;5;28mself\u001b[39m\u001b[38;5;241m.\u001b[39m_validate_output(Xs)\n\u001b[0;32m    809\u001b[0m \u001b[38;5;28;01mif\u001b[39;00m \u001b[38;5;129;01mnot\u001b[39;00m Xs:\n\u001b[0;32m    810\u001b[0m     \u001b[38;5;66;03m# All transformers are None\u001b[39;00m\n",
      "File \u001b[1;32m~\\AppData\\Local\\Programs\\Python\\Python311\\Lib\\site-packages\\sklearn\\compose\\_column_transformer.py:658\u001b[0m, in \u001b[0;36mColumnTransformer._fit_transform\u001b[1;34m(self, X, y, func, fitted, column_as_strings)\u001b[0m\n\u001b[0;32m    652\u001b[0m transformers \u001b[38;5;241m=\u001b[39m \u001b[38;5;28mlist\u001b[39m(\n\u001b[0;32m    653\u001b[0m     \u001b[38;5;28mself\u001b[39m\u001b[38;5;241m.\u001b[39m_iter(\n\u001b[0;32m    654\u001b[0m         fitted\u001b[38;5;241m=\u001b[39mfitted, replace_strings\u001b[38;5;241m=\u001b[39m\u001b[38;5;28;01mTrue\u001b[39;00m, column_as_strings\u001b[38;5;241m=\u001b[39mcolumn_as_strings\n\u001b[0;32m    655\u001b[0m     )\n\u001b[0;32m    656\u001b[0m )\n\u001b[0;32m    657\u001b[0m \u001b[38;5;28;01mtry\u001b[39;00m:\n\u001b[1;32m--> 658\u001b[0m     \u001b[38;5;28;01mreturn\u001b[39;00m \u001b[43mParallel\u001b[49m\u001b[43m(\u001b[49m\u001b[43mn_jobs\u001b[49m\u001b[38;5;241;43m=\u001b[39;49m\u001b[38;5;28;43mself\u001b[39;49m\u001b[38;5;241;43m.\u001b[39;49m\u001b[43mn_jobs\u001b[49m\u001b[43m)\u001b[49m\u001b[43m(\u001b[49m\n\u001b[0;32m    659\u001b[0m \u001b[43m        \u001b[49m\u001b[43mdelayed\u001b[49m\u001b[43m(\u001b[49m\u001b[43mfunc\u001b[49m\u001b[43m)\u001b[49m\u001b[43m(\u001b[49m\n\u001b[0;32m    660\u001b[0m \u001b[43m            \u001b[49m\u001b[43mtransformer\u001b[49m\u001b[38;5;241;43m=\u001b[39;49m\u001b[43mclone\u001b[49m\u001b[43m(\u001b[49m\u001b[43mtrans\u001b[49m\u001b[43m)\u001b[49m\u001b[43m \u001b[49m\u001b[38;5;28;43;01mif\u001b[39;49;00m\u001b[43m \u001b[49m\u001b[38;5;129;43;01mnot\u001b[39;49;00m\u001b[43m \u001b[49m\u001b[43mfitted\u001b[49m\u001b[43m \u001b[49m\u001b[38;5;28;43;01melse\u001b[39;49;00m\u001b[43m \u001b[49m\u001b[43mtrans\u001b[49m\u001b[43m,\u001b[49m\n\u001b[0;32m    661\u001b[0m \u001b[43m            \u001b[49m\u001b[43mX\u001b[49m\u001b[38;5;241;43m=\u001b[39;49m\u001b[43m_safe_indexing\u001b[49m\u001b[43m(\u001b[49m\u001b[43mX\u001b[49m\u001b[43m,\u001b[49m\u001b[43m \u001b[49m\u001b[43mcolumn\u001b[49m\u001b[43m,\u001b[49m\u001b[43m \u001b[49m\u001b[43maxis\u001b[49m\u001b[38;5;241;43m=\u001b[39;49m\u001b[38;5;241;43m1\u001b[39;49m\u001b[43m)\u001b[49m\u001b[43m,\u001b[49m\n\u001b[0;32m    662\u001b[0m \u001b[43m            \u001b[49m\u001b[43my\u001b[49m\u001b[38;5;241;43m=\u001b[39;49m\u001b[43my\u001b[49m\u001b[43m,\u001b[49m\n\u001b[0;32m    663\u001b[0m \u001b[43m            \u001b[49m\u001b[43mweight\u001b[49m\u001b[38;5;241;43m=\u001b[39;49m\u001b[43mweight\u001b[49m\u001b[43m,\u001b[49m\n\u001b[0;32m    664\u001b[0m \u001b[43m            \u001b[49m\u001b[43mmessage_clsname\u001b[49m\u001b[38;5;241;43m=\u001b[39;49m\u001b[38;5;124;43m\"\u001b[39;49m\u001b[38;5;124;43mColumnTransformer\u001b[39;49m\u001b[38;5;124;43m\"\u001b[39;49m\u001b[43m,\u001b[49m\n\u001b[0;32m    665\u001b[0m \u001b[43m            \u001b[49m\u001b[43mmessage\u001b[49m\u001b[38;5;241;43m=\u001b[39;49m\u001b[38;5;28;43mself\u001b[39;49m\u001b[38;5;241;43m.\u001b[39;49m\u001b[43m_log_message\u001b[49m\u001b[43m(\u001b[49m\u001b[43mname\u001b[49m\u001b[43m,\u001b[49m\u001b[43m \u001b[49m\u001b[43midx\u001b[49m\u001b[43m,\u001b[49m\u001b[43m \u001b[49m\u001b[38;5;28;43mlen\u001b[39;49m\u001b[43m(\u001b[49m\u001b[43mtransformers\u001b[49m\u001b[43m)\u001b[49m\u001b[43m)\u001b[49m\u001b[43m,\u001b[49m\n\u001b[0;32m    666\u001b[0m \u001b[43m        \u001b[49m\u001b[43m)\u001b[49m\n\u001b[0;32m    667\u001b[0m \u001b[43m        \u001b[49m\u001b[38;5;28;43;01mfor\u001b[39;49;00m\u001b[43m \u001b[49m\u001b[43midx\u001b[49m\u001b[43m,\u001b[49m\u001b[43m \u001b[49m\u001b[43m(\u001b[49m\u001b[43mname\u001b[49m\u001b[43m,\u001b[49m\u001b[43m \u001b[49m\u001b[43mtrans\u001b[49m\u001b[43m,\u001b[49m\u001b[43m \u001b[49m\u001b[43mcolumn\u001b[49m\u001b[43m,\u001b[49m\u001b[43m \u001b[49m\u001b[43mweight\u001b[49m\u001b[43m)\u001b[49m\u001b[43m \u001b[49m\u001b[38;5;129;43;01min\u001b[39;49;00m\u001b[43m \u001b[49m\u001b[38;5;28;43menumerate\u001b[39;49m\u001b[43m(\u001b[49m\u001b[43mtransformers\u001b[49m\u001b[43m,\u001b[49m\u001b[43m \u001b[49m\u001b[38;5;241;43m1\u001b[39;49m\u001b[43m)\u001b[49m\n\u001b[0;32m    668\u001b[0m \u001b[43m    \u001b[49m\u001b[43m)\u001b[49m\n\u001b[0;32m    669\u001b[0m \u001b[38;5;28;01mexcept\u001b[39;00m \u001b[38;5;167;01mValueError\u001b[39;00m \u001b[38;5;28;01mas\u001b[39;00m e:\n\u001b[0;32m    670\u001b[0m     \u001b[38;5;28;01mif\u001b[39;00m \u001b[38;5;124m\"\u001b[39m\u001b[38;5;124mExpected 2D array, got 1D array instead\u001b[39m\u001b[38;5;124m\"\u001b[39m \u001b[38;5;129;01min\u001b[39;00m \u001b[38;5;28mstr\u001b[39m(e):\n",
      "File \u001b[1;32m~\\AppData\\Local\\Programs\\Python\\Python311\\Lib\\site-packages\\sklearn\\utils\\parallel.py:63\u001b[0m, in \u001b[0;36mParallel.__call__\u001b[1;34m(self, iterable)\u001b[0m\n\u001b[0;32m     58\u001b[0m config \u001b[38;5;241m=\u001b[39m get_config()\n\u001b[0;32m     59\u001b[0m iterable_with_config \u001b[38;5;241m=\u001b[39m (\n\u001b[0;32m     60\u001b[0m     (_with_config(delayed_func, config), args, kwargs)\n\u001b[0;32m     61\u001b[0m     \u001b[38;5;28;01mfor\u001b[39;00m delayed_func, args, kwargs \u001b[38;5;129;01min\u001b[39;00m iterable\n\u001b[0;32m     62\u001b[0m )\n\u001b[1;32m---> 63\u001b[0m \u001b[38;5;28;01mreturn\u001b[39;00m \u001b[38;5;28;43msuper\u001b[39;49m\u001b[43m(\u001b[49m\u001b[43m)\u001b[49m\u001b[38;5;241;43m.\u001b[39;49m\u001b[38;5;21;43m__call__\u001b[39;49m\u001b[43m(\u001b[49m\u001b[43miterable_with_config\u001b[49m\u001b[43m)\u001b[49m\n",
      "File \u001b[1;32m~\\AppData\\Local\\Programs\\Python\\Python311\\Lib\\site-packages\\joblib\\parallel.py:1048\u001b[0m, in \u001b[0;36mParallel.__call__\u001b[1;34m(self, iterable)\u001b[0m\n\u001b[0;32m   1039\u001b[0m \u001b[38;5;28;01mtry\u001b[39;00m:\n\u001b[0;32m   1040\u001b[0m     \u001b[38;5;66;03m# Only set self._iterating to True if at least a batch\u001b[39;00m\n\u001b[0;32m   1041\u001b[0m     \u001b[38;5;66;03m# was dispatched. In particular this covers the edge\u001b[39;00m\n\u001b[1;32m   (...)\u001b[0m\n\u001b[0;32m   1045\u001b[0m     \u001b[38;5;66;03m# was very quick and its callback already dispatched all the\u001b[39;00m\n\u001b[0;32m   1046\u001b[0m     \u001b[38;5;66;03m# remaining jobs.\u001b[39;00m\n\u001b[0;32m   1047\u001b[0m     \u001b[38;5;28mself\u001b[39m\u001b[38;5;241m.\u001b[39m_iterating \u001b[38;5;241m=\u001b[39m \u001b[38;5;28;01mFalse\u001b[39;00m\n\u001b[1;32m-> 1048\u001b[0m     \u001b[38;5;28;01mif\u001b[39;00m \u001b[38;5;28;43mself\u001b[39;49m\u001b[38;5;241;43m.\u001b[39;49m\u001b[43mdispatch_one_batch\u001b[49m\u001b[43m(\u001b[49m\u001b[43miterator\u001b[49m\u001b[43m)\u001b[49m:\n\u001b[0;32m   1049\u001b[0m         \u001b[38;5;28mself\u001b[39m\u001b[38;5;241m.\u001b[39m_iterating \u001b[38;5;241m=\u001b[39m \u001b[38;5;28mself\u001b[39m\u001b[38;5;241m.\u001b[39m_original_iterator \u001b[38;5;129;01mis\u001b[39;00m \u001b[38;5;129;01mnot\u001b[39;00m \u001b[38;5;28;01mNone\u001b[39;00m\n\u001b[0;32m   1051\u001b[0m     \u001b[38;5;28;01mwhile\u001b[39;00m \u001b[38;5;28mself\u001b[39m\u001b[38;5;241m.\u001b[39mdispatch_one_batch(iterator):\n",
      "File \u001b[1;32m~\\AppData\\Local\\Programs\\Python\\Python311\\Lib\\site-packages\\joblib\\parallel.py:864\u001b[0m, in \u001b[0;36mParallel.dispatch_one_batch\u001b[1;34m(self, iterator)\u001b[0m\n\u001b[0;32m    862\u001b[0m     \u001b[38;5;28;01mreturn\u001b[39;00m \u001b[38;5;28;01mFalse\u001b[39;00m\n\u001b[0;32m    863\u001b[0m \u001b[38;5;28;01melse\u001b[39;00m:\n\u001b[1;32m--> 864\u001b[0m     \u001b[38;5;28;43mself\u001b[39;49m\u001b[38;5;241;43m.\u001b[39;49m\u001b[43m_dispatch\u001b[49m\u001b[43m(\u001b[49m\u001b[43mtasks\u001b[49m\u001b[43m)\u001b[49m\n\u001b[0;32m    865\u001b[0m     \u001b[38;5;28;01mreturn\u001b[39;00m \u001b[38;5;28;01mTrue\u001b[39;00m\n",
      "File \u001b[1;32m~\\AppData\\Local\\Programs\\Python\\Python311\\Lib\\site-packages\\joblib\\parallel.py:782\u001b[0m, in \u001b[0;36mParallel._dispatch\u001b[1;34m(self, batch)\u001b[0m\n\u001b[0;32m    780\u001b[0m \u001b[38;5;28;01mwith\u001b[39;00m \u001b[38;5;28mself\u001b[39m\u001b[38;5;241m.\u001b[39m_lock:\n\u001b[0;32m    781\u001b[0m     job_idx \u001b[38;5;241m=\u001b[39m \u001b[38;5;28mlen\u001b[39m(\u001b[38;5;28mself\u001b[39m\u001b[38;5;241m.\u001b[39m_jobs)\n\u001b[1;32m--> 782\u001b[0m     job \u001b[38;5;241m=\u001b[39m \u001b[38;5;28;43mself\u001b[39;49m\u001b[38;5;241;43m.\u001b[39;49m\u001b[43m_backend\u001b[49m\u001b[38;5;241;43m.\u001b[39;49m\u001b[43mapply_async\u001b[49m\u001b[43m(\u001b[49m\u001b[43mbatch\u001b[49m\u001b[43m,\u001b[49m\u001b[43m \u001b[49m\u001b[43mcallback\u001b[49m\u001b[38;5;241;43m=\u001b[39;49m\u001b[43mcb\u001b[49m\u001b[43m)\u001b[49m\n\u001b[0;32m    783\u001b[0m     \u001b[38;5;66;03m# A job can complete so quickly than its callback is\u001b[39;00m\n\u001b[0;32m    784\u001b[0m     \u001b[38;5;66;03m# called before we get here, causing self._jobs to\u001b[39;00m\n\u001b[0;32m    785\u001b[0m     \u001b[38;5;66;03m# grow. To ensure correct results ordering, .insert is\u001b[39;00m\n\u001b[0;32m    786\u001b[0m     \u001b[38;5;66;03m# used (rather than .append) in the following line\u001b[39;00m\n\u001b[0;32m    787\u001b[0m     \u001b[38;5;28mself\u001b[39m\u001b[38;5;241m.\u001b[39m_jobs\u001b[38;5;241m.\u001b[39minsert(job_idx, job)\n",
      "File \u001b[1;32m~\\AppData\\Local\\Programs\\Python\\Python311\\Lib\\site-packages\\joblib\\_parallel_backends.py:208\u001b[0m, in \u001b[0;36mSequentialBackend.apply_async\u001b[1;34m(self, func, callback)\u001b[0m\n\u001b[0;32m    206\u001b[0m \u001b[38;5;28;01mdef\u001b[39;00m \u001b[38;5;21mapply_async\u001b[39m(\u001b[38;5;28mself\u001b[39m, func, callback\u001b[38;5;241m=\u001b[39m\u001b[38;5;28;01mNone\u001b[39;00m):\n\u001b[0;32m    207\u001b[0m \u001b[38;5;250m    \u001b[39m\u001b[38;5;124;03m\"\"\"Schedule a func to be run\"\"\"\u001b[39;00m\n\u001b[1;32m--> 208\u001b[0m     result \u001b[38;5;241m=\u001b[39m \u001b[43mImmediateResult\u001b[49m\u001b[43m(\u001b[49m\u001b[43mfunc\u001b[49m\u001b[43m)\u001b[49m\n\u001b[0;32m    209\u001b[0m     \u001b[38;5;28;01mif\u001b[39;00m callback:\n\u001b[0;32m    210\u001b[0m         callback(result)\n",
      "File \u001b[1;32m~\\AppData\\Local\\Programs\\Python\\Python311\\Lib\\site-packages\\joblib\\_parallel_backends.py:572\u001b[0m, in \u001b[0;36mImmediateResult.__init__\u001b[1;34m(self, batch)\u001b[0m\n\u001b[0;32m    569\u001b[0m \u001b[38;5;28;01mdef\u001b[39;00m \u001b[38;5;21m__init__\u001b[39m(\u001b[38;5;28mself\u001b[39m, batch):\n\u001b[0;32m    570\u001b[0m     \u001b[38;5;66;03m# Don't delay the application, to avoid keeping the input\u001b[39;00m\n\u001b[0;32m    571\u001b[0m     \u001b[38;5;66;03m# arguments in memory\u001b[39;00m\n\u001b[1;32m--> 572\u001b[0m     \u001b[38;5;28mself\u001b[39m\u001b[38;5;241m.\u001b[39mresults \u001b[38;5;241m=\u001b[39m \u001b[43mbatch\u001b[49m\u001b[43m(\u001b[49m\u001b[43m)\u001b[49m\n",
      "File \u001b[1;32m~\\AppData\\Local\\Programs\\Python\\Python311\\Lib\\site-packages\\joblib\\parallel.py:263\u001b[0m, in \u001b[0;36mBatchedCalls.__call__\u001b[1;34m(self)\u001b[0m\n\u001b[0;32m    259\u001b[0m \u001b[38;5;28;01mdef\u001b[39;00m \u001b[38;5;21m__call__\u001b[39m(\u001b[38;5;28mself\u001b[39m):\n\u001b[0;32m    260\u001b[0m     \u001b[38;5;66;03m# Set the default nested backend to self._backend but do not set the\u001b[39;00m\n\u001b[0;32m    261\u001b[0m     \u001b[38;5;66;03m# change the default number of processes to -1\u001b[39;00m\n\u001b[0;32m    262\u001b[0m     \u001b[38;5;28;01mwith\u001b[39;00m parallel_backend(\u001b[38;5;28mself\u001b[39m\u001b[38;5;241m.\u001b[39m_backend, n_jobs\u001b[38;5;241m=\u001b[39m\u001b[38;5;28mself\u001b[39m\u001b[38;5;241m.\u001b[39m_n_jobs):\n\u001b[1;32m--> 263\u001b[0m         \u001b[38;5;28;01mreturn\u001b[39;00m \u001b[43m[\u001b[49m\u001b[43mfunc\u001b[49m\u001b[43m(\u001b[49m\u001b[38;5;241;43m*\u001b[39;49m\u001b[43margs\u001b[49m\u001b[43m,\u001b[49m\u001b[43m \u001b[49m\u001b[38;5;241;43m*\u001b[39;49m\u001b[38;5;241;43m*\u001b[39;49m\u001b[43mkwargs\u001b[49m\u001b[43m)\u001b[49m\n\u001b[0;32m    264\u001b[0m \u001b[43m                \u001b[49m\u001b[38;5;28;43;01mfor\u001b[39;49;00m\u001b[43m \u001b[49m\u001b[43mfunc\u001b[49m\u001b[43m,\u001b[49m\u001b[43m \u001b[49m\u001b[43margs\u001b[49m\u001b[43m,\u001b[49m\u001b[43m \u001b[49m\u001b[43mkwargs\u001b[49m\u001b[43m \u001b[49m\u001b[38;5;129;43;01min\u001b[39;49;00m\u001b[43m \u001b[49m\u001b[38;5;28;43mself\u001b[39;49m\u001b[38;5;241;43m.\u001b[39;49m\u001b[43mitems\u001b[49m\u001b[43m]\u001b[49m\n",
      "File \u001b[1;32m~\\AppData\\Local\\Programs\\Python\\Python311\\Lib\\site-packages\\joblib\\parallel.py:263\u001b[0m, in \u001b[0;36m<listcomp>\u001b[1;34m(.0)\u001b[0m\n\u001b[0;32m    259\u001b[0m \u001b[38;5;28;01mdef\u001b[39;00m \u001b[38;5;21m__call__\u001b[39m(\u001b[38;5;28mself\u001b[39m):\n\u001b[0;32m    260\u001b[0m     \u001b[38;5;66;03m# Set the default nested backend to self._backend but do not set the\u001b[39;00m\n\u001b[0;32m    261\u001b[0m     \u001b[38;5;66;03m# change the default number of processes to -1\u001b[39;00m\n\u001b[0;32m    262\u001b[0m     \u001b[38;5;28;01mwith\u001b[39;00m parallel_backend(\u001b[38;5;28mself\u001b[39m\u001b[38;5;241m.\u001b[39m_backend, n_jobs\u001b[38;5;241m=\u001b[39m\u001b[38;5;28mself\u001b[39m\u001b[38;5;241m.\u001b[39m_n_jobs):\n\u001b[1;32m--> 263\u001b[0m         \u001b[38;5;28;01mreturn\u001b[39;00m [\u001b[43mfunc\u001b[49m\u001b[43m(\u001b[49m\u001b[38;5;241;43m*\u001b[39;49m\u001b[43margs\u001b[49m\u001b[43m,\u001b[49m\u001b[43m \u001b[49m\u001b[38;5;241;43m*\u001b[39;49m\u001b[38;5;241;43m*\u001b[39;49m\u001b[43mkwargs\u001b[49m\u001b[43m)\u001b[49m\n\u001b[0;32m    264\u001b[0m                 \u001b[38;5;28;01mfor\u001b[39;00m func, args, kwargs \u001b[38;5;129;01min\u001b[39;00m \u001b[38;5;28mself\u001b[39m\u001b[38;5;241m.\u001b[39mitems]\n",
      "File \u001b[1;32m~\\AppData\\Local\\Programs\\Python\\Python311\\Lib\\site-packages\\sklearn\\utils\\parallel.py:123\u001b[0m, in \u001b[0;36m_FuncWrapper.__call__\u001b[1;34m(self, *args, **kwargs)\u001b[0m\n\u001b[0;32m    121\u001b[0m     config \u001b[38;5;241m=\u001b[39m {}\n\u001b[0;32m    122\u001b[0m \u001b[38;5;28;01mwith\u001b[39;00m config_context(\u001b[38;5;241m*\u001b[39m\u001b[38;5;241m*\u001b[39mconfig):\n\u001b[1;32m--> 123\u001b[0m     \u001b[38;5;28;01mreturn\u001b[39;00m \u001b[38;5;28;43mself\u001b[39;49m\u001b[38;5;241;43m.\u001b[39;49m\u001b[43mfunction\u001b[49m\u001b[43m(\u001b[49m\u001b[38;5;241;43m*\u001b[39;49m\u001b[43margs\u001b[49m\u001b[43m,\u001b[49m\u001b[43m \u001b[49m\u001b[38;5;241;43m*\u001b[39;49m\u001b[38;5;241;43m*\u001b[39;49m\u001b[43mkwargs\u001b[49m\u001b[43m)\u001b[49m\n",
      "File \u001b[1;32m~\\AppData\\Local\\Programs\\Python\\Python311\\Lib\\site-packages\\sklearn\\pipeline.py:876\u001b[0m, in \u001b[0;36m_transform_one\u001b[1;34m(transformer, X, y, weight, **fit_params)\u001b[0m\n\u001b[0;32m    875\u001b[0m \u001b[38;5;28;01mdef\u001b[39;00m \u001b[38;5;21m_transform_one\u001b[39m(transformer, X, y, weight, \u001b[38;5;241m*\u001b[39m\u001b[38;5;241m*\u001b[39mfit_params):\n\u001b[1;32m--> 876\u001b[0m     res \u001b[38;5;241m=\u001b[39m \u001b[43mtransformer\u001b[49m\u001b[38;5;241;43m.\u001b[39;49m\u001b[43mtransform\u001b[49m\u001b[43m(\u001b[49m\u001b[43mX\u001b[49m\u001b[43m)\u001b[49m\n\u001b[0;32m    877\u001b[0m     \u001b[38;5;66;03m# if we have a weight for this transformer, multiply output\u001b[39;00m\n\u001b[0;32m    878\u001b[0m     \u001b[38;5;28;01mif\u001b[39;00m weight \u001b[38;5;129;01mis\u001b[39;00m \u001b[38;5;28;01mNone\u001b[39;00m:\n",
      "File \u001b[1;32m~\\AppData\\Local\\Programs\\Python\\Python311\\Lib\\site-packages\\sklearn\\utils\\_set_output.py:140\u001b[0m, in \u001b[0;36m_wrap_method_output.<locals>.wrapped\u001b[1;34m(self, X, *args, **kwargs)\u001b[0m\n\u001b[0;32m    138\u001b[0m \u001b[38;5;129m@wraps\u001b[39m(f)\n\u001b[0;32m    139\u001b[0m \u001b[38;5;28;01mdef\u001b[39;00m \u001b[38;5;21mwrapped\u001b[39m(\u001b[38;5;28mself\u001b[39m, X, \u001b[38;5;241m*\u001b[39margs, \u001b[38;5;241m*\u001b[39m\u001b[38;5;241m*\u001b[39mkwargs):\n\u001b[1;32m--> 140\u001b[0m     data_to_wrap \u001b[38;5;241m=\u001b[39m \u001b[43mf\u001b[49m\u001b[43m(\u001b[49m\u001b[38;5;28;43mself\u001b[39;49m\u001b[43m,\u001b[49m\u001b[43m \u001b[49m\u001b[43mX\u001b[49m\u001b[43m,\u001b[49m\u001b[43m \u001b[49m\u001b[38;5;241;43m*\u001b[39;49m\u001b[43margs\u001b[49m\u001b[43m,\u001b[49m\u001b[43m \u001b[49m\u001b[38;5;241;43m*\u001b[39;49m\u001b[38;5;241;43m*\u001b[39;49m\u001b[43mkwargs\u001b[49m\u001b[43m)\u001b[49m\n\u001b[0;32m    141\u001b[0m     \u001b[38;5;28;01mif\u001b[39;00m \u001b[38;5;28misinstance\u001b[39m(data_to_wrap, \u001b[38;5;28mtuple\u001b[39m):\n\u001b[0;32m    142\u001b[0m         \u001b[38;5;66;03m# only wrap the first output for cross decomposition\u001b[39;00m\n\u001b[0;32m    143\u001b[0m         \u001b[38;5;28;01mreturn\u001b[39;00m (\n\u001b[0;32m    144\u001b[0m             _wrap_data_with_container(method, data_to_wrap[\u001b[38;5;241m0\u001b[39m], X, \u001b[38;5;28mself\u001b[39m),\n\u001b[0;32m    145\u001b[0m             \u001b[38;5;241m*\u001b[39mdata_to_wrap[\u001b[38;5;241m1\u001b[39m:],\n\u001b[0;32m    146\u001b[0m         )\n",
      "File \u001b[1;32m~\\AppData\\Local\\Programs\\Python\\Python311\\Lib\\site-packages\\sklearn\\preprocessing\\_encoders.py:917\u001b[0m, in \u001b[0;36mOneHotEncoder.transform\u001b[1;34m(self, X)\u001b[0m\n\u001b[0;32m    912\u001b[0m \u001b[38;5;66;03m# validation of X happens in _check_X called by _transform\u001b[39;00m\n\u001b[0;32m    913\u001b[0m warn_on_unknown \u001b[38;5;241m=\u001b[39m \u001b[38;5;28mself\u001b[39m\u001b[38;5;241m.\u001b[39mdrop \u001b[38;5;129;01mis\u001b[39;00m \u001b[38;5;129;01mnot\u001b[39;00m \u001b[38;5;28;01mNone\u001b[39;00m \u001b[38;5;129;01mand\u001b[39;00m \u001b[38;5;28mself\u001b[39m\u001b[38;5;241m.\u001b[39mhandle_unknown \u001b[38;5;129;01min\u001b[39;00m {\n\u001b[0;32m    914\u001b[0m     \u001b[38;5;124m\"\u001b[39m\u001b[38;5;124mignore\u001b[39m\u001b[38;5;124m\"\u001b[39m,\n\u001b[0;32m    915\u001b[0m     \u001b[38;5;124m\"\u001b[39m\u001b[38;5;124minfrequent_if_exist\u001b[39m\u001b[38;5;124m\"\u001b[39m,\n\u001b[0;32m    916\u001b[0m }\n\u001b[1;32m--> 917\u001b[0m X_int, X_mask \u001b[38;5;241m=\u001b[39m \u001b[38;5;28;43mself\u001b[39;49m\u001b[38;5;241;43m.\u001b[39;49m\u001b[43m_transform\u001b[49m\u001b[43m(\u001b[49m\n\u001b[0;32m    918\u001b[0m \u001b[43m    \u001b[49m\u001b[43mX\u001b[49m\u001b[43m,\u001b[49m\n\u001b[0;32m    919\u001b[0m \u001b[43m    \u001b[49m\u001b[43mhandle_unknown\u001b[49m\u001b[38;5;241;43m=\u001b[39;49m\u001b[38;5;28;43mself\u001b[39;49m\u001b[38;5;241;43m.\u001b[39;49m\u001b[43mhandle_unknown\u001b[49m\u001b[43m,\u001b[49m\n\u001b[0;32m    920\u001b[0m \u001b[43m    \u001b[49m\u001b[43mforce_all_finite\u001b[49m\u001b[38;5;241;43m=\u001b[39;49m\u001b[38;5;124;43m\"\u001b[39;49m\u001b[38;5;124;43mallow-nan\u001b[39;49m\u001b[38;5;124;43m\"\u001b[39;49m\u001b[43m,\u001b[49m\n\u001b[0;32m    921\u001b[0m \u001b[43m    \u001b[49m\u001b[43mwarn_on_unknown\u001b[49m\u001b[38;5;241;43m=\u001b[39;49m\u001b[43mwarn_on_unknown\u001b[49m\u001b[43m,\u001b[49m\n\u001b[0;32m    922\u001b[0m \u001b[43m\u001b[49m\u001b[43m)\u001b[49m\n\u001b[0;32m    923\u001b[0m \u001b[38;5;28mself\u001b[39m\u001b[38;5;241m.\u001b[39m_map_infrequent_categories(X_int, X_mask)\n\u001b[0;32m    925\u001b[0m n_samples, n_features \u001b[38;5;241m=\u001b[39m X_int\u001b[38;5;241m.\u001b[39mshape\n",
      "File \u001b[1;32m~\\AppData\\Local\\Programs\\Python\\Python311\\Lib\\site-packages\\sklearn\\preprocessing\\_encoders.py:174\u001b[0m, in \u001b[0;36m_BaseEncoder._transform\u001b[1;34m(self, X, handle_unknown, force_all_finite, warn_on_unknown)\u001b[0m\n\u001b[0;32m    169\u001b[0m \u001b[38;5;28;01mif\u001b[39;00m handle_unknown \u001b[38;5;241m==\u001b[39m \u001b[38;5;124m\"\u001b[39m\u001b[38;5;124merror\u001b[39m\u001b[38;5;124m\"\u001b[39m:\n\u001b[0;32m    170\u001b[0m     msg \u001b[38;5;241m=\u001b[39m (\n\u001b[0;32m    171\u001b[0m         \u001b[38;5;124m\"\u001b[39m\u001b[38;5;124mFound unknown categories \u001b[39m\u001b[38;5;132;01m{0}\u001b[39;00m\u001b[38;5;124m in column \u001b[39m\u001b[38;5;132;01m{1}\u001b[39;00m\u001b[38;5;124m\"\u001b[39m\n\u001b[0;32m    172\u001b[0m         \u001b[38;5;124m\"\u001b[39m\u001b[38;5;124m during transform\u001b[39m\u001b[38;5;124m\"\u001b[39m\u001b[38;5;241m.\u001b[39mformat(diff, i)\n\u001b[0;32m    173\u001b[0m     )\n\u001b[1;32m--> 174\u001b[0m     \u001b[38;5;28;01mraise\u001b[39;00m \u001b[38;5;167;01mValueError\u001b[39;00m(msg)\n\u001b[0;32m    175\u001b[0m \u001b[38;5;28;01melse\u001b[39;00m:\n\u001b[0;32m    176\u001b[0m     \u001b[38;5;28;01mif\u001b[39;00m warn_on_unknown:\n",
      "\u001b[1;31mValueError\u001b[0m: Found unknown categories [nan] in column 0 during transform"
     ]
    }
   ],
   "source": [
    "for file in files:\n",
    "    if 'test_file_matchid' in file:\n",
    "        X_file_name = './FilesUsed/' + file\n",
    "        y_file_name = './FilesUsed/' + 'test_file_labels_matchid_' + file[-6:]\n",
    "        \n",
    "        print(f'X_file_name: {X_file_name}')\n",
    "        \n",
    "        X = pd.read_csv(X_file_name)\n",
    "        y = pd.read_csv(y_file_name)['actual_runs']\n",
    "        \n",
    "        print(f\"'{X['venue'][0]}'\")\n",
    "        print(f\"{X['venue'][0] in venue_mapping}\")\n",
    "        \n",
    "        y_pred = a_model.predict(X)\n",
    "        print(*y)\n",
    "        print(*y_pred)\n",
    "        print(mean_absolute_error(y, y_pred), '\\n')"
   ]
  }
 ],
 "metadata": {
  "kernelspec": {
   "display_name": "Python 3 (ipykernel)",
   "language": "python",
   "name": "python3"
  },
  "language_info": {
   "codemirror_mode": {
    "name": "ipython",
    "version": 3
   },
   "file_extension": ".py",
   "mimetype": "text/x-python",
   "name": "python",
   "nbconvert_exporter": "python",
   "pygments_lexer": "ipython3",
   "version": "3.11.2"
  }
 },
 "nbformat": 4,
 "nbformat_minor": 5
}
