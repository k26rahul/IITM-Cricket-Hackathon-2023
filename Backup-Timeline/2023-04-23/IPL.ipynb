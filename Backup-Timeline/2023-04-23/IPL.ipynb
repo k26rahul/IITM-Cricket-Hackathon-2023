{
 "cells": [
  {
   "cell_type": "code",
   "execution_count": 1,
   "id": "6de9b179",
   "metadata": {
    "ExecuteTime": {
     "end_time": "2023-04-23T04:20:34.595084Z",
     "start_time": "2023-04-23T04:20:33.583545Z"
    }
   },
   "outputs": [],
   "source": [
    "import numpy as np\n",
    "import pandas as pd\n",
    "import matplotlib.pyplot as plt\n",
    "from sklearn.model_selection import train_test_split\n",
    "from sklearn.preprocessing import StandardScaler\n",
    "from sklearn.preprocessing import OneHotEncoder\n",
    "from sklearn.compose import ColumnTransformer"
   ]
  },
  {
   "cell_type": "code",
   "execution_count": 2,
   "id": "b688ac99",
   "metadata": {
    "ExecuteTime": {
     "end_time": "2023-04-23T04:20:34.841685Z",
     "start_time": "2023-04-23T04:20:34.595084Z"
    }
   },
   "outputs": [],
   "source": [
    "ball_by_ball = pd.read_csv('./Data/IPL_Ball_by_Ball_2008_2022.csv')\n",
    "matches_result = pd.read_csv('./Data/IPL_Matches_Result_2008_2022.csv')\n",
    "ipl_2023_teams = pd.read_csv('./Data/Ipl_2023 _cricketers - Team name.csv').rename(columns={\n",
    "    'Teams': 'team'\n",
    "})\n",
    "ipl_2023_venues = pd.read_csv('./Data/Ipl_2023 _cricketers - Venue.csv').rename(columns={\n",
    "    'Venue': 'venue'\n",
    "})"
   ]
  },
  {
   "cell_type": "code",
   "execution_count": 3,
   "id": "a6e5b2fc",
   "metadata": {
    "ExecuteTime": {
     "end_time": "2023-04-23T04:20:34.845271Z",
     "start_time": "2023-04-23T04:20:34.841685Z"
    }
   },
   "outputs": [],
   "source": [
    "def log(*args):\n",
    "    print('👉', *args)\n",
    "    "
   ]
  },
  {
   "cell_type": "code",
   "execution_count": 4,
   "id": "c380454d",
   "metadata": {
    "ExecuteTime": {
     "end_time": "2023-04-23T04:20:34.856555Z",
     "start_time": "2023-04-23T04:20:34.847299Z"
    }
   },
   "outputs": [],
   "source": [
    "def to_kebab_case(string):\n",
    "    return '-'.join(\n",
    "        string.replace(\",\", \"\").replace(\".\", \"\").split()\n",
    "    ).lower()"
   ]
  },
  {
   "cell_type": "markdown",
   "id": "6c4aac11",
   "metadata": {},
   "source": [
    "# Preprocessing "
   ]
  },
  {
   "cell_type": "markdown",
   "id": "a051b045",
   "metadata": {},
   "source": [
    "- ## Change column names, drop unnecessary columns [in ball_by_ball, matches_result]"
   ]
  },
  {
   "cell_type": "code",
   "execution_count": 5,
   "id": "70061bc9",
   "metadata": {
    "ExecuteTime": {
     "end_time": "2023-04-23T04:20:34.884104Z",
     "start_time": "2023-04-23T04:20:34.858025Z"
    }
   },
   "outputs": [],
   "source": [
    "ball_by_ball_orig = ball_by_ball\n",
    "\n",
    "ball_by_ball = ball_by_ball.rename(columns={\n",
    "    'ID': 'match_id',\n",
    "    'ballnumber': 'ball_number',\n",
    "    'non-striker': 'non_striker',\n",
    "    'BattingTeam': 'batting_team',\n",
    "}).loc[:, [\n",
    "    'match_id',\n",
    "    'innings',\n",
    "    'batting_team',\n",
    "    'overs',\n",
    "    'ball_number',\n",
    "    'batter',\n",
    "    'bowler',\n",
    "    'total_run',\n",
    "]]"
   ]
  },
  {
   "cell_type": "code",
   "execution_count": 6,
   "id": "c922c120",
   "metadata": {
    "ExecuteTime": {
     "end_time": "2023-04-23T04:20:34.889910Z",
     "start_time": "2023-04-23T04:20:34.885454Z"
    }
   },
   "outputs": [],
   "source": [
    "matches_result_orig = matches_result\n",
    "\n",
    "matches_result = matches_result.rename(columns={\n",
    "    'ID': 'match_id',\n",
    "    'Team1': 'team_1',\n",
    "    'Team2': 'team_2',\n",
    "    'Venue': 'venue',\n",
    "}).loc[:, [\n",
    "    'match_id',\n",
    "    'team_1',\n",
    "    'team_2',\n",
    "    'venue',\n",
    "]]"
   ]
  },
  {
   "cell_type": "code",
   "execution_count": 7,
   "id": "a989f21a",
   "metadata": {
    "ExecuteTime": {
     "end_time": "2023-04-23T04:20:34.911112Z",
     "start_time": "2023-04-23T04:20:34.891500Z"
    },
    "scrolled": false
   },
   "outputs": [
    {
     "name": "stdout",
     "output_type": "stream",
     "text": [
      "(225954, 17)\n"
     ]
    },
    {
     "data": {
      "text/html": [
       "<div>\n",
       "<style scoped>\n",
       "    .dataframe tbody tr th:only-of-type {\n",
       "        vertical-align: middle;\n",
       "    }\n",
       "\n",
       "    .dataframe tbody tr th {\n",
       "        vertical-align: top;\n",
       "    }\n",
       "\n",
       "    .dataframe thead th {\n",
       "        text-align: right;\n",
       "    }\n",
       "</style>\n",
       "<table border=\"1\" class=\"dataframe\">\n",
       "  <thead>\n",
       "    <tr style=\"text-align: right;\">\n",
       "      <th></th>\n",
       "      <th>ID</th>\n",
       "      <th>innings</th>\n",
       "      <th>overs</th>\n",
       "      <th>ballnumber</th>\n",
       "      <th>batter</th>\n",
       "      <th>bowler</th>\n",
       "      <th>non-striker</th>\n",
       "      <th>extra_type</th>\n",
       "      <th>batsman_run</th>\n",
       "      <th>extras_run</th>\n",
       "      <th>total_run</th>\n",
       "      <th>non_boundary</th>\n",
       "      <th>isWicketDelivery</th>\n",
       "      <th>player_out</th>\n",
       "      <th>kind</th>\n",
       "      <th>fielders_involved</th>\n",
       "      <th>BattingTeam</th>\n",
       "    </tr>\n",
       "  </thead>\n",
       "  <tbody>\n",
       "    <tr>\n",
       "      <th>0</th>\n",
       "      <td>1312200</td>\n",
       "      <td>1</td>\n",
       "      <td>0</td>\n",
       "      <td>1</td>\n",
       "      <td>YBK Jaiswal</td>\n",
       "      <td>Mohammed Shami</td>\n",
       "      <td>JC Buttler</td>\n",
       "      <td>NaN</td>\n",
       "      <td>0</td>\n",
       "      <td>0</td>\n",
       "      <td>0</td>\n",
       "      <td>0</td>\n",
       "      <td>0</td>\n",
       "      <td>NaN</td>\n",
       "      <td>NaN</td>\n",
       "      <td>NaN</td>\n",
       "      <td>Rajasthan Royals</td>\n",
       "    </tr>\n",
       "    <tr>\n",
       "      <th>1</th>\n",
       "      <td>1312200</td>\n",
       "      <td>1</td>\n",
       "      <td>0</td>\n",
       "      <td>2</td>\n",
       "      <td>YBK Jaiswal</td>\n",
       "      <td>Mohammed Shami</td>\n",
       "      <td>JC Buttler</td>\n",
       "      <td>legbyes</td>\n",
       "      <td>0</td>\n",
       "      <td>1</td>\n",
       "      <td>1</td>\n",
       "      <td>0</td>\n",
       "      <td>0</td>\n",
       "      <td>NaN</td>\n",
       "      <td>NaN</td>\n",
       "      <td>NaN</td>\n",
       "      <td>Rajasthan Royals</td>\n",
       "    </tr>\n",
       "    <tr>\n",
       "      <th>2</th>\n",
       "      <td>1312200</td>\n",
       "      <td>1</td>\n",
       "      <td>0</td>\n",
       "      <td>3</td>\n",
       "      <td>JC Buttler</td>\n",
       "      <td>Mohammed Shami</td>\n",
       "      <td>YBK Jaiswal</td>\n",
       "      <td>NaN</td>\n",
       "      <td>1</td>\n",
       "      <td>0</td>\n",
       "      <td>1</td>\n",
       "      <td>0</td>\n",
       "      <td>0</td>\n",
       "      <td>NaN</td>\n",
       "      <td>NaN</td>\n",
       "      <td>NaN</td>\n",
       "      <td>Rajasthan Royals</td>\n",
       "    </tr>\n",
       "    <tr>\n",
       "      <th>3</th>\n",
       "      <td>1312200</td>\n",
       "      <td>1</td>\n",
       "      <td>0</td>\n",
       "      <td>4</td>\n",
       "      <td>YBK Jaiswal</td>\n",
       "      <td>Mohammed Shami</td>\n",
       "      <td>JC Buttler</td>\n",
       "      <td>NaN</td>\n",
       "      <td>0</td>\n",
       "      <td>0</td>\n",
       "      <td>0</td>\n",
       "      <td>0</td>\n",
       "      <td>0</td>\n",
       "      <td>NaN</td>\n",
       "      <td>NaN</td>\n",
       "      <td>NaN</td>\n",
       "      <td>Rajasthan Royals</td>\n",
       "    </tr>\n",
       "    <tr>\n",
       "      <th>4</th>\n",
       "      <td>1312200</td>\n",
       "      <td>1</td>\n",
       "      <td>0</td>\n",
       "      <td>5</td>\n",
       "      <td>YBK Jaiswal</td>\n",
       "      <td>Mohammed Shami</td>\n",
       "      <td>JC Buttler</td>\n",
       "      <td>NaN</td>\n",
       "      <td>0</td>\n",
       "      <td>0</td>\n",
       "      <td>0</td>\n",
       "      <td>0</td>\n",
       "      <td>0</td>\n",
       "      <td>NaN</td>\n",
       "      <td>NaN</td>\n",
       "      <td>NaN</td>\n",
       "      <td>Rajasthan Royals</td>\n",
       "    </tr>\n",
       "  </tbody>\n",
       "</table>\n",
       "</div>"
      ],
      "text/plain": [
       "        ID  innings  overs  ballnumber       batter          bowler  \\\n",
       "0  1312200        1      0           1  YBK Jaiswal  Mohammed Shami   \n",
       "1  1312200        1      0           2  YBK Jaiswal  Mohammed Shami   \n",
       "2  1312200        1      0           3   JC Buttler  Mohammed Shami   \n",
       "3  1312200        1      0           4  YBK Jaiswal  Mohammed Shami   \n",
       "4  1312200        1      0           5  YBK Jaiswal  Mohammed Shami   \n",
       "\n",
       "   non-striker extra_type  batsman_run  extras_run  total_run  non_boundary  \\\n",
       "0   JC Buttler        NaN            0           0          0             0   \n",
       "1   JC Buttler    legbyes            0           1          1             0   \n",
       "2  YBK Jaiswal        NaN            1           0          1             0   \n",
       "3   JC Buttler        NaN            0           0          0             0   \n",
       "4   JC Buttler        NaN            0           0          0             0   \n",
       "\n",
       "   isWicketDelivery player_out kind fielders_involved       BattingTeam  \n",
       "0                 0        NaN  NaN               NaN  Rajasthan Royals  \n",
       "1                 0        NaN  NaN               NaN  Rajasthan Royals  \n",
       "2                 0        NaN  NaN               NaN  Rajasthan Royals  \n",
       "3                 0        NaN  NaN               NaN  Rajasthan Royals  \n",
       "4                 0        NaN  NaN               NaN  Rajasthan Royals  "
      ]
     },
     "execution_count": 7,
     "metadata": {},
     "output_type": "execute_result"
    }
   ],
   "source": [
    "print(ball_by_ball_orig.shape)\n",
    "ball_by_ball_orig.head()"
   ]
  },
  {
   "cell_type": "code",
   "execution_count": 8,
   "id": "7a7fefad",
   "metadata": {
    "ExecuteTime": {
     "end_time": "2023-04-23T04:20:34.924131Z",
     "start_time": "2023-04-23T04:20:34.912292Z"
    },
    "scrolled": false
   },
   "outputs": [
    {
     "name": "stdout",
     "output_type": "stream",
     "text": [
      "(950, 20)\n"
     ]
    },
    {
     "data": {
      "text/html": [
       "<div>\n",
       "<style scoped>\n",
       "    .dataframe tbody tr th:only-of-type {\n",
       "        vertical-align: middle;\n",
       "    }\n",
       "\n",
       "    .dataframe tbody tr th {\n",
       "        vertical-align: top;\n",
       "    }\n",
       "\n",
       "    .dataframe thead th {\n",
       "        text-align: right;\n",
       "    }\n",
       "</style>\n",
       "<table border=\"1\" class=\"dataframe\">\n",
       "  <thead>\n",
       "    <tr style=\"text-align: right;\">\n",
       "      <th></th>\n",
       "      <th>ID</th>\n",
       "      <th>City</th>\n",
       "      <th>Date</th>\n",
       "      <th>Season</th>\n",
       "      <th>MatchNumber</th>\n",
       "      <th>Team1</th>\n",
       "      <th>Team2</th>\n",
       "      <th>Venue</th>\n",
       "      <th>TossWinner</th>\n",
       "      <th>TossDecision</th>\n",
       "      <th>SuperOver</th>\n",
       "      <th>WinningTeam</th>\n",
       "      <th>WonBy</th>\n",
       "      <th>Margin</th>\n",
       "      <th>method</th>\n",
       "      <th>Player_of_Match</th>\n",
       "      <th>Team1Players</th>\n",
       "      <th>Team2Players</th>\n",
       "      <th>Umpire1</th>\n",
       "      <th>Umpire2</th>\n",
       "    </tr>\n",
       "  </thead>\n",
       "  <tbody>\n",
       "    <tr>\n",
       "      <th>0</th>\n",
       "      <td>1312200</td>\n",
       "      <td>Ahmedabad</td>\n",
       "      <td>2022-05-29</td>\n",
       "      <td>2022</td>\n",
       "      <td>Final</td>\n",
       "      <td>Rajasthan Royals</td>\n",
       "      <td>Gujarat Titans</td>\n",
       "      <td>Narendra Modi Stadium, Ahmedabad</td>\n",
       "      <td>Rajasthan Royals</td>\n",
       "      <td>bat</td>\n",
       "      <td>N</td>\n",
       "      <td>Gujarat Titans</td>\n",
       "      <td>Wickets</td>\n",
       "      <td>7.0</td>\n",
       "      <td>NaN</td>\n",
       "      <td>HH Pandya</td>\n",
       "      <td>['YBK Jaiswal', 'JC Buttler', 'SV Samson', 'D ...</td>\n",
       "      <td>['WP Saha', 'Shubman Gill', 'MS Wade', 'HH Pan...</td>\n",
       "      <td>CB Gaffaney</td>\n",
       "      <td>Nitin Menon</td>\n",
       "    </tr>\n",
       "    <tr>\n",
       "      <th>1</th>\n",
       "      <td>1312199</td>\n",
       "      <td>Ahmedabad</td>\n",
       "      <td>2022-05-27</td>\n",
       "      <td>2022</td>\n",
       "      <td>Qualifier 2</td>\n",
       "      <td>Royal Challengers Bangalore</td>\n",
       "      <td>Rajasthan Royals</td>\n",
       "      <td>Narendra Modi Stadium, Ahmedabad</td>\n",
       "      <td>Rajasthan Royals</td>\n",
       "      <td>field</td>\n",
       "      <td>N</td>\n",
       "      <td>Rajasthan Royals</td>\n",
       "      <td>Wickets</td>\n",
       "      <td>7.0</td>\n",
       "      <td>NaN</td>\n",
       "      <td>JC Buttler</td>\n",
       "      <td>['V Kohli', 'F du Plessis', 'RM Patidar', 'GJ ...</td>\n",
       "      <td>['YBK Jaiswal', 'JC Buttler', 'SV Samson', 'D ...</td>\n",
       "      <td>CB Gaffaney</td>\n",
       "      <td>Nitin Menon</td>\n",
       "    </tr>\n",
       "    <tr>\n",
       "      <th>2</th>\n",
       "      <td>1312198</td>\n",
       "      <td>Kolkata</td>\n",
       "      <td>2022-05-25</td>\n",
       "      <td>2022</td>\n",
       "      <td>Eliminator</td>\n",
       "      <td>Royal Challengers Bangalore</td>\n",
       "      <td>Lucknow Super Giants</td>\n",
       "      <td>Eden Gardens, Kolkata</td>\n",
       "      <td>Lucknow Super Giants</td>\n",
       "      <td>field</td>\n",
       "      <td>N</td>\n",
       "      <td>Royal Challengers Bangalore</td>\n",
       "      <td>Runs</td>\n",
       "      <td>14.0</td>\n",
       "      <td>NaN</td>\n",
       "      <td>RM Patidar</td>\n",
       "      <td>['V Kohli', 'F du Plessis', 'RM Patidar', 'GJ ...</td>\n",
       "      <td>['Q de Kock', 'KL Rahul', 'M Vohra', 'DJ Hooda...</td>\n",
       "      <td>J Madanagopal</td>\n",
       "      <td>MA Gough</td>\n",
       "    </tr>\n",
       "    <tr>\n",
       "      <th>3</th>\n",
       "      <td>1312197</td>\n",
       "      <td>Kolkata</td>\n",
       "      <td>2022-05-24</td>\n",
       "      <td>2022</td>\n",
       "      <td>Qualifier 1</td>\n",
       "      <td>Rajasthan Royals</td>\n",
       "      <td>Gujarat Titans</td>\n",
       "      <td>Eden Gardens, Kolkata</td>\n",
       "      <td>Gujarat Titans</td>\n",
       "      <td>field</td>\n",
       "      <td>N</td>\n",
       "      <td>Gujarat Titans</td>\n",
       "      <td>Wickets</td>\n",
       "      <td>7.0</td>\n",
       "      <td>NaN</td>\n",
       "      <td>DA Miller</td>\n",
       "      <td>['YBK Jaiswal', 'JC Buttler', 'SV Samson', 'D ...</td>\n",
       "      <td>['WP Saha', 'Shubman Gill', 'MS Wade', 'HH Pan...</td>\n",
       "      <td>BNJ Oxenford</td>\n",
       "      <td>VK Sharma</td>\n",
       "    </tr>\n",
       "    <tr>\n",
       "      <th>4</th>\n",
       "      <td>1304116</td>\n",
       "      <td>Mumbai</td>\n",
       "      <td>2022-05-22</td>\n",
       "      <td>2022</td>\n",
       "      <td>70</td>\n",
       "      <td>Sunrisers Hyderabad</td>\n",
       "      <td>Punjab Kings</td>\n",
       "      <td>Wankhede Stadium, Mumbai</td>\n",
       "      <td>Sunrisers Hyderabad</td>\n",
       "      <td>bat</td>\n",
       "      <td>N</td>\n",
       "      <td>Punjab Kings</td>\n",
       "      <td>Wickets</td>\n",
       "      <td>5.0</td>\n",
       "      <td>NaN</td>\n",
       "      <td>Harpreet Brar</td>\n",
       "      <td>['PK Garg', 'Abhishek Sharma', 'RA Tripathi', ...</td>\n",
       "      <td>['JM Bairstow', 'S Dhawan', 'M Shahrukh Khan',...</td>\n",
       "      <td>AK Chaudhary</td>\n",
       "      <td>NA Patwardhan</td>\n",
       "    </tr>\n",
       "  </tbody>\n",
       "</table>\n",
       "</div>"
      ],
      "text/plain": [
       "        ID       City        Date Season  MatchNumber  \\\n",
       "0  1312200  Ahmedabad  2022-05-29   2022        Final   \n",
       "1  1312199  Ahmedabad  2022-05-27   2022  Qualifier 2   \n",
       "2  1312198    Kolkata  2022-05-25   2022   Eliminator   \n",
       "3  1312197    Kolkata  2022-05-24   2022  Qualifier 1   \n",
       "4  1304116     Mumbai  2022-05-22   2022           70   \n",
       "\n",
       "                         Team1                 Team2  \\\n",
       "0             Rajasthan Royals        Gujarat Titans   \n",
       "1  Royal Challengers Bangalore      Rajasthan Royals   \n",
       "2  Royal Challengers Bangalore  Lucknow Super Giants   \n",
       "3             Rajasthan Royals        Gujarat Titans   \n",
       "4          Sunrisers Hyderabad          Punjab Kings   \n",
       "\n",
       "                              Venue            TossWinner TossDecision  \\\n",
       "0  Narendra Modi Stadium, Ahmedabad      Rajasthan Royals          bat   \n",
       "1  Narendra Modi Stadium, Ahmedabad      Rajasthan Royals        field   \n",
       "2             Eden Gardens, Kolkata  Lucknow Super Giants        field   \n",
       "3             Eden Gardens, Kolkata        Gujarat Titans        field   \n",
       "4          Wankhede Stadium, Mumbai   Sunrisers Hyderabad          bat   \n",
       "\n",
       "  SuperOver                  WinningTeam    WonBy  Margin method  \\\n",
       "0         N               Gujarat Titans  Wickets     7.0    NaN   \n",
       "1         N             Rajasthan Royals  Wickets     7.0    NaN   \n",
       "2         N  Royal Challengers Bangalore     Runs    14.0    NaN   \n",
       "3         N               Gujarat Titans  Wickets     7.0    NaN   \n",
       "4         N                 Punjab Kings  Wickets     5.0    NaN   \n",
       "\n",
       "  Player_of_Match                                       Team1Players  \\\n",
       "0       HH Pandya  ['YBK Jaiswal', 'JC Buttler', 'SV Samson', 'D ...   \n",
       "1      JC Buttler  ['V Kohli', 'F du Plessis', 'RM Patidar', 'GJ ...   \n",
       "2      RM Patidar  ['V Kohli', 'F du Plessis', 'RM Patidar', 'GJ ...   \n",
       "3       DA Miller  ['YBK Jaiswal', 'JC Buttler', 'SV Samson', 'D ...   \n",
       "4   Harpreet Brar  ['PK Garg', 'Abhishek Sharma', 'RA Tripathi', ...   \n",
       "\n",
       "                                        Team2Players        Umpire1  \\\n",
       "0  ['WP Saha', 'Shubman Gill', 'MS Wade', 'HH Pan...    CB Gaffaney   \n",
       "1  ['YBK Jaiswal', 'JC Buttler', 'SV Samson', 'D ...    CB Gaffaney   \n",
       "2  ['Q de Kock', 'KL Rahul', 'M Vohra', 'DJ Hooda...  J Madanagopal   \n",
       "3  ['WP Saha', 'Shubman Gill', 'MS Wade', 'HH Pan...   BNJ Oxenford   \n",
       "4  ['JM Bairstow', 'S Dhawan', 'M Shahrukh Khan',...   AK Chaudhary   \n",
       "\n",
       "         Umpire2  \n",
       "0    Nitin Menon  \n",
       "1    Nitin Menon  \n",
       "2       MA Gough  \n",
       "3      VK Sharma  \n",
       "4  NA Patwardhan  "
      ]
     },
     "execution_count": 8,
     "metadata": {},
     "output_type": "execute_result"
    }
   ],
   "source": [
    "print(matches_result_orig.shape)\n",
    "matches_result_orig.head()"
   ]
  },
  {
   "cell_type": "code",
   "execution_count": 9,
   "id": "19508bc4",
   "metadata": {
    "ExecuteTime": {
     "end_time": "2023-04-23T04:20:34.936661Z",
     "start_time": "2023-04-23T04:20:34.925516Z"
    },
    "scrolled": true
   },
   "outputs": [
    {
     "name": "stdout",
     "output_type": "stream",
     "text": [
      "(225954, 8)\n"
     ]
    },
    {
     "data": {
      "text/html": [
       "<div>\n",
       "<style scoped>\n",
       "    .dataframe tbody tr th:only-of-type {\n",
       "        vertical-align: middle;\n",
       "    }\n",
       "\n",
       "    .dataframe tbody tr th {\n",
       "        vertical-align: top;\n",
       "    }\n",
       "\n",
       "    .dataframe thead th {\n",
       "        text-align: right;\n",
       "    }\n",
       "</style>\n",
       "<table border=\"1\" class=\"dataframe\">\n",
       "  <thead>\n",
       "    <tr style=\"text-align: right;\">\n",
       "      <th></th>\n",
       "      <th>match_id</th>\n",
       "      <th>innings</th>\n",
       "      <th>batting_team</th>\n",
       "      <th>overs</th>\n",
       "      <th>ball_number</th>\n",
       "      <th>batter</th>\n",
       "      <th>bowler</th>\n",
       "      <th>total_run</th>\n",
       "    </tr>\n",
       "  </thead>\n",
       "  <tbody>\n",
       "    <tr>\n",
       "      <th>0</th>\n",
       "      <td>1312200</td>\n",
       "      <td>1</td>\n",
       "      <td>Rajasthan Royals</td>\n",
       "      <td>0</td>\n",
       "      <td>1</td>\n",
       "      <td>YBK Jaiswal</td>\n",
       "      <td>Mohammed Shami</td>\n",
       "      <td>0</td>\n",
       "    </tr>\n",
       "    <tr>\n",
       "      <th>1</th>\n",
       "      <td>1312200</td>\n",
       "      <td>1</td>\n",
       "      <td>Rajasthan Royals</td>\n",
       "      <td>0</td>\n",
       "      <td>2</td>\n",
       "      <td>YBK Jaiswal</td>\n",
       "      <td>Mohammed Shami</td>\n",
       "      <td>1</td>\n",
       "    </tr>\n",
       "    <tr>\n",
       "      <th>2</th>\n",
       "      <td>1312200</td>\n",
       "      <td>1</td>\n",
       "      <td>Rajasthan Royals</td>\n",
       "      <td>0</td>\n",
       "      <td>3</td>\n",
       "      <td>JC Buttler</td>\n",
       "      <td>Mohammed Shami</td>\n",
       "      <td>1</td>\n",
       "    </tr>\n",
       "    <tr>\n",
       "      <th>3</th>\n",
       "      <td>1312200</td>\n",
       "      <td>1</td>\n",
       "      <td>Rajasthan Royals</td>\n",
       "      <td>0</td>\n",
       "      <td>4</td>\n",
       "      <td>YBK Jaiswal</td>\n",
       "      <td>Mohammed Shami</td>\n",
       "      <td>0</td>\n",
       "    </tr>\n",
       "    <tr>\n",
       "      <th>4</th>\n",
       "      <td>1312200</td>\n",
       "      <td>1</td>\n",
       "      <td>Rajasthan Royals</td>\n",
       "      <td>0</td>\n",
       "      <td>5</td>\n",
       "      <td>YBK Jaiswal</td>\n",
       "      <td>Mohammed Shami</td>\n",
       "      <td>0</td>\n",
       "    </tr>\n",
       "  </tbody>\n",
       "</table>\n",
       "</div>"
      ],
      "text/plain": [
       "   match_id  innings      batting_team  overs  ball_number       batter  \\\n",
       "0   1312200        1  Rajasthan Royals      0            1  YBK Jaiswal   \n",
       "1   1312200        1  Rajasthan Royals      0            2  YBK Jaiswal   \n",
       "2   1312200        1  Rajasthan Royals      0            3   JC Buttler   \n",
       "3   1312200        1  Rajasthan Royals      0            4  YBK Jaiswal   \n",
       "4   1312200        1  Rajasthan Royals      0            5  YBK Jaiswal   \n",
       "\n",
       "           bowler  total_run  \n",
       "0  Mohammed Shami          0  \n",
       "1  Mohammed Shami          1  \n",
       "2  Mohammed Shami          1  \n",
       "3  Mohammed Shami          0  \n",
       "4  Mohammed Shami          0  "
      ]
     },
     "execution_count": 9,
     "metadata": {},
     "output_type": "execute_result"
    }
   ],
   "source": [
    "print(ball_by_ball.shape)\n",
    "ball_by_ball.head()"
   ]
  },
  {
   "cell_type": "code",
   "execution_count": 10,
   "id": "fd763dd2",
   "metadata": {
    "ExecuteTime": {
     "end_time": "2023-04-23T04:20:34.949238Z",
     "start_time": "2023-04-23T04:20:34.939767Z"
    },
    "scrolled": true
   },
   "outputs": [
    {
     "name": "stdout",
     "output_type": "stream",
     "text": [
      "(950, 4)\n"
     ]
    },
    {
     "data": {
      "text/html": [
       "<div>\n",
       "<style scoped>\n",
       "    .dataframe tbody tr th:only-of-type {\n",
       "        vertical-align: middle;\n",
       "    }\n",
       "\n",
       "    .dataframe tbody tr th {\n",
       "        vertical-align: top;\n",
       "    }\n",
       "\n",
       "    .dataframe thead th {\n",
       "        text-align: right;\n",
       "    }\n",
       "</style>\n",
       "<table border=\"1\" class=\"dataframe\">\n",
       "  <thead>\n",
       "    <tr style=\"text-align: right;\">\n",
       "      <th></th>\n",
       "      <th>match_id</th>\n",
       "      <th>team_1</th>\n",
       "      <th>team_2</th>\n",
       "      <th>venue</th>\n",
       "    </tr>\n",
       "  </thead>\n",
       "  <tbody>\n",
       "    <tr>\n",
       "      <th>0</th>\n",
       "      <td>1312200</td>\n",
       "      <td>Rajasthan Royals</td>\n",
       "      <td>Gujarat Titans</td>\n",
       "      <td>Narendra Modi Stadium, Ahmedabad</td>\n",
       "    </tr>\n",
       "    <tr>\n",
       "      <th>1</th>\n",
       "      <td>1312199</td>\n",
       "      <td>Royal Challengers Bangalore</td>\n",
       "      <td>Rajasthan Royals</td>\n",
       "      <td>Narendra Modi Stadium, Ahmedabad</td>\n",
       "    </tr>\n",
       "    <tr>\n",
       "      <th>2</th>\n",
       "      <td>1312198</td>\n",
       "      <td>Royal Challengers Bangalore</td>\n",
       "      <td>Lucknow Super Giants</td>\n",
       "      <td>Eden Gardens, Kolkata</td>\n",
       "    </tr>\n",
       "    <tr>\n",
       "      <th>3</th>\n",
       "      <td>1312197</td>\n",
       "      <td>Rajasthan Royals</td>\n",
       "      <td>Gujarat Titans</td>\n",
       "      <td>Eden Gardens, Kolkata</td>\n",
       "    </tr>\n",
       "    <tr>\n",
       "      <th>4</th>\n",
       "      <td>1304116</td>\n",
       "      <td>Sunrisers Hyderabad</td>\n",
       "      <td>Punjab Kings</td>\n",
       "      <td>Wankhede Stadium, Mumbai</td>\n",
       "    </tr>\n",
       "  </tbody>\n",
       "</table>\n",
       "</div>"
      ],
      "text/plain": [
       "   match_id                       team_1                team_2  \\\n",
       "0   1312200             Rajasthan Royals        Gujarat Titans   \n",
       "1   1312199  Royal Challengers Bangalore      Rajasthan Royals   \n",
       "2   1312198  Royal Challengers Bangalore  Lucknow Super Giants   \n",
       "3   1312197             Rajasthan Royals        Gujarat Titans   \n",
       "4   1304116          Sunrisers Hyderabad          Punjab Kings   \n",
       "\n",
       "                              venue  \n",
       "0  Narendra Modi Stadium, Ahmedabad  \n",
       "1  Narendra Modi Stadium, Ahmedabad  \n",
       "2             Eden Gardens, Kolkata  \n",
       "3             Eden Gardens, Kolkata  \n",
       "4          Wankhede Stadium, Mumbai  "
      ]
     },
     "execution_count": 10,
     "metadata": {},
     "output_type": "execute_result"
    }
   ],
   "source": [
    "print(matches_result.shape)\n",
    "matches_result.head()"
   ]
  },
  {
   "cell_type": "code",
   "execution_count": 11,
   "id": "46ff2c0e",
   "metadata": {
    "ExecuteTime": {
     "end_time": "2023-04-23T04:20:34.994824Z",
     "start_time": "2023-04-23T04:20:34.949238Z"
    },
    "scrolled": true
   },
   "outputs": [
    {
     "name": "stdout",
     "output_type": "stream",
     "text": [
      "👉 match_id.nunique: 950\n",
      "👉 batting_team.nunique: 18\n",
      "👉 union1d(batter, bowler).shape: (652,)\n",
      "👉 innings.unique: [1 2 3 4 5 6]\n",
      "👉 overs.unique: [ 0  1  2  3  4  5  6  7  8  9 10 11 12 13 14 15 16 17 18 19]\n"
     ]
    }
   ],
   "source": [
    "log('match_id.nunique:', ball_by_ball.match_id.nunique())\n",
    "log('batting_team.nunique:', ball_by_ball.batting_team.nunique())\n",
    "log('union1d(batter, bowler).shape:', np.union1d(\n",
    "    ball_by_ball.batter.unique(), ball_by_ball.bowler.unique()\n",
    ").shape)\n",
    "log('innings.unique:', ball_by_ball.innings.unique())\n",
    "log('overs.unique:', ball_by_ball.overs.unique())"
   ]
  },
  {
   "cell_type": "code",
   "execution_count": 12,
   "id": "c15191ba",
   "metadata": {
    "ExecuteTime": {
     "end_time": "2023-04-23T04:20:34.999942Z",
     "start_time": "2023-04-23T04:20:34.996349Z"
    }
   },
   "outputs": [
    {
     "name": "stdout",
     "output_type": "stream",
     "text": [
      "👉 match_id.nunique: 950\n",
      "👉 venue.nunique: 49\n",
      "👉 union1d(team_1, team_2).shape: (18,)\n"
     ]
    }
   ],
   "source": [
    "log('match_id.nunique:', matches_result.match_id.nunique())\n",
    "log('venue.nunique:', matches_result.venue.nunique())\n",
    "log('union1d(team_1, team_2).shape:', np.union1d(\n",
    "    matches_result.team_1.unique(), matches_result.team_2.unique()\n",
    ").shape)"
   ]
  },
  {
   "cell_type": "markdown",
   "id": "bfec8f69",
   "metadata": {},
   "source": [
    "- ## Get Venues Mapping"
   ]
  },
  {
   "cell_type": "code",
   "execution_count": 13,
   "id": "72deb040",
   "metadata": {
    "ExecuteTime": {
     "end_time": "2023-04-23T04:20:35.040327Z",
     "start_time": "2023-04-23T04:20:35.001187Z"
    },
    "scrolled": false
   },
   "outputs": [
    {
     "data": {
      "text/html": [
       "<div>\n",
       "<style scoped>\n",
       "    .dataframe tbody tr th:only-of-type {\n",
       "        vertical-align: middle;\n",
       "    }\n",
       "\n",
       "    .dataframe tbody tr th {\n",
       "        vertical-align: top;\n",
       "    }\n",
       "\n",
       "    .dataframe thead th {\n",
       "        text-align: right;\n",
       "    }\n",
       "</style>\n",
       "<table border=\"1\" class=\"dataframe\">\n",
       "  <thead>\n",
       "    <tr style=\"text-align: right;\">\n",
       "      <th></th>\n",
       "      <th></th>\n",
       "      <th>count</th>\n",
       "      <th>unique</th>\n",
       "      <th>top</th>\n",
       "      <th>freq</th>\n",
       "    </tr>\n",
       "    <tr>\n",
       "      <th>City</th>\n",
       "      <th>Venue</th>\n",
       "      <th></th>\n",
       "      <th></th>\n",
       "      <th></th>\n",
       "      <th></th>\n",
       "    </tr>\n",
       "  </thead>\n",
       "  <tbody>\n",
       "    <tr>\n",
       "      <th rowspan=\"2\" valign=\"top\">Abu Dhabi</th>\n",
       "      <th>Sheikh Zayed Stadium</th>\n",
       "      <td>29</td>\n",
       "      <td>1</td>\n",
       "      <td>Sheikh Zayed Stadium</td>\n",
       "      <td>29</td>\n",
       "    </tr>\n",
       "    <tr>\n",
       "      <th>Zayed Cricket Stadium, Abu Dhabi</th>\n",
       "      <td>8</td>\n",
       "      <td>1</td>\n",
       "      <td>Zayed Cricket Stadium, Abu Dhabi</td>\n",
       "      <td>8</td>\n",
       "    </tr>\n",
       "    <tr>\n",
       "      <th rowspan=\"2\" valign=\"top\">Ahmedabad</th>\n",
       "      <th>Narendra Modi Stadium, Ahmedabad</th>\n",
       "      <td>7</td>\n",
       "      <td>1</td>\n",
       "      <td>Narendra Modi Stadium, Ahmedabad</td>\n",
       "      <td>7</td>\n",
       "    </tr>\n",
       "    <tr>\n",
       "      <th>Sardar Patel Stadium, Motera</th>\n",
       "      <td>12</td>\n",
       "      <td>1</td>\n",
       "      <td>Sardar Patel Stadium, Motera</td>\n",
       "      <td>12</td>\n",
       "    </tr>\n",
       "    <tr>\n",
       "      <th>Bangalore</th>\n",
       "      <th>M Chinnaswamy Stadium</th>\n",
       "      <td>65</td>\n",
       "      <td>1</td>\n",
       "      <td>M Chinnaswamy Stadium</td>\n",
       "      <td>65</td>\n",
       "    </tr>\n",
       "    <tr>\n",
       "      <th>Bengaluru</th>\n",
       "      <th>M.Chinnaswamy Stadium</th>\n",
       "      <td>15</td>\n",
       "      <td>1</td>\n",
       "      <td>M.Chinnaswamy Stadium</td>\n",
       "      <td>15</td>\n",
       "    </tr>\n",
       "    <tr>\n",
       "      <th>Bloemfontein</th>\n",
       "      <th>OUTsurance Oval</th>\n",
       "      <td>2</td>\n",
       "      <td>1</td>\n",
       "      <td>OUTsurance Oval</td>\n",
       "      <td>2</td>\n",
       "    </tr>\n",
       "    <tr>\n",
       "      <th>Cape Town</th>\n",
       "      <th>Newlands</th>\n",
       "      <td>7</td>\n",
       "      <td>1</td>\n",
       "      <td>Newlands</td>\n",
       "      <td>7</td>\n",
       "    </tr>\n",
       "    <tr>\n",
       "      <th>Centurion</th>\n",
       "      <th>SuperSport Park</th>\n",
       "      <td>12</td>\n",
       "      <td>1</td>\n",
       "      <td>SuperSport Park</td>\n",
       "      <td>12</td>\n",
       "    </tr>\n",
       "    <tr>\n",
       "      <th rowspan=\"3\" valign=\"top\">Chandigarh</th>\n",
       "      <th>Punjab Cricket Association IS Bindra Stadium</th>\n",
       "      <td>10</td>\n",
       "      <td>1</td>\n",
       "      <td>Punjab Cricket Association IS Bindra Stadium</td>\n",
       "      <td>10</td>\n",
       "    </tr>\n",
       "    <tr>\n",
       "      <th>Punjab Cricket Association IS Bindra Stadium, Mohali</th>\n",
       "      <td>11</td>\n",
       "      <td>1</td>\n",
       "      <td>Punjab Cricket Association IS Bindra Stadium, ...</td>\n",
       "      <td>11</td>\n",
       "    </tr>\n",
       "    <tr>\n",
       "      <th>Punjab Cricket Association Stadium, Mohali</th>\n",
       "      <td>35</td>\n",
       "      <td>1</td>\n",
       "      <td>Punjab Cricket Association Stadium, Mohali</td>\n",
       "      <td>35</td>\n",
       "    </tr>\n",
       "    <tr>\n",
       "      <th rowspan=\"3\" valign=\"top\">Chennai</th>\n",
       "      <th>MA Chidambaram Stadium</th>\n",
       "      <td>9</td>\n",
       "      <td>1</td>\n",
       "      <td>MA Chidambaram Stadium</td>\n",
       "      <td>9</td>\n",
       "    </tr>\n",
       "    <tr>\n",
       "      <th>MA Chidambaram Stadium, Chepauk</th>\n",
       "      <td>48</td>\n",
       "      <td>1</td>\n",
       "      <td>MA Chidambaram Stadium, Chepauk</td>\n",
       "      <td>48</td>\n",
       "    </tr>\n",
       "    <tr>\n",
       "      <th>MA Chidambaram Stadium, Chepauk, Chennai</th>\n",
       "      <td>10</td>\n",
       "      <td>1</td>\n",
       "      <td>MA Chidambaram Stadium, Chepauk, Chennai</td>\n",
       "      <td>10</td>\n",
       "    </tr>\n",
       "    <tr>\n",
       "      <th>Cuttack</th>\n",
       "      <th>Barabati Stadium</th>\n",
       "      <td>7</td>\n",
       "      <td>1</td>\n",
       "      <td>Barabati Stadium</td>\n",
       "      <td>7</td>\n",
       "    </tr>\n",
       "    <tr>\n",
       "      <th rowspan=\"3\" valign=\"top\">Delhi</th>\n",
       "      <th>Arun Jaitley Stadium</th>\n",
       "      <td>14</td>\n",
       "      <td>1</td>\n",
       "      <td>Arun Jaitley Stadium</td>\n",
       "      <td>14</td>\n",
       "    </tr>\n",
       "    <tr>\n",
       "      <th>Arun Jaitley Stadium, Delhi</th>\n",
       "      <td>4</td>\n",
       "      <td>1</td>\n",
       "      <td>Arun Jaitley Stadium, Delhi</td>\n",
       "      <td>4</td>\n",
       "    </tr>\n",
       "    <tr>\n",
       "      <th>Feroz Shah Kotla</th>\n",
       "      <td>60</td>\n",
       "      <td>1</td>\n",
       "      <td>Feroz Shah Kotla</td>\n",
       "      <td>60</td>\n",
       "    </tr>\n",
       "    <tr>\n",
       "      <th>Dharamsala</th>\n",
       "      <th>Himachal Pradesh Cricket Association Stadium</th>\n",
       "      <td>9</td>\n",
       "      <td>1</td>\n",
       "      <td>Himachal Pradesh Cricket Association Stadium</td>\n",
       "      <td>9</td>\n",
       "    </tr>\n",
       "    <tr>\n",
       "      <th>Dubai</th>\n",
       "      <th>Dubai International Cricket Stadium</th>\n",
       "      <td>13</td>\n",
       "      <td>1</td>\n",
       "      <td>Dubai International Cricket Stadium</td>\n",
       "      <td>13</td>\n",
       "    </tr>\n",
       "    <tr>\n",
       "      <th>Durban</th>\n",
       "      <th>Kingsmead</th>\n",
       "      <td>15</td>\n",
       "      <td>1</td>\n",
       "      <td>Kingsmead</td>\n",
       "      <td>15</td>\n",
       "    </tr>\n",
       "    <tr>\n",
       "      <th>East London</th>\n",
       "      <th>Buffalo Park</th>\n",
       "      <td>3</td>\n",
       "      <td>1</td>\n",
       "      <td>Buffalo Park</td>\n",
       "      <td>3</td>\n",
       "    </tr>\n",
       "    <tr>\n",
       "      <th rowspan=\"2\" valign=\"top\">Hyderabad</th>\n",
       "      <th>Rajiv Gandhi International Stadium</th>\n",
       "      <td>15</td>\n",
       "      <td>1</td>\n",
       "      <td>Rajiv Gandhi International Stadium</td>\n",
       "      <td>15</td>\n",
       "    </tr>\n",
       "    <tr>\n",
       "      <th>Rajiv Gandhi International Stadium, Uppal</th>\n",
       "      <td>49</td>\n",
       "      <td>1</td>\n",
       "      <td>Rajiv Gandhi International Stadium, Uppal</td>\n",
       "      <td>49</td>\n",
       "    </tr>\n",
       "    <tr>\n",
       "      <th>Indore</th>\n",
       "      <th>Holkar Cricket Stadium</th>\n",
       "      <td>9</td>\n",
       "      <td>1</td>\n",
       "      <td>Holkar Cricket Stadium</td>\n",
       "      <td>9</td>\n",
       "    </tr>\n",
       "    <tr>\n",
       "      <th>Jaipur</th>\n",
       "      <th>Sawai Mansingh Stadium</th>\n",
       "      <td>47</td>\n",
       "      <td>1</td>\n",
       "      <td>Sawai Mansingh Stadium</td>\n",
       "      <td>47</td>\n",
       "    </tr>\n",
       "    <tr>\n",
       "      <th>Johannesburg</th>\n",
       "      <th>New Wanderers Stadium</th>\n",
       "      <td>8</td>\n",
       "      <td>1</td>\n",
       "      <td>New Wanderers Stadium</td>\n",
       "      <td>8</td>\n",
       "    </tr>\n",
       "    <tr>\n",
       "      <th>Kanpur</th>\n",
       "      <th>Green Park</th>\n",
       "      <td>4</td>\n",
       "      <td>1</td>\n",
       "      <td>Green Park</td>\n",
       "      <td>4</td>\n",
       "    </tr>\n",
       "    <tr>\n",
       "      <th>Kimberley</th>\n",
       "      <th>De Beers Diamond Oval</th>\n",
       "      <td>3</td>\n",
       "      <td>1</td>\n",
       "      <td>De Beers Diamond Oval</td>\n",
       "      <td>3</td>\n",
       "    </tr>\n",
       "    <tr>\n",
       "      <th>Kochi</th>\n",
       "      <th>Nehru Stadium</th>\n",
       "      <td>5</td>\n",
       "      <td>1</td>\n",
       "      <td>Nehru Stadium</td>\n",
       "      <td>5</td>\n",
       "    </tr>\n",
       "    <tr>\n",
       "      <th rowspan=\"2\" valign=\"top\">Kolkata</th>\n",
       "      <th>Eden Gardens</th>\n",
       "      <td>77</td>\n",
       "      <td>1</td>\n",
       "      <td>Eden Gardens</td>\n",
       "      <td>77</td>\n",
       "    </tr>\n",
       "    <tr>\n",
       "      <th>Eden Gardens, Kolkata</th>\n",
       "      <td>2</td>\n",
       "      <td>1</td>\n",
       "      <td>Eden Gardens, Kolkata</td>\n",
       "      <td>2</td>\n",
       "    </tr>\n",
       "    <tr>\n",
       "      <th rowspan=\"6\" valign=\"top\">Mumbai</th>\n",
       "      <th>Brabourne Stadium</th>\n",
       "      <td>10</td>\n",
       "      <td>1</td>\n",
       "      <td>Brabourne Stadium</td>\n",
       "      <td>10</td>\n",
       "    </tr>\n",
       "    <tr>\n",
       "      <th>Brabourne Stadium, Mumbai</th>\n",
       "      <td>17</td>\n",
       "      <td>1</td>\n",
       "      <td>Brabourne Stadium, Mumbai</td>\n",
       "      <td>17</td>\n",
       "    </tr>\n",
       "    <tr>\n",
       "      <th>Dr DY Patil Sports Academy</th>\n",
       "      <td>17</td>\n",
       "      <td>1</td>\n",
       "      <td>Dr DY Patil Sports Academy</td>\n",
       "      <td>17</td>\n",
       "    </tr>\n",
       "    <tr>\n",
       "      <th>Dr DY Patil Sports Academy, Mumbai</th>\n",
       "      <td>11</td>\n",
       "      <td>1</td>\n",
       "      <td>Dr DY Patil Sports Academy, Mumbai</td>\n",
       "      <td>11</td>\n",
       "    </tr>\n",
       "    <tr>\n",
       "      <th>Wankhede Stadium</th>\n",
       "      <td>73</td>\n",
       "      <td>1</td>\n",
       "      <td>Wankhede Stadium</td>\n",
       "      <td>73</td>\n",
       "    </tr>\n",
       "    <tr>\n",
       "      <th>Wankhede Stadium, Mumbai</th>\n",
       "      <td>31</td>\n",
       "      <td>1</td>\n",
       "      <td>Wankhede Stadium, Mumbai</td>\n",
       "      <td>31</td>\n",
       "    </tr>\n",
       "    <tr>\n",
       "      <th>Nagpur</th>\n",
       "      <th>Vidarbha Cricket Association Stadium, Jamtha</th>\n",
       "      <td>3</td>\n",
       "      <td>1</td>\n",
       "      <td>Vidarbha Cricket Association Stadium, Jamtha</td>\n",
       "      <td>3</td>\n",
       "    </tr>\n",
       "    <tr>\n",
       "      <th>Navi Mumbai</th>\n",
       "      <th>Dr DY Patil Sports Academy, Mumbai</th>\n",
       "      <td>9</td>\n",
       "      <td>1</td>\n",
       "      <td>Dr DY Patil Sports Academy, Mumbai</td>\n",
       "      <td>9</td>\n",
       "    </tr>\n",
       "    <tr>\n",
       "      <th>Port Elizabeth</th>\n",
       "      <th>St George's Park</th>\n",
       "      <td>7</td>\n",
       "      <td>1</td>\n",
       "      <td>St George's Park</td>\n",
       "      <td>7</td>\n",
       "    </tr>\n",
       "    <tr>\n",
       "      <th rowspan=\"3\" valign=\"top\">Pune</th>\n",
       "      <th>Maharashtra Cricket Association Stadium</th>\n",
       "      <td>22</td>\n",
       "      <td>1</td>\n",
       "      <td>Maharashtra Cricket Association Stadium</td>\n",
       "      <td>22</td>\n",
       "    </tr>\n",
       "    <tr>\n",
       "      <th>Maharashtra Cricket Association Stadium, Pune</th>\n",
       "      <td>13</td>\n",
       "      <td>1</td>\n",
       "      <td>Maharashtra Cricket Association Stadium, Pune</td>\n",
       "      <td>13</td>\n",
       "    </tr>\n",
       "    <tr>\n",
       "      <th>Subrata Roy Sahara Stadium</th>\n",
       "      <td>16</td>\n",
       "      <td>1</td>\n",
       "      <td>Subrata Roy Sahara Stadium</td>\n",
       "      <td>16</td>\n",
       "    </tr>\n",
       "    <tr>\n",
       "      <th>Raipur</th>\n",
       "      <th>Shaheed Veer Narayan Singh International Stadium</th>\n",
       "      <td>6</td>\n",
       "      <td>1</td>\n",
       "      <td>Shaheed Veer Narayan Singh International Stadium</td>\n",
       "      <td>6</td>\n",
       "    </tr>\n",
       "    <tr>\n",
       "      <th>Rajkot</th>\n",
       "      <th>Saurashtra Cricket Association Stadium</th>\n",
       "      <td>10</td>\n",
       "      <td>1</td>\n",
       "      <td>Saurashtra Cricket Association Stadium</td>\n",
       "      <td>10</td>\n",
       "    </tr>\n",
       "    <tr>\n",
       "      <th>Ranchi</th>\n",
       "      <th>JSCA International Stadium Complex</th>\n",
       "      <td>7</td>\n",
       "      <td>1</td>\n",
       "      <td>JSCA International Stadium Complex</td>\n",
       "      <td>7</td>\n",
       "    </tr>\n",
       "    <tr>\n",
       "      <th>Sharjah</th>\n",
       "      <th>Sharjah Cricket Stadium</th>\n",
       "      <td>10</td>\n",
       "      <td>1</td>\n",
       "      <td>Sharjah Cricket Stadium</td>\n",
       "      <td>10</td>\n",
       "    </tr>\n",
       "    <tr>\n",
       "      <th>Visakhapatnam</th>\n",
       "      <th>Dr. Y.S. Rajasekhara Reddy ACA-VDCA Cricket Stadium</th>\n",
       "      <td>13</td>\n",
       "      <td>1</td>\n",
       "      <td>Dr. Y.S. Rajasekhara Reddy ACA-VDCA Cricket St...</td>\n",
       "      <td>13</td>\n",
       "    </tr>\n",
       "    <tr>\n",
       "      <th rowspan=\"2\" valign=\"top\">NaN</th>\n",
       "      <th>Dubai International Cricket Stadium</th>\n",
       "      <td>33</td>\n",
       "      <td>1</td>\n",
       "      <td>Dubai International Cricket Stadium</td>\n",
       "      <td>33</td>\n",
       "    </tr>\n",
       "    <tr>\n",
       "      <th>Sharjah Cricket Stadium</th>\n",
       "      <td>18</td>\n",
       "      <td>1</td>\n",
       "      <td>Sharjah Cricket Stadium</td>\n",
       "      <td>18</td>\n",
       "    </tr>\n",
       "  </tbody>\n",
       "</table>\n",
       "</div>"
      ],
      "text/plain": [
       "                                                                  count  \\\n",
       "City           Venue                                                      \n",
       "Abu Dhabi      Sheikh Zayed Stadium                                  29   \n",
       "               Zayed Cricket Stadium, Abu Dhabi                       8   \n",
       "Ahmedabad      Narendra Modi Stadium, Ahmedabad                       7   \n",
       "               Sardar Patel Stadium, Motera                          12   \n",
       "Bangalore      M Chinnaswamy Stadium                                 65   \n",
       "Bengaluru      M.Chinnaswamy Stadium                                 15   \n",
       "Bloemfontein   OUTsurance Oval                                        2   \n",
       "Cape Town      Newlands                                               7   \n",
       "Centurion      SuperSport Park                                       12   \n",
       "Chandigarh     Punjab Cricket Association IS Bindra Stadium          10   \n",
       "               Punjab Cricket Association IS Bindra Stadium, M...    11   \n",
       "               Punjab Cricket Association Stadium, Mohali            35   \n",
       "Chennai        MA Chidambaram Stadium                                 9   \n",
       "               MA Chidambaram Stadium, Chepauk                       48   \n",
       "               MA Chidambaram Stadium, Chepauk, Chennai              10   \n",
       "Cuttack        Barabati Stadium                                       7   \n",
       "Delhi          Arun Jaitley Stadium                                  14   \n",
       "               Arun Jaitley Stadium, Delhi                            4   \n",
       "               Feroz Shah Kotla                                      60   \n",
       "Dharamsala     Himachal Pradesh Cricket Association Stadium           9   \n",
       "Dubai          Dubai International Cricket Stadium                   13   \n",
       "Durban         Kingsmead                                             15   \n",
       "East London    Buffalo Park                                           3   \n",
       "Hyderabad      Rajiv Gandhi International Stadium                    15   \n",
       "               Rajiv Gandhi International Stadium, Uppal             49   \n",
       "Indore         Holkar Cricket Stadium                                 9   \n",
       "Jaipur         Sawai Mansingh Stadium                                47   \n",
       "Johannesburg   New Wanderers Stadium                                  8   \n",
       "Kanpur         Green Park                                             4   \n",
       "Kimberley      De Beers Diamond Oval                                  3   \n",
       "Kochi          Nehru Stadium                                          5   \n",
       "Kolkata        Eden Gardens                                          77   \n",
       "               Eden Gardens, Kolkata                                  2   \n",
       "Mumbai         Brabourne Stadium                                     10   \n",
       "               Brabourne Stadium, Mumbai                             17   \n",
       "               Dr DY Patil Sports Academy                            17   \n",
       "               Dr DY Patil Sports Academy, Mumbai                    11   \n",
       "               Wankhede Stadium                                      73   \n",
       "               Wankhede Stadium, Mumbai                              31   \n",
       "Nagpur         Vidarbha Cricket Association Stadium, Jamtha           3   \n",
       "Navi Mumbai    Dr DY Patil Sports Academy, Mumbai                     9   \n",
       "Port Elizabeth St George's Park                                       7   \n",
       "Pune           Maharashtra Cricket Association Stadium               22   \n",
       "               Maharashtra Cricket Association Stadium, Pune         13   \n",
       "               Subrata Roy Sahara Stadium                            16   \n",
       "Raipur         Shaheed Veer Narayan Singh International Stadium       6   \n",
       "Rajkot         Saurashtra Cricket Association Stadium                10   \n",
       "Ranchi         JSCA International Stadium Complex                     7   \n",
       "Sharjah        Sharjah Cricket Stadium                               10   \n",
       "Visakhapatnam  Dr. Y.S. Rajasekhara Reddy ACA-VDCA Cricket Sta...    13   \n",
       "NaN            Dubai International Cricket Stadium                   33   \n",
       "               Sharjah Cricket Stadium                               18   \n",
       "\n",
       "                                                                  unique  \\\n",
       "City           Venue                                                       \n",
       "Abu Dhabi      Sheikh Zayed Stadium                                    1   \n",
       "               Zayed Cricket Stadium, Abu Dhabi                        1   \n",
       "Ahmedabad      Narendra Modi Stadium, Ahmedabad                        1   \n",
       "               Sardar Patel Stadium, Motera                            1   \n",
       "Bangalore      M Chinnaswamy Stadium                                   1   \n",
       "Bengaluru      M.Chinnaswamy Stadium                                   1   \n",
       "Bloemfontein   OUTsurance Oval                                         1   \n",
       "Cape Town      Newlands                                                1   \n",
       "Centurion      SuperSport Park                                         1   \n",
       "Chandigarh     Punjab Cricket Association IS Bindra Stadium            1   \n",
       "               Punjab Cricket Association IS Bindra Stadium, M...      1   \n",
       "               Punjab Cricket Association Stadium, Mohali              1   \n",
       "Chennai        MA Chidambaram Stadium                                  1   \n",
       "               MA Chidambaram Stadium, Chepauk                         1   \n",
       "               MA Chidambaram Stadium, Chepauk, Chennai                1   \n",
       "Cuttack        Barabati Stadium                                        1   \n",
       "Delhi          Arun Jaitley Stadium                                    1   \n",
       "               Arun Jaitley Stadium, Delhi                             1   \n",
       "               Feroz Shah Kotla                                        1   \n",
       "Dharamsala     Himachal Pradesh Cricket Association Stadium            1   \n",
       "Dubai          Dubai International Cricket Stadium                     1   \n",
       "Durban         Kingsmead                                               1   \n",
       "East London    Buffalo Park                                            1   \n",
       "Hyderabad      Rajiv Gandhi International Stadium                      1   \n",
       "               Rajiv Gandhi International Stadium, Uppal               1   \n",
       "Indore         Holkar Cricket Stadium                                  1   \n",
       "Jaipur         Sawai Mansingh Stadium                                  1   \n",
       "Johannesburg   New Wanderers Stadium                                   1   \n",
       "Kanpur         Green Park                                              1   \n",
       "Kimberley      De Beers Diamond Oval                                   1   \n",
       "Kochi          Nehru Stadium                                           1   \n",
       "Kolkata        Eden Gardens                                            1   \n",
       "               Eden Gardens, Kolkata                                   1   \n",
       "Mumbai         Brabourne Stadium                                       1   \n",
       "               Brabourne Stadium, Mumbai                               1   \n",
       "               Dr DY Patil Sports Academy                              1   \n",
       "               Dr DY Patil Sports Academy, Mumbai                      1   \n",
       "               Wankhede Stadium                                        1   \n",
       "               Wankhede Stadium, Mumbai                                1   \n",
       "Nagpur         Vidarbha Cricket Association Stadium, Jamtha            1   \n",
       "Navi Mumbai    Dr DY Patil Sports Academy, Mumbai                      1   \n",
       "Port Elizabeth St George's Park                                        1   \n",
       "Pune           Maharashtra Cricket Association Stadium                 1   \n",
       "               Maharashtra Cricket Association Stadium, Pune           1   \n",
       "               Subrata Roy Sahara Stadium                              1   \n",
       "Raipur         Shaheed Veer Narayan Singh International Stadium        1   \n",
       "Rajkot         Saurashtra Cricket Association Stadium                  1   \n",
       "Ranchi         JSCA International Stadium Complex                      1   \n",
       "Sharjah        Sharjah Cricket Stadium                                 1   \n",
       "Visakhapatnam  Dr. Y.S. Rajasekhara Reddy ACA-VDCA Cricket Sta...      1   \n",
       "NaN            Dubai International Cricket Stadium                     1   \n",
       "               Sharjah Cricket Stadium                                 1   \n",
       "\n",
       "                                                                                                                 top  \\\n",
       "City           Venue                                                                                                   \n",
       "Abu Dhabi      Sheikh Zayed Stadium                                                             Sheikh Zayed Stadium   \n",
       "               Zayed Cricket Stadium, Abu Dhabi                                     Zayed Cricket Stadium, Abu Dhabi   \n",
       "Ahmedabad      Narendra Modi Stadium, Ahmedabad                                     Narendra Modi Stadium, Ahmedabad   \n",
       "               Sardar Patel Stadium, Motera                                             Sardar Patel Stadium, Motera   \n",
       "Bangalore      M Chinnaswamy Stadium                                                           M Chinnaswamy Stadium   \n",
       "Bengaluru      M.Chinnaswamy Stadium                                                           M.Chinnaswamy Stadium   \n",
       "Bloemfontein   OUTsurance Oval                                                                       OUTsurance Oval   \n",
       "Cape Town      Newlands                                                                                     Newlands   \n",
       "Centurion      SuperSport Park                                                                       SuperSport Park   \n",
       "Chandigarh     Punjab Cricket Association IS Bindra Stadium             Punjab Cricket Association IS Bindra Stadium   \n",
       "               Punjab Cricket Association IS Bindra Stadium, M...  Punjab Cricket Association IS Bindra Stadium, ...   \n",
       "               Punjab Cricket Association Stadium, Mohali                 Punjab Cricket Association Stadium, Mohali   \n",
       "Chennai        MA Chidambaram Stadium                                                         MA Chidambaram Stadium   \n",
       "               MA Chidambaram Stadium, Chepauk                                       MA Chidambaram Stadium, Chepauk   \n",
       "               MA Chidambaram Stadium, Chepauk, Chennai                     MA Chidambaram Stadium, Chepauk, Chennai   \n",
       "Cuttack        Barabati Stadium                                                                     Barabati Stadium   \n",
       "Delhi          Arun Jaitley Stadium                                                             Arun Jaitley Stadium   \n",
       "               Arun Jaitley Stadium, Delhi                                               Arun Jaitley Stadium, Delhi   \n",
       "               Feroz Shah Kotla                                                                     Feroz Shah Kotla   \n",
       "Dharamsala     Himachal Pradesh Cricket Association Stadium             Himachal Pradesh Cricket Association Stadium   \n",
       "Dubai          Dubai International Cricket Stadium                               Dubai International Cricket Stadium   \n",
       "Durban         Kingsmead                                                                                   Kingsmead   \n",
       "East London    Buffalo Park                                                                             Buffalo Park   \n",
       "Hyderabad      Rajiv Gandhi International Stadium                                 Rajiv Gandhi International Stadium   \n",
       "               Rajiv Gandhi International Stadium, Uppal                   Rajiv Gandhi International Stadium, Uppal   \n",
       "Indore         Holkar Cricket Stadium                                                         Holkar Cricket Stadium   \n",
       "Jaipur         Sawai Mansingh Stadium                                                         Sawai Mansingh Stadium   \n",
       "Johannesburg   New Wanderers Stadium                                                           New Wanderers Stadium   \n",
       "Kanpur         Green Park                                                                                 Green Park   \n",
       "Kimberley      De Beers Diamond Oval                                                           De Beers Diamond Oval   \n",
       "Kochi          Nehru Stadium                                                                           Nehru Stadium   \n",
       "Kolkata        Eden Gardens                                                                             Eden Gardens   \n",
       "               Eden Gardens, Kolkata                                                           Eden Gardens, Kolkata   \n",
       "Mumbai         Brabourne Stadium                                                                   Brabourne Stadium   \n",
       "               Brabourne Stadium, Mumbai                                                   Brabourne Stadium, Mumbai   \n",
       "               Dr DY Patil Sports Academy                                                 Dr DY Patil Sports Academy   \n",
       "               Dr DY Patil Sports Academy, Mumbai                                 Dr DY Patil Sports Academy, Mumbai   \n",
       "               Wankhede Stadium                                                                     Wankhede Stadium   \n",
       "               Wankhede Stadium, Mumbai                                                     Wankhede Stadium, Mumbai   \n",
       "Nagpur         Vidarbha Cricket Association Stadium, Jamtha             Vidarbha Cricket Association Stadium, Jamtha   \n",
       "Navi Mumbai    Dr DY Patil Sports Academy, Mumbai                                 Dr DY Patil Sports Academy, Mumbai   \n",
       "Port Elizabeth St George's Park                                                                     St George's Park   \n",
       "Pune           Maharashtra Cricket Association Stadium                       Maharashtra Cricket Association Stadium   \n",
       "               Maharashtra Cricket Association Stadium, Pune           Maharashtra Cricket Association Stadium, Pune   \n",
       "               Subrata Roy Sahara Stadium                                                 Subrata Roy Sahara Stadium   \n",
       "Raipur         Shaheed Veer Narayan Singh International Stadium     Shaheed Veer Narayan Singh International Stadium   \n",
       "Rajkot         Saurashtra Cricket Association Stadium                         Saurashtra Cricket Association Stadium   \n",
       "Ranchi         JSCA International Stadium Complex                                 JSCA International Stadium Complex   \n",
       "Sharjah        Sharjah Cricket Stadium                                                       Sharjah Cricket Stadium   \n",
       "Visakhapatnam  Dr. Y.S. Rajasekhara Reddy ACA-VDCA Cricket Sta...  Dr. Y.S. Rajasekhara Reddy ACA-VDCA Cricket St...   \n",
       "NaN            Dubai International Cricket Stadium                               Dubai International Cricket Stadium   \n",
       "               Sharjah Cricket Stadium                                                       Sharjah Cricket Stadium   \n",
       "\n",
       "                                                                  freq  \n",
       "City           Venue                                                    \n",
       "Abu Dhabi      Sheikh Zayed Stadium                                 29  \n",
       "               Zayed Cricket Stadium, Abu Dhabi                      8  \n",
       "Ahmedabad      Narendra Modi Stadium, Ahmedabad                      7  \n",
       "               Sardar Patel Stadium, Motera                         12  \n",
       "Bangalore      M Chinnaswamy Stadium                                65  \n",
       "Bengaluru      M.Chinnaswamy Stadium                                15  \n",
       "Bloemfontein   OUTsurance Oval                                       2  \n",
       "Cape Town      Newlands                                              7  \n",
       "Centurion      SuperSport Park                                      12  \n",
       "Chandigarh     Punjab Cricket Association IS Bindra Stadium         10  \n",
       "               Punjab Cricket Association IS Bindra Stadium, M...   11  \n",
       "               Punjab Cricket Association Stadium, Mohali           35  \n",
       "Chennai        MA Chidambaram Stadium                                9  \n",
       "               MA Chidambaram Stadium, Chepauk                      48  \n",
       "               MA Chidambaram Stadium, Chepauk, Chennai             10  \n",
       "Cuttack        Barabati Stadium                                      7  \n",
       "Delhi          Arun Jaitley Stadium                                 14  \n",
       "               Arun Jaitley Stadium, Delhi                           4  \n",
       "               Feroz Shah Kotla                                     60  \n",
       "Dharamsala     Himachal Pradesh Cricket Association Stadium          9  \n",
       "Dubai          Dubai International Cricket Stadium                  13  \n",
       "Durban         Kingsmead                                            15  \n",
       "East London    Buffalo Park                                          3  \n",
       "Hyderabad      Rajiv Gandhi International Stadium                   15  \n",
       "               Rajiv Gandhi International Stadium, Uppal            49  \n",
       "Indore         Holkar Cricket Stadium                                9  \n",
       "Jaipur         Sawai Mansingh Stadium                               47  \n",
       "Johannesburg   New Wanderers Stadium                                 8  \n",
       "Kanpur         Green Park                                            4  \n",
       "Kimberley      De Beers Diamond Oval                                 3  \n",
       "Kochi          Nehru Stadium                                         5  \n",
       "Kolkata        Eden Gardens                                         77  \n",
       "               Eden Gardens, Kolkata                                 2  \n",
       "Mumbai         Brabourne Stadium                                    10  \n",
       "               Brabourne Stadium, Mumbai                            17  \n",
       "               Dr DY Patil Sports Academy                           17  \n",
       "               Dr DY Patil Sports Academy, Mumbai                   11  \n",
       "               Wankhede Stadium                                     73  \n",
       "               Wankhede Stadium, Mumbai                             31  \n",
       "Nagpur         Vidarbha Cricket Association Stadium, Jamtha          3  \n",
       "Navi Mumbai    Dr DY Patil Sports Academy, Mumbai                    9  \n",
       "Port Elizabeth St George's Park                                      7  \n",
       "Pune           Maharashtra Cricket Association Stadium              22  \n",
       "               Maharashtra Cricket Association Stadium, Pune        13  \n",
       "               Subrata Roy Sahara Stadium                           16  \n",
       "Raipur         Shaheed Veer Narayan Singh International Stadium      6  \n",
       "Rajkot         Saurashtra Cricket Association Stadium               10  \n",
       "Ranchi         JSCA International Stadium Complex                    7  \n",
       "Sharjah        Sharjah Cricket Stadium                              10  \n",
       "Visakhapatnam  Dr. Y.S. Rajasekhara Reddy ACA-VDCA Cricket Sta...   13  \n",
       "NaN            Dubai International Cricket Stadium                  33  \n",
       "               Sharjah Cricket Stadium                              18  "
      ]
     },
     "execution_count": 13,
     "metadata": {},
     "output_type": "execute_result"
    }
   ],
   "source": [
    "matches_result_orig.groupby(['City', 'Venue'], dropna=False)['Venue'].describe()"
   ]
  },
  {
   "cell_type": "markdown",
   "id": "7fcb09e0",
   "metadata": {},
   "source": [
    "👇: https://www.iplt20.com/matches/schedule/men"
   ]
  },
  {
   "cell_type": "code",
   "execution_count": 14,
   "id": "6b4b2141",
   "metadata": {
    "ExecuteTime": {
     "end_time": "2023-04-23T04:20:35.045515Z",
     "start_time": "2023-04-23T04:20:35.041335Z"
    }
   },
   "outputs": [],
   "source": [
    "venue_mapping_normal = {\n",
    "  \"Arun Jaitley Stadium\": \"Arun Jaitley Stadium\",\n",
    "  \"Arun Jaitley Stadium, Delhi\": \"Arun Jaitley Stadium\",\n",
    "  \"Feroz Shah Kotla\": \"Arun Jaitley Stadium\",\n",
    "  \"Barsapara Cricket Stadium\": \"Barsapara Cricket Stadium\",\n",
    "  \"Barsapara Cricket Stadium, Guwahati\": \"Barsapara Cricket Stadium\",\n",
    "  \"Bharat Ratna Shri Atal Bihari Vajpayee Ekana Cricket Stadium\": \"Bharat Ratna Shri Atal Bihari Vajpayee Ekana Cricket Stadium\",\n",
    "  \"Bharat Ratna Shri Atal Bihari Vajpayee Ekana Cricket Stadium, Lucknow\": \"Bharat Ratna Shri Atal Bihari Vajpayee Ekana Cricket Stadium\",\n",
    "  \"Eden Gardens\": \"Eden Gardens\",\n",
    "  \"Eden Gardens, Kolkata\": \"Eden Gardens\",\n",
    "  \"Himachal Pradesh Cricket Association Stadium\": \"Himachal Pradesh Cricket Association Stadium\",\n",
    "  \"Himachal Pradesh Cricket Association Stadium, Dharamsala\": \"Himachal Pradesh Cricket Association Stadium\",\n",
    "  \"M Chinnaswamy Stadium\": \"M Chinnaswamy Stadium\",\n",
    "  \"M Chinnaswamy Stadium, Bengaluru\": \"M Chinnaswamy Stadium\",\n",
    "  \"M Chinnaswamy Stadium, Bangalore\": \"M Chinnaswamy Stadium\",\n",
    "  \"M.Chinnaswamy Stadium\": \"M Chinnaswamy Stadium\",\n",
    "  \"M.Chinnaswamy Stadium, Bengaluru\": \"M Chinnaswamy Stadium\",\n",
    "  \"M.Chinnaswamy Stadium, Bangalore\": \"M Chinnaswamy Stadium\",\n",
    "  \"MA Chidambaram Stadium\": \"MA Chidambaram Stadium\",\n",
    "  \"MA Chidambaram Stadium, Chennai\": \"MA Chidambaram Stadium\",\n",
    "  \"MA Chidambaram Stadium, Chepauk\": \"MA Chidambaram Stadium\",\n",
    "  \"MA Chidambaram Stadium, Chepauk, Chennai\": \"MA Chidambaram Stadium\",\n",
    "  \"Narendra Modi Stadium\": \"Narendra Modi Stadium\",\n",
    "  \"Narendra Modi Stadium, Ahmedabad\": \"Narendra Modi Stadium\",\n",
    "  \"Punjab Cricket Association IS Bindra Stadium\": \"Punjab Cricket Association IS Bindra Stadium\",\n",
    "  \"Punjab Cricket Association IS Bindra Stadium, Mohali\": \"Punjab Cricket Association IS Bindra Stadium\",\n",
    "  \"Punjab Cricket Association Stadium, Mohali\": \"Punjab Cricket Association IS Bindra Stadium\",\n",
    "  \"Rajiv Gandhi International Stadium\": \"Rajiv Gandhi International Stadium\",\n",
    "  \"Rajiv Gandhi International Stadium, Hyderabad\": \"Rajiv Gandhi International Stadium\",\n",
    "  \"Rajiv Gandhi International Stadium, Uppal\": \"Rajiv Gandhi International Stadium\",\n",
    "  \"Sawai Mansingh Stadium\": \"Sawai Mansingh Stadium\",\n",
    "  \"Sawai Mansingh Stadium, Jaipur\": \"Sawai Mansingh Stadium\",\n",
    "  \"Wankhede Stadium\": \"Wankhede Stadium\",\n",
    "  \"Wankhede Stadium, Mumbai\": \"Wankhede Stadium\"\n",
    "}"
   ]
  },
  {
   "cell_type": "code",
   "execution_count": 15,
   "id": "de03038a",
   "metadata": {
    "ExecuteTime": {
     "end_time": "2023-04-23T04:20:35.054799Z",
     "start_time": "2023-04-23T04:20:35.046533Z"
    }
   },
   "outputs": [],
   "source": [
    "venue_mapping_kebab = {\n",
    "  \"arun-jaitley-stadium\": \"Arun Jaitley Stadium\",\n",
    "  \"arun-jaitley-stadium-delhi\": \"Arun Jaitley Stadium\",\n",
    "  \"feroz-shah-kotla\": \"Arun Jaitley Stadium\",\n",
    "  \"barsapara-cricket-stadium\": \"Barsapara Cricket Stadium\",\n",
    "  \"barsapara-cricket-stadium-guwahati\": \"Barsapara Cricket Stadium\",\n",
    "  \"bharat-ratna-shri-atal-bihari-vajpayee-ekana-cricket-stadium\": \"Bharat Ratna Shri Atal Bihari Vajpayee Ekana Cricket Stadium\",\n",
    "  \"bharat-ratna-shri-atal-bihari-vajpayee-ekana-cricket-stadium-lucknow\": \"Bharat Ratna Shri Atal Bihari Vajpayee Ekana Cricket Stadium\",\n",
    "  \"eden-gardens\": \"Eden Gardens\",\n",
    "  \"eden-gardens-kolkata\": \"Eden Gardens\",\n",
    "  \"himachal-pradesh-cricket-association-stadium\": \"Himachal Pradesh Cricket Association Stadium\",\n",
    "  \"himachal-pradesh-cricket-association-stadium-dharamsala\": \"Himachal Pradesh Cricket Association Stadium\",\n",
    "  \"m-chinnaswamy-stadium\": \"M Chinnaswamy Stadium\",\n",
    "  \"m-chinnaswamy-stadium-bengaluru\": \"M Chinnaswamy Stadium\",\n",
    "  \"m-chinnaswamy-stadium-bangalore\": \"M Chinnaswamy Stadium\",\n",
    "  \"mchinnaswamy-stadium\": \"M Chinnaswamy Stadium\",\n",
    "  \"mchinnaswamy-stadium-bengaluru\": \"M Chinnaswamy Stadium\",\n",
    "  \"mchinnaswamy-stadium-bangalore\": \"M Chinnaswamy Stadium\",\n",
    "  \"ma-chidambaram-stadium\": \"MA Chidambaram Stadium\",\n",
    "  \"ma-chidambaram-stadium-chennai\": \"MA Chidambaram Stadium\",\n",
    "  \"ma-chidambaram-stadium-chepauk\": \"MA Chidambaram Stadium\",\n",
    "  \"ma-chidambaram-stadium-chepauk-chennai\": \"MA Chidambaram Stadium\",\n",
    "  \"narendra-modi-stadium\": \"Narendra Modi Stadium\",\n",
    "  \"narendra-modi-stadium-ahmedabad\": \"Narendra Modi Stadium\",\n",
    "  \"punjab-cricket-association-is-bindra-stadium\": \"Punjab Cricket Association IS Bindra Stadium\",\n",
    "  \"punjab-cricket-association-is-bindra-stadium-mohali\": \"Punjab Cricket Association IS Bindra Stadium\",\n",
    "  \"punjab-cricket-association-stadium-mohali\": \"Punjab Cricket Association IS Bindra Stadium\",\n",
    "  \"rajiv-gandhi-international-stadium\": \"Rajiv Gandhi International Stadium\",\n",
    "  \"rajiv-gandhi-international-stadium-hyderabad\": \"Rajiv Gandhi International Stadium\",\n",
    "  \"rajiv-gandhi-international-stadium-uppal\": \"Rajiv Gandhi International Stadium\",\n",
    "  \"sawai-mansingh-stadium\": \"Sawai Mansingh Stadium\",\n",
    "  \"sawai-mansingh-stadium-jaipur\": \"Sawai Mansingh Stadium\",\n",
    "  \"wankhede-stadium\": \"Wankhede Stadium\",\n",
    "  \"wankhede-stadium-mumbai\": \"Wankhede Stadium\"\n",
    "}"
   ]
  },
  {
   "cell_type": "code",
   "execution_count": 16,
   "id": "6c63a15d",
   "metadata": {
    "ExecuteTime": {
     "end_time": "2023-04-23T04:20:35.065493Z",
     "start_time": "2023-04-23T04:20:35.055723Z"
    }
   },
   "outputs": [
    {
     "data": {
      "text/plain": [
       "array(['Barabati Stadium', 'Brabourne Stadium',\n",
       "       'Brabourne Stadium, Mumbai', 'Buffalo Park',\n",
       "       'De Beers Diamond Oval', 'Dr DY Patil Sports Academy',\n",
       "       'Dr DY Patil Sports Academy, Mumbai',\n",
       "       'Dr. Y.S. Rajasekhara Reddy ACA-VDCA Cricket Stadium',\n",
       "       'Dubai International Cricket Stadium', 'Green Park',\n",
       "       'Holkar Cricket Stadium', 'JSCA International Stadium Complex',\n",
       "       'Kingsmead', 'Maharashtra Cricket Association Stadium',\n",
       "       'Maharashtra Cricket Association Stadium, Pune', 'Nehru Stadium',\n",
       "       'New Wanderers Stadium', 'Newlands', 'OUTsurance Oval',\n",
       "       'Sardar Patel Stadium, Motera',\n",
       "       'Saurashtra Cricket Association Stadium',\n",
       "       'Shaheed Veer Narayan Singh International Stadium',\n",
       "       'Sharjah Cricket Stadium', 'Sheikh Zayed Stadium',\n",
       "       \"St George's Park\", 'Subrata Roy Sahara Stadium',\n",
       "       'SuperSport Park', 'Vidarbha Cricket Association Stadium, Jamtha',\n",
       "       'Zayed Cricket Stadium, Abu Dhabi'], dtype=object)"
      ]
     },
     "execution_count": 16,
     "metadata": {},
     "output_type": "execute_result"
    }
   ],
   "source": [
    "np.setdiff1d(matches_result.venue.unique(), list(venue_mapping_normal.keys()))"
   ]
  },
  {
   "cell_type": "markdown",
   "id": "0d9da923",
   "metadata": {},
   "source": [
    "- ## Get Teams Mapping"
   ]
  },
  {
   "cell_type": "code",
   "execution_count": 17,
   "id": "df6a40c4",
   "metadata": {
    "ExecuteTime": {
     "end_time": "2023-04-23T04:20:35.086167Z",
     "start_time": "2023-04-23T04:20:35.067508Z"
    },
    "scrolled": false
   },
   "outputs": [
    {
     "data": {
      "text/plain": [
       "True"
      ]
     },
     "execution_count": 17,
     "metadata": {},
     "output_type": "execute_result"
    }
   ],
   "source": [
    "set(matches_result['team_1'].unique()) == set(matches_result['team_2'].unique()) == set(ball_by_ball['batting_team'].unique())"
   ]
  },
  {
   "cell_type": "code",
   "execution_count": 18,
   "id": "13d923f9",
   "metadata": {
    "ExecuteTime": {
     "end_time": "2023-04-23T04:20:35.090529Z",
     "start_time": "2023-04-23T04:20:35.087343Z"
    }
   },
   "outputs": [],
   "source": [
    "# Rajasthan Royals\n",
    "# Gujarat Titans\n",
    "# Royal Challengers Bangalore\n",
    "# Lucknow Super Giants\n",
    "# Sunrisers Hyderabad\n",
    "# Punjab Kings [Kings XI Punjab]\n",
    "# Delhi Capitals [Delhi Daredevils]\n",
    "# Mumbai Indians\n",
    "# Chennai Super Kings\n",
    "# Kolkata Knight Riders\n",
    "\n",
    "team_mapping = { # 10 teams\n",
    " 'Rajasthan Royals': 'Rajasthan Royals',\n",
    " 'Gujarat Titans': 'Gujarat Titans',\n",
    " 'Royal Challengers Bangalore': 'Royal Challengers Bangalore',\n",
    " 'Lucknow Super Giants': 'Lucknow Super Giants',\n",
    " 'Sunrisers Hyderabad': 'Sunrisers Hyderabad',\n",
    " 'Mumbai Indians': 'Mumbai Indians',\n",
    " 'Chennai Super Kings': 'Chennai Super Kings',\n",
    " 'Kolkata Knight Riders': 'Kolkata Knight Riders',\n",
    "    \n",
    " 'Kings XI Punjab': 'Punjab Kings',\n",
    " 'Punjab Kings': 'Punjab Kings',\n",
    "    \n",
    " 'Delhi Daredevils': 'Delhi Capitals',\n",
    " 'Delhi Capitals': 'Delhi Capitals',\n",
    "}"
   ]
  },
  {
   "cell_type": "code",
   "execution_count": 19,
   "id": "d8659663",
   "metadata": {
    "ExecuteTime": {
     "end_time": "2023-04-23T04:20:35.100633Z",
     "start_time": "2023-04-23T04:20:35.090529Z"
    },
    "scrolled": true
   },
   "outputs": [
    {
     "name": "stdout",
     "output_type": "stream",
     "text": [
      "[]\n",
      "['Deccan Chargers' 'Gujarat Lions' 'Kochi Tuskers Kerala' 'Pune Warriors'\n",
      " 'Rising Pune Supergiant' 'Rising Pune Supergiants']\n"
     ]
    }
   ],
   "source": [
    "print(np.setdiff1d(\n",
    "   list(team_mapping.keys()), matches_result['team_1'].unique()\n",
    "))\n",
    "\n",
    "print(np.setdiff1d(\n",
    "    matches_result['team_1'].unique(), list(team_mapping.keys())\n",
    "))"
   ]
  },
  {
   "cell_type": "markdown",
   "id": "77371da3",
   "metadata": {},
   "source": [
    "- ## Apply Venues/Teams Mapping [in matches_result, ball_by_ball]"
   ]
  },
  {
   "cell_type": "code",
   "execution_count": 20,
   "id": "ae56d016",
   "metadata": {
    "ExecuteTime": {
     "end_time": "2023-04-23T04:20:35.128124Z",
     "start_time": "2023-04-23T04:20:35.101178Z"
    }
   },
   "outputs": [],
   "source": [
    "matches_result.venue = matches_result.venue.map(venue_mapping_normal).fillna('Other')\n",
    "\n",
    "matches_result.team_1 = matches_result.team_1.map(team_mapping).fillna('Other')\n",
    "matches_result.team_2 = matches_result.team_2.map(team_mapping).fillna('Other')\n",
    "\n",
    "ball_by_ball.batting_team = ball_by_ball.batting_team.map(team_mapping).fillna('Other')"
   ]
  },
  {
   "cell_type": "code",
   "execution_count": 21,
   "id": "f61d1554",
   "metadata": {
    "ExecuteTime": {
     "end_time": "2023-04-23T04:20:35.133645Z",
     "start_time": "2023-04-23T04:20:35.129133Z"
    }
   },
   "outputs": [
    {
     "data": {
      "text/plain": [
       "(359,)"
      ]
     },
     "execution_count": 21,
     "metadata": {},
     "output_type": "execute_result"
    }
   ],
   "source": [
    "matches_result.venue[matches_result.venue == 'Other'].shape"
   ]
  },
  {
   "cell_type": "code",
   "execution_count": 22,
   "id": "e70d8c14",
   "metadata": {
    "ExecuteTime": {
     "end_time": "2023-04-23T04:20:35.142722Z",
     "start_time": "2023-04-23T04:20:35.134956Z"
    }
   },
   "outputs": [
    {
     "name": "stdout",
     "output_type": "stream",
     "text": [
      "(99,)\n",
      "(96,)\n"
     ]
    }
   ],
   "source": [
    "print(matches_result.team_1[matches_result.team_1 == 'Other'].shape)\n",
    "print(matches_result.team_2[matches_result.team_2 == 'Other'].shape)"
   ]
  },
  {
   "cell_type": "code",
   "execution_count": 23,
   "id": "2ba9ac3e",
   "metadata": {
    "ExecuteTime": {
     "end_time": "2023-04-23T04:20:35.160150Z",
     "start_time": "2023-04-23T04:20:35.143735Z"
    }
   },
   "outputs": [
    {
     "data": {
      "text/plain": [
       "(23105,)"
      ]
     },
     "execution_count": 23,
     "metadata": {},
     "output_type": "execute_result"
    }
   ],
   "source": [
    "ball_by_ball.batting_team[ball_by_ball.batting_team == 'Other'].shape"
   ]
  },
  {
   "cell_type": "code",
   "execution_count": 24,
   "id": "3820e7d6",
   "metadata": {
    "ExecuteTime": {
     "end_time": "2023-04-23T04:20:35.167241Z",
     "start_time": "2023-04-23T04:20:35.161159Z"
    }
   },
   "outputs": [
    {
     "name": "stdout",
     "output_type": "stream",
     "text": [
      "(950, 4)\n",
      "(225954, 8)\n"
     ]
    }
   ],
   "source": [
    "print(matches_result.shape)\n",
    "print(ball_by_ball.shape)"
   ]
  },
  {
   "cell_type": "markdown",
   "id": "ae07b3eb",
   "metadata": {},
   "source": [
    "- ## Remove NA Teams [in ball_by_ball] and Venues [in matches_result]"
   ]
  },
  {
   "cell_type": "code",
   "execution_count": 25,
   "id": "ef4ea0c2",
   "metadata": {
    "ExecuteTime": {
     "end_time": "2023-04-23T04:20:35.175450Z",
     "start_time": "2023-04-23T04:20:35.168249Z"
    }
   },
   "outputs": [],
   "source": [
    "# matches_result = matches_result.dropna(subset=['team_1', 'team_2', 'venue'])\n",
    "# matches_result.shape\n",
    "\n",
    "# ball_by_ball = ball_by_ball.dropna(subset=['batting_team'])\n",
    "# print(ball_by_ball.shape)"
   ]
  },
  {
   "cell_type": "markdown",
   "id": "5047ea6d",
   "metadata": {},
   "source": [
    "- ## Select first 6 overs, Select innings 1 & 2, Map innings (1,2) to (0,1) [in ball_by_ball]"
   ]
  },
  {
   "cell_type": "code",
   "execution_count": 26,
   "id": "ef2d29cf",
   "metadata": {
    "ExecuteTime": {
     "end_time": "2023-04-23T04:20:35.187985Z",
     "start_time": "2023-04-23T04:20:35.177138Z"
    },
    "scrolled": true
   },
   "outputs": [
    {
     "data": {
      "text/plain": [
       "array([1, 2, 3, 4, 5, 6], dtype=int64)"
      ]
     },
     "execution_count": 26,
     "metadata": {},
     "output_type": "execute_result"
    }
   ],
   "source": [
    "ball_by_ball.innings.unique()"
   ]
  },
  {
   "cell_type": "code",
   "execution_count": 27,
   "id": "f57947b8",
   "metadata": {
    "ExecuteTime": {
     "end_time": "2023-04-23T04:20:35.195736Z",
     "start_time": "2023-04-23T04:20:35.189349Z"
    },
    "scrolled": false
   },
   "outputs": [
    {
     "data": {
      "text/plain": [
       "array([ 0,  1,  2,  3,  4,  5,  6,  7,  8,  9, 10, 11, 12, 13, 14, 15, 16,\n",
       "       17, 18, 19], dtype=int64)"
      ]
     },
     "execution_count": 27,
     "metadata": {},
     "output_type": "execute_result"
    }
   ],
   "source": [
    "ball_by_ball.overs.unique()"
   ]
  },
  {
   "cell_type": "code",
   "execution_count": 28,
   "id": "12446a98",
   "metadata": {
    "ExecuteTime": {
     "end_time": "2023-04-23T04:20:35.220415Z",
     "start_time": "2023-04-23T04:20:35.198557Z"
    }
   },
   "outputs": [
    {
     "data": {
      "text/plain": [
       "(70921, 8)"
      ]
     },
     "execution_count": 28,
     "metadata": {},
     "output_type": "execute_result"
    }
   ],
   "source": [
    "ball_by_ball = ball_by_ball.loc[(ball_by_ball.overs <= 5) & (ball_by_ball.innings <= 2)]\n",
    "ball_by_ball.innings = ball_by_ball.innings.replace({1: 0, 2: 1})\n",
    "ball_by_ball.shape"
   ]
  },
  {
   "cell_type": "code",
   "execution_count": 29,
   "id": "127feea6",
   "metadata": {
    "ExecuteTime": {
     "end_time": "2023-04-23T04:20:35.225717Z",
     "start_time": "2023-04-23T04:20:35.221422Z"
    },
    "scrolled": false
   },
   "outputs": [
    {
     "data": {
      "text/plain": [
       "array([0, 1], dtype=int64)"
      ]
     },
     "execution_count": 29,
     "metadata": {},
     "output_type": "execute_result"
    }
   ],
   "source": [
    "ball_by_ball.innings.unique()"
   ]
  },
  {
   "cell_type": "code",
   "execution_count": 30,
   "id": "b1125063",
   "metadata": {
    "ExecuteTime": {
     "end_time": "2023-04-23T04:20:35.234764Z",
     "start_time": "2023-04-23T04:20:35.227230Z"
    },
    "scrolled": false
   },
   "outputs": [
    {
     "data": {
      "text/plain": [
       "array([0, 1, 2, 3, 4, 5], dtype=int64)"
      ]
     },
     "execution_count": 30,
     "metadata": {},
     "output_type": "execute_result"
    }
   ],
   "source": [
    "ball_by_ball.overs.unique()"
   ]
  },
  {
   "cell_type": "markdown",
   "id": "a1685adc",
   "metadata": {},
   "source": [
    "- ## Grouping "
   ]
  },
  {
   "cell_type": "code",
   "execution_count": 31,
   "id": "c0ea57c3",
   "metadata": {
    "ExecuteTime": {
     "end_time": "2023-04-23T04:20:35.241524Z",
     "start_time": "2023-04-23T04:20:35.235779Z"
    }
   },
   "outputs": [],
   "source": [
    "ball_by_ball_gb = ball_by_ball.groupby(['match_id', 'innings', 'batting_team'])"
   ]
  },
  {
   "cell_type": "code",
   "execution_count": 32,
   "id": "0ceecc00",
   "metadata": {
    "ExecuteTime": {
     "end_time": "2023-04-23T04:20:35.391187Z",
     "start_time": "2023-04-23T04:20:35.242534Z"
    }
   },
   "outputs": [],
   "source": [
    "total_runs = ball_by_ball_gb['total_run'].sum()\n",
    "batsmen = ball_by_ball_gb['batter'].unique()\n",
    "bowlers = ball_by_ball_gb['bowler'].unique()"
   ]
  },
  {
   "cell_type": "code",
   "execution_count": 33,
   "id": "7502f12e",
   "metadata": {
    "ExecuteTime": {
     "end_time": "2023-04-23T04:20:35.397820Z",
     "start_time": "2023-04-23T04:20:35.392193Z"
    }
   },
   "outputs": [],
   "source": [
    "total_runs = total_runs.to_frame(name = 'total_runs').reset_index()\n",
    "batsmen = batsmen.to_frame(name = 'batsmen').reset_index()\n",
    "bowlers = bowlers.to_frame(name = 'bowlers').reset_index()"
   ]
  },
  {
   "cell_type": "code",
   "execution_count": 34,
   "id": "f526186a",
   "metadata": {
    "ExecuteTime": {
     "end_time": "2023-04-23T04:20:35.412053Z",
     "start_time": "2023-04-23T04:20:35.398834Z"
    }
   },
   "outputs": [],
   "source": [
    "data = total_runs.merge(batsmen, how='right', on=['match_id','innings','batting_team'])\n",
    "data = data.merge(bowlers, how='right', on=['match_id','innings','batting_team'])\n",
    "data = data.merge(matches_result, on=['match_id'])"
   ]
  },
  {
   "cell_type": "code",
   "execution_count": 35,
   "id": "81911e92",
   "metadata": {
    "ExecuteTime": {
     "end_time": "2023-04-23T04:20:35.417618Z",
     "start_time": "2023-04-23T04:20:35.413067Z"
    },
    "scrolled": true
   },
   "outputs": [],
   "source": [
    "mask = data['batting_team'] == data['team_1']\n",
    "data.loc[mask, 'bowling_team'] = data['team_2']\n",
    "data.loc[~mask, 'bowling_team'] = data['team_1']"
   ]
  },
  {
   "cell_type": "code",
   "execution_count": 36,
   "id": "b28ff077",
   "metadata": {
    "ExecuteTime": {
     "end_time": "2023-04-23T04:20:35.426181Z",
     "start_time": "2023-04-23T04:20:35.418658Z"
    }
   },
   "outputs": [],
   "source": [
    "# match_id == 829763, data for one innings is missing\n",
    "# match_id == 829813, total_runs for one innings is 2 (probably a mistake in data entry)\n",
    "data = data.drop(data[(data['match_id'] == 829763) | (data['match_id'] == 829813)].index)"
   ]
  },
  {
   "cell_type": "code",
   "execution_count": 37,
   "id": "35adcac8",
   "metadata": {
    "ExecuteTime": {
     "end_time": "2023-04-23T04:20:35.435052Z",
     "start_time": "2023-04-23T04:20:35.427346Z"
    }
   },
   "outputs": [],
   "source": [
    "data['count_batsmen'] = [len(x) for x in data['batsmen']]\n",
    "data['count_bowlers'] = [len(x) for x in data['bowlers']]"
   ]
  },
  {
   "cell_type": "code",
   "execution_count": 95,
   "id": "b83a3e94",
   "metadata": {
    "ExecuteTime": {
     "end_time": "2023-04-23T04:32:28.654862Z",
     "start_time": "2023-04-23T04:32:28.648786Z"
    }
   },
   "outputs": [],
   "source": [
    "data = data[\n",
    "    ['venue', 'innings', 'batting_team', 'bowling_team', 'count_batsmen', 'count_bowlers', 'total_runs']\n",
    "].reset_index()"
   ]
  },
  {
   "cell_type": "markdown",
   "id": "4a881b19",
   "metadata": {
    "ExecuteTime": {
     "end_time": "2023-04-23T02:23:34.931528Z",
     "start_time": "2023-04-23T02:23:34.928462Z"
    }
   },
   "source": [
    "# EDA"
   ]
  },
  {
   "cell_type": "code",
   "execution_count": 39,
   "id": "41f95dd6",
   "metadata": {
    "ExecuteTime": {
     "end_time": "2023-04-23T04:20:35.457138Z",
     "start_time": "2023-04-23T04:20:35.445762Z"
    }
   },
   "outputs": [
    {
     "data": {
      "text/html": [
       "<div>\n",
       "<style scoped>\n",
       "    .dataframe tbody tr th:only-of-type {\n",
       "        vertical-align: middle;\n",
       "    }\n",
       "\n",
       "    .dataframe tbody tr th {\n",
       "        vertical-align: top;\n",
       "    }\n",
       "\n",
       "    .dataframe thead th {\n",
       "        text-align: right;\n",
       "    }\n",
       "</style>\n",
       "<table border=\"1\" class=\"dataframe\">\n",
       "  <thead>\n",
       "    <tr style=\"text-align: right;\">\n",
       "      <th></th>\n",
       "      <th>venue</th>\n",
       "      <th>innings</th>\n",
       "      <th>batting_team</th>\n",
       "      <th>bowling_team</th>\n",
       "      <th>count_batsmen</th>\n",
       "      <th>count_bowlers</th>\n",
       "      <th>total_runs</th>\n",
       "    </tr>\n",
       "  </thead>\n",
       "  <tbody>\n",
       "    <tr>\n",
       "      <th>0</th>\n",
       "      <td>M Chinnaswamy Stadium</td>\n",
       "      <td>0</td>\n",
       "      <td>Kolkata Knight Riders</td>\n",
       "      <td>Royal Challengers Bangalore</td>\n",
       "      <td>3</td>\n",
       "      <td>3</td>\n",
       "      <td>61</td>\n",
       "    </tr>\n",
       "    <tr>\n",
       "      <th>1</th>\n",
       "      <td>M Chinnaswamy Stadium</td>\n",
       "      <td>1</td>\n",
       "      <td>Royal Challengers Bangalore</td>\n",
       "      <td>Kolkata Knight Riders</td>\n",
       "      <td>6</td>\n",
       "      <td>3</td>\n",
       "      <td>26</td>\n",
       "    </tr>\n",
       "    <tr>\n",
       "      <th>2</th>\n",
       "      <td>Punjab Cricket Association IS Bindra Stadium</td>\n",
       "      <td>0</td>\n",
       "      <td>Chennai Super Kings</td>\n",
       "      <td>Punjab Kings</td>\n",
       "      <td>3</td>\n",
       "      <td>3</td>\n",
       "      <td>53</td>\n",
       "    </tr>\n",
       "    <tr>\n",
       "      <th>3</th>\n",
       "      <td>Punjab Cricket Association IS Bindra Stadium</td>\n",
       "      <td>1</td>\n",
       "      <td>Punjab Kings</td>\n",
       "      <td>Chennai Super Kings</td>\n",
       "      <td>2</td>\n",
       "      <td>2</td>\n",
       "      <td>63</td>\n",
       "    </tr>\n",
       "    <tr>\n",
       "      <th>4</th>\n",
       "      <td>Arun Jaitley Stadium</td>\n",
       "      <td>0</td>\n",
       "      <td>Rajasthan Royals</td>\n",
       "      <td>Delhi Capitals</td>\n",
       "      <td>4</td>\n",
       "      <td>3</td>\n",
       "      <td>40</td>\n",
       "    </tr>\n",
       "    <tr>\n",
       "      <th>...</th>\n",
       "      <td>...</td>\n",
       "      <td>...</td>\n",
       "      <td>...</td>\n",
       "      <td>...</td>\n",
       "      <td>...</td>\n",
       "      <td>...</td>\n",
       "      <td>...</td>\n",
       "    </tr>\n",
       "    <tr>\n",
       "      <th>1893</th>\n",
       "      <td>Eden Gardens</td>\n",
       "      <td>1</td>\n",
       "      <td>Lucknow Super Giants</td>\n",
       "      <td>Royal Challengers Bangalore</td>\n",
       "      <td>4</td>\n",
       "      <td>3</td>\n",
       "      <td>62</td>\n",
       "    </tr>\n",
       "    <tr>\n",
       "      <th>1894</th>\n",
       "      <td>Narendra Modi Stadium</td>\n",
       "      <td>0</td>\n",
       "      <td>Royal Challengers Bangalore</td>\n",
       "      <td>Rajasthan Royals</td>\n",
       "      <td>3</td>\n",
       "      <td>2</td>\n",
       "      <td>46</td>\n",
       "    </tr>\n",
       "    <tr>\n",
       "      <th>1895</th>\n",
       "      <td>Narendra Modi Stadium</td>\n",
       "      <td>1</td>\n",
       "      <td>Rajasthan Royals</td>\n",
       "      <td>Royal Challengers Bangalore</td>\n",
       "      <td>3</td>\n",
       "      <td>4</td>\n",
       "      <td>67</td>\n",
       "    </tr>\n",
       "    <tr>\n",
       "      <th>1896</th>\n",
       "      <td>Narendra Modi Stadium</td>\n",
       "      <td>0</td>\n",
       "      <td>Rajasthan Royals</td>\n",
       "      <td>Gujarat Titans</td>\n",
       "      <td>3</td>\n",
       "      <td>4</td>\n",
       "      <td>44</td>\n",
       "    </tr>\n",
       "    <tr>\n",
       "      <th>1897</th>\n",
       "      <td>Narendra Modi Stadium</td>\n",
       "      <td>1</td>\n",
       "      <td>Gujarat Titans</td>\n",
       "      <td>Rajasthan Royals</td>\n",
       "      <td>4</td>\n",
       "      <td>3</td>\n",
       "      <td>31</td>\n",
       "    </tr>\n",
       "  </tbody>\n",
       "</table>\n",
       "<p>1895 rows × 7 columns</p>\n",
       "</div>"
      ],
      "text/plain": [
       "                                             venue  innings  \\\n",
       "0                            M Chinnaswamy Stadium        0   \n",
       "1                            M Chinnaswamy Stadium        1   \n",
       "2     Punjab Cricket Association IS Bindra Stadium        0   \n",
       "3     Punjab Cricket Association IS Bindra Stadium        1   \n",
       "4                             Arun Jaitley Stadium        0   \n",
       "...                                            ...      ...   \n",
       "1893                                  Eden Gardens        1   \n",
       "1894                         Narendra Modi Stadium        0   \n",
       "1895                         Narendra Modi Stadium        1   \n",
       "1896                         Narendra Modi Stadium        0   \n",
       "1897                         Narendra Modi Stadium        1   \n",
       "\n",
       "                     batting_team                 bowling_team  count_batsmen  \\\n",
       "0           Kolkata Knight Riders  Royal Challengers Bangalore              3   \n",
       "1     Royal Challengers Bangalore        Kolkata Knight Riders              6   \n",
       "2             Chennai Super Kings                 Punjab Kings              3   \n",
       "3                    Punjab Kings          Chennai Super Kings              2   \n",
       "4                Rajasthan Royals               Delhi Capitals              4   \n",
       "...                           ...                          ...            ...   \n",
       "1893         Lucknow Super Giants  Royal Challengers Bangalore              4   \n",
       "1894  Royal Challengers Bangalore             Rajasthan Royals              3   \n",
       "1895             Rajasthan Royals  Royal Challengers Bangalore              3   \n",
       "1896             Rajasthan Royals               Gujarat Titans              3   \n",
       "1897               Gujarat Titans             Rajasthan Royals              4   \n",
       "\n",
       "      count_bowlers  total_runs  \n",
       "0                 3          61  \n",
       "1                 3          26  \n",
       "2                 3          53  \n",
       "3                 2          63  \n",
       "4                 3          40  \n",
       "...             ...         ...  \n",
       "1893              3          62  \n",
       "1894              2          46  \n",
       "1895              4          67  \n",
       "1896              4          44  \n",
       "1897              3          31  \n",
       "\n",
       "[1895 rows x 7 columns]"
      ]
     },
     "execution_count": 39,
     "metadata": {},
     "output_type": "execute_result"
    }
   ],
   "source": [
    "data"
   ]
  },
  {
   "cell_type": "code",
   "execution_count": 40,
   "id": "d0187220",
   "metadata": {
    "ExecuteTime": {
     "end_time": "2023-04-23T04:20:35.480613Z",
     "start_time": "2023-04-23T04:20:35.457851Z"
    }
   },
   "outputs": [
    {
     "data": {
      "text/html": [
       "<div>\n",
       "<style scoped>\n",
       "    .dataframe tbody tr th:only-of-type {\n",
       "        vertical-align: middle;\n",
       "    }\n",
       "\n",
       "    .dataframe tbody tr th {\n",
       "        vertical-align: top;\n",
       "    }\n",
       "\n",
       "    .dataframe thead th {\n",
       "        text-align: right;\n",
       "    }\n",
       "</style>\n",
       "<table border=\"1\" class=\"dataframe\">\n",
       "  <thead>\n",
       "    <tr style=\"text-align: right;\">\n",
       "      <th></th>\n",
       "      <th>count</th>\n",
       "      <th>mean</th>\n",
       "      <th>75%</th>\n",
       "    </tr>\n",
       "    <tr>\n",
       "      <th>venue</th>\n",
       "      <th></th>\n",
       "      <th></th>\n",
       "      <th></th>\n",
       "    </tr>\n",
       "  </thead>\n",
       "  <tbody>\n",
       "    <tr>\n",
       "      <th>Himachal Pradesh Cricket Association Stadium</th>\n",
       "      <td>18.0</td>\n",
       "      <td>40.555556</td>\n",
       "      <td>48.00</td>\n",
       "    </tr>\n",
       "    <tr>\n",
       "      <th>Sawai Mansingh Stadium</th>\n",
       "      <td>94.0</td>\n",
       "      <td>45.042553</td>\n",
       "      <td>55.00</td>\n",
       "    </tr>\n",
       "    <tr>\n",
       "      <th>Other</th>\n",
       "      <td>718.0</td>\n",
       "      <td>45.362117</td>\n",
       "      <td>53.00</td>\n",
       "    </tr>\n",
       "    <tr>\n",
       "      <th>Wankhede Stadium</th>\n",
       "      <td>208.0</td>\n",
       "      <td>45.480769</td>\n",
       "      <td>53.25</td>\n",
       "    </tr>\n",
       "    <tr>\n",
       "      <th>Rajiv Gandhi International Stadium</th>\n",
       "      <td>128.0</td>\n",
       "      <td>45.585938</td>\n",
       "      <td>54.25</td>\n",
       "    </tr>\n",
       "    <tr>\n",
       "      <th>M Chinnaswamy Stadium</th>\n",
       "      <td>156.0</td>\n",
       "      <td>46.025641</td>\n",
       "      <td>54.25</td>\n",
       "    </tr>\n",
       "    <tr>\n",
       "      <th>Narendra Modi Stadium</th>\n",
       "      <td>14.0</td>\n",
       "      <td>46.071429</td>\n",
       "      <td>48.25</td>\n",
       "    </tr>\n",
       "    <tr>\n",
       "      <th>MA Chidambaram Stadium</th>\n",
       "      <td>134.0</td>\n",
       "      <td>46.425373</td>\n",
       "      <td>53.75</td>\n",
       "    </tr>\n",
       "    <tr>\n",
       "      <th>Eden Gardens</th>\n",
       "      <td>158.0</td>\n",
       "      <td>46.569620</td>\n",
       "      <td>52.00</td>\n",
       "    </tr>\n",
       "    <tr>\n",
       "      <th>Arun Jaitley Stadium</th>\n",
       "      <td>155.0</td>\n",
       "      <td>47.832258</td>\n",
       "      <td>55.00</td>\n",
       "    </tr>\n",
       "    <tr>\n",
       "      <th>Punjab Cricket Association IS Bindra Stadium</th>\n",
       "      <td>112.0</td>\n",
       "      <td>48.428571</td>\n",
       "      <td>55.00</td>\n",
       "    </tr>\n",
       "  </tbody>\n",
       "</table>\n",
       "</div>"
      ],
      "text/plain": [
       "                                              count       mean    75%\n",
       "venue                                                                \n",
       "Himachal Pradesh Cricket Association Stadium   18.0  40.555556  48.00\n",
       "Sawai Mansingh Stadium                         94.0  45.042553  55.00\n",
       "Other                                         718.0  45.362117  53.00\n",
       "Wankhede Stadium                              208.0  45.480769  53.25\n",
       "Rajiv Gandhi International Stadium            128.0  45.585938  54.25\n",
       "M Chinnaswamy Stadium                         156.0  46.025641  54.25\n",
       "Narendra Modi Stadium                          14.0  46.071429  48.25\n",
       "MA Chidambaram Stadium                        134.0  46.425373  53.75\n",
       "Eden Gardens                                  158.0  46.569620  52.00\n",
       "Arun Jaitley Stadium                          155.0  47.832258  55.00\n",
       "Punjab Cricket Association IS Bindra Stadium  112.0  48.428571  55.00"
      ]
     },
     "execution_count": 40,
     "metadata": {},
     "output_type": "execute_result"
    }
   ],
   "source": [
    "data.groupby(['venue']).total_runs.describe()[['count', 'mean', '75%']].sort_values(by='mean')"
   ]
  },
  {
   "cell_type": "code",
   "execution_count": 41,
   "id": "49fc3916",
   "metadata": {
    "ExecuteTime": {
     "end_time": "2023-04-23T04:20:35.500050Z",
     "start_time": "2023-04-23T04:20:35.481836Z"
    }
   },
   "outputs": [
    {
     "data": {
      "text/html": [
       "<div>\n",
       "<style scoped>\n",
       "    .dataframe tbody tr th:only-of-type {\n",
       "        vertical-align: middle;\n",
       "    }\n",
       "\n",
       "    .dataframe tbody tr th {\n",
       "        vertical-align: top;\n",
       "    }\n",
       "\n",
       "    .dataframe thead th {\n",
       "        text-align: right;\n",
       "    }\n",
       "</style>\n",
       "<table border=\"1\" class=\"dataframe\">\n",
       "  <thead>\n",
       "    <tr style=\"text-align: right;\">\n",
       "      <th></th>\n",
       "      <th>count</th>\n",
       "      <th>mean</th>\n",
       "      <th>75%</th>\n",
       "    </tr>\n",
       "    <tr>\n",
       "      <th>batting_team</th>\n",
       "      <th></th>\n",
       "      <th></th>\n",
       "      <th></th>\n",
       "    </tr>\n",
       "  </thead>\n",
       "  <tbody>\n",
       "    <tr>\n",
       "      <th>Lucknow Super Giants</th>\n",
       "      <td>15.0</td>\n",
       "      <td>44.666667</td>\n",
       "      <td>56.00</td>\n",
       "    </tr>\n",
       "    <tr>\n",
       "      <th>Royal Challengers Bangalore</th>\n",
       "      <td>224.0</td>\n",
       "      <td>44.852679</td>\n",
       "      <td>52.25</td>\n",
       "    </tr>\n",
       "    <tr>\n",
       "      <th>Rajasthan Royals</th>\n",
       "      <td>191.0</td>\n",
       "      <td>45.172775</td>\n",
       "      <td>53.00</td>\n",
       "    </tr>\n",
       "    <tr>\n",
       "      <th>Chennai Super Kings</th>\n",
       "      <td>208.0</td>\n",
       "      <td>45.221154</td>\n",
       "      <td>53.00</td>\n",
       "    </tr>\n",
       "    <tr>\n",
       "      <th>Mumbai Indians</th>\n",
       "      <td>231.0</td>\n",
       "      <td>45.480519</td>\n",
       "      <td>53.00</td>\n",
       "    </tr>\n",
       "    <tr>\n",
       "      <th>Kolkata Knight Riders</th>\n",
       "      <td>223.0</td>\n",
       "      <td>46.076233</td>\n",
       "      <td>53.00</td>\n",
       "    </tr>\n",
       "    <tr>\n",
       "      <th>Other</th>\n",
       "      <td>194.0</td>\n",
       "      <td>46.226804</td>\n",
       "      <td>55.00</td>\n",
       "    </tr>\n",
       "    <tr>\n",
       "      <th>Gujarat Titans</th>\n",
       "      <td>16.0</td>\n",
       "      <td>46.250000</td>\n",
       "      <td>53.00</td>\n",
       "    </tr>\n",
       "    <tr>\n",
       "      <th>Delhi Capitals</th>\n",
       "      <td>223.0</td>\n",
       "      <td>46.609865</td>\n",
       "      <td>55.00</td>\n",
       "    </tr>\n",
       "    <tr>\n",
       "      <th>Sunrisers Hyderabad</th>\n",
       "      <td>152.0</td>\n",
       "      <td>47.118421</td>\n",
       "      <td>56.00</td>\n",
       "    </tr>\n",
       "    <tr>\n",
       "      <th>Punjab Kings</th>\n",
       "      <td>218.0</td>\n",
       "      <td>47.133028</td>\n",
       "      <td>53.00</td>\n",
       "    </tr>\n",
       "  </tbody>\n",
       "</table>\n",
       "</div>"
      ],
      "text/plain": [
       "                             count       mean    75%\n",
       "batting_team                                        \n",
       "Lucknow Super Giants          15.0  44.666667  56.00\n",
       "Royal Challengers Bangalore  224.0  44.852679  52.25\n",
       "Rajasthan Royals             191.0  45.172775  53.00\n",
       "Chennai Super Kings          208.0  45.221154  53.00\n",
       "Mumbai Indians               231.0  45.480519  53.00\n",
       "Kolkata Knight Riders        223.0  46.076233  53.00\n",
       "Other                        194.0  46.226804  55.00\n",
       "Gujarat Titans                16.0  46.250000  53.00\n",
       "Delhi Capitals               223.0  46.609865  55.00\n",
       "Sunrisers Hyderabad          152.0  47.118421  56.00\n",
       "Punjab Kings                 218.0  47.133028  53.00"
      ]
     },
     "execution_count": 41,
     "metadata": {},
     "output_type": "execute_result"
    }
   ],
   "source": [
    "data.groupby(['batting_team']).total_runs.describe()[['count', 'mean', '75%']].sort_values(by='mean')"
   ]
  },
  {
   "cell_type": "code",
   "execution_count": 42,
   "id": "cbb041fe",
   "metadata": {
    "ExecuteTime": {
     "end_time": "2023-04-23T04:20:35.519859Z",
     "start_time": "2023-04-23T04:20:35.501239Z"
    }
   },
   "outputs": [
    {
     "data": {
      "text/html": [
       "<div>\n",
       "<style scoped>\n",
       "    .dataframe tbody tr th:only-of-type {\n",
       "        vertical-align: middle;\n",
       "    }\n",
       "\n",
       "    .dataframe tbody tr th {\n",
       "        vertical-align: top;\n",
       "    }\n",
       "\n",
       "    .dataframe thead th {\n",
       "        text-align: right;\n",
       "    }\n",
       "</style>\n",
       "<table border=\"1\" class=\"dataframe\">\n",
       "  <thead>\n",
       "    <tr style=\"text-align: right;\">\n",
       "      <th></th>\n",
       "      <th>count</th>\n",
       "      <th>mean</th>\n",
       "      <th>75%</th>\n",
       "    </tr>\n",
       "    <tr>\n",
       "      <th>count_batsmen</th>\n",
       "      <th></th>\n",
       "      <th></th>\n",
       "      <th></th>\n",
       "    </tr>\n",
       "  </thead>\n",
       "  <tbody>\n",
       "    <tr>\n",
       "      <th>7</th>\n",
       "      <td>9.0</td>\n",
       "      <td>29.888889</td>\n",
       "      <td>32.00</td>\n",
       "    </tr>\n",
       "    <tr>\n",
       "      <th>6</th>\n",
       "      <td>59.0</td>\n",
       "      <td>34.847458</td>\n",
       "      <td>39.00</td>\n",
       "    </tr>\n",
       "    <tr>\n",
       "      <th>5</th>\n",
       "      <td>190.0</td>\n",
       "      <td>37.542105</td>\n",
       "      <td>44.75</td>\n",
       "    </tr>\n",
       "    <tr>\n",
       "      <th>4</th>\n",
       "      <td>499.0</td>\n",
       "      <td>42.679359</td>\n",
       "      <td>49.50</td>\n",
       "    </tr>\n",
       "    <tr>\n",
       "      <th>8</th>\n",
       "      <td>2.0</td>\n",
       "      <td>45.500000</td>\n",
       "      <td>53.75</td>\n",
       "    </tr>\n",
       "    <tr>\n",
       "      <th>3</th>\n",
       "      <td>684.0</td>\n",
       "      <td>47.545322</td>\n",
       "      <td>54.25</td>\n",
       "    </tr>\n",
       "    <tr>\n",
       "      <th>2</th>\n",
       "      <td>452.0</td>\n",
       "      <td>52.442478</td>\n",
       "      <td>59.00</td>\n",
       "    </tr>\n",
       "  </tbody>\n",
       "</table>\n",
       "</div>"
      ],
      "text/plain": [
       "               count       mean    75%\n",
       "count_batsmen                         \n",
       "7                9.0  29.888889  32.00\n",
       "6               59.0  34.847458  39.00\n",
       "5              190.0  37.542105  44.75\n",
       "4              499.0  42.679359  49.50\n",
       "8                2.0  45.500000  53.75\n",
       "3              684.0  47.545322  54.25\n",
       "2              452.0  52.442478  59.00"
      ]
     },
     "execution_count": 42,
     "metadata": {},
     "output_type": "execute_result"
    }
   ],
   "source": [
    "data.groupby(['count_batsmen']).total_runs.describe()[['count', 'mean', '75%']].sort_values(by='mean')"
   ]
  },
  {
   "cell_type": "code",
   "execution_count": 43,
   "id": "d50fcffb",
   "metadata": {
    "ExecuteTime": {
     "end_time": "2023-04-23T04:20:35.535076Z",
     "start_time": "2023-04-23T04:20:35.521951Z"
    }
   },
   "outputs": [
    {
     "data": {
      "text/html": [
       "<div>\n",
       "<style scoped>\n",
       "    .dataframe tbody tr th:only-of-type {\n",
       "        vertical-align: middle;\n",
       "    }\n",
       "\n",
       "    .dataframe tbody tr th {\n",
       "        vertical-align: top;\n",
       "    }\n",
       "\n",
       "    .dataframe thead th {\n",
       "        text-align: right;\n",
       "    }\n",
       "</style>\n",
       "<table border=\"1\" class=\"dataframe\">\n",
       "  <thead>\n",
       "    <tr style=\"text-align: right;\">\n",
       "      <th></th>\n",
       "      <th>count</th>\n",
       "      <th>mean</th>\n",
       "      <th>75%</th>\n",
       "    </tr>\n",
       "    <tr>\n",
       "      <th>count_bowlers</th>\n",
       "      <th></th>\n",
       "      <th></th>\n",
       "      <th></th>\n",
       "    </tr>\n",
       "  </thead>\n",
       "  <tbody>\n",
       "    <tr>\n",
       "      <th>2</th>\n",
       "      <td>95.0</td>\n",
       "      <td>39.484211</td>\n",
       "      <td>47.0</td>\n",
       "    </tr>\n",
       "    <tr>\n",
       "      <th>3</th>\n",
       "      <td>767.0</td>\n",
       "      <td>43.615385</td>\n",
       "      <td>51.0</td>\n",
       "    </tr>\n",
       "    <tr>\n",
       "      <th>4</th>\n",
       "      <td>903.0</td>\n",
       "      <td>47.496124</td>\n",
       "      <td>55.0</td>\n",
       "    </tr>\n",
       "    <tr>\n",
       "      <th>5</th>\n",
       "      <td>124.0</td>\n",
       "      <td>53.451613</td>\n",
       "      <td>60.0</td>\n",
       "    </tr>\n",
       "    <tr>\n",
       "      <th>6</th>\n",
       "      <td>6.0</td>\n",
       "      <td>58.333333</td>\n",
       "      <td>60.0</td>\n",
       "    </tr>\n",
       "  </tbody>\n",
       "</table>\n",
       "</div>"
      ],
      "text/plain": [
       "               count       mean   75%\n",
       "count_bowlers                        \n",
       "2               95.0  39.484211  47.0\n",
       "3              767.0  43.615385  51.0\n",
       "4              903.0  47.496124  55.0\n",
       "5              124.0  53.451613  60.0\n",
       "6                6.0  58.333333  60.0"
      ]
     },
     "execution_count": 43,
     "metadata": {},
     "output_type": "execute_result"
    }
   ],
   "source": [
    "data.groupby(['count_bowlers']).total_runs.describe()[['count', 'mean', '75%']].sort_values(by='mean')"
   ]
  },
  {
   "cell_type": "code",
   "execution_count": 44,
   "id": "a9d2ef44",
   "metadata": {
    "ExecuteTime": {
     "end_time": "2023-04-23T04:20:35.657476Z",
     "start_time": "2023-04-23T04:20:35.536100Z"
    }
   },
   "outputs": [
    {
     "data": {
      "text/html": [
       "<div>\n",
       "<style scoped>\n",
       "    .dataframe tbody tr th:only-of-type {\n",
       "        vertical-align: middle;\n",
       "    }\n",
       "\n",
       "    .dataframe tbody tr th {\n",
       "        vertical-align: top;\n",
       "    }\n",
       "\n",
       "    .dataframe thead th {\n",
       "        text-align: right;\n",
       "    }\n",
       "</style>\n",
       "<table border=\"1\" class=\"dataframe\">\n",
       "  <thead>\n",
       "    <tr style=\"text-align: right;\">\n",
       "      <th></th>\n",
       "      <th>batting_team</th>\n",
       "      <th>venue</th>\n",
       "      <th>count</th>\n",
       "      <th>mean</th>\n",
       "      <th>75%</th>\n",
       "    </tr>\n",
       "  </thead>\n",
       "  <tbody>\n",
       "    <tr>\n",
       "      <th>3</th>\n",
       "      <td>Chennai Super Kings</td>\n",
       "      <td>Himachal Pradesh Cricket Association Stadium</td>\n",
       "      <td>2.0</td>\n",
       "      <td>37.000000</td>\n",
       "      <td>43.00</td>\n",
       "    </tr>\n",
       "    <tr>\n",
       "      <th>10</th>\n",
       "      <td>Chennai Super Kings</td>\n",
       "      <td>Eden Gardens</td>\n",
       "      <td>11.0</td>\n",
       "      <td>39.818182</td>\n",
       "      <td>47.50</td>\n",
       "    </tr>\n",
       "    <tr>\n",
       "      <th>15</th>\n",
       "      <td>Chennai Super Kings</td>\n",
       "      <td>Sawai Mansingh Stadium</td>\n",
       "      <td>6.0</td>\n",
       "      <td>40.833333</td>\n",
       "      <td>50.75</td>\n",
       "    </tr>\n",
       "    <tr>\n",
       "      <th>16</th>\n",
       "      <td>Chennai Super Kings</td>\n",
       "      <td>M Chinnaswamy Stadium</td>\n",
       "      <td>9.0</td>\n",
       "      <td>41.111111</td>\n",
       "      <td>55.00</td>\n",
       "    </tr>\n",
       "    <tr>\n",
       "      <th>27</th>\n",
       "      <td>Chennai Super Kings</td>\n",
       "      <td>Wankhede Stadium</td>\n",
       "      <td>23.0</td>\n",
       "      <td>43.652174</td>\n",
       "      <td>49.00</td>\n",
       "    </tr>\n",
       "    <tr>\n",
       "      <th>29</th>\n",
       "      <td>Chennai Super Kings</td>\n",
       "      <td>Punjab Cricket Association IS Bindra Stadium</td>\n",
       "      <td>6.0</td>\n",
       "      <td>44.000000</td>\n",
       "      <td>51.50</td>\n",
       "    </tr>\n",
       "    <tr>\n",
       "      <th>35</th>\n",
       "      <td>Chennai Super Kings</td>\n",
       "      <td>Rajiv Gandhi International Stadium</td>\n",
       "      <td>6.0</td>\n",
       "      <td>44.833333</td>\n",
       "      <td>52.25</td>\n",
       "    </tr>\n",
       "    <tr>\n",
       "      <th>50</th>\n",
       "      <td>Chennai Super Kings</td>\n",
       "      <td>MA Chidambaram Stadium</td>\n",
       "      <td>56.0</td>\n",
       "      <td>46.107143</td>\n",
       "      <td>53.25</td>\n",
       "    </tr>\n",
       "    <tr>\n",
       "      <th>54</th>\n",
       "      <td>Chennai Super Kings</td>\n",
       "      <td>Other</td>\n",
       "      <td>79.0</td>\n",
       "      <td>46.392405</td>\n",
       "      <td>53.50</td>\n",
       "    </tr>\n",
       "    <tr>\n",
       "      <th>79</th>\n",
       "      <td>Chennai Super Kings</td>\n",
       "      <td>Arun Jaitley Stadium</td>\n",
       "      <td>10.0</td>\n",
       "      <td>49.500000</td>\n",
       "      <td>54.50</td>\n",
       "    </tr>\n",
       "  </tbody>\n",
       "</table>\n",
       "</div>"
      ],
      "text/plain": [
       "           batting_team                                         venue  count  \\\n",
       "3   Chennai Super Kings  Himachal Pradesh Cricket Association Stadium    2.0   \n",
       "10  Chennai Super Kings                                  Eden Gardens   11.0   \n",
       "15  Chennai Super Kings                        Sawai Mansingh Stadium    6.0   \n",
       "16  Chennai Super Kings                         M Chinnaswamy Stadium    9.0   \n",
       "27  Chennai Super Kings                              Wankhede Stadium   23.0   \n",
       "29  Chennai Super Kings  Punjab Cricket Association IS Bindra Stadium    6.0   \n",
       "35  Chennai Super Kings            Rajiv Gandhi International Stadium    6.0   \n",
       "50  Chennai Super Kings                        MA Chidambaram Stadium   56.0   \n",
       "54  Chennai Super Kings                                         Other   79.0   \n",
       "79  Chennai Super Kings                          Arun Jaitley Stadium   10.0   \n",
       "\n",
       "         mean    75%  \n",
       "3   37.000000  43.00  \n",
       "10  39.818182  47.50  \n",
       "15  40.833333  50.75  \n",
       "16  41.111111  55.00  \n",
       "27  43.652174  49.00  \n",
       "29  44.000000  51.50  \n",
       "35  44.833333  52.25  \n",
       "50  46.107143  53.25  \n",
       "54  46.392405  53.50  \n",
       "79  49.500000  54.50  "
      ]
     },
     "execution_count": 44,
     "metadata": {},
     "output_type": "execute_result"
    }
   ],
   "source": [
    "tmp = data.groupby(['batting_team', 'venue']).total_runs.describe()[['count', 'mean', '75%']].sort_values(by='mean').reset_index()\n",
    "\n",
    "tmp[tmp.batting_team == 'Gujarat Titans']\n",
    "tmp[tmp.batting_team == 'Mumbai Indians']\n",
    "tmp[tmp.batting_team == 'Chennai Super Kings']"
   ]
  },
  {
   "cell_type": "markdown",
   "id": "4ec0a861",
   "metadata": {
    "ExecuteTime": {
     "end_time": "2023-04-18T05:43:43.388448Z",
     "start_time": "2023-04-18T05:43:43.382203Z"
    }
   },
   "source": [
    "- ## Encoding of categorical inputs and feature scaling"
   ]
  },
  {
   "cell_type": "code",
   "execution_count": 97,
   "id": "650e4e98",
   "metadata": {
    "ExecuteTime": {
     "end_time": "2023-04-23T04:32:39.099591Z",
     "start_time": "2023-04-23T04:32:39.095459Z"
    }
   },
   "outputs": [],
   "source": [
    "X = data.iloc[:, :-1]\n",
    "y = data[\"total_runs\"]"
   ]
  },
  {
   "cell_type": "code",
   "execution_count": 104,
   "id": "6091e5b7",
   "metadata": {
    "ExecuteTime": {
     "end_time": "2023-04-23T04:33:59.131544Z",
     "start_time": "2023-04-23T04:33:59.117292Z"
    }
   },
   "outputs": [],
   "source": [
    "ct = ColumnTransformer(transformers = [\n",
    "    ('ohe', OneHotEncoder(categories = \"auto\", drop='first', sparse_output=False), ['venue', 'batting_team', 'bowling_team'])\n",
    "], remainder = 'passthrough')\n",
    "\n",
    "scaler = StandardScaler()\n",
    "\n",
    "X_ohe = pd.DataFrame(ct.fit_transform(X))\n",
    "X_std = scaler.fit_transform(X_ohe)"
   ]
  },
  {
   "cell_type": "code",
   "execution_count": 107,
   "id": "5bd9fa17",
   "metadata": {
    "ExecuteTime": {
     "end_time": "2023-04-23T04:34:39.263417Z",
     "start_time": "2023-04-23T04:34:39.259208Z"
    }
   },
   "outputs": [
    {
     "data": {
      "text/plain": [
       "array([-0.30159812, -0.09792738,  3.33877761, -0.27584983, -0.08627195,\n",
       "       -0.78104128, -0.25063016, -0.26914524, -0.22845837, -0.351135  ,\n",
       "       -0.36520297, -0.09227767,  2.7382034 , -0.0893237 , -0.3725884 ,\n",
       "       -0.33771372, -0.36054686, -0.33479725, -0.3661304 , -0.29530656,\n",
       "       -0.36427429, -0.09227767, -0.36520297, -0.0893237 , -0.3725884 ,\n",
       "       -0.33868257, -0.36054686, -0.33479725,  2.73126737, -0.29530656,\n",
       "       -1.73113704, -0.99947243, -0.31740491, -0.80500065])"
      ]
     },
     "execution_count": 107,
     "metadata": {},
     "output_type": "execute_result"
    }
   ],
   "source": [
    "X_std[0]"
   ]
  },
  {
   "cell_type": "markdown",
   "id": "a9bfad3b",
   "metadata": {
    "ExecuteTime": {
     "end_time": "2023-04-18T06:14:56.143299Z",
     "start_time": "2023-04-18T06:14:56.138808Z"
    }
   },
   "source": [
    "- ## Train-test split"
   ]
  },
  {
   "cell_type": "code",
   "execution_count": 65,
   "id": "5dc5c2a7",
   "metadata": {
    "ExecuteTime": {
     "end_time": "2023-04-23T04:21:46.849556Z",
     "start_time": "2023-04-23T04:21:46.844793Z"
    }
   },
   "outputs": [],
   "source": [
    "from sklearn.model_selection import train_test_split\n",
    "X_train, X_test, y_train, y_test = train_test_split(X_std, y, test_size = 0.2)"
   ]
  },
  {
   "cell_type": "code",
   "execution_count": 66,
   "id": "6f8c73c6",
   "metadata": {
    "ExecuteTime": {
     "end_time": "2023-04-23T04:21:48.112542Z",
     "start_time": "2023-04-23T04:21:48.108052Z"
    }
   },
   "outputs": [],
   "source": [
    "from sklearn.metrics import mean_absolute_error, mean_squared_error, r2_score\n",
    "\n",
    "def evaluate(regressor):\n",
    "    regressor.fit(X_train, y_train)\n",
    "    y_pred = regressor.predict(X_test)\n",
    "    \n",
    "    # Calculate the mean absolute error (MAE)\n",
    "    mae = mean_absolute_error(y_test, y_pred)\n",
    "    print('MAE:', mae)\n",
    "\n",
    "    # Calculate the root mean squared error (RMSE)\n",
    "    rmse = np.sqrt(mean_squared_error(y_test, y_pred))\n",
    "    print('RMSE:', rmse)\n",
    "\n",
    "    # Calculate the R-squared score\n",
    "    r2 = r2_score(y_test, y_pred)\n",
    "    print('R-squared:', r2)"
   ]
  },
  {
   "cell_type": "markdown",
   "id": "6f27373c",
   "metadata": {
    "ExecuteTime": {
     "end_time": "2023-04-18T06:17:54.556862Z",
     "start_time": "2023-04-18T06:17:54.552591Z"
    }
   },
   "source": [
    "- ## Models"
   ]
  },
  {
   "cell_type": "code",
   "execution_count": 91,
   "id": "9cb460ac",
   "metadata": {
    "ExecuteTime": {
     "end_time": "2023-04-23T04:28:52.386779Z",
     "start_time": "2023-04-23T04:28:52.213990Z"
    },
    "scrolled": false
   },
   "outputs": [
    {
     "name": "stdout",
     "output_type": "stream",
     "text": [
      "MAE: 9.39286858094682\n",
      "RMSE: 11.579727425802616\n",
      "R-squared: -0.02445611361176292\n"
     ]
    }
   ],
   "source": [
    "from sklearn.ensemble import AdaBoostRegressor\n",
    "regressor = AdaBoostRegressor(\n",
    "    learning_rate=1, loss='exponential', n_estimators=100, random_state=42\n",
    ")\n",
    "evaluate(regressor)"
   ]
  },
  {
   "cell_type": "code",
   "execution_count": 68,
   "id": "8a4dbea3",
   "metadata": {
    "ExecuteTime": {
     "end_time": "2023-04-23T04:21:51.755019Z",
     "start_time": "2023-04-23T04:21:51.745142Z"
    },
    "scrolled": true
   },
   "outputs": [
    {
     "name": "stdout",
     "output_type": "stream",
     "text": [
      "MAE: 8.162311078501537\n",
      "RMSE: 10.200637321399416\n",
      "R-squared: 0.20502897733178838\n"
     ]
    }
   ],
   "source": [
    "from sklearn.linear_model import LinearRegression\n",
    "regressor = LinearRegression()\n",
    "evaluate(regressor)"
   ]
  },
  {
   "cell_type": "code",
   "execution_count": 69,
   "id": "9a0ea281",
   "metadata": {
    "ExecuteTime": {
     "end_time": "2023-04-23T04:21:53.147347Z",
     "start_time": "2023-04-23T04:21:53.136047Z"
    }
   },
   "outputs": [
    {
     "name": "stdout",
     "output_type": "stream",
     "text": [
      "MAE: 11.436235708003517\n",
      "RMSE: 14.671138480349322\n",
      "R-squared: -0.6444638009448485\n"
     ]
    }
   ],
   "source": [
    "from sklearn.tree import DecisionTreeRegressor\n",
    "regressor = DecisionTreeRegressor()\n",
    "evaluate(regressor)"
   ]
  },
  {
   "cell_type": "code",
   "execution_count": 70,
   "id": "b60d5c36",
   "metadata": {
    "ExecuteTime": {
     "end_time": "2023-04-23T04:21:55.075578Z",
     "start_time": "2023-04-23T04:21:54.715730Z"
    },
    "scrolled": true
   },
   "outputs": [
    {
     "name": "stdout",
     "output_type": "stream",
     "text": [
      "MAE: 8.708739445910291\n",
      "RMSE: 11.297779262992545\n",
      "R-squared: 0.02482433415093066\n"
     ]
    }
   ],
   "source": [
    "from sklearn.ensemble import RandomForestRegressor\n",
    "regressor = RandomForestRegressor()\n",
    "evaluate(regressor)"
   ]
  },
  {
   "cell_type": "code",
   "execution_count": 71,
   "id": "9ece4fd2",
   "metadata": {
    "ExecuteTime": {
     "end_time": "2023-04-23T04:21:56.032672Z",
     "start_time": "2023-04-23T04:21:56.013447Z"
    }
   },
   "outputs": [
    {
     "name": "stdout",
     "output_type": "stream",
     "text": [
      "MAE: 9.398944591029023\n",
      "RMSE: 11.907351224878358\n",
      "R-squared: -0.08324579807685017\n"
     ]
    }
   ],
   "source": [
    "from sklearn.neighbors import KNeighborsRegressor\n",
    "regressor = KNeighborsRegressor()\n",
    "evaluate(regressor)"
   ]
  },
  {
   "cell_type": "code",
   "execution_count": 72,
   "id": "62b221dc",
   "metadata": {
    "ExecuteTime": {
     "end_time": "2023-04-23T04:21:57.199492Z",
     "start_time": "2023-04-23T04:21:57.072287Z"
    }
   },
   "outputs": [
    {
     "name": "stdout",
     "output_type": "stream",
     "text": [
      "MAE: 8.290175147306135\n",
      "RMSE: 10.448696458621347\n",
      "R-squared: 0.16589464233478857\n"
     ]
    }
   ],
   "source": [
    "from sklearn.svm import SVR\n",
    "regressor = SVR()\n",
    "evaluate(regressor)"
   ]
  },
  {
   "cell_type": "code",
   "execution_count": 55,
   "id": "9f4a8d08",
   "metadata": {
    "ExecuteTime": {
     "end_time": "2023-04-23T04:20:37.197967Z",
     "start_time": "2023-04-23T04:20:37.116750Z"
    },
    "scrolled": true
   },
   "outputs": [
    {
     "name": "stdout",
     "output_type": "stream",
     "text": [
      "MAE: 9.369646681330135\n",
      "RMSE: 12.137098051333277\n",
      "R-squared: 0.054318648159237815\n"
     ]
    }
   ],
   "source": [
    "import xgboost as xgb\n",
    "regressor = xgb.XGBRegressor()\n",
    "evaluate(regressor)"
   ]
  },
  {
   "cell_type": "code",
   "execution_count": 76,
   "id": "c47e56cb",
   "metadata": {
    "ExecuteTime": {
     "end_time": "2023-04-23T04:27:46.991646Z",
     "start_time": "2023-04-23T04:27:43.772870Z"
    }
   },
   "outputs": [
    {
     "name": "stdout",
     "output_type": "stream",
     "text": [
      "12/12 [==============================] - 0s 2ms/step - loss: 9.3386 - mae: 9.3386\n",
      "Test loss: [9.338618278503418, 9.338618278503418]\n"
     ]
    }
   ],
   "source": [
    "import tensorflow as tf\n",
    "from tensorflow.keras import layers, models\n",
    "\n",
    "# Define the model architecture\n",
    "model = models.Sequential([\n",
    "    layers.Dense(256, activation='relu', input_shape=(X_train.shape[1],)),\n",
    "    layers.Dense(128, activation='relu'),\n",
    "    layers.Dense(1)\n",
    "])\n",
    "\n",
    "# Compile the model\n",
    "model.compile(optimizer='adam', loss='mean_absolute_error', metrics=['mae'])\n",
    "\n",
    "# Fit the model to the training data\n",
    "history = model.fit(X_train, y_train, epochs=200, batch_size=128, verbose=False)\n",
    "\n",
    "# Evaluate the model on the test set\n",
    "test_loss = model.evaluate(X_test, y_test)\n",
    "\n",
    "# Print the test loss\n",
    "print('Test loss:', test_loss)"
   ]
  },
  {
   "cell_type": "code",
   "execution_count": 57,
   "id": "3cba5ba7",
   "metadata": {
    "ExecuteTime": {
     "end_time": "2023-04-23T04:20:37.213466Z",
     "start_time": "2023-04-23T04:20:37.205883Z"
    }
   },
   "outputs": [],
   "source": [
    "# import tensorflow as tf\n",
    "# from tensorflow.keras import layers, models\n",
    "\n",
    "# # Define a matrix of hyperparameters to test\n",
    "# params = {\n",
    "#     'batch_size': [16, 32],\n",
    "#     'epochs': [50, 100],\n",
    "#     'learning_rate': [0.001, 0.01]\n",
    "# }\n",
    "\n",
    "# # Define the model architecture\n",
    "# def build_model(learning_rate=0.001):\n",
    "#     model = models.Sequential([\n",
    "#         layers.Dense(64, activation='relu', input_shape=(X_train.shape[1],)),\n",
    "#         layers.Dense(32, activation='relu'),\n",
    "#         layers.Dense(1)\n",
    "#     ])\n",
    "#     optimizer = tf.keras.optimizers.Adam(learning_rate=learning_rate)\n",
    "#     model.compile(optimizer=optimizer, loss='mse', metrics=['mae'])\n",
    "#     return model\n",
    "\n",
    "# # Loop through the hyperparameter matrix and fit the model for each combination\n",
    "# for batch_size in params['batch_size']:\n",
    "#     for epochs in params['epochs']:\n",
    "#         for learning_rate in params['learning_rate']:\n",
    "#             print(f\"Fitting model with batch_size={batch_size}, epochs={epochs}, learning_rate={learning_rate}\")\n",
    "#             model = build_model(learning_rate=learning_rate)\n",
    "#             history = model.fit(X_train, y_train, epochs=epochs, batch_size=batch_size, validation_data=(X_test, y_test), verbose=0)\n",
    "#             test_loss, test_mae = model.evaluate(X_test, y_test)\n",
    "#             print(f\"Test loss: {test_loss}, Test MAE: {test_mae}\")\n"
   ]
  }
 ],
 "metadata": {
  "kernelspec": {
   "display_name": "Python 3 (ipykernel)",
   "language": "python",
   "name": "python3"
  },
  "language_info": {
   "codemirror_mode": {
    "name": "ipython",
    "version": 3
   },
   "file_extension": ".py",
   "mimetype": "text/x-python",
   "name": "python",
   "nbconvert_exporter": "python",
   "pygments_lexer": "ipython3",
   "version": "3.11.2"
  }
 },
 "nbformat": 4,
 "nbformat_minor": 5
}
