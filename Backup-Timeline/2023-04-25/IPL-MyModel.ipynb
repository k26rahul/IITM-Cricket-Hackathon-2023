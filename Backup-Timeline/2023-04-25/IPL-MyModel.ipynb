{
 "cells": [
  {
   "cell_type": "markdown",
   "id": "f68c29a3",
   "metadata": {
    "ExecuteTime": {
     "end_time": "2023-04-19T04:30:55.371001Z",
     "start_time": "2023-04-19T04:30:55.367538Z"
    }
   },
   "source": [
    "# MyModel"
   ]
  },
  {
   "cell_type": "code",
   "execution_count": 1,
   "id": "1b452e6d",
   "metadata": {
    "ExecuteTime": {
     "end_time": "2023-04-24T18:42:36.134475Z",
     "start_time": "2023-04-24T18:42:35.421366Z"
    }
   },
   "outputs": [],
   "source": [
    "import numpy as np\n",
    "import pandas as pd\n",
    "from sklearn.model_selection import train_test_split\n",
    "from sklearn.preprocessing import StandardScaler\n",
    "from sklearn.preprocessing import OneHotEncoder\n",
    "from sklearn.compose import ColumnTransformer"
   ]
  },
  {
   "cell_type": "code",
   "execution_count": 2,
   "id": "772e15e2",
   "metadata": {
    "ExecuteTime": {
     "end_time": "2023-04-24T18:42:36.139009Z",
     "start_time": "2023-04-24T18:42:36.135577Z"
    }
   },
   "outputs": [],
   "source": [
    "def to_kebab_case(string):\n",
    "    return '-'.join(\n",
    "        string.replace(\",\", \"\").replace(\".\", \"\").split()\n",
    "    ).lower()"
   ]
  },
  {
   "cell_type": "code",
   "execution_count": 3,
   "id": "b0228df3",
   "metadata": {
    "ExecuteTime": {
     "end_time": "2023-04-24T18:42:36.149976Z",
     "start_time": "2023-04-24T18:42:36.139879Z"
    }
   },
   "outputs": [],
   "source": [
    "np.random.seed(2)"
   ]
  },
  {
   "cell_type": "code",
   "execution_count": 4,
   "id": "825a7122",
   "metadata": {
    "ExecuteTime": {
     "end_time": "2023-04-24T18:42:36.158719Z",
     "start_time": "2023-04-24T18:42:36.151758Z"
    }
   },
   "outputs": [],
   "source": [
    "def prepare_input_dataframes(ball_by_ball, matches_result):\n",
    "    ball_by_ball = ball_by_ball.rename(columns={\n",
    "        'ID': 'match_id',\n",
    "        'ballnumber': 'ball_number',\n",
    "        'non-striker': 'non_striker',\n",
    "        'BattingTeam': 'batting_team',\n",
    "    }).loc[:, [\n",
    "        'match_id',\n",
    "        'innings',\n",
    "        'batting_team',\n",
    "        'overs',\n",
    "        'ball_number',\n",
    "        'batter',\n",
    "        'bowler',\n",
    "        'total_run',\n",
    "    ]]\n",
    "    \n",
    "    matches_result = matches_result.rename(columns={\n",
    "        'ID': 'match_id',\n",
    "        'Team1': 'team_1',\n",
    "        'Team2': 'team_2',\n",
    "        'Venue': 'venue',\n",
    "    }).loc[:, [\n",
    "        'match_id',\n",
    "        'team_1',\n",
    "        'team_2',\n",
    "        'venue',\n",
    "    ]]\n",
    "\n",
    "    return ball_by_ball, matches_result"
   ]
  },
  {
   "cell_type": "code",
   "execution_count": 5,
   "id": "0299c2e2",
   "metadata": {
    "ExecuteTime": {
     "end_time": "2023-04-24T18:42:36.167854Z",
     "start_time": "2023-04-24T18:42:36.159900Z"
    }
   },
   "outputs": [],
   "source": [
    "venue_mapping_normal = {\n",
    "  \"Arun Jaitley Stadium\": \"Arun Jaitley Stadium\",\n",
    "  \"Arun Jaitley Stadium, Delhi\": \"Arun Jaitley Stadium\",\n",
    "  \"Feroz Shah Kotla\": \"Arun Jaitley Stadium\",\n",
    "  \"Barsapara Cricket Stadium\": \"Barsapara Cricket Stadium\",\n",
    "  \"Barsapara Cricket Stadium, Guwahati\": \"Barsapara Cricket Stadium\",\n",
    "  \"Bharat Ratna Shri Atal Bihari Vajpayee Ekana Cricket Stadium\": \"Bharat Ratna Shri Atal Bihari Vajpayee Ekana Cricket Stadium\",\n",
    "  \"Bharat Ratna Shri Atal Bihari Vajpayee Ekana Cricket Stadium, Lucknow\": \"Bharat Ratna Shri Atal Bihari Vajpayee Ekana Cricket Stadium\",\n",
    "  \"Eden Gardens\": \"Eden Gardens\",\n",
    "  \"Eden Gardens, Kolkata\": \"Eden Gardens\",\n",
    "  \"Himachal Pradesh Cricket Association Stadium\": \"Himachal Pradesh Cricket Association Stadium\",\n",
    "  \"Himachal Pradesh Cricket Association Stadium, Dharamsala\": \"Himachal Pradesh Cricket Association Stadium\",\n",
    "  \"M Chinnaswamy Stadium\": \"M Chinnaswamy Stadium\",\n",
    "  \"M Chinnaswamy Stadium, Bengaluru\": \"M Chinnaswamy Stadium\",\n",
    "  \"M Chinnaswamy Stadium, Bangalore\": \"M Chinnaswamy Stadium\",\n",
    "  \"M.Chinnaswamy Stadium\": \"M Chinnaswamy Stadium\",\n",
    "  \"M.Chinnaswamy Stadium, Bengaluru\": \"M Chinnaswamy Stadium\",\n",
    "  \"M.Chinnaswamy Stadium, Bangalore\": \"M Chinnaswamy Stadium\",\n",
    "  \"MA Chidambaram Stadium\": \"MA Chidambaram Stadium\",\n",
    "  \"MA Chidambaram Stadium, Chennai\": \"MA Chidambaram Stadium\",\n",
    "  \"MA Chidambaram Stadium, Chepauk\": \"MA Chidambaram Stadium\",\n",
    "  \"MA Chidambaram Stadium, Chepauk, Chennai\": \"MA Chidambaram Stadium\",\n",
    "  \"Narendra Modi Stadium\": \"Narendra Modi Stadium\",\n",
    "  \"Narendra Modi Stadium, Ahmedabad\": \"Narendra Modi Stadium\",\n",
    "  \"Punjab Cricket Association IS Bindra Stadium\": \"Punjab Cricket Association IS Bindra Stadium\",\n",
    "  \"Punjab Cricket Association IS Bindra Stadium, Mohali\": \"Punjab Cricket Association IS Bindra Stadium\",\n",
    "  \"Punjab Cricket Association Stadium, Mohali\": \"Punjab Cricket Association IS Bindra Stadium\",\n",
    "  \"Rajiv Gandhi International Stadium\": \"Rajiv Gandhi International Stadium\",\n",
    "  \"Rajiv Gandhi International Stadium, Hyderabad\": \"Rajiv Gandhi International Stadium\",\n",
    "  \"Rajiv Gandhi International Stadium, Uppal\": \"Rajiv Gandhi International Stadium\",\n",
    "  \"Sawai Mansingh Stadium\": \"Sawai Mansingh Stadium\",\n",
    "  \"Sawai Mansingh Stadium, Jaipur\": \"Sawai Mansingh Stadium\",\n",
    "  \"Wankhede Stadium\": \"Wankhede Stadium\",\n",
    "  \"Wankhede Stadium, Mumbai\": \"Wankhede Stadium\"\n",
    "}"
   ]
  },
  {
   "cell_type": "code",
   "execution_count": 6,
   "id": "8ce5cc20",
   "metadata": {
    "ExecuteTime": {
     "end_time": "2023-04-24T18:42:36.176926Z",
     "start_time": "2023-04-24T18:42:36.167854Z"
    }
   },
   "outputs": [],
   "source": [
    "venue_mapping_kebab = {\n",
    "  \"arun-jaitley-stadium\": \"Arun Jaitley Stadium\",\n",
    "  \"arun-jaitley-stadium-delhi\": \"Arun Jaitley Stadium\",\n",
    "  \"feroz-shah-kotla\": \"Arun Jaitley Stadium\",\n",
    "  \"barsapara-cricket-stadium\": \"Barsapara Cricket Stadium\",\n",
    "  \"barsapara-cricket-stadium-guwahati\": \"Barsapara Cricket Stadium\",\n",
    "  \"bharat-ratna-shri-atal-bihari-vajpayee-ekana-cricket-stadium\": \"Bharat Ratna Shri Atal Bihari Vajpayee Ekana Cricket Stadium\",\n",
    "  \"bharat-ratna-shri-atal-bihari-vajpayee-ekana-cricket-stadium-lucknow\": \"Bharat Ratna Shri Atal Bihari Vajpayee Ekana Cricket Stadium\",\n",
    "  \"eden-gardens\": \"Eden Gardens\",\n",
    "  \"eden-gardens-kolkata\": \"Eden Gardens\",\n",
    "  \"himachal-pradesh-cricket-association-stadium\": \"Himachal Pradesh Cricket Association Stadium\",\n",
    "  \"himachal-pradesh-cricket-association-stadium-dharamsala\": \"Himachal Pradesh Cricket Association Stadium\",\n",
    "  \"m-chinnaswamy-stadium\": \"M Chinnaswamy Stadium\",\n",
    "  \"m-chinnaswamy-stadium-bengaluru\": \"M Chinnaswamy Stadium\",\n",
    "  \"m-chinnaswamy-stadium-bangalore\": \"M Chinnaswamy Stadium\",\n",
    "  \"mchinnaswamy-stadium\": \"M Chinnaswamy Stadium\",\n",
    "  \"mchinnaswamy-stadium-bengaluru\": \"M Chinnaswamy Stadium\",\n",
    "  \"mchinnaswamy-stadium-bangalore\": \"M Chinnaswamy Stadium\",\n",
    "  \"ma-chidambaram-stadium\": \"MA Chidambaram Stadium\",\n",
    "  \"ma-chidambaram-stadium-chennai\": \"MA Chidambaram Stadium\",\n",
    "  \"ma-chidambaram-stadium-chepauk\": \"MA Chidambaram Stadium\",\n",
    "  \"ma-chidambaram-stadium-chepauk-chennai\": \"MA Chidambaram Stadium\",\n",
    "  \"narendra-modi-stadium\": \"Narendra Modi Stadium\",\n",
    "  \"narendra-modi-stadium-ahmedabad\": \"Narendra Modi Stadium\",\n",
    "  \"punjab-cricket-association-is-bindra-stadium\": \"Punjab Cricket Association IS Bindra Stadium\",\n",
    "  \"punjab-cricket-association-is-bindra-stadium-mohali\": \"Punjab Cricket Association IS Bindra Stadium\",\n",
    "  \"punjab-cricket-association-stadium-mohali\": \"Punjab Cricket Association IS Bindra Stadium\",\n",
    "  \"rajiv-gandhi-international-stadium\": \"Rajiv Gandhi International Stadium\",\n",
    "  \"rajiv-gandhi-international-stadium-hyderabad\": \"Rajiv Gandhi International Stadium\",\n",
    "  \"rajiv-gandhi-international-stadium-uppal\": \"Rajiv Gandhi International Stadium\",\n",
    "  \"sawai-mansingh-stadium\": \"Sawai Mansingh Stadium\",\n",
    "  \"sawai-mansingh-stadium-jaipur\": \"Sawai Mansingh Stadium\",\n",
    "  \"wankhede-stadium\": \"Wankhede Stadium\",\n",
    "  \"wankhede-stadium-mumbai\": \"Wankhede Stadium\"\n",
    "}"
   ]
  },
  {
   "cell_type": "code",
   "execution_count": 7,
   "id": "a402f109",
   "metadata": {
    "ExecuteTime": {
     "end_time": "2023-04-24T18:42:36.186022Z",
     "start_time": "2023-04-24T18:42:36.178251Z"
    }
   },
   "outputs": [],
   "source": [
    "venue_mapping_tags = {\n",
    "  \"delhi\": \"Arun Jaitley Stadium\",\n",
    "  \"arun jaitley\": \"Arun Jaitley Stadium\",\n",
    "  \"guwahati\": \"Barsapara Cricket Stadium\",\n",
    "  \"barsapara\": \"Barsapara Cricket Stadium\",\n",
    "  \"bhupen hazarika\": \"Barsapara Cricket Stadium\",\n",
    "  \"assam cricket association stadium\": \"Barsapara Cricket Stadium\",\n",
    "  \"lucknow\": \"Bharat Ratna Shri Atal Bihari Vajpayee Ekana Cricket Stadium\",\n",
    "  \"ekana\": \"Bharat Ratna Shri Atal Bihari Vajpayee Ekana Cricket Stadium\",\n",
    "  \"atal bihari\": \"Bharat Ratna Shri Atal Bihari Vajpayee Ekana Cricket Stadium\",\n",
    "  \"kolkata\": \"Eden Gardens\",\n",
    "  \"eden gardens\": \"Eden Gardens\",\n",
    "  \"dharamsala\": \"Himachal Pradesh Cricket Association Stadium\",\n",
    "  \"himachal pradesh\": \"Himachal Pradesh Cricket Association Stadium\",\n",
    "  \"bengaluru\": \"M Chinnaswamy Stadium\",\n",
    "  \"bengalore\": \"M Chinnaswamy Stadium\",\n",
    "  \"chinnaswamy\": \"M Chinnaswamy Stadium\",\n",
    "  \"chennai\": \"MA Chidambaram Stadium\",\n",
    "  \"chepauk\": \"MA Chidambaram Stadium\",\n",
    "  \"chidambaram\": \"MA Chidambaram Stadium\",\n",
    "  \"ahmedabad\": \"Narendra Modi Stadium\",\n",
    "  \"narendra modi\": \"Narendra Modi Stadium\",\n",
    "  \"mohali\": \"Punjab Cricket Association IS Bindra Stadium\",\n",
    "  \"punjab cricket association\": \"Punjab Cricket Association IS Bindra Stadium\",\n",
    "  \"is bindra\": \"Punjab Cricket Association IS Bindra Stadium\",\n",
    "  \"hyderabad\": \"Rajiv Gandhi International Stadium\",\n",
    "  \"rajiv gandhi\": \"Rajiv Gandhi International Stadium\",\n",
    "  \"jaipur\": \"Sawai Mansingh Stadium\",\n",
    "  \"sawai mansingh\": \"Sawai Mansingh Stadium\",\n",
    "  \"mumbai\": \"Wankhede Stadium\",\n",
    "  \"wankhede\": \"Wankhede Stadium\"\n",
    "}"
   ]
  },
  {
   "cell_type": "code",
   "execution_count": 8,
   "id": "c245fcb5",
   "metadata": {
    "ExecuteTime": {
     "end_time": "2023-04-24T18:42:36.195219Z",
     "start_time": "2023-04-24T18:42:36.187034Z"
    }
   },
   "outputs": [],
   "source": [
    "team_mapping = { # 10 teams\n",
    " 'Rajasthan Royals': 'Rajasthan Royals',\n",
    " 'Gujarat Titans': 'Gujarat Titans',\n",
    " 'Royal Challengers Bangalore': 'Royal Challengers Bangalore',\n",
    " 'Lucknow Super Giants': 'Lucknow Super Giants',\n",
    " 'Sunrisers Hyderabad': 'Sunrisers Hyderabad',\n",
    " 'Mumbai Indians': 'Mumbai Indians',\n",
    " 'Chennai Super Kings': 'Chennai Super Kings',\n",
    " 'Kolkata Knight Riders': 'Kolkata Knight Riders',\n",
    "    \n",
    " 'Kings XI Punjab': 'Punjab Kings',\n",
    " 'Punjab Kings': 'Punjab Kings',\n",
    "    \n",
    " 'Delhi Daredevils': 'Delhi Capitals',\n",
    " 'Delhi Capitals': 'Delhi Capitals',\n",
    "}"
   ]
  },
  {
   "cell_type": "code",
   "execution_count": 9,
   "id": "c9091be2",
   "metadata": {
    "ExecuteTime": {
     "end_time": "2023-04-24T18:42:36.203466Z",
     "start_time": "2023-04-24T18:42:36.195219Z"
    }
   },
   "outputs": [],
   "source": [
    "def do_mapping(ball_by_ball, matches_result):\n",
    "    matches_result.venue = matches_result.venue.map(venue_mapping_normal).fillna('Other')\n",
    "\n",
    "    matches_result.team_1 = matches_result.team_1.map(team_mapping).fillna('Other')\n",
    "    matches_result.team_2 = matches_result.team_2.map(team_mapping).fillna('Other')\n",
    "\n",
    "    ball_by_ball.batting_team = ball_by_ball.batting_team.map(team_mapping).fillna('Other')\n",
    "    return ball_by_ball, matches_result"
   ]
  },
  {
   "cell_type": "code",
   "execution_count": 10,
   "id": "36fab1c6",
   "metadata": {
    "ExecuteTime": {
     "end_time": "2023-04-24T18:42:36.212407Z",
     "start_time": "2023-04-24T18:42:36.206117Z"
    }
   },
   "outputs": [],
   "source": [
    "def select_innings_and_overs(ball_by_ball):\n",
    "    ball_by_ball = ball_by_ball.loc[(ball_by_ball.overs <= 5) & (ball_by_ball.innings <= 2)]\n",
    "    ball_by_ball.innings = ball_by_ball.innings.replace({1: 0, 2: 1})\n",
    "    return ball_by_ball"
   ]
  },
  {
   "cell_type": "code",
   "execution_count": 11,
   "id": "ab6e3ab9",
   "metadata": {
    "ExecuteTime": {
     "end_time": "2023-04-24T18:42:36.221754Z",
     "start_time": "2023-04-24T18:42:36.213412Z"
    }
   },
   "outputs": [],
   "source": [
    "def prepare_final_training_dataframe(ball_by_ball, matches_result):\n",
    "    ball_by_ball_gb = ball_by_ball.groupby(['match_id', 'innings', 'batting_team'])\n",
    "    \n",
    "    total_runs = ball_by_ball_gb['total_run'].sum()\n",
    "    batsmen = ball_by_ball_gb['batter'].unique()\n",
    "    bowlers = ball_by_ball_gb['bowler'].unique()\n",
    "\n",
    "    total_runs = total_runs.to_frame(name = 'total_runs').reset_index()\n",
    "    batsmen = batsmen.to_frame(name = 'batsmen').reset_index()\n",
    "    bowlers = bowlers.to_frame(name = 'bowlers').reset_index()\n",
    "\n",
    "    data = total_runs.merge(batsmen, how='right', on=['match_id','innings','batting_team'])\n",
    "    data = data.merge(bowlers, how='right', on=['match_id','innings','batting_team'])\n",
    "    data = data.merge(matches_result, on=['match_id'])\n",
    "\n",
    "    mask = data['batting_team'] == data['team_1']\n",
    "    data.loc[mask, 'bowling_team'] = data['team_2']\n",
    "    data.loc[~mask, 'bowling_team'] = data['team_1']\n",
    "\n",
    "    # match_id == 829763, data for one innings is missing\n",
    "    # match_id == 829813, total_runs for one innings is 2 (probably a mistake in data entry)\n",
    "    data = data.drop(data[(data['match_id'] == 829763) | (data['match_id'] == 829813)].index)\n",
    "\n",
    "    # get count of batsmen & bowlers for each innings \n",
    "    data['count_batsmen'] = [len(x) for x in data['batsmen']]\n",
    "    data['count_bowlers'] = [len(x) for x in data['bowlers']]\n",
    "\n",
    "    data = data[\n",
    "        ['venue', 'innings', 'batting_team', 'bowling_team', 'count_batsmen', 'count_bowlers', 'total_runs']\n",
    "    ]\n",
    "    \n",
    "    return data"
   ]
  },
  {
   "cell_type": "code",
   "execution_count": 12,
   "id": "0b2d1b8c",
   "metadata": {
    "ExecuteTime": {
     "end_time": "2023-04-24T18:42:36.230412Z",
     "start_time": "2023-04-24T18:42:36.223170Z"
    }
   },
   "outputs": [],
   "source": [
    "def prepare_training_data(input_dataframes):\n",
    "    ball_by_ball, matches_result = input_dataframes\n",
    "    ball_by_ball, matches_result = prepare_input_dataframes(ball_by_ball, matches_result)\n",
    "    ball_by_ball, matches_result = do_mapping(ball_by_ball, matches_result)\n",
    "    ball_by_ball = select_innings_and_overs(ball_by_ball)\n",
    "    return prepare_final_training_dataframe(ball_by_ball, matches_result)"
   ]
  },
  {
   "cell_type": "code",
   "execution_count": 13,
   "id": "ee133648",
   "metadata": {
    "ExecuteTime": {
     "end_time": "2023-04-24T18:42:36.238892Z",
     "start_time": "2023-04-24T18:42:36.230412Z"
    }
   },
   "outputs": [],
   "source": [
    "class MyModel:\n",
    "    def __init__(self):\n",
    "        pass"
   ]
  },
  {
   "cell_type": "code",
   "execution_count": 14,
   "id": "fcb55dfd",
   "metadata": {
    "ExecuteTime": {
     "end_time": "2023-04-24T18:42:36.248750Z",
     "start_time": "2023-04-24T18:42:36.239674Z"
    }
   },
   "outputs": [],
   "source": [
    "def train_model(X_train, y_train):\n",
    "    from sklearn.linear_model import LinearRegression\n",
    "    return LinearRegression().fit(X_train, y_train)"
   ]
  },
  {
   "cell_type": "code",
   "execution_count": 15,
   "id": "e5d34052",
   "metadata": {
    "ExecuteTime": {
     "end_time": "2023-04-24T18:42:36.258792Z",
     "start_time": "2023-04-24T18:42:36.250224Z"
    }
   },
   "outputs": [],
   "source": [
    "def MyModel__fit(self, input_dataframes):\n",
    "    data = prepare_training_data(input_dataframes)\n",
    "    \n",
    "    X = data.iloc[:, :-1]\n",
    "    y = data[\"total_runs\"]\n",
    "\n",
    "    self.preprocessor = ColumnTransformer([\n",
    "        (\"onehot\", OneHotEncoder(sparse_output=False), [\"venue\", \"batting_team\", \"bowling_team\"]),\n",
    "        (\"scaler\", StandardScaler(), [\"count_batsmen\", \"count_bowlers\"])\n",
    "    ], remainder='passthrough')\n",
    "\n",
    "    X_preprocessed = self.preprocessor.fit_transform(X)\n",
    "    \n",
    "    X_train, X_test, y_train, y_test = train_test_split(X_preprocessed, y, test_size = 0.2)\n",
    "    self.model = train_model(X_train, y_train)"
   ]
  },
  {
   "cell_type": "code",
   "execution_count": 16,
   "id": "37cf6766",
   "metadata": {
    "ExecuteTime": {
     "end_time": "2023-04-24T18:42:36.268213Z",
     "start_time": "2023-04-24T18:42:36.259801Z"
    }
   },
   "outputs": [],
   "source": [
    "def MyModel__predict(self, X_IPL23):\n",
    "    X_IPL23.innings = X_IPL23.innings.replace({1: 0, 2: 1})\n",
    "\n",
    "    # get count of batsmen & bowlers for each innings \n",
    "    X_IPL23['count_batsmen'] = [len(x.split(\",\")) for x in X_IPL23['batsmen']]\n",
    "    X_IPL23['count_bowlers'] = [len(x.split(\",\")) for x in X_IPL23['bowlers']]\n",
    "    X_IPL23 = X_IPL23.drop(columns=['batsmen', 'bowlers'])[\n",
    "        ['venue', 'innings', 'batting_team', 'bowling_team', 'count_batsmen', 'count_bowlers']\n",
    "    ]\n",
    "    \n",
    "    ambiguous_venues = np.setdiff1d(X_IPL23.venue.unique(), list(venue_mapping_normal.keys()))\n",
    "    ambiguous_venues_mapping = {}\n",
    "    for venue in ambiguous_venues:\n",
    "        venue_kebab_case = to_kebab_case(venue)\n",
    "        if venue_kebab_case in venue_mapping_kebab:\n",
    "            ambiguous_venues_mapping[venue] = venue_mapping_kebab[venue_kebab_case]\n",
    "        else:\n",
    "            venue_lower = venue.lower()\n",
    "            for tag in venue_mapping_tags:\n",
    "                if tag in venue_lower: ambiguous_venues_mapping[venue] = venue_mapping_tags[tag]\n",
    "\n",
    "    venue_mapping_final = {**venue_mapping_normal, **ambiguous_venues_mapping}\n",
    "    \n",
    "    X_IPL23.venue = X_IPL23.venue.map(venue_mapping_final).fillna('Other').replace({\n",
    "    'Barsapara Cricket Stadium': 'Other',\n",
    "    'Bharat Ratna Shri Atal Bihari Vajpayee Ekana Cricket Stadium': 'Other'\n",
    "    })\n",
    "    \n",
    "    X_IPL23_preprocessed = self.preprocessor.transform(X_IPL23)\n",
    "    \n",
    "    return np.round(\n",
    "        self.model.predict(X_IPL23_preprocessed)\n",
    "    ).astype(int)"
   ]
  },
  {
   "cell_type": "code",
   "execution_count": 17,
   "id": "5092a6d2",
   "metadata": {
    "ExecuteTime": {
     "end_time": "2023-04-24T18:42:36.277161Z",
     "start_time": "2023-04-24T18:42:36.269233Z"
    }
   },
   "outputs": [],
   "source": [
    "MyModel.fit = MyModel__fit\n",
    "MyModel.predict = MyModel__predict"
   ]
  },
  {
   "cell_type": "markdown",
   "id": "fbcb72f8",
   "metadata": {
    "ExecuteTime": {
     "end_time": "2023-04-19T04:30:38.842976Z",
     "start_time": "2023-04-19T04:30:38.837542Z"
    }
   },
   "source": [
    "# Main.py"
   ]
  },
  {
   "cell_type": "code",
   "execution_count": 18,
   "id": "64ed6197",
   "metadata": {
    "ExecuteTime": {
     "end_time": "2023-04-24T18:42:36.514251Z",
     "start_time": "2023-04-24T18:42:36.278182Z"
    }
   },
   "outputs": [],
   "source": [
    "ball_by_ball = pd.read_csv('./Data/IPL_Ball_by_Ball_2008_2022.csv')\n",
    "matches_result = pd.read_csv('./Data/IPL_Matches_Result_2008_2022.csv')"
   ]
  },
  {
   "cell_type": "code",
   "execution_count": 19,
   "id": "e407056b",
   "metadata": {
    "ExecuteTime": {
     "end_time": "2023-04-24T18:42:36.518139Z",
     "start_time": "2023-04-24T18:42:36.515664Z"
    }
   },
   "outputs": [],
   "source": [
    "a_model = MyModel()"
   ]
  },
  {
   "cell_type": "markdown",
   "id": "db3cda41",
   "metadata": {
    "ExecuteTime": {
     "end_time": "2023-04-19T06:04:02.294440Z",
     "start_time": "2023-04-19T06:04:02.291568Z"
    }
   },
   "source": [
    "# FilesUsed"
   ]
  },
  {
   "cell_type": "code",
   "execution_count": 20,
   "id": "3135a1b7",
   "metadata": {
    "ExecuteTime": {
     "end_time": "2023-04-24T18:42:36.529310Z",
     "start_time": "2023-04-24T18:42:36.519444Z"
    }
   },
   "outputs": [],
   "source": [
    "import os"
   ]
  },
  {
   "cell_type": "code",
   "execution_count": 21,
   "id": "2e9d8817",
   "metadata": {
    "ExecuteTime": {
     "end_time": "2023-04-24T18:42:36.538403Z",
     "start_time": "2023-04-24T18:42:36.531048Z"
    }
   },
   "outputs": [],
   "source": [
    "def evaluate():\n",
    "    files = os.listdir('./FilesUsed')\n",
    "    total_error = 0\n",
    "    for file in files:\n",
    "        if 'test_file_matchid' in file:\n",
    "            match_no = file[-6:-4]\n",
    "\n",
    "            if int(match_no) < 20: continue\n",
    "\n",
    "            X_file_name = './FilesUsed/' + file\n",
    "            y_file_name = './FilesUsed/' + 'test_file_labels_matchid_' + match_no + '.csv'\n",
    "\n",
    "            X = pd.read_csv(X_file_name).drop(columns=['Unnamed: 0'])\n",
    "            y = pd.read_csv(y_file_name)['actual_runs']\n",
    "\n",
    "            print(match_no, X_file_name, y_file_name)\n",
    "\n",
    "            y_pred = a_model.predict(X)\n",
    "            y_real = y.to_numpy().astype(int)\n",
    "\n",
    "            error = np.abs(y_real - y_pred).sum()\n",
    "            total_error += error\n",
    "\n",
    "            print(y_real, y_pred, error, '\\n')\n",
    "            print(pd.DataFrame(list(zip(y_real, y_pred)), columns=['Actual', 'Predicted']).to_markdown())\n",
    "\n",
    "    print('total_error:', total_error)\n",
    "    # return total_error"
   ]
  },
  {
   "cell_type": "code",
   "execution_count": 22,
   "id": "e324eb41",
   "metadata": {
    "ExecuteTime": {
     "end_time": "2023-04-24T18:42:36.958030Z",
     "start_time": "2023-04-24T18:42:36.539412Z"
    },
    "scrolled": false
   },
   "outputs": [
    {
     "name": "stderr",
     "output_type": "stream",
     "text": [
      "C:\\Users\\k26ra\\AppData\\Local\\Temp\\ipykernel_12940\\671351269.py:3: SettingWithCopyWarning: \n",
      "A value is trying to be set on a copy of a slice from a DataFrame.\n",
      "Try using .loc[row_indexer,col_indexer] = value instead\n",
      "\n",
      "See the caveats in the documentation: https://pandas.pydata.org/pandas-docs/stable/user_guide/indexing.html#returning-a-view-versus-a-copy\n",
      "  ball_by_ball.innings = ball_by_ball.innings.replace({1: 0, 2: 1})\n"
     ]
    },
    {
     "name": "stdout",
     "output_type": "stream",
     "text": [
      "20 ./FilesUsed/test_file_matchid_20.csv ./FilesUsed/test_file_labels_matchid_20.csv\n",
      "[47 32] [52 44] 17 \n",
      "\n",
      "|    |   Actual |   Predicted |\n",
      "|---:|---------:|------------:|\n",
      "|  0 |       47 |          52 |\n",
      "|  1 |       32 |          44 |\n",
      "21 ./FilesUsed/test_file_matchid_21.csv ./FilesUsed/test_file_labels_matchid_21.csv\n",
      "[49 45] [52 44] 4 \n",
      "\n",
      "|    |   Actual |   Predicted |\n",
      "|---:|---------:|------------:|\n",
      "|  0 |       49 |          52 |\n",
      "|  1 |       45 |          44 |\n",
      "22 ./FilesUsed/test_file_matchid_22.csv ./FilesUsed/test_file_labels_matchid_22.csv\n",
      "[57 72] [41 49] 39 \n",
      "\n",
      "|    |   Actual |   Predicted |\n",
      "|---:|---------:|------------:|\n",
      "|  0 |       57 |          41 |\n",
      "|  1 |       72 |          49 |\n",
      "23 ./FilesUsed/test_file_matchid_23.csv ./FilesUsed/test_file_labels_matchid_23.csv\n",
      "[42 26] [44 39] 15 \n",
      "\n",
      "|    |   Actual |   Predicted |\n",
      "|---:|---------:|------------:|\n",
      "|  0 |       42 |          44 |\n",
      "|  1 |       26 |          39 |\n",
      "24 ./FilesUsed/test_file_matchid_24.csv ./FilesUsed/test_file_labels_matchid_24.csv\n",
      "[53 75] [44 45] 39 \n",
      "\n",
      "|    |   Actual |   Predicted |\n",
      "|---:|---------:|------------:|\n",
      "|  0 |       53 |          44 |\n",
      "|  1 |       75 |          45 |\n",
      "25 ./FilesUsed/test_file_matchid_25.csv ./FilesUsed/test_file_labels_matchid_25.csv\n",
      "[53 42] [45 40] 10 \n",
      "\n",
      "|    |   Actual |   Predicted |\n",
      "|---:|---------:|------------:|\n",
      "|  0 |       53 |          45 |\n",
      "|  1 |       42 |          40 |\n",
      "26 ./FilesUsed/test_file_matchid_26.csv ./FilesUsed/test_file_labels_matchid_26.csv\n",
      "[37 47] [46 49] 11 \n",
      "\n",
      "|    |   Actual |   Predicted |\n",
      "|---:|---------:|------------:|\n",
      "|  0 |       37 |          46 |\n",
      "|  1 |       47 |          49 |\n",
      "27 ./FilesUsed/test_file_matchid_27.csv ./FilesUsed/test_file_labels_matchid_27.csv\n",
      "[59 49] [55 40] 13 \n",
      "\n",
      "|    |   Actual |   Predicted |\n",
      "|---:|---------:|------------:|\n",
      "|  0 |       59 |          55 |\n",
      "|  1 |       49 |          40 |\n",
      "28 ./FilesUsed/test_file_matchid_28.csv ./FilesUsed/test_file_labels_matchid_28.csv\n",
      "[35 61] [36 56] 6 \n",
      "\n",
      "|    |   Actual |   Predicted |\n",
      "|---:|---------:|------------:|\n",
      "|  0 |       35 |          36 |\n",
      "|  1 |       61 |          56 |\n",
      "29 ./FilesUsed/test_file_matchid_29.csv ./FilesUsed/test_file_labels_matchid_29.csv\n",
      "[45 60] [49 50] 14 \n",
      "\n",
      "|    |   Actual |   Predicted |\n",
      "|---:|---------:|------------:|\n",
      "|  0 |       45 |          49 |\n",
      "|  1 |       60 |          50 |\n",
      "30 ./FilesUsed/test_file_matchid_30.csv ./FilesUsed/test_file_labels_matchid_30.csv\n",
      "[40 53] [46 53] 6 \n",
      "\n",
      "|    |   Actual |   Predicted |\n",
      "|---:|---------:|------------:|\n",
      "|  0 |       40 |          46 |\n",
      "|  1 |       53 |          53 |\n",
      "31 ./FilesUsed/test_file_matchid_31.csv ./FilesUsed/test_file_labels_matchid_31.csv\n",
      "[58 54] [52 56] 8 \n",
      "\n",
      "|    |   Actual |   Predicted |\n",
      "|---:|---------:|------------:|\n",
      "|  0 |       58 |          52 |\n",
      "|  1 |       54 |          56 |\n",
      "32 ./FilesUsed/test_file_matchid_32.csv ./FilesUsed/test_file_labels_matchid_32.csv\n",
      "[62 47] [39 52] 28 \n",
      "\n",
      "|    |   Actual |   Predicted |\n",
      "|---:|---------:|------------:|\n",
      "|  0 |       62 |          39 |\n",
      "|  1 |       47 |          52 |\n",
      "33 ./FilesUsed/test_file_matchid_33.csv ./FilesUsed/test_file_labels_matchid_33.csv\n",
      "[59 38] [52 45] 14 \n",
      "\n",
      "|    |   Actual |   Predicted |\n",
      "|---:|---------:|------------:|\n",
      "|  0 |       59 |          52 |\n",
      "|  1 |       38 |          45 |\n",
      "total_error: 224\n"
     ]
    }
   ],
   "source": [
    "a_model.fit([ball_by_ball, matches_result])\n",
    "evaluate()"
   ]
  },
  {
   "cell_type": "code",
   "execution_count": 23,
   "id": "f6607eb1",
   "metadata": {
    "ExecuteTime": {
     "end_time": "2023-04-24T18:42:36.961537Z",
     "start_time": "2023-04-24T18:42:36.959042Z"
    }
   },
   "outputs": [],
   "source": [
    "# best_n = None\n",
    "# least_total_error = float('inf')\n",
    "\n",
    "# for n in np.random.randint(low=0, high=100, size=20):\n",
    "# for n in range(100):\n",
    "#     random_state = n\n",
    "    \n",
    "#     # Set the random seed for NumPy\n",
    "#     np.random.seed(n)\n",
    "    \n",
    "#     a_model.fit([ball_by_ball, matches_result])\n",
    "#     total_error = evaluate()\n",
    "    \n",
    "#     print(n, total_error)\n",
    "    \n",
    "#     if total_error < least_total_error:\n",
    "#         least_total_error = total_error\n",
    "#         best_n = n\n",
    "        \n",
    "# print('best_n, least_total_error:', best_n, least_total_error)"
   ]
  }
 ],
 "metadata": {
  "kernelspec": {
   "display_name": "Python 3 (ipykernel)",
   "language": "python",
   "name": "python3"
  },
  "language_info": {
   "codemirror_mode": {
    "name": "ipython",
    "version": 3
   },
   "file_extension": ".py",
   "mimetype": "text/x-python",
   "name": "python",
   "nbconvert_exporter": "python",
   "pygments_lexer": "ipython3",
   "version": "3.11.2"
  }
 },
 "nbformat": 4,
 "nbformat_minor": 5
}
